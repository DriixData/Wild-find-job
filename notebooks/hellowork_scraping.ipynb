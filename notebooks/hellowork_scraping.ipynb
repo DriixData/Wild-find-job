{
 "cells": [
  {
   "cell_type": "markdown",
   "metadata": {},
   "source": [
    "# **Scraper les offres d'emploi sur Hellowork**"
   ]
  },
  {
   "cell_type": "markdown",
   "metadata": {},
   "source": [
    "## **1. Introduction**\n",
    "\n",
    "- Ce notebook vise à scraper les offres d'emploi depuis l'API Hellowork.\n",
    "\n",
    "- L'objectif est de récupérer un échantillon d'annonces pour analyser et travailler sur les données."
   ]
  },
  {
   "cell_type": "markdown",
   "metadata": {},
   "source": [
    "## **2. Chargement des bibliothèques nécessaires**"
   ]
  },
  {
   "cell_type": "code",
   "execution_count": 3,
   "metadata": {},
   "outputs": [],
   "source": [
    "import requests\n",
    "import pandas as pd\n",
    "import json"
   ]
  },
  {
   "cell_type": "markdown",
   "metadata": {},
   "source": [
    "## **3. Configuration et Envoi de la requête API**"
   ]
  },
  {
   "cell_type": "code",
   "execution_count": 25,
   "metadata": {},
   "outputs": [
    {
     "name": "stdout",
     "output_type": "stream",
     "text": [
      "Page 1 récupérée avec succès pour le mot-clé Data Ingenieur.\n",
      "Page 2 récupérée avec succès pour le mot-clé Data Ingenieur.\n",
      "Page 3 récupérée avec succès pour le mot-clé Data Ingenieur.\n",
      "Page 4 récupérée avec succès pour le mot-clé Data Ingenieur.\n",
      "Page 5 récupérée avec succès pour le mot-clé Data Ingenieur.\n",
      "Page 6 récupérée avec succès pour le mot-clé Data Ingenieur.\n",
      "Page 7 récupérée avec succès pour le mot-clé Data Ingenieur.\n",
      "Page 8 récupérée avec succès pour le mot-clé Data Ingenieur.\n",
      "Page 9 récupérée avec succès pour le mot-clé Data Ingenieur.\n",
      "Page 10 récupérée avec succès pour le mot-clé Data Ingenieur.\n",
      "Page 11 récupérée avec succès pour le mot-clé Data Ingenieur.\n",
      "Page 12 récupérée avec succès pour le mot-clé Data Ingenieur.\n",
      "Page 13 récupérée avec succès pour le mot-clé Data Ingenieur.\n",
      "Page 14 récupérée avec succès pour le mot-clé Data Ingenieur.\n",
      "Page 15 récupérée avec succès pour le mot-clé Data Ingenieur.\n",
      "Page 16 récupérée avec succès pour le mot-clé Data Ingenieur.\n",
      "Page 17 récupérée avec succès pour le mot-clé Data Ingenieur.\n",
      "Page 18 récupérée avec succès pour le mot-clé Data Ingenieur.\n",
      "Page 19 récupérée avec succès pour le mot-clé Data Ingenieur.\n",
      "Page 20 récupérée avec succès pour le mot-clé Data Ingenieur.\n",
      "Page 21 récupérée avec succès pour le mot-clé Data Ingenieur.\n",
      "Page 22 récupérée avec succès pour le mot-clé Data Ingenieur.\n",
      "Page 23 récupérée avec succès pour le mot-clé Data Ingenieur.\n",
      "Page 24 récupérée avec succès pour le mot-clé Data Ingenieur.\n",
      "Page 25 récupérée avec succès pour le mot-clé Data Ingenieur.\n",
      "Page 26 récupérée avec succès pour le mot-clé Data Ingenieur.\n",
      "Page 27 récupérée avec succès pour le mot-clé Data Ingenieur.\n",
      "Page 28 récupérée avec succès pour le mot-clé Data Ingenieur.\n",
      "Page 29 récupérée avec succès pour le mot-clé Data Ingenieur.\n",
      "Page 30 récupérée avec succès pour le mot-clé Data Ingenieur.\n",
      "Page 31 récupérée avec succès pour le mot-clé Data Ingenieur.\n",
      "Page 32 récupérée avec succès pour le mot-clé Data Ingenieur.\n",
      "Page 33 récupérée avec succès pour le mot-clé Data Ingenieur.\n",
      "Page 34 récupérée avec succès pour le mot-clé Data Ingenieur.\n",
      "Page 35 récupérée avec succès pour le mot-clé Data Ingenieur.\n",
      "Page 36 récupérée avec succès pour le mot-clé Data Ingenieur.\n",
      "Page 37 récupérée avec succès pour le mot-clé Data Ingenieur.\n",
      "Page 38 récupérée avec succès pour le mot-clé Data Ingenieur.\n",
      "Page 39 récupérée avec succès pour le mot-clé Data Ingenieur.\n",
      "Page 40 récupérée avec succès pour le mot-clé Data Ingenieur.\n",
      "Page 41 récupérée avec succès pour le mot-clé Data Ingenieur.\n",
      "Page 42 récupérée avec succès pour le mot-clé Data Ingenieur.\n",
      "Page 43 récupérée avec succès pour le mot-clé Data Ingenieur.\n",
      "Page 44 récupérée avec succès pour le mot-clé Data Ingenieur.\n",
      "Page 45 récupérée avec succès pour le mot-clé Data Ingenieur.\n",
      "Page 46 récupérée avec succès pour le mot-clé Data Ingenieur.\n",
      "Page 47 récupérée avec succès pour le mot-clé Data Ingenieur.\n",
      "Page 48 récupérée avec succès pour le mot-clé Data Ingenieur.\n",
      "Page 49 récupérée avec succès pour le mot-clé Data Ingenieur.\n",
      "Page 50 récupérée avec succès pour le mot-clé Data Ingenieur.\n",
      "Page 51 récupérée avec succès pour le mot-clé Data Ingenieur.\n",
      "Page 52 récupérée avec succès pour le mot-clé Data Ingenieur.\n",
      "Page 53 récupérée avec succès pour le mot-clé Data Ingenieur.\n",
      "Page 54 récupérée avec succès pour le mot-clé Data Ingenieur.\n",
      "Page 55 récupérée avec succès pour le mot-clé Data Ingenieur.\n",
      "Page 56 récupérée avec succès pour le mot-clé Data Ingenieur.\n",
      "Page 57 récupérée avec succès pour le mot-clé Data Ingenieur.\n",
      "Page 58 récupérée avec succès pour le mot-clé Data Ingenieur.\n",
      "Page 59 récupérée avec succès pour le mot-clé Data Ingenieur.\n",
      "Page 60 récupérée avec succès pour le mot-clé Data Ingenieur.\n",
      "Page 61 récupérée avec succès pour le mot-clé Data Ingenieur.\n",
      "Page 62 récupérée avec succès pour le mot-clé Data Ingenieur.\n",
      "Page 63 récupérée avec succès pour le mot-clé Data Ingenieur.\n",
      "Page 64 récupérée avec succès pour le mot-clé Data Ingenieur.\n",
      "Page 65 récupérée avec succès pour le mot-clé Data Ingenieur.\n",
      "Page 66 récupérée avec succès pour le mot-clé Data Ingenieur.\n",
      "Page 67 récupérée avec succès pour le mot-clé Data Ingenieur.\n",
      "Page 68 récupérée avec succès pour le mot-clé Data Ingenieur.\n",
      "Page 69 récupérée avec succès pour le mot-clé Data Ingenieur.\n",
      "Page 70 récupérée avec succès pour le mot-clé Data Ingenieur.\n",
      "Page 71 récupérée avec succès pour le mot-clé Data Ingenieur.\n",
      "Page 72 récupérée avec succès pour le mot-clé Data Ingenieur.\n",
      "Page 73 récupérée avec succès pour le mot-clé Data Ingenieur.\n",
      "Page 74 récupérée avec succès pour le mot-clé Data Ingenieur.\n",
      "Page 75 récupérée avec succès pour le mot-clé Data Ingenieur.\n",
      "Page 76 récupérée avec succès pour le mot-clé Data Ingenieur.\n",
      "Page 77 récupérée avec succès pour le mot-clé Data Ingenieur.\n",
      "Page 78 récupérée avec succès pour le mot-clé Data Ingenieur.\n",
      "Page 79 récupérée avec succès pour le mot-clé Data Ingenieur.\n",
      "Page 80 récupérée avec succès pour le mot-clé Data Ingenieur.\n",
      "Page 81 récupérée avec succès pour le mot-clé Data Ingenieur.\n",
      "Page 82 récupérée avec succès pour le mot-clé Data Ingenieur.\n",
      "Page 83 récupérée avec succès pour le mot-clé Data Ingenieur.\n",
      "Page 84 récupérée avec succès pour le mot-clé Data Ingenieur.\n",
      "Page 85 récupérée avec succès pour le mot-clé Data Ingenieur.\n",
      "Page 86 récupérée avec succès pour le mot-clé Data Ingenieur.\n",
      "Page 87 récupérée avec succès pour le mot-clé Data Ingenieur.\n",
      "Page 88 récupérée avec succès pour le mot-clé Data Ingenieur.\n",
      "Page 89 récupérée avec succès pour le mot-clé Data Ingenieur.\n",
      "Page 90 récupérée avec succès pour le mot-clé Data Ingenieur.\n",
      "Page 91 récupérée avec succès pour le mot-clé Data Ingenieur.\n",
      "Page 92 récupérée avec succès pour le mot-clé Data Ingenieur.\n",
      "Aucune offre supplémentaire trouvée pour le mot-clé Data Ingenieur.\n",
      "Page 1 récupérée avec succès pour le mot-clé Data Engineer.\n",
      "Page 2 récupérée avec succès pour le mot-clé Data Engineer.\n",
      "Page 3 récupérée avec succès pour le mot-clé Data Engineer.\n",
      "Page 4 récupérée avec succès pour le mot-clé Data Engineer.\n",
      "Page 5 récupérée avec succès pour le mot-clé Data Engineer.\n",
      "Page 6 récupérée avec succès pour le mot-clé Data Engineer.\n",
      "Page 7 récupérée avec succès pour le mot-clé Data Engineer.\n",
      "Page 8 récupérée avec succès pour le mot-clé Data Engineer.\n",
      "Page 9 récupérée avec succès pour le mot-clé Data Engineer.\n",
      "Page 10 récupérée avec succès pour le mot-clé Data Engineer.\n",
      "Page 11 récupérée avec succès pour le mot-clé Data Engineer.\n",
      "Page 12 récupérée avec succès pour le mot-clé Data Engineer.\n",
      "Page 13 récupérée avec succès pour le mot-clé Data Engineer.\n",
      "Page 14 récupérée avec succès pour le mot-clé Data Engineer.\n",
      "Page 15 récupérée avec succès pour le mot-clé Data Engineer.\n",
      "Page 16 récupérée avec succès pour le mot-clé Data Engineer.\n",
      "Page 17 récupérée avec succès pour le mot-clé Data Engineer.\n",
      "Page 18 récupérée avec succès pour le mot-clé Data Engineer.\n",
      "Page 19 récupérée avec succès pour le mot-clé Data Engineer.\n",
      "Page 20 récupérée avec succès pour le mot-clé Data Engineer.\n",
      "Page 21 récupérée avec succès pour le mot-clé Data Engineer.\n",
      "Page 22 récupérée avec succès pour le mot-clé Data Engineer.\n",
      "Page 23 récupérée avec succès pour le mot-clé Data Engineer.\n",
      "Page 24 récupérée avec succès pour le mot-clé Data Engineer.\n",
      "Page 25 récupérée avec succès pour le mot-clé Data Engineer.\n",
      "Page 26 récupérée avec succès pour le mot-clé Data Engineer.\n",
      "Page 27 récupérée avec succès pour le mot-clé Data Engineer.\n",
      "Page 28 récupérée avec succès pour le mot-clé Data Engineer.\n",
      "Page 29 récupérée avec succès pour le mot-clé Data Engineer.\n",
      "Page 30 récupérée avec succès pour le mot-clé Data Engineer.\n",
      "Page 31 récupérée avec succès pour le mot-clé Data Engineer.\n",
      "Page 32 récupérée avec succès pour le mot-clé Data Engineer.\n",
      "Page 33 récupérée avec succès pour le mot-clé Data Engineer.\n",
      "Page 34 récupérée avec succès pour le mot-clé Data Engineer.\n",
      "Aucune offre supplémentaire trouvée pour le mot-clé Data Engineer.\n",
      "Nombre total d'offres collectées : 3738\n"
     ]
    }
   ],
   "source": [
    "# - Définir l'endpoint principal de l'API Hellowork et de l'user agent pour \"contourner la protection\"\n",
    "endpoint = \"https://www.hellowork.com/searchoffers/getsearchfacets\"\n",
    "user_agent = 'Mozilla/5.0 (Windows NT 10.0; Win64; x64)'\n",
    "\n",
    "# Définition des mots-clés pour les recherches\n",
    "mots_cles = [\"Data Ingenieur\", \"Data Engineer\"]\n",
    "all_offres = []\n",
    "\n",
    "# Boucle sur les mots-clés\n",
    "for mot_cle in mots_cles:\n",
    "    page = 1  # Réinitialisation de la page pour chaque mot-clé\n",
    "    params = {\n",
    "        \"k\": mot_cle,  # Mot-clé pour le poste\n",
    "        \"l\": \"france\",  # Localisation : France\n",
    "        \"d\": \"all\",  # Toutes les annonces disponibles\n",
    "        \"p\": page\n",
    "    }\n",
    "    \n",
    "    # Boucle pour récupérer toutes les pages pour le mot-clé en cours\n",
    "    while True:\n",
    "        response = requests.get(endpoint, params=params, headers={\"User-Agent\": user_agent})\n",
    "        \n",
    "        if response.status_code == 200:\n",
    "            data = response.json()\n",
    "            if 'Results' in data and data['Results']:\n",
    "                all_offres.extend(data['Results'])  # Ajoute les offres récupérées à la liste\n",
    "                print(f\"Page {page} récupérée avec succès pour le mot-clé {mot_cle}.\")\n",
    "                page += 1  # Passe à la page suivante\n",
    "                params[\"p\"] = page  # Met à jour le # de page\n",
    "            else:\n",
    "                print(f\"Aucune offre supplémentaire trouvée pour le mot-clé {mot_cle}.\")\n",
    "                break\n",
    "        else:\n",
    "            print(f\"Erreur lors de la requête à la page {page} pour le mot-clé {mot_cle} : {response.status_code}\")\n",
    "            break \n",
    "\n",
    "# Affichage du nombre total d'offres collectées\n",
    "print(f\"Nombre total d'offres collectées : {len(all_offres)}\")"
   ]
  },
  {
   "cell_type": "markdown",
   "metadata": {},
   "source": [
    "## **5. Exploration des données**\n",
    "\n",
    "- Inspection des données brutes retournées par l'API pour identifier les champs pertinents."
   ]
  },
  {
   "cell_type": "code",
   "execution_count": 26,
   "metadata": {},
   "outputs": [],
   "source": [
    "# Transformation des données en dataframe\n",
    "df_offres = pd.DataFrame(all_offres)"
   ]
  },
  {
   "cell_type": "code",
   "execution_count": 27,
   "metadata": {},
   "outputs": [
    {
     "name": "stdout",
     "output_type": "stream",
     "text": [
      "<class 'pandas.core.frame.DataFrame'>\n",
      "RangeIndex: 3738 entries, 0 to 3737\n",
      "Data columns (total 64 columns):\n",
      " #   Column                         Non-Null Count  Dtype  \n",
      "---  ------                         --------------  -----  \n",
      " 0   AddressGeoloc                  3738 non-null   object \n",
      " 1   ContractDurationFromNumber     249 non-null    object \n",
      " 2   ContractBeginDate              4 non-null      object \n",
      " 3   ContractEndDate                0 non-null      object \n",
      " 4   Shift                          3 non-null      float64\n",
      " 5   AltCompanyName                 0 non-null      object \n",
      " 6   ContractType                   3738 non-null   object \n",
      " 7   Telework                       2233 non-null   object \n",
      " 8   Criterions                     3738 non-null   object \n",
      " 9   Description                    3738 non-null   object \n",
      " 10  Domaine                        3593 non-null   object \n",
      " 11  HighLights                     3738 non-null   object \n",
      " 12  Id                             3738 non-null   object \n",
      " 13  IdOrRef                        3738 non-null   object \n",
      " 14  IdCategory                     3738 non-null   int64  \n",
      " 15  IdApplication                  3738 non-null   int64  \n",
      " 16  LinkedOffers                   3738 non-null   object \n",
      " 17  Localisation                   3738 non-null   object \n",
      " 18  Localisations                  3738 non-null   object \n",
      " 19  OfferPosition                  3738 non-null   int64  \n",
      " 20  OfferTitle                     3738 non-null   object \n",
      " 21  Profile                        2875 non-null   object \n",
      " 22  PublishDate                    3738 non-null   object \n",
      " 23  RandomId                       3738 non-null   int64  \n",
      " 24  Ref                            3738 non-null   object \n",
      " 25  DisplayedSalary                3738 non-null   object \n",
      " 26  SearchSlug                     0 non-null      object \n",
      " 27  SkinHeaderPicture              1484 non-null   object \n",
      " 28  SkinHeaderPictureFullUrl       1484 non-null   object \n",
      " 29  Tags                           0 non-null      object \n",
      " 30  SeoTags                        3736 non-null   object \n",
      " 31  TypeResponseFront              3738 non-null   int64  \n",
      " 32  TypeListeOffres                3738 non-null   object \n",
      " 33  Variant                        3738 non-null   object \n",
      " 34  UrlOffre                       3738 non-null   object \n",
      " 35  UrlSlug                        3738 non-null   object \n",
      " 36  CompanyId                      3738 non-null   int64  \n",
      " 37  CompanyLogo                    3664 non-null   object \n",
      " 38  CompanyLogoFullUrl             3664 non-null   object \n",
      " 39  CompanyName                    3723 non-null   object \n",
      " 40  CompanyNameSlug                3738 non-null   object \n",
      " 41  IsResponsiveRecruiter          3738 non-null   bool   \n",
      " 42  IsAnnonceAugmentee             3738 non-null   bool   \n",
      " 43  IsAnonymous                    3738 non-null   bool   \n",
      " 44  IsApplicationSecondaire        3738 non-null   bool   \n",
      " 45  IsClient                       3738 non-null   bool   \n",
      " 46  IsClientSecondaire             3738 non-null   bool   \n",
      " 47  IsClientSecondaireNonBoost     3738 non-null   bool   \n",
      " 48  IsPartenairePrioritaire        3738 non-null   bool   \n",
      " 49  IsPartenairePremium            3738 non-null   bool   \n",
      " 50  IsPartenaire                   3738 non-null   bool   \n",
      " 51  IsPartenaireGroupe             3738 non-null   bool   \n",
      " 52  IsFulltime                     3738 non-null   bool   \n",
      " 53  CompanyIsTransparentRecruiter  3738 non-null   bool   \n",
      " 54  IsLowQuality                   3738 non-null   bool   \n",
      " 55  IsManagement                   3738 non-null   bool   \n",
      " 56  IsNonClient                    3738 non-null   bool   \n",
      " 57  IsPremium                      3738 non-null   bool   \n",
      " 58  IsSalaryDisplayable            3738 non-null   bool   \n",
      " 59  ReferencingSummary             0 non-null      object \n",
      " 60  ResponseUrl                    3161 non-null   object \n",
      " 61  ResponseEmail                  0 non-null      object \n",
      " 62  TypeResponse                   3738 non-null   int64  \n",
      " 63  UrlBookmark                    3738 non-null   object \n",
      "dtypes: bool(18), float64(1), int64(7), object(38)\n",
      "memory usage: 1.4+ MB\n"
     ]
    }
   ],
   "source": [
    "df_offres.info()"
   ]
  },
  {
   "cell_type": "code",
   "execution_count": 28,
   "metadata": {},
   "outputs": [
    {
     "data": {
      "text/html": [
       "<div>\n",
       "<style scoped>\n",
       "    .dataframe tbody tr th:only-of-type {\n",
       "        vertical-align: middle;\n",
       "    }\n",
       "\n",
       "    .dataframe tbody tr th {\n",
       "        vertical-align: top;\n",
       "    }\n",
       "\n",
       "    .dataframe thead th {\n",
       "        text-align: right;\n",
       "    }\n",
       "</style>\n",
       "<table border=\"1\" class=\"dataframe\">\n",
       "  <thead>\n",
       "    <tr style=\"text-align: right;\">\n",
       "      <th></th>\n",
       "    </tr>\n",
       "  </thead>\n",
       "  <tbody>\n",
       "  </tbody>\n",
       "</table>\n",
       "</div>"
      ],
      "text/plain": [
       "Empty DataFrame\n",
       "Columns: []\n",
       "Index: []"
      ]
     },
     "execution_count": 28,
     "metadata": {},
     "output_type": "execute_result"
    }
   ],
   "source": [
    "df.head()"
   ]
  },
  {
   "cell_type": "markdown",
   "metadata": {},
   "source": [
    "## **6. Nettoyage des données**"
   ]
  },
  {
   "cell_type": "code",
   "execution_count": null,
   "metadata": {},
   "outputs": [],
   "source": []
  },
  {
   "cell_type": "markdown",
   "metadata": {},
   "source": [
    "## **7. Sauvegarde des données**"
   ]
  },
  {
   "cell_type": "code",
   "execution_count": null,
   "metadata": {},
   "outputs": [],
   "source": [
    "# Exportation des données nettoyées au format CSV.\n",
    "output_file = \"../data/datasets/brut/offres_data_engineer.csv\"\n",
    "df_clean.to_csv(output_file, index=False)\n",
    "print(f\"Données sauvegardées dans le fichier {output_file}.\")"
   ]
  }
 ],
 "metadata": {
  "kernelspec": {
   "display_name": "api",
   "language": "python",
   "name": "python3"
  },
  "language_info": {
   "codemirror_mode": {
    "name": "ipython",
    "version": 3
   },
   "file_extension": ".py",
   "mimetype": "text/x-python",
   "name": "python",
   "nbconvert_exporter": "python",
   "pygments_lexer": "ipython3",
   "version": "3.12.8"
  }
 },
 "nbformat": 4,
 "nbformat_minor": 2
}
