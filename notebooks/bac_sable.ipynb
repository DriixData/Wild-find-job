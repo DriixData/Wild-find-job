{
 "cells": [
  {
   "cell_type": "code",
   "execution_count": 3,
   "metadata": {},
   "outputs": [],
   "source": [
    "df_clean = pd.read_csv(\"../data/datasets/brut/df_final2.csv\")"
   ]
  },
  {
   "cell_type": "code",
   "execution_count": 13,
   "metadata": {},
   "outputs": [],
   "source": [
    "df_clean2 = df_clean[df_clean['OfferTitle'].isin(['Data Engineer H/F', 'Data Analyst H/F'])]\n",
    "\n",
    "df_clean2.to_csv(\"../data/datasets/brut/df_clean2.csv\")"
   ]
  },
  {
   "cell_type": "code",
   "execution_count": 4,
   "metadata": {},
   "outputs": [
    {
     "name": "stdout",
     "output_type": "stream",
     "text": [
      "<class 'pandas.core.frame.DataFrame'>\n",
      "RangeIndex: 1693 entries, 0 to 1692\n",
      "Data columns (total 22 columns):\n",
      " #   Column           Non-Null Count  Dtype  \n",
      "---  ------           --------------  -----  \n",
      " 0   Unnamed: 0       1693 non-null   int64  \n",
      " 1   Id               1693 non-null   int64  \n",
      " 2   PublishDate      1693 non-null   object \n",
      " 3   Domaine          1693 non-null   object \n",
      " 4   OfferTitle       1693 non-null   object \n",
      " 5   OfferLabel       1693 non-null   object \n",
      " 6   ContractType     1693 non-null   object \n",
      " 7   IsFulltime       1693 non-null   bool   \n",
      " 8   Telework         1693 non-null   object \n",
      " 9   DisplayedSalary  1693 non-null   object \n",
      " 10  Description      1693 non-null   object \n",
      " 11  Profile          969 non-null    object \n",
      " 12  CompanyName      1693 non-null   object \n",
      " 13  CompanyLogo      1693 non-null   object \n",
      " 14  UrlOffre         1693 non-null   object \n",
      " 15  Pays             1693 non-null   object \n",
      " 16  Region           1693 non-null   object \n",
      " 17  Departement      1693 non-null   object \n",
      " 18  Ville            1693 non-null   object \n",
      " 19  CodePostal       1693 non-null   object \n",
      " 20  salaire_min      386 non-null    float64\n",
      " 21  salaire_max      386 non-null    float64\n",
      "dtypes: bool(1), float64(2), int64(2), object(17)\n",
      "memory usage: 279.5+ KB\n"
     ]
    }
   ],
   "source": [
    "df_clean.info()"
   ]
  },
  {
   "cell_type": "code",
   "execution_count": 5,
   "metadata": {},
   "outputs": [
    {
     "name": "stdout",
     "output_type": "stream",
     "text": [
      "<class 'pandas.core.frame.DataFrame'>\n",
      "RangeIndex: 1693 entries, 0 to 1692\n",
      "Data columns (total 25 columns):\n",
      " #   Column            Non-Null Count  Dtype  \n",
      "---  ------            --------------  -----  \n",
      " 0   Unnamed: 0        1693 non-null   int64  \n",
      " 1   Id                1693 non-null   int64  \n",
      " 2   PublishDate       1693 non-null   object \n",
      " 3   Domaine           1693 non-null   object \n",
      " 4   OfferTitle        1693 non-null   object \n",
      " 5   OfferLabel        1693 non-null   object \n",
      " 6   ContractType      1693 non-null   object \n",
      " 7   IsFulltime        1693 non-null   bool   \n",
      " 8   Telework          1693 non-null   object \n",
      " 9   DisplayedSalary   1693 non-null   object \n",
      " 10  Description       1693 non-null   object \n",
      " 11  Profile           969 non-null    object \n",
      " 12  CompanyName       1693 non-null   object \n",
      " 13  CompanyLogo       1693 non-null   object \n",
      " 14  UrlOffre          1693 non-null   object \n",
      " 15  Pays              1693 non-null   object \n",
      " 16  Region            1693 non-null   object \n",
      " 17  Departement       1693 non-null   object \n",
      " 18  Ville             1693 non-null   object \n",
      " 19  CodePostal        1693 non-null   object \n",
      " 20  salaire_min       386 non-null    float64\n",
      " 21  salaire_max       386 non-null    float64\n",
      " 22  Competences_Clés  1693 non-null   object \n",
      " 23  Soft_Skills       1693 non-null   object \n",
      " 24  Outils            1693 non-null   object \n",
      "dtypes: bool(1), float64(2), int64(2), object(20)\n",
      "memory usage: 319.2+ KB\n"
     ]
    }
   ],
   "source": [
    "import pandas as pd\n",
    "\n",
    "df_clean_nlp = pd.read_csv(\"../data/datasets/propre/df_clean2_nlp.csv\")\n",
    "\n",
    "df_clean_nlp.info()"
   ]
  },
  {
   "cell_type": "code",
   "execution_count": 6,
   "metadata": {},
   "outputs": [
    {
     "data": {
      "text/plain": [
       "Competences_Clés\n",
       "[]                                                                                                                                                                                                          134\n",
       "['Nettoyage et transformation des données']                                                                                                                                                                  56\n",
       "['SQL et bases de données']                                                                                                                                                                                  46\n",
       "['Visualisation et storytelling']                                                                                                                                                                            45\n",
       "['Cloud et Big Data', 'Nettoyage et transformation des données', 'Python', 'SQL et bases de données']                                                                                                        43\n",
       "                                                                                                                                                                                                           ... \n",
       "['Visualisation et storytelling', 'Python', 'Modélisation et machine learning']                                                                                                                               1\n",
       "['Automatisation et scripting', 'Python', 'Modélisation et machine learning', 'SQL et bases de données', 'Statistiques et probabilités']                                                                      1\n",
       "['Déploiement et industrialisation', 'Nettoyage et transformation des données', 'Python', 'Modélisation et machine learning', 'SQL et bases de données']                                                      1\n",
       "['Cloud et Big Data', 'Gestion des API et Web Scraping', 'Visualisation et storytelling', 'Déploiement et industrialisation', 'Nettoyage et transformation des données', 'Statistiques et probabilités']      1\n",
       "['Cloud et Big Data', 'Visualisation et storytelling', 'Nettoyage et transformation des données', 'Modélisation et machine learning', 'Statistiques et probabilités']                                         1\n",
       "Name: count, Length: 360, dtype: int64"
      ]
     },
     "execution_count": 6,
     "metadata": {},
     "output_type": "execute_result"
    }
   ],
   "source": [
    "df_clean_nlp['Competences_Clés'].value_counts()"
   ]
  },
  {
   "cell_type": "code",
   "execution_count": 7,
   "metadata": {},
   "outputs": [
    {
     "data": {
      "text/plain": [
       "Soft_Skills\n",
       "['Résolution de problèmes', 'Curiosité et apprentissage continu', 'Collaboration et travail en équipe']                                                                                               91\n",
       "['Résolution de problèmes', 'Collaboration et travail en équipe']                                                                                                                                     74\n",
       "['Esprit analytique', 'Résolution de problèmes', 'Curiosité et apprentissage continu', 'Collaboration et travail en équipe']                                                                          73\n",
       "['Curiosité et apprentissage continu', 'Collaboration et travail en équipe']                                                                                                                          67\n",
       "['Résolution de problèmes', 'Curiosité et apprentissage continu', 'Communication et vulgarisation', 'Collaboration et travail en équipe']                                                             50\n",
       "                                                                                                                                                                                                      ..\n",
       "['Résolution de problèmes', 'Communication et vulgarisation', 'Gestion du temps et organisation', 'Collaboration et travail en équipe']                                                                1\n",
       "['Esprit analytique', 'Curiosité et apprentissage continu', 'Communication et vulgarisation', 'Adaptabilité et agilité']                                                                               1\n",
       "['Curiosité et apprentissage continu', 'Communication et vulgarisation', 'Gestion du temps et organisation']                                                                                           1\n",
       "['Résolution de problèmes', 'Esprit analytique', 'Curiosité et apprentissage continu', 'Communication et vulgarisation', 'Adaptabilité et agilité']                                                    1\n",
       "['Résolution de problèmes', 'Collaboration et travail en équipe', 'Gestion du temps et organisation', 'Esprit analytique', 'Curiosité et apprentissage continu', 'Communication et vulgarisation']     1\n",
       "Name: count, Length: 214, dtype: int64"
      ]
     },
     "execution_count": 7,
     "metadata": {},
     "output_type": "execute_result"
    }
   ],
   "source": [
    "df_clean_nlp['Soft_Skills'].value_counts()"
   ]
  },
  {
   "cell_type": "code",
   "execution_count": 8,
   "metadata": {},
   "outputs": [
    {
     "data": {
      "text/plain": [
       "Outils\n",
       "[]                                                                                                         399\n",
       "['Python', 'SQL']                                                                                          100\n",
       "['Power BI / Tableau / Looker']                                                                             98\n",
       "['Python']                                                                                                  90\n",
       "['SQL']                                                                                                     90\n",
       "                                                                                                          ... \n",
       "['Git & GitHub/GitLab', 'Apache Airflow & dbt', 'Cloud Computing']                                           1\n",
       "['Apache Airflow & dbt', 'Docker & Kubernetes', 'Python', 'Power BI / Tableau / Looker', 'SQL']              1\n",
       "['Apache Airflow & dbt', 'Git & GitHub/GitLab', 'Docker & Kubernetes', 'Python', 'Cloud Computing']          1\n",
       "['Git & GitHub/GitLab', 'Docker & Kubernetes', 'Power BI / Tableau / Looker', 'SQL', 'Cloud Computing']      1\n",
       "['Docker & Kubernetes', 'Cloud Computing']                                                                   1\n",
       "Name: count, Length: 131, dtype: int64"
      ]
     },
     "execution_count": 8,
     "metadata": {},
     "output_type": "execute_result"
    }
   ],
   "source": [
    "df_clean_nlp['Outils'].value_counts()"
   ]
  },
  {
   "cell_type": "code",
   "execution_count": 9,
   "metadata": {},
   "outputs": [
    {
     "name": "stdout",
     "output_type": "stream",
     "text": [
      "<class 'pandas.core.frame.DataFrame'>\n",
      "RangeIndex: 1693 entries, 0 to 1692\n",
      "Data columns (total 25 columns):\n",
      " #   Column            Non-Null Count  Dtype  \n",
      "---  ------            --------------  -----  \n",
      " 0   Unnamed: 0        1693 non-null   int64  \n",
      " 1   Id                1693 non-null   int64  \n",
      " 2   PublishDate       1693 non-null   object \n",
      " 3   Domaine           1693 non-null   object \n",
      " 4   OfferTitle        1693 non-null   object \n",
      " 5   OfferLabel        1693 non-null   object \n",
      " 6   ContractType      1693 non-null   object \n",
      " 7   IsFulltime        1693 non-null   bool   \n",
      " 8   Telework          1693 non-null   object \n",
      " 9   DisplayedSalary   1693 non-null   object \n",
      " 10  Description       1693 non-null   object \n",
      " 11  Profile           969 non-null    object \n",
      " 12  CompanyName       1693 non-null   object \n",
      " 13  CompanyLogo       1693 non-null   object \n",
      " 14  UrlOffre          1693 non-null   object \n",
      " 15  Pays              1693 non-null   object \n",
      " 16  Region            1693 non-null   object \n",
      " 17  Departement       1693 non-null   object \n",
      " 18  Ville             1693 non-null   object \n",
      " 19  CodePostal        1693 non-null   object \n",
      " 20  salaire_min       386 non-null    float64\n",
      " 21  salaire_max       386 non-null    float64\n",
      " 22  Competences_Clés  1693 non-null   object \n",
      " 23  Soft_Skills       1693 non-null   object \n",
      " 24  Outils            1693 non-null   object \n",
      "dtypes: bool(1), float64(2), int64(2), object(20)\n",
      "memory usage: 319.2+ KB\n"
     ]
    }
   ],
   "source": [
    "df_clean_nlp.info()"
   ]
  },
  {
   "cell_type": "code",
   "execution_count": 14,
   "metadata": {},
   "outputs": [
    {
     "data": {
      "text/plain": [
       "OfferLabel\n",
       "Ingénieur big data                     501\n",
       "Analyste de données                    390\n",
       "Data manager                           251\n",
       "Data scientist                         228\n",
       "Consultant en big data                 155\n",
       "Architecte de bases de données          51\n",
       "Responsable data LAB                    31\n",
       "Administrateur de bases de données      28\n",
       "Data miner                              14\n",
       "Administrateur data center              13\n",
       "Ingénieur bases de données               7\n",
       "Technicien de données                    6\n",
       "Architecte big data                      5\n",
       "Ingénieur qualité des données            5\n",
       "Délégué à la protection des données      4\n",
       "Responsable bases de données             3\n",
       "Technicien data center                   1\n",
       "Name: count, dtype: int64"
      ]
     },
     "execution_count": 14,
     "metadata": {},
     "output_type": "execute_result"
    }
   ],
   "source": [
    "df_clean_nlp['OfferLabel'].value_counts()"
   ]
  },
  {
   "cell_type": "code",
   "execution_count": 11,
   "metadata": {},
   "outputs": [
    {
     "data": {
      "text/plain": [
       "ContractType\n",
       "CDI                      1313\n",
       "Stage                     199\n",
       "Alternance                 71\n",
       "CDD                        43\n",
       "Indépendant/Freelance      41\n",
       "Intérim                    26\n",
       "Name: count, dtype: int64"
      ]
     },
     "execution_count": 11,
     "metadata": {},
     "output_type": "execute_result"
    }
   ],
   "source": [
    "df_clean_nlp['ContractType'].value_counts()"
   ]
  },
  {
   "cell_type": "code",
   "execution_count": 13,
   "metadata": {},
   "outputs": [
    {
     "data": {
      "text/plain": [
       "Domaine\n",
       "informatique    1689\n",
       "juridique          4\n",
       "Name: count, dtype: int64"
      ]
     },
     "execution_count": 13,
     "metadata": {},
     "output_type": "execute_result"
    }
   ],
   "source": [
    "df_clean['Domaine'].value_counts()"
   ]
  },
  {
   "cell_type": "code",
   "execution_count": null,
   "metadata": {},
   "outputs": [],
   "source": [
    "df_clean_nlp"
   ]
  }
 ],
 "metadata": {
  "kernelspec": {
   "display_name": "base",
   "language": "python",
   "name": "python3"
  },
  "language_info": {
   "codemirror_mode": {
    "name": "ipython",
    "version": 3
   },
   "file_extension": ".py",
   "mimetype": "text/x-python",
   "name": "python",
   "nbconvert_exporter": "python",
   "pygments_lexer": "ipython3",
   "version": "3.12.4"
  }
 },
 "nbformat": 4,
 "nbformat_minor": 2
}
