{
 "cells": [
  {
   "cell_type": "code",
   "execution_count": 3,
   "metadata": {},
   "outputs": [],
   "source": [
    "df_clean = pd.read_csv(\"../data/datasets/brut/df_final2.csv\")"
   ]
  },
  {
   "cell_type": "code",
   "execution_count": 13,
   "metadata": {},
   "outputs": [],
   "source": [
    "df_clean2 = df_clean[df_clean['OfferTitle'].isin(['Data Engineer H/F', 'Data Analyst H/F'])]\n",
    "\n",
    "df_clean2.to_csv(\"../data/datasets/brut/df_clean2.csv\")"
   ]
  },
  {
   "cell_type": "code",
   "execution_count": 4,
   "metadata": {},
   "outputs": [
    {
     "name": "stdout",
     "output_type": "stream",
     "text": [
      "<class 'pandas.core.frame.DataFrame'>\n",
      "RangeIndex: 1693 entries, 0 to 1692\n",
      "Data columns (total 22 columns):\n",
      " #   Column           Non-Null Count  Dtype  \n",
      "---  ------           --------------  -----  \n",
      " 0   Unnamed: 0       1693 non-null   int64  \n",
      " 1   Id               1693 non-null   int64  \n",
      " 2   PublishDate      1693 non-null   object \n",
      " 3   Domaine          1693 non-null   object \n",
      " 4   OfferTitle       1693 non-null   object \n",
      " 5   OfferLabel       1693 non-null   object \n",
      " 6   ContractType     1693 non-null   object \n",
      " 7   IsFulltime       1693 non-null   bool   \n",
      " 8   Telework         1693 non-null   object \n",
      " 9   DisplayedSalary  1693 non-null   object \n",
      " 10  Description      1693 non-null   object \n",
      " 11  Profile          969 non-null    object \n",
      " 12  CompanyName      1693 non-null   object \n",
      " 13  CompanyLogo      1693 non-null   object \n",
      " 14  UrlOffre         1693 non-null   object \n",
      " 15  Pays             1693 non-null   object \n",
      " 16  Region           1693 non-null   object \n",
      " 17  Departement      1693 non-null   object \n",
      " 18  Ville            1693 non-null   object \n",
      " 19  CodePostal       1693 non-null   object \n",
      " 20  salaire_min      386 non-null    float64\n",
      " 21  salaire_max      386 non-null    float64\n",
      "dtypes: bool(1), float64(2), int64(2), object(17)\n",
      "memory usage: 279.5+ KB\n"
     ]
    }
   ],
   "source": [
    "df_clean.info()"
   ]
  },
  {
   "cell_type": "code",
   "execution_count": 2,
   "metadata": {},
   "outputs": [
    {
     "name": "stdout",
     "output_type": "stream",
     "text": [
      "<class 'pandas.core.frame.DataFrame'>\n",
      "RangeIndex: 1693 entries, 0 to 1692\n",
      "Data columns (total 25 columns):\n",
      " #   Column            Non-Null Count  Dtype  \n",
      "---  ------            --------------  -----  \n",
      " 0   Id                1693 non-null   int64  \n",
      " 1   PublishDate       1693 non-null   object \n",
      " 2   Domaine           1693 non-null   object \n",
      " 3   OfferTitle        1693 non-null   object \n",
      " 4   OfferLabel        1693 non-null   object \n",
      " 5   ContractType      1693 non-null   object \n",
      " 6   IsFulltime        1693 non-null   bool   \n",
      " 7   Telework          1693 non-null   object \n",
      " 8   DisplayedSalary   1693 non-null   object \n",
      " 9   Description       1693 non-null   object \n",
      " 10  Profile           969 non-null    object \n",
      " 11  CompanyName       1693 non-null   object \n",
      " 12  CompanyLogo       1693 non-null   object \n",
      " 13  UrlOffre          1693 non-null   object \n",
      " 14  Pays              1693 non-null   object \n",
      " 15  Region            1693 non-null   object \n",
      " 16  Departement       1693 non-null   object \n",
      " 17  Ville             1693 non-null   object \n",
      " 18  CodePostal        1693 non-null   object \n",
      " 19  salaire_min       386 non-null    float64\n",
      " 20  salaire_max       386 non-null    float64\n",
      " 21  categorie_metier  1693 non-null   object \n",
      " 22  Competences_Clés  1693 non-null   object \n",
      " 23  Soft_Skills       1693 non-null   object \n",
      " 24  Outils            1693 non-null   object \n",
      "dtypes: bool(1), float64(2), int64(1), object(21)\n",
      "memory usage: 319.2+ KB\n"
     ]
    }
   ],
   "source": [
    "import pandas as pd\n",
    "\n",
    "df_clean_nlp = pd.read_csv(\"../data/datasets/propre/df_clean3_nlp.csv\")\n",
    "\n",
    "df_clean_nlp.info()"
   ]
  },
  {
   "cell_type": "code",
   "execution_count": 3,
   "metadata": {},
   "outputs": [
    {
     "data": {
      "text/plain": [
       "Competences_Clés\n",
       "[]                                                                                                                                                                             134\n",
       "['Nettoyage et transformation des données']                                                                                                                                     56\n",
       "['SQL et bases de données']                                                                                                                                                     46\n",
       "['Visualisation et storytelling']                                                                                                                                               45\n",
       "['Statistiques et probabilités']                                                                                                                                                39\n",
       "                                                                                                                                                                              ... \n",
       "['Python', 'Modélisation et machine learning', 'Déploiement et industrialisation', 'Statistiques et probabilités']                                                               1\n",
       "['Nettoyage et transformation des données', 'SQL et bases de données', 'Modélisation et machine learning', 'Visualisation et storytelling', 'Statistiques et probabilités']      1\n",
       "['SQL et bases de données', 'Cloud et Big Data', 'Modélisation et machine learning', 'Visualisation et storytelling']                                                            1\n",
       "['SQL et bases de données', 'Gestion des API et Web Scraping', 'Python']                                                                                                         1\n",
       "['Nettoyage et transformation des données', 'Cloud et Big Data', 'Modélisation et machine learning', 'Visualisation et storytelling', 'Statistiques et probabilités']            1\n",
       "Name: count, Length: 375, dtype: int64"
      ]
     },
     "execution_count": 3,
     "metadata": {},
     "output_type": "execute_result"
    }
   ],
   "source": [
    "df_clean_nlp['Competences_Clés'].value_counts()"
   ]
  },
  {
   "cell_type": "code",
   "execution_count": 4,
   "metadata": {},
   "outputs": [
    {
     "data": {
      "text/plain": [
       "Soft_Skills\n",
       "['Curiosité et apprentissage continu', 'Résolution de problèmes', 'Collaboration et travail en équipe']                                                                                               91\n",
       "['Résolution de problèmes', 'Collaboration et travail en équipe']                                                                                                                                     74\n",
       "['Curiosité et apprentissage continu', 'Collaboration et travail en équipe']                                                                                                                          67\n",
       "['Curiosité et apprentissage continu', 'Communication et vulgarisation', 'Résolution de problèmes', 'Collaboration et travail en équipe']                                                             50\n",
       "['Curiosité et apprentissage continu', 'Esprit analytique', 'Résolution de problèmes', 'Collaboration et travail en équipe']                                                                          44\n",
       "                                                                                                                                                                                                      ..\n",
       "['Curiosité et apprentissage continu', 'Communication et vulgarisation', 'Esprit analytique', 'Adaptabilité et agilité']                                                                               1\n",
       "['Curiosité et apprentissage continu', 'Communication et vulgarisation', 'Gestion du temps et organisation']                                                                                           1\n",
       "['Communication et vulgarisation', 'Esprit analytique', 'Adaptabilité et agilité', 'Curiosité et apprentissage continu', 'Résolution de problèmes']                                                    1\n",
       "['Communication et vulgarisation', 'Résolution de problèmes', 'Esprit analytique', 'Adaptabilité et agilité']                                                                                          1\n",
       "['Communication et vulgarisation', 'Esprit analytique', 'Collaboration et travail en équipe', 'Gestion du temps et organisation', 'Curiosité et apprentissage continu', 'Résolution de problèmes']     1\n",
       "Name: count, Length: 214, dtype: int64"
      ]
     },
     "execution_count": 4,
     "metadata": {},
     "output_type": "execute_result"
    }
   ],
   "source": [
    "df_clean_nlp['Soft_Skills'].value_counts()"
   ]
  },
  {
   "cell_type": "code",
   "execution_count": 5,
   "metadata": {},
   "outputs": [
    {
     "data": {
      "text/plain": [
       "Outils\n",
       "[]                                                                                                                                 399\n",
       "['Python', 'SQL']                                                                                                                  100\n",
       "['Power BI / Tableau / Looker']                                                                                                     98\n",
       "['Power BI / Tableau / Looker', 'Python', 'SQL']                                                                                    96\n",
       "['SQL']                                                                                                                             90\n",
       "                                                                                                                                  ... \n",
       "['Docker & Kubernetes', 'Git & GitHub/GitLab', 'Apache Airflow & dbt', 'Cloud Computing', 'Power BI / Tableau / Looker', 'SQL']      1\n",
       "['Jupyter Notebook & VS Code', 'Cloud Computing', 'Power BI / Tableau / Looker', 'Python', 'SQL']                                    1\n",
       "['SQL', 'Docker & Kubernetes']                                                                                                       1\n",
       "['Python', 'SQL', 'Git & GitHub/GitLab', 'Jupyter Notebook & VS Code']                                                               1\n",
       "['Docker & Kubernetes', 'Cloud Computing']                                                                                           1\n",
       "Name: count, Length: 117, dtype: int64"
      ]
     },
     "execution_count": 5,
     "metadata": {},
     "output_type": "execute_result"
    }
   ],
   "source": [
    "df_clean_nlp['Outils'].value_counts()"
   ]
  },
  {
   "cell_type": "code",
   "execution_count": 6,
   "metadata": {},
   "outputs": [
    {
     "name": "stdout",
     "output_type": "stream",
     "text": [
      "<class 'pandas.core.frame.DataFrame'>\n",
      "RangeIndex: 1693 entries, 0 to 1692\n",
      "Data columns (total 25 columns):\n",
      " #   Column            Non-Null Count  Dtype  \n",
      "---  ------            --------------  -----  \n",
      " 0   Id                1693 non-null   int64  \n",
      " 1   PublishDate       1693 non-null   object \n",
      " 2   Domaine           1693 non-null   object \n",
      " 3   OfferTitle        1693 non-null   object \n",
      " 4   OfferLabel        1693 non-null   object \n",
      " 5   ContractType      1693 non-null   object \n",
      " 6   IsFulltime        1693 non-null   bool   \n",
      " 7   Telework          1693 non-null   object \n",
      " 8   DisplayedSalary   1693 non-null   object \n",
      " 9   Description       1693 non-null   object \n",
      " 10  Profile           969 non-null    object \n",
      " 11  CompanyName       1693 non-null   object \n",
      " 12  CompanyLogo       1693 non-null   object \n",
      " 13  UrlOffre          1693 non-null   object \n",
      " 14  Pays              1693 non-null   object \n",
      " 15  Region            1693 non-null   object \n",
      " 16  Departement       1693 non-null   object \n",
      " 17  Ville             1693 non-null   object \n",
      " 18  CodePostal        1693 non-null   object \n",
      " 19  salaire_min       386 non-null    float64\n",
      " 20  salaire_max       386 non-null    float64\n",
      " 21  categorie_metier  1693 non-null   object \n",
      " 22  Competences_Clés  1693 non-null   object \n",
      " 23  Soft_Skills       1693 non-null   object \n",
      " 24  Outils            1693 non-null   object \n",
      "dtypes: bool(1), float64(2), int64(1), object(21)\n",
      "memory usage: 319.2+ KB\n"
     ]
    }
   ],
   "source": [
    "df_clean_nlp.info()"
   ]
  },
  {
   "cell_type": "code",
   "execution_count": 13,
   "metadata": {},
   "outputs": [
    {
     "data": {
      "text/plain": [
       "categorie_metier\n",
       "Ingénierie des données    629\n",
       "Gestion et management     446\n",
       "Analyse des données       390\n",
       "Science des données       228\n",
       "Name: count, dtype: int64"
      ]
     },
     "execution_count": 13,
     "metadata": {},
     "output_type": "execute_result"
    }
   ],
   "source": [
    "df_clean_nlp['categorie_metier'].value_counts()"
   ]
  },
  {
   "cell_type": "code",
   "execution_count": 8,
   "metadata": {},
   "outputs": [
    {
     "data": {
      "text/plain": [
       "ContractType\n",
       "CDI                      1313\n",
       "Stage                     199\n",
       "Alternance                 71\n",
       "CDD                        43\n",
       "Indépendant/Freelance      41\n",
       "Intérim                    26\n",
       "Name: count, dtype: int64"
      ]
     },
     "execution_count": 8,
     "metadata": {},
     "output_type": "execute_result"
    }
   ],
   "source": [
    "df_clean_nlp['ContractType'].value_counts()"
   ]
  },
  {
   "cell_type": "code",
   "execution_count": 9,
   "metadata": {},
   "outputs": [
    {
     "name": "stdout",
     "output_type": "stream",
     "text": [
      "<class 'pandas.core.frame.DataFrame'>\n",
      "RangeIndex: 1693 entries, 0 to 1692\n",
      "Data columns (total 25 columns):\n",
      " #   Column            Non-Null Count  Dtype  \n",
      "---  ------            --------------  -----  \n",
      " 0   Id                1693 non-null   int64  \n",
      " 1   PublishDate       1693 non-null   object \n",
      " 2   Domaine           1693 non-null   object \n",
      " 3   OfferTitle        1693 non-null   object \n",
      " 4   OfferLabel        1693 non-null   object \n",
      " 5   ContractType      1693 non-null   object \n",
      " 6   IsFulltime        1693 non-null   bool   \n",
      " 7   Telework          1693 non-null   object \n",
      " 8   DisplayedSalary   1693 non-null   object \n",
      " 9   Description       1693 non-null   object \n",
      " 10  Profile           969 non-null    object \n",
      " 11  CompanyName       1693 non-null   object \n",
      " 12  CompanyLogo       1693 non-null   object \n",
      " 13  UrlOffre          1693 non-null   object \n",
      " 14  Pays              1693 non-null   object \n",
      " 15  Region            1693 non-null   object \n",
      " 16  Departement       1693 non-null   object \n",
      " 17  Ville             1693 non-null   object \n",
      " 18  CodePostal        1693 non-null   object \n",
      " 19  salaire_min       386 non-null    float64\n",
      " 20  salaire_max       386 non-null    float64\n",
      " 21  categorie_metier  1693 non-null   object \n",
      " 22  Competences_Clés  1693 non-null   object \n",
      " 23  Soft_Skills       1693 non-null   object \n",
      " 24  Outils            1693 non-null   object \n",
      "dtypes: bool(1), float64(2), int64(1), object(21)\n",
      "memory usage: 319.2+ KB\n"
     ]
    }
   ],
   "source": [
    "df_clean_nlp.info()"
   ]
  },
  {
   "cell_type": "code",
   "execution_count": 10,
   "metadata": {},
   "outputs": [
    {
     "data": {
      "text/plain": [
       "salaire_min\n",
       "40000.0     61\n",
       "45000.0     41\n",
       "50000.0     40\n",
       "35000.0     34\n",
       "5724.0      33\n",
       "55000.0     31\n",
       "30000.0     16\n",
       "60000.0     14\n",
       "38000.0     10\n",
       "42000.0      8\n",
       "36000.0      8\n",
       "48000.0      7\n",
       "37000.0      6\n",
       "21203.0      6\n",
       "33000.0      5\n",
       "34000.0      5\n",
       "65000.0      4\n",
       "43000.0      4\n",
       "70000.0      4\n",
       "80000.0      4\n",
       "31000.0      4\n",
       "39000.0      3\n",
       "44000.0      3\n",
       "52000.0      3\n",
       "32000.0      2\n",
       "20000.0      2\n",
       "25000.0      2\n",
       "9600.0       2\n",
       "100000.0     2\n",
       "15600.0      2\n",
       "7200.0       2\n",
       "75000.0      2\n",
       "46000.0      2\n",
       "45500.0      1\n",
       "41000.0      1\n",
       "21622.0      1\n",
       "9984.0       1\n",
       "33789.0      1\n",
       "5000.0       1\n",
       "26000.0      1\n",
       "33600.0      1\n",
       "20511.0      1\n",
       "58000.0      1\n",
       "81600.0      1\n",
       "26937.0      1\n",
       "120000.0     1\n",
       "24000.0      1\n",
       "Name: count, dtype: int64"
      ]
     },
     "execution_count": 10,
     "metadata": {},
     "output_type": "execute_result"
    }
   ],
   "source": [
    "df_clean_nlp['salaire_min'].value_counts()"
   ]
  },
  {
   "cell_type": "code",
   "execution_count": 11,
   "metadata": {},
   "outputs": [
    {
     "name": "stdout",
     "output_type": "stream",
     "text": [
      "<class 'pandas.core.frame.DataFrame'>\n",
      "RangeIndex: 1693 entries, 0 to 1692\n",
      "Data columns (total 25 columns):\n",
      " #   Column            Non-Null Count  Dtype  \n",
      "---  ------            --------------  -----  \n",
      " 0   Id                1693 non-null   int64  \n",
      " 1   PublishDate       1693 non-null   object \n",
      " 2   Domaine           1693 non-null   object \n",
      " 3   OfferTitle        1693 non-null   object \n",
      " 4   OfferLabel        1693 non-null   object \n",
      " 5   ContractType      1693 non-null   object \n",
      " 6   IsFulltime        1693 non-null   bool   \n",
      " 7   Telework          1693 non-null   object \n",
      " 8   DisplayedSalary   1693 non-null   object \n",
      " 9   Description       1693 non-null   object \n",
      " 10  Profile           969 non-null    object \n",
      " 11  CompanyName       1693 non-null   object \n",
      " 12  CompanyLogo       1693 non-null   object \n",
      " 13  UrlOffre          1693 non-null   object \n",
      " 14  Pays              1693 non-null   object \n",
      " 15  Region            1693 non-null   object \n",
      " 16  Departement       1693 non-null   object \n",
      " 17  Ville             1693 non-null   object \n",
      " 18  CodePostal        1693 non-null   object \n",
      " 19  salaire_min       386 non-null    float64\n",
      " 20  salaire_max       386 non-null    float64\n",
      " 21  categorie_metier  1693 non-null   object \n",
      " 22  Competences_Clés  1693 non-null   object \n",
      " 23  Soft_Skills       1693 non-null   object \n",
      " 24  Outils            1693 non-null   object \n",
      "dtypes: bool(1), float64(2), int64(1), object(21)\n",
      "memory usage: 319.2+ KB\n"
     ]
    }
   ],
   "source": [
    "df_clean_nlp.info()"
   ]
  },
  {
   "cell_type": "code",
   "execution_count": 12,
   "metadata": {},
   "outputs": [
    {
     "data": {
      "text/plain": [
       "Departement\n",
       "['Paris']                                                                                                                                                                     408\n",
       "['Hauts-de-Seine']                                                                                                                                                            258\n",
       "['Rhône']                                                                                                                                                                     112\n",
       "['Nord']                                                                                                                                                                       82\n",
       "['Gironde']                                                                                                                                                                    76\n",
       "                                                                                                                                                                             ... \n",
       "['Ain']                                                                                                                                                                         1\n",
       "['Landes', 'Charente', 'Charente-Maritime', 'Corrèze', 'Creuse', 'Dordogne', 'Gironde', 'Lot-et-Garonne', 'Pyrénées-Atlantiques', 'Deux-Sèvres', 'Vienne', 'Haute-Vienne']      1\n",
       "['Aude']                                                                                                                                                                        1\n",
       "['Vosges']                                                                                                                                                                      1\n",
       "['Somme']                                                                                                                                                                       1\n",
       "Name: count, Length: 74, dtype: int64"
      ]
     },
     "execution_count": 12,
     "metadata": {},
     "output_type": "execute_result"
    }
   ],
   "source": [
    "df_clean_nlp['Departement'].value_counts()"
   ]
  }
 ],
 "metadata": {
  "kernelspec": {
   "display_name": "base",
   "language": "python",
   "name": "python3"
  },
  "language_info": {
   "codemirror_mode": {
    "name": "ipython",
    "version": 3
   },
   "file_extension": ".py",
   "mimetype": "text/x-python",
   "name": "python",
   "nbconvert_exporter": "python",
   "pygments_lexer": "ipython3",
   "version": "3.12.4"
  }
 },
 "nbformat": 4,
 "nbformat_minor": 2
}
