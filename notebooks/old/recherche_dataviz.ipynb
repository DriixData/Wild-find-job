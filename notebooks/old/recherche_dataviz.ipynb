{
 "cells": [
  {
   "cell_type": "markdown",
   "metadata": {},
   "source": [
    "# **Recherche de Dataviz pour Dashboard Streamlit**"
   ]
  },
  {
   "cell_type": "code",
   "execution_count": 1,
   "metadata": {},
   "outputs": [],
   "source": [
    "import pandas as pd\n",
    "\n",
    "dataviz = pd.read_csv(\"../data/datasets/brut/table_fictive_dataviz_jp.csv\")"
   ]
  },
  {
   "cell_type": "code",
   "execution_count": 2,
   "metadata": {},
   "outputs": [
    {
     "name": "stdout",
     "output_type": "stream",
     "text": [
      "<class 'pandas.core.frame.DataFrame'>\n",
      "RangeIndex: 100 entries, 0 to 99\n",
      "Data columns (total 14 columns):\n",
      " #   Column              Non-Null Count  Dtype \n",
      "---  ------              --------------  ----- \n",
      " 0   id_offre            100 non-null    object\n",
      " 1   titre_poste         100 non-null    object\n",
      " 2   entreprise          100 non-null    object\n",
      " 3   lieu                100 non-null    object\n",
      " 4   salaire             100 non-null    object\n",
      " 5   type_contrat        100 non-null    object\n",
      " 6   date_publication    100 non-null    object\n",
      " 7   description         100 non-null    object\n",
      " 8   lien_offre          100 non-null    object\n",
      " 9   télétravail         100 non-null    object\n",
      " 10  expérience_requise  100 non-null    object\n",
      " 11  compétences         100 non-null    object\n",
      " 12  secteur_activité    100 non-null    object\n",
      " 13  source              100 non-null    object\n",
      "dtypes: object(14)\n",
      "memory usage: 11.1+ KB\n"
     ]
    }
   ],
   "source": [
    "dataviz.info()"
   ]
  },
  {
   "cell_type": "markdown",
   "metadata": {},
   "source": [
    "## **Import des Bibliothèques nécessaires**"
   ]
  },
  {
   "cell_type": "code",
   "execution_count": 26,
   "metadata": {},
   "outputs": [],
   "source": [
    "import plotly.express as px\n",
    "import altair as alt\n",
    "import pydeck as pdk\n",
    "from bokeh.plotting import figure, output_file, show\n",
    "from bokeh.models import ColumnDataSource, HoverTool\n",
    "import streamlit as st\n",
    "import matplotlib.pyplot as plt\n",
    "import seaborn as sns\n",
    "import nbformat"
   ]
  },
  {
   "cell_type": "markdown",
   "metadata": {},
   "source": [
    "## **Bibliothèque Plotly**"
   ]
  },
  {
   "cell_type": "markdown",
   "metadata": {},
   "source": [
    "### Graphiques en barres"
   ]
  },
  {
   "cell_type": "code",
   "execution_count": 29,
   "metadata": {},
   "outputs": [
    {
     "ename": "ValueError",
     "evalue": "Mime type rendering requires nbformat>=4.2.0 but it is not installed",
     "output_type": "error",
     "traceback": [
      "\u001b[1;31m---------------------------------------------------------------------------\u001b[0m",
      "\u001b[1;31mValueError\u001b[0m                                Traceback (most recent call last)",
      "File \u001b[1;32md:\\BigPapaProject\\Anaconda\\envs\\api\\Lib\\site-packages\\IPython\\core\\formatters.py:984\u001b[0m, in \u001b[0;36mIPythonDisplayFormatter.__call__\u001b[1;34m(self, obj)\u001b[0m\n\u001b[0;32m    982\u001b[0m method \u001b[38;5;241m=\u001b[39m get_real_method(obj, \u001b[38;5;28mself\u001b[39m\u001b[38;5;241m.\u001b[39mprint_method)\n\u001b[0;32m    983\u001b[0m \u001b[38;5;28;01mif\u001b[39;00m method \u001b[38;5;129;01mis\u001b[39;00m \u001b[38;5;129;01mnot\u001b[39;00m \u001b[38;5;28;01mNone\u001b[39;00m:\n\u001b[1;32m--> 984\u001b[0m     \u001b[43mmethod\u001b[49m\u001b[43m(\u001b[49m\u001b[43m)\u001b[49m\n\u001b[0;32m    985\u001b[0m     \u001b[38;5;28;01mreturn\u001b[39;00m \u001b[38;5;28;01mTrue\u001b[39;00m\n",
      "File \u001b[1;32md:\\BigPapaProject\\Anaconda\\envs\\api\\Lib\\site-packages\\plotly\\basedatatypes.py:833\u001b[0m, in \u001b[0;36mBaseFigure._ipython_display_\u001b[1;34m(self)\u001b[0m\n\u001b[0;32m    830\u001b[0m \u001b[38;5;28;01mimport\u001b[39;00m\u001b[38;5;250m \u001b[39m\u001b[38;5;21;01mplotly\u001b[39;00m\u001b[38;5;21;01m.\u001b[39;00m\u001b[38;5;21;01mio\u001b[39;00m\u001b[38;5;250m \u001b[39m\u001b[38;5;28;01mas\u001b[39;00m\u001b[38;5;250m \u001b[39m\u001b[38;5;21;01mpio\u001b[39;00m\n\u001b[0;32m    832\u001b[0m \u001b[38;5;28;01mif\u001b[39;00m pio\u001b[38;5;241m.\u001b[39mrenderers\u001b[38;5;241m.\u001b[39mrender_on_display \u001b[38;5;129;01mand\u001b[39;00m pio\u001b[38;5;241m.\u001b[39mrenderers\u001b[38;5;241m.\u001b[39mdefault:\n\u001b[1;32m--> 833\u001b[0m     \u001b[43mpio\u001b[49m\u001b[38;5;241;43m.\u001b[39;49m\u001b[43mshow\u001b[49m\u001b[43m(\u001b[49m\u001b[38;5;28;43mself\u001b[39;49m\u001b[43m)\u001b[49m\n\u001b[0;32m    834\u001b[0m \u001b[38;5;28;01melse\u001b[39;00m:\n\u001b[0;32m    835\u001b[0m     \u001b[38;5;28mprint\u001b[39m(\u001b[38;5;28mrepr\u001b[39m(\u001b[38;5;28mself\u001b[39m))\n",
      "File \u001b[1;32md:\\BigPapaProject\\Anaconda\\envs\\api\\Lib\\site-packages\\plotly\\io\\_renderers.py:425\u001b[0m, in \u001b[0;36mshow\u001b[1;34m(fig, renderer, validate, **kwargs)\u001b[0m\n\u001b[0;32m    420\u001b[0m     \u001b[38;5;28;01mraise\u001b[39;00m \u001b[38;5;167;01mValueError\u001b[39;00m(\n\u001b[0;32m    421\u001b[0m         \u001b[38;5;124m\"\u001b[39m\u001b[38;5;124mMime type rendering requires ipython but it is not installed\u001b[39m\u001b[38;5;124m\"\u001b[39m\n\u001b[0;32m    422\u001b[0m     )\n\u001b[0;32m    424\u001b[0m \u001b[38;5;28;01mif\u001b[39;00m \u001b[38;5;129;01mnot\u001b[39;00m nbformat \u001b[38;5;129;01mor\u001b[39;00m Version(nbformat\u001b[38;5;241m.\u001b[39m__version__) \u001b[38;5;241m<\u001b[39m Version(\u001b[38;5;124m\"\u001b[39m\u001b[38;5;124m4.2.0\u001b[39m\u001b[38;5;124m\"\u001b[39m):\n\u001b[1;32m--> 425\u001b[0m     \u001b[38;5;28;01mraise\u001b[39;00m \u001b[38;5;167;01mValueError\u001b[39;00m(\n\u001b[0;32m    426\u001b[0m         \u001b[38;5;124m\"\u001b[39m\u001b[38;5;124mMime type rendering requires nbformat>=4.2.0 but it is not installed\u001b[39m\u001b[38;5;124m\"\u001b[39m\n\u001b[0;32m    427\u001b[0m     )\n\u001b[0;32m    429\u001b[0m display_jupyter_version_warnings()\n\u001b[0;32m    431\u001b[0m ipython_display\u001b[38;5;241m.\u001b[39mdisplay(bundle, raw\u001b[38;5;241m=\u001b[39m\u001b[38;5;28;01mTrue\u001b[39;00m)\n",
      "\u001b[1;31mValueError\u001b[0m: Mime type rendering requires nbformat>=4.2.0 but it is not installed"
     ]
    },
    {
     "data": {
      "application/vnd.plotly.v1+json": {
       "config": {
        "plotlyServerURL": "https://plot.ly"
       },
       "data": [
        {
         "hovertemplate": "secteur_activité=%{x}<br>count=%{y}<extra></extra>",
         "legendgroup": "Énergie",
         "marker": {
          "color": "rgb(247,251,255)",
          "pattern": {
           "shape": ""
          }
         },
         "name": "Énergie",
         "orientation": "v",
         "showlegend": true,
         "textposition": "auto",
         "type": "bar",
         "x": [
          "Énergie",
          "Énergie",
          "Énergie",
          "Énergie",
          "Énergie",
          "Énergie",
          "Énergie",
          "Énergie",
          "Énergie",
          "Énergie",
          "Énergie",
          "Énergie",
          "Énergie"
         ],
         "xaxis": "x",
         "y": {
          "bdata": "AQEBAQEBAQEBAQEBAQ==",
          "dtype": "i1"
         },
         "yaxis": "y"
        },
        {
         "hovertemplate": "secteur_activité=%{x}<br>count=%{y}<extra></extra>",
         "legendgroup": "Consulting",
         "marker": {
          "color": "rgb(222,235,247)",
          "pattern": {
           "shape": ""
          }
         },
         "name": "Consulting",
         "orientation": "v",
         "showlegend": true,
         "textposition": "auto",
         "type": "bar",
         "x": [
          "Consulting",
          "Consulting",
          "Consulting",
          "Consulting",
          "Consulting",
          "Consulting",
          "Consulting",
          "Consulting",
          "Consulting",
          "Consulting",
          "Consulting",
          "Consulting",
          "Consulting",
          "Consulting",
          "Consulting",
          "Consulting"
         ],
         "xaxis": "x",
         "y": {
          "bdata": "AQEBAQEBAQEBAQEBAQEBAQ==",
          "dtype": "i1"
         },
         "yaxis": "y"
        },
        {
         "hovertemplate": "secteur_activité=%{x}<br>count=%{y}<extra></extra>",
         "legendgroup": "Finance",
         "marker": {
          "color": "rgb(198,219,239)",
          "pattern": {
           "shape": ""
          }
         },
         "name": "Finance",
         "orientation": "v",
         "showlegend": true,
         "textposition": "auto",
         "type": "bar",
         "x": [
          "Finance",
          "Finance",
          "Finance",
          "Finance",
          "Finance",
          "Finance",
          "Finance",
          "Finance",
          "Finance",
          "Finance",
          "Finance",
          "Finance",
          "Finance"
         ],
         "xaxis": "x",
         "y": {
          "bdata": "AQEBAQEBAQEBAQEBAQ==",
          "dtype": "i1"
         },
         "yaxis": "y"
        },
        {
         "hovertemplate": "secteur_activité=%{x}<br>count=%{y}<extra></extra>",
         "legendgroup": "Télécom",
         "marker": {
          "color": "rgb(158,202,225)",
          "pattern": {
           "shape": ""
          }
         },
         "name": "Télécom",
         "orientation": "v",
         "showlegend": true,
         "textposition": "auto",
         "type": "bar",
         "x": [
          "Télécom",
          "Télécom",
          "Télécom",
          "Télécom",
          "Télécom",
          "Télécom",
          "Télécom",
          "Télécom",
          "Télécom",
          "Télécom",
          "Télécom",
          "Télécom",
          "Télécom",
          "Télécom"
         ],
         "xaxis": "x",
         "y": {
          "bdata": "AQEBAQEBAQEBAQEBAQE=",
          "dtype": "i1"
         },
         "yaxis": "y"
        },
        {
         "hovertemplate": "secteur_activité=%{x}<br>count=%{y}<extra></extra>",
         "legendgroup": "Santé",
         "marker": {
          "color": "rgb(107,174,214)",
          "pattern": {
           "shape": ""
          }
         },
         "name": "Santé",
         "orientation": "v",
         "showlegend": true,
         "textposition": "auto",
         "type": "bar",
         "x": [
          "Santé",
          "Santé",
          "Santé",
          "Santé",
          "Santé",
          "Santé",
          "Santé",
          "Santé",
          "Santé",
          "Santé",
          "Santé"
         ],
         "xaxis": "x",
         "y": {
          "bdata": "AQEBAQEBAQEBAQE=",
          "dtype": "i1"
         },
         "yaxis": "y"
        },
        {
         "hovertemplate": "secteur_activité=%{x}<br>count=%{y}<extra></extra>",
         "legendgroup": "E-commerce",
         "marker": {
          "color": "rgb(66,146,198)",
          "pattern": {
           "shape": ""
          }
         },
         "name": "E-commerce",
         "orientation": "v",
         "showlegend": true,
         "textposition": "auto",
         "type": "bar",
         "x": [
          "E-commerce",
          "E-commerce",
          "E-commerce",
          "E-commerce",
          "E-commerce",
          "E-commerce",
          "E-commerce",
          "E-commerce",
          "E-commerce",
          "E-commerce",
          "E-commerce",
          "E-commerce",
          "E-commerce",
          "E-commerce",
          "E-commerce",
          "E-commerce",
          "E-commerce",
          "E-commerce",
          "E-commerce",
          "E-commerce"
         ],
         "xaxis": "x",
         "y": {
          "bdata": "AQEBAQEBAQEBAQEBAQEBAQEBAQE=",
          "dtype": "i1"
         },
         "yaxis": "y"
        },
        {
         "hovertemplate": "secteur_activité=%{x}<br>count=%{y}<extra></extra>",
         "legendgroup": "IA",
         "marker": {
          "color": "rgb(33,113,181)",
          "pattern": {
           "shape": ""
          }
         },
         "name": "IA",
         "orientation": "v",
         "showlegend": true,
         "textposition": "auto",
         "type": "bar",
         "x": [
          "IA",
          "IA",
          "IA",
          "IA",
          "IA",
          "IA",
          "IA",
          "IA",
          "IA",
          "IA",
          "IA",
          "IA",
          "IA"
         ],
         "xaxis": "x",
         "y": {
          "bdata": "AQEBAQEBAQEBAQEBAQ==",
          "dtype": "i1"
         },
         "yaxis": "y"
        }
       ],
       "layout": {
        "barmode": "relative",
        "legend": {
         "title": {
          "text": "secteur_activité"
         },
         "tracegroupgap": 0
        },
        "template": {
         "data": {
          "candlestick": [
           {
            "decreasing": {
             "line": {
              "color": "#000033"
             }
            },
            "increasing": {
             "line": {
              "color": "#000032"
             }
            },
            "type": "candlestick"
           }
          ],
          "contour": [
           {
            "colorscale": [
             [
              0,
              "#000011"
             ],
             [
              0.1111111111111111,
              "#000012"
             ],
             [
              0.2222222222222222,
              "#000013"
             ],
             [
              0.3333333333333333,
              "#000014"
             ],
             [
              0.4444444444444444,
              "#000015"
             ],
             [
              0.5555555555555556,
              "#000016"
             ],
             [
              0.6666666666666666,
              "#000017"
             ],
             [
              0.7777777777777778,
              "#000018"
             ],
             [
              0.8888888888888888,
              "#000019"
             ],
             [
              1,
              "#000020"
             ]
            ],
            "type": "contour"
           }
          ],
          "contourcarpet": [
           {
            "colorscale": [
             [
              0,
              "#000011"
             ],
             [
              0.1111111111111111,
              "#000012"
             ],
             [
              0.2222222222222222,
              "#000013"
             ],
             [
              0.3333333333333333,
              "#000014"
             ],
             [
              0.4444444444444444,
              "#000015"
             ],
             [
              0.5555555555555556,
              "#000016"
             ],
             [
              0.6666666666666666,
              "#000017"
             ],
             [
              0.7777777777777778,
              "#000018"
             ],
             [
              0.8888888888888888,
              "#000019"
             ],
             [
              1,
              "#000020"
             ]
            ],
            "type": "contourcarpet"
           }
          ],
          "heatmap": [
           {
            "colorscale": [
             [
              0,
              "#000011"
             ],
             [
              0.1111111111111111,
              "#000012"
             ],
             [
              0.2222222222222222,
              "#000013"
             ],
             [
              0.3333333333333333,
              "#000014"
             ],
             [
              0.4444444444444444,
              "#000015"
             ],
             [
              0.5555555555555556,
              "#000016"
             ],
             [
              0.6666666666666666,
              "#000017"
             ],
             [
              0.7777777777777778,
              "#000018"
             ],
             [
              0.8888888888888888,
              "#000019"
             ],
             [
              1,
              "#000020"
             ]
            ],
            "type": "heatmap"
           }
          ],
          "histogram2d": [
           {
            "colorscale": [
             [
              0,
              "#000011"
             ],
             [
              0.1111111111111111,
              "#000012"
             ],
             [
              0.2222222222222222,
              "#000013"
             ],
             [
              0.3333333333333333,
              "#000014"
             ],
             [
              0.4444444444444444,
              "#000015"
             ],
             [
              0.5555555555555556,
              "#000016"
             ],
             [
              0.6666666666666666,
              "#000017"
             ],
             [
              0.7777777777777778,
              "#000018"
             ],
             [
              0.8888888888888888,
              "#000019"
             ],
             [
              1,
              "#000020"
             ]
            ],
            "type": "histogram2d"
           }
          ],
          "icicle": [
           {
            "textfont": {
             "color": "white"
            },
            "type": "icicle"
           }
          ],
          "sankey": [
           {
            "textfont": {
             "color": "#000036"
            },
            "type": "sankey"
           }
          ],
          "scatter": [
           {
            "marker": {
             "line": {
              "width": 0
             }
            },
            "type": "scatter"
           }
          ],
          "table": [
           {
            "cells": {
             "fill": {
              "color": "#000038"
             },
             "font": {
              "color": "#000037"
             },
             "line": {
              "color": "#000039"
             }
            },
            "header": {
             "fill": {
              "color": "#000040"
             },
             "font": {
              "color": "#000036"
             },
             "line": {
              "color": "#000039"
             }
            },
            "type": "table"
           }
          ],
          "waterfall": [
           {
            "connector": {
             "line": {
              "color": "#000036",
              "width": 2
             }
            },
            "decreasing": {
             "marker": {
              "color": "#000033"
             }
            },
            "increasing": {
             "marker": {
              "color": "#000032"
             }
            },
            "totals": {
             "marker": {
              "color": "#000034"
             }
            },
            "type": "waterfall"
           }
          ]
         },
         "layout": {
          "coloraxis": {
           "colorscale": [
            [
             0,
             "#000011"
            ],
            [
             0.1111111111111111,
             "#000012"
            ],
            [
             0.2222222222222222,
             "#000013"
            ],
            [
             0.3333333333333333,
             "#000014"
            ],
            [
             0.4444444444444444,
             "#000015"
            ],
            [
             0.5555555555555556,
             "#000016"
            ],
            [
             0.6666666666666666,
             "#000017"
            ],
            [
             0.7777777777777778,
             "#000018"
            ],
            [
             0.8888888888888888,
             "#000019"
            ],
            [
             1,
             "#000020"
            ]
           ]
          },
          "colorscale": {
           "diverging": [
            [
             0,
             "#000021"
            ],
            [
             0.1,
             "#000022"
            ],
            [
             0.2,
             "#000023"
            ],
            [
             0.3,
             "#000024"
            ],
            [
             0.4,
             "#000025"
            ],
            [
             0.5,
             "#000026"
            ],
            [
             0.6,
             "#000027"
            ],
            [
             0.7,
             "#000028"
            ],
            [
             0.8,
             "#000029"
            ],
            [
             0.9,
             "#000030"
            ],
            [
             1,
             "#000031"
            ]
           ],
           "sequential": [
            [
             0,
             "#000011"
            ],
            [
             0.1111111111111111,
             "#000012"
            ],
            [
             0.2222222222222222,
             "#000013"
            ],
            [
             0.3333333333333333,
             "#000014"
            ],
            [
             0.4444444444444444,
             "#000015"
            ],
            [
             0.5555555555555556,
             "#000016"
            ],
            [
             0.6666666666666666,
             "#000017"
            ],
            [
             0.7777777777777778,
             "#000018"
            ],
            [
             0.8888888888888888,
             "#000019"
            ],
            [
             1,
             "#000020"
            ]
           ],
           "sequentialminus": [
            [
             0,
             "#000011"
            ],
            [
             0.1111111111111111,
             "#000012"
            ],
            [
             0.2222222222222222,
             "#000013"
            ],
            [
             0.3333333333333333,
             "#000014"
            ],
            [
             0.4444444444444444,
             "#000015"
            ],
            [
             0.5555555555555556,
             "#000016"
            ],
            [
             0.6666666666666666,
             "#000017"
            ],
            [
             0.7777777777777778,
             "#000018"
            ],
            [
             0.8888888888888888,
             "#000019"
            ],
            [
             1,
             "#000020"
            ]
           ]
          },
          "colorway": [
           "#000001",
           "#000002",
           "#000003",
           "#000004",
           "#000005",
           "#000006",
           "#000007",
           "#000008",
           "#000009",
           "#000010"
          ]
         }
        },
        "title": {
         "text": "Nombre d'offres par secteur"
        },
        "xaxis": {
         "anchor": "y",
         "categoryarray": [
          "Énergie",
          "Consulting",
          "Finance",
          "Télécom",
          "Santé",
          "E-commerce",
          "IA"
         ],
         "categoryorder": "array",
         "domain": [
          0,
          1
         ],
         "title": {
          "text": "secteur_activité"
         }
        },
        "yaxis": {
         "anchor": "x",
         "domain": [
          0,
          1
         ],
         "title": {
          "text": "count"
         }
        }
       }
      },
      "text/html": [
       "<div>                        <script type=\"text/javascript\">window.PlotlyConfig = {MathJaxConfig: 'local'};</script>\n",
       "        <script charset=\"utf-8\" src=\"https://cdn.plot.ly/plotly-3.0.0.min.js\"></script>                <div id=\"6b41aa2c-a12e-401a-ac90-fbb271926e27\" class=\"plotly-graph-div\" style=\"height:100%; width:100%;\"></div>            <script type=\"text/javascript\">                window.PLOTLYENV=window.PLOTLYENV || {};                                if (document.getElementById(\"6b41aa2c-a12e-401a-ac90-fbb271926e27\")) {                    Plotly.newPlot(                        \"6b41aa2c-a12e-401a-ac90-fbb271926e27\",                        [{\"hovertemplate\":\"secteur_activit\\u00e9=%{x}\\u003cbr\\u003ecount=%{y}\\u003cextra\\u003e\\u003c\\u002fextra\\u003e\",\"legendgroup\":\"\\u00c9nergie\",\"marker\":{\"color\":\"rgb(247,251,255)\",\"pattern\":{\"shape\":\"\"}},\"name\":\"\\u00c9nergie\",\"orientation\":\"v\",\"showlegend\":true,\"textposition\":\"auto\",\"x\":[\"\\u00c9nergie\",\"\\u00c9nergie\",\"\\u00c9nergie\",\"\\u00c9nergie\",\"\\u00c9nergie\",\"\\u00c9nergie\",\"\\u00c9nergie\",\"\\u00c9nergie\",\"\\u00c9nergie\",\"\\u00c9nergie\",\"\\u00c9nergie\",\"\\u00c9nergie\",\"\\u00c9nergie\"],\"xaxis\":\"x\",\"y\":{\"dtype\":\"i1\",\"bdata\":\"AQEBAQEBAQEBAQEBAQ==\"},\"yaxis\":\"y\",\"type\":\"bar\"},{\"hovertemplate\":\"secteur_activit\\u00e9=%{x}\\u003cbr\\u003ecount=%{y}\\u003cextra\\u003e\\u003c\\u002fextra\\u003e\",\"legendgroup\":\"Consulting\",\"marker\":{\"color\":\"rgb(222,235,247)\",\"pattern\":{\"shape\":\"\"}},\"name\":\"Consulting\",\"orientation\":\"v\",\"showlegend\":true,\"textposition\":\"auto\",\"x\":[\"Consulting\",\"Consulting\",\"Consulting\",\"Consulting\",\"Consulting\",\"Consulting\",\"Consulting\",\"Consulting\",\"Consulting\",\"Consulting\",\"Consulting\",\"Consulting\",\"Consulting\",\"Consulting\",\"Consulting\",\"Consulting\"],\"xaxis\":\"x\",\"y\":{\"dtype\":\"i1\",\"bdata\":\"AQEBAQEBAQEBAQEBAQEBAQ==\"},\"yaxis\":\"y\",\"type\":\"bar\"},{\"hovertemplate\":\"secteur_activit\\u00e9=%{x}\\u003cbr\\u003ecount=%{y}\\u003cextra\\u003e\\u003c\\u002fextra\\u003e\",\"legendgroup\":\"Finance\",\"marker\":{\"color\":\"rgb(198,219,239)\",\"pattern\":{\"shape\":\"\"}},\"name\":\"Finance\",\"orientation\":\"v\",\"showlegend\":true,\"textposition\":\"auto\",\"x\":[\"Finance\",\"Finance\",\"Finance\",\"Finance\",\"Finance\",\"Finance\",\"Finance\",\"Finance\",\"Finance\",\"Finance\",\"Finance\",\"Finance\",\"Finance\"],\"xaxis\":\"x\",\"y\":{\"dtype\":\"i1\",\"bdata\":\"AQEBAQEBAQEBAQEBAQ==\"},\"yaxis\":\"y\",\"type\":\"bar\"},{\"hovertemplate\":\"secteur_activit\\u00e9=%{x}\\u003cbr\\u003ecount=%{y}\\u003cextra\\u003e\\u003c\\u002fextra\\u003e\",\"legendgroup\":\"T\\u00e9l\\u00e9com\",\"marker\":{\"color\":\"rgb(158,202,225)\",\"pattern\":{\"shape\":\"\"}},\"name\":\"T\\u00e9l\\u00e9com\",\"orientation\":\"v\",\"showlegend\":true,\"textposition\":\"auto\",\"x\":[\"T\\u00e9l\\u00e9com\",\"T\\u00e9l\\u00e9com\",\"T\\u00e9l\\u00e9com\",\"T\\u00e9l\\u00e9com\",\"T\\u00e9l\\u00e9com\",\"T\\u00e9l\\u00e9com\",\"T\\u00e9l\\u00e9com\",\"T\\u00e9l\\u00e9com\",\"T\\u00e9l\\u00e9com\",\"T\\u00e9l\\u00e9com\",\"T\\u00e9l\\u00e9com\",\"T\\u00e9l\\u00e9com\",\"T\\u00e9l\\u00e9com\",\"T\\u00e9l\\u00e9com\"],\"xaxis\":\"x\",\"y\":{\"dtype\":\"i1\",\"bdata\":\"AQEBAQEBAQEBAQEBAQE=\"},\"yaxis\":\"y\",\"type\":\"bar\"},{\"hovertemplate\":\"secteur_activit\\u00e9=%{x}\\u003cbr\\u003ecount=%{y}\\u003cextra\\u003e\\u003c\\u002fextra\\u003e\",\"legendgroup\":\"Sant\\u00e9\",\"marker\":{\"color\":\"rgb(107,174,214)\",\"pattern\":{\"shape\":\"\"}},\"name\":\"Sant\\u00e9\",\"orientation\":\"v\",\"showlegend\":true,\"textposition\":\"auto\",\"x\":[\"Sant\\u00e9\",\"Sant\\u00e9\",\"Sant\\u00e9\",\"Sant\\u00e9\",\"Sant\\u00e9\",\"Sant\\u00e9\",\"Sant\\u00e9\",\"Sant\\u00e9\",\"Sant\\u00e9\",\"Sant\\u00e9\",\"Sant\\u00e9\"],\"xaxis\":\"x\",\"y\":{\"dtype\":\"i1\",\"bdata\":\"AQEBAQEBAQEBAQE=\"},\"yaxis\":\"y\",\"type\":\"bar\"},{\"hovertemplate\":\"secteur_activit\\u00e9=%{x}\\u003cbr\\u003ecount=%{y}\\u003cextra\\u003e\\u003c\\u002fextra\\u003e\",\"legendgroup\":\"E-commerce\",\"marker\":{\"color\":\"rgb(66,146,198)\",\"pattern\":{\"shape\":\"\"}},\"name\":\"E-commerce\",\"orientation\":\"v\",\"showlegend\":true,\"textposition\":\"auto\",\"x\":[\"E-commerce\",\"E-commerce\",\"E-commerce\",\"E-commerce\",\"E-commerce\",\"E-commerce\",\"E-commerce\",\"E-commerce\",\"E-commerce\",\"E-commerce\",\"E-commerce\",\"E-commerce\",\"E-commerce\",\"E-commerce\",\"E-commerce\",\"E-commerce\",\"E-commerce\",\"E-commerce\",\"E-commerce\",\"E-commerce\"],\"xaxis\":\"x\",\"y\":{\"dtype\":\"i1\",\"bdata\":\"AQEBAQEBAQEBAQEBAQEBAQEBAQE=\"},\"yaxis\":\"y\",\"type\":\"bar\"},{\"hovertemplate\":\"secteur_activit\\u00e9=%{x}\\u003cbr\\u003ecount=%{y}\\u003cextra\\u003e\\u003c\\u002fextra\\u003e\",\"legendgroup\":\"IA\",\"marker\":{\"color\":\"rgb(33,113,181)\",\"pattern\":{\"shape\":\"\"}},\"name\":\"IA\",\"orientation\":\"v\",\"showlegend\":true,\"textposition\":\"auto\",\"x\":[\"IA\",\"IA\",\"IA\",\"IA\",\"IA\",\"IA\",\"IA\",\"IA\",\"IA\",\"IA\",\"IA\",\"IA\",\"IA\"],\"xaxis\":\"x\",\"y\":{\"dtype\":\"i1\",\"bdata\":\"AQEBAQEBAQEBAQEBAQ==\"},\"yaxis\":\"y\",\"type\":\"bar\"}],                        {\"template\":{\"data\":{\"candlestick\":[{\"decreasing\":{\"line\":{\"color\":\"#000033\"}},\"increasing\":{\"line\":{\"color\":\"#000032\"}},\"type\":\"candlestick\"}],\"contourcarpet\":[{\"colorscale\":[[0.0,\"#000011\"],[0.1111111111111111,\"#000012\"],[0.2222222222222222,\"#000013\"],[0.3333333333333333,\"#000014\"],[0.4444444444444444,\"#000015\"],[0.5555555555555556,\"#000016\"],[0.6666666666666666,\"#000017\"],[0.7777777777777778,\"#000018\"],[0.8888888888888888,\"#000019\"],[1.0,\"#000020\"]],\"type\":\"contourcarpet\"}],\"contour\":[{\"colorscale\":[[0.0,\"#000011\"],[0.1111111111111111,\"#000012\"],[0.2222222222222222,\"#000013\"],[0.3333333333333333,\"#000014\"],[0.4444444444444444,\"#000015\"],[0.5555555555555556,\"#000016\"],[0.6666666666666666,\"#000017\"],[0.7777777777777778,\"#000018\"],[0.8888888888888888,\"#000019\"],[1.0,\"#000020\"]],\"type\":\"contour\"}],\"heatmap\":[{\"colorscale\":[[0.0,\"#000011\"],[0.1111111111111111,\"#000012\"],[0.2222222222222222,\"#000013\"],[0.3333333333333333,\"#000014\"],[0.4444444444444444,\"#000015\"],[0.5555555555555556,\"#000016\"],[0.6666666666666666,\"#000017\"],[0.7777777777777778,\"#000018\"],[0.8888888888888888,\"#000019\"],[1.0,\"#000020\"]],\"type\":\"heatmap\"}],\"histogram2d\":[{\"colorscale\":[[0.0,\"#000011\"],[0.1111111111111111,\"#000012\"],[0.2222222222222222,\"#000013\"],[0.3333333333333333,\"#000014\"],[0.4444444444444444,\"#000015\"],[0.5555555555555556,\"#000016\"],[0.6666666666666666,\"#000017\"],[0.7777777777777778,\"#000018\"],[0.8888888888888888,\"#000019\"],[1.0,\"#000020\"]],\"type\":\"histogram2d\"}],\"icicle\":[{\"textfont\":{\"color\":\"white\"},\"type\":\"icicle\"}],\"sankey\":[{\"textfont\":{\"color\":\"#000036\"},\"type\":\"sankey\"}],\"scatter\":[{\"marker\":{\"line\":{\"width\":0}},\"type\":\"scatter\"}],\"table\":[{\"cells\":{\"fill\":{\"color\":\"#000038\"},\"font\":{\"color\":\"#000037\"},\"line\":{\"color\":\"#000039\"}},\"header\":{\"fill\":{\"color\":\"#000040\"},\"font\":{\"color\":\"#000036\"},\"line\":{\"color\":\"#000039\"}},\"type\":\"table\"}],\"waterfall\":[{\"connector\":{\"line\":{\"color\":\"#000036\",\"width\":2}},\"decreasing\":{\"marker\":{\"color\":\"#000033\"}},\"increasing\":{\"marker\":{\"color\":\"#000032\"}},\"totals\":{\"marker\":{\"color\":\"#000034\"}},\"type\":\"waterfall\"}]},\"layout\":{\"coloraxis\":{\"colorscale\":[[0.0,\"#000011\"],[0.1111111111111111,\"#000012\"],[0.2222222222222222,\"#000013\"],[0.3333333333333333,\"#000014\"],[0.4444444444444444,\"#000015\"],[0.5555555555555556,\"#000016\"],[0.6666666666666666,\"#000017\"],[0.7777777777777778,\"#000018\"],[0.8888888888888888,\"#000019\"],[1.0,\"#000020\"]]},\"colorscale\":{\"diverging\":[[0.0,\"#000021\"],[0.1,\"#000022\"],[0.2,\"#000023\"],[0.3,\"#000024\"],[0.4,\"#000025\"],[0.5,\"#000026\"],[0.6,\"#000027\"],[0.7,\"#000028\"],[0.8,\"#000029\"],[0.9,\"#000030\"],[1.0,\"#000031\"]],\"sequential\":[[0.0,\"#000011\"],[0.1111111111111111,\"#000012\"],[0.2222222222222222,\"#000013\"],[0.3333333333333333,\"#000014\"],[0.4444444444444444,\"#000015\"],[0.5555555555555556,\"#000016\"],[0.6666666666666666,\"#000017\"],[0.7777777777777778,\"#000018\"],[0.8888888888888888,\"#000019\"],[1.0,\"#000020\"]],\"sequentialminus\":[[0.0,\"#000011\"],[0.1111111111111111,\"#000012\"],[0.2222222222222222,\"#000013\"],[0.3333333333333333,\"#000014\"],[0.4444444444444444,\"#000015\"],[0.5555555555555556,\"#000016\"],[0.6666666666666666,\"#000017\"],[0.7777777777777778,\"#000018\"],[0.8888888888888888,\"#000019\"],[1.0,\"#000020\"]]},\"colorway\":[\"#000001\",\"#000002\",\"#000003\",\"#000004\",\"#000005\",\"#000006\",\"#000007\",\"#000008\",\"#000009\",\"#000010\"]}},\"xaxis\":{\"anchor\":\"y\",\"domain\":[0.0,1.0],\"title\":{\"text\":\"secteur_activit\\u00e9\"},\"categoryorder\":\"array\",\"categoryarray\":[\"\\u00c9nergie\",\"Consulting\",\"Finance\",\"T\\u00e9l\\u00e9com\",\"Sant\\u00e9\",\"E-commerce\",\"IA\"]},\"yaxis\":{\"anchor\":\"x\",\"domain\":[0.0,1.0],\"title\":{\"text\":\"count\"}},\"legend\":{\"title\":{\"text\":\"secteur_activit\\u00e9\"},\"tracegroupgap\":0},\"title\":{\"text\":\"Nombre d'offres par secteur\"},\"barmode\":\"relative\"},                        {\"responsive\": true}                    )                };            </script>        </div>"
      ],
      "text/plain": [
       "Figure({\n",
       "    'data': [{'hovertemplate': 'secteur_activité=%{x}<br>count=%{y}<extra></extra>',\n",
       "              'legendgroup': 'Énergie',\n",
       "              'marker': {'color': 'rgb(247,251,255)', 'pattern': {'shape': ''}},\n",
       "              'name': 'Énergie',\n",
       "              'orientation': 'v',\n",
       "              'showlegend': True,\n",
       "              'textposition': 'auto',\n",
       "              'type': 'bar',\n",
       "              'x': array(['Énergie', 'Énergie', 'Énergie', 'Énergie', 'Énergie', 'Énergie',\n",
       "                          'Énergie', 'Énergie', 'Énergie', 'Énergie', 'Énergie', 'Énergie',\n",
       "                          'Énergie'], dtype=object),\n",
       "              'xaxis': 'x',\n",
       "              'y': {'bdata': 'AQEBAQEBAQEBAQEBAQ==', 'dtype': 'i1'},\n",
       "              'yaxis': 'y'},\n",
       "             {'hovertemplate': 'secteur_activité=%{x}<br>count=%{y}<extra></extra>',\n",
       "              'legendgroup': 'Consulting',\n",
       "              'marker': {'color': 'rgb(222,235,247)', 'pattern': {'shape': ''}},\n",
       "              'name': 'Consulting',\n",
       "              'orientation': 'v',\n",
       "              'showlegend': True,\n",
       "              'textposition': 'auto',\n",
       "              'type': 'bar',\n",
       "              'x': array(['Consulting', 'Consulting', 'Consulting', 'Consulting', 'Consulting',\n",
       "                          'Consulting', 'Consulting', 'Consulting', 'Consulting', 'Consulting',\n",
       "                          'Consulting', 'Consulting', 'Consulting', 'Consulting', 'Consulting',\n",
       "                          'Consulting'], dtype=object),\n",
       "              'xaxis': 'x',\n",
       "              'y': {'bdata': 'AQEBAQEBAQEBAQEBAQEBAQ==', 'dtype': 'i1'},\n",
       "              'yaxis': 'y'},\n",
       "             {'hovertemplate': 'secteur_activité=%{x}<br>count=%{y}<extra></extra>',\n",
       "              'legendgroup': 'Finance',\n",
       "              'marker': {'color': 'rgb(198,219,239)', 'pattern': {'shape': ''}},\n",
       "              'name': 'Finance',\n",
       "              'orientation': 'v',\n",
       "              'showlegend': True,\n",
       "              'textposition': 'auto',\n",
       "              'type': 'bar',\n",
       "              'x': array(['Finance', 'Finance', 'Finance', 'Finance', 'Finance', 'Finance',\n",
       "                          'Finance', 'Finance', 'Finance', 'Finance', 'Finance', 'Finance',\n",
       "                          'Finance'], dtype=object),\n",
       "              'xaxis': 'x',\n",
       "              'y': {'bdata': 'AQEBAQEBAQEBAQEBAQ==', 'dtype': 'i1'},\n",
       "              'yaxis': 'y'},\n",
       "             {'hovertemplate': 'secteur_activité=%{x}<br>count=%{y}<extra></extra>',\n",
       "              'legendgroup': 'Télécom',\n",
       "              'marker': {'color': 'rgb(158,202,225)', 'pattern': {'shape': ''}},\n",
       "              'name': 'Télécom',\n",
       "              'orientation': 'v',\n",
       "              'showlegend': True,\n",
       "              'textposition': 'auto',\n",
       "              'type': 'bar',\n",
       "              'x': array(['Télécom', 'Télécom', 'Télécom', 'Télécom', 'Télécom', 'Télécom',\n",
       "                          'Télécom', 'Télécom', 'Télécom', 'Télécom', 'Télécom', 'Télécom',\n",
       "                          'Télécom', 'Télécom'], dtype=object),\n",
       "              'xaxis': 'x',\n",
       "              'y': {'bdata': 'AQEBAQEBAQEBAQEBAQE=', 'dtype': 'i1'},\n",
       "              'yaxis': 'y'},\n",
       "             {'hovertemplate': 'secteur_activité=%{x}<br>count=%{y}<extra></extra>',\n",
       "              'legendgroup': 'Santé',\n",
       "              'marker': {'color': 'rgb(107,174,214)', 'pattern': {'shape': ''}},\n",
       "              'name': 'Santé',\n",
       "              'orientation': 'v',\n",
       "              'showlegend': True,\n",
       "              'textposition': 'auto',\n",
       "              'type': 'bar',\n",
       "              'x': array(['Santé', 'Santé', 'Santé', 'Santé', 'Santé', 'Santé', 'Santé', 'Santé',\n",
       "                          'Santé', 'Santé', 'Santé'], dtype=object),\n",
       "              'xaxis': 'x',\n",
       "              'y': {'bdata': 'AQEBAQEBAQEBAQE=', 'dtype': 'i1'},\n",
       "              'yaxis': 'y'},\n",
       "             {'hovertemplate': 'secteur_activité=%{x}<br>count=%{y}<extra></extra>',\n",
       "              'legendgroup': 'E-commerce',\n",
       "              'marker': {'color': 'rgb(66,146,198)', 'pattern': {'shape': ''}},\n",
       "              'name': 'E-commerce',\n",
       "              'orientation': 'v',\n",
       "              'showlegend': True,\n",
       "              'textposition': 'auto',\n",
       "              'type': 'bar',\n",
       "              'x': array(['E-commerce', 'E-commerce', 'E-commerce', 'E-commerce', 'E-commerce',\n",
       "                          'E-commerce', 'E-commerce', 'E-commerce', 'E-commerce', 'E-commerce',\n",
       "                          'E-commerce', 'E-commerce', 'E-commerce', 'E-commerce', 'E-commerce',\n",
       "                          'E-commerce', 'E-commerce', 'E-commerce', 'E-commerce', 'E-commerce'],\n",
       "                         dtype=object),\n",
       "              'xaxis': 'x',\n",
       "              'y': {'bdata': 'AQEBAQEBAQEBAQEBAQEBAQEBAQE=', 'dtype': 'i1'},\n",
       "              'yaxis': 'y'},\n",
       "             {'hovertemplate': 'secteur_activité=%{x}<br>count=%{y}<extra></extra>',\n",
       "              'legendgroup': 'IA',\n",
       "              'marker': {'color': 'rgb(33,113,181)', 'pattern': {'shape': ''}},\n",
       "              'name': 'IA',\n",
       "              'orientation': 'v',\n",
       "              'showlegend': True,\n",
       "              'textposition': 'auto',\n",
       "              'type': 'bar',\n",
       "              'x': array(['IA', 'IA', 'IA', 'IA', 'IA', 'IA', 'IA', 'IA', 'IA', 'IA', 'IA', 'IA',\n",
       "                          'IA'], dtype=object),\n",
       "              'xaxis': 'x',\n",
       "              'y': {'bdata': 'AQEBAQEBAQEBAQEBAQ==', 'dtype': 'i1'},\n",
       "              'yaxis': 'y'}],\n",
       "    'layout': {'barmode': 'relative',\n",
       "               'legend': {'title': {'text': 'secteur_activité'}, 'tracegroupgap': 0},\n",
       "               'template': '...',\n",
       "               'title': {'text': \"Nombre d'offres par secteur\"},\n",
       "               'xaxis': {'anchor': 'y',\n",
       "                         'categoryarray': [Énergie, Consulting, Finance, Télécom,\n",
       "                                           Santé, E-commerce, IA],\n",
       "                         'categoryorder': 'array',\n",
       "                         'domain': [0.0, 1.0],\n",
       "                         'title': {'text': 'secteur_activité'}},\n",
       "               'yaxis': {'anchor': 'x', 'domain': [0.0, 1.0], 'title': {'text': 'count'}}}\n",
       "})"
      ]
     },
     "execution_count": 29,
     "metadata": {},
     "output_type": "execute_result"
    }
   ],
   "source": [
    "fig_plotly_bar = px.bar(\n",
    "    dataviz, \n",
    "    x=\"secteur_activité\", \n",
    "    title=\"Nombre d'offres par secteur\", \n",
    "    color=\"secteur_activité\", \n",
    "    color_discrete_sequence=px.colors.sequential.Blues\n",
    ")\n",
    "fig_plotly_bar"
   ]
  },
  {
   "cell_type": "code",
   "execution_count": 30,
   "metadata": {},
   "outputs": [
    {
     "ename": "ValueError",
     "evalue": "Mime type rendering requires nbformat>=4.2.0 but it is not installed",
     "output_type": "error",
     "traceback": [
      "\u001b[1;31m---------------------------------------------------------------------------\u001b[0m",
      "\u001b[1;31mValueError\u001b[0m                                Traceback (most recent call last)",
      "Cell \u001b[1;32mIn[30], line 5\u001b[0m\n\u001b[0;32m      3\u001b[0m dataviz_groupes \u001b[38;5;241m=\u001b[39m dataviz\u001b[38;5;241m.\u001b[39mgroupby(\u001b[38;5;124m\"\u001b[39m\u001b[38;5;124mdate_publication\u001b[39m\u001b[38;5;124m\"\u001b[39m)\u001b[38;5;241m.\u001b[39msize()\u001b[38;5;241m.\u001b[39mreset_index(name\u001b[38;5;241m=\u001b[39m\u001b[38;5;124m\"\u001b[39m\u001b[38;5;124mNombre d\u001b[39m\u001b[38;5;124m'\u001b[39m\u001b[38;5;124moffres\u001b[39m\u001b[38;5;124m\"\u001b[39m)\n\u001b[0;32m      4\u001b[0m fig_plotly_line \u001b[38;5;241m=\u001b[39m px\u001b[38;5;241m.\u001b[39mline(dataviz_groupes, x\u001b[38;5;241m=\u001b[39m\u001b[38;5;124m\"\u001b[39m\u001b[38;5;124mdate_publication\u001b[39m\u001b[38;5;124m\"\u001b[39m, y\u001b[38;5;241m=\u001b[39m\u001b[38;5;124m\"\u001b[39m\u001b[38;5;124mNombre d\u001b[39m\u001b[38;5;124m'\u001b[39m\u001b[38;5;124moffres\u001b[39m\u001b[38;5;124m\"\u001b[39m, title\u001b[38;5;241m=\u001b[39m\u001b[38;5;124m\"\u001b[39m\u001b[38;5;124mÉvolution des offres d\u001b[39m\u001b[38;5;124m'\u001b[39m\u001b[38;5;124memploi\u001b[39m\u001b[38;5;124m\"\u001b[39m)\n\u001b[1;32m----> 5\u001b[0m \u001b[43mfig_plotly_line\u001b[49m\u001b[38;5;241;43m.\u001b[39;49m\u001b[43mshow\u001b[49m\u001b[43m(\u001b[49m\u001b[43m)\u001b[49m\n",
      "File \u001b[1;32md:\\BigPapaProject\\Anaconda\\envs\\api\\Lib\\site-packages\\plotly\\basedatatypes.py:3414\u001b[0m, in \u001b[0;36mBaseFigure.show\u001b[1;34m(self, *args, **kwargs)\u001b[0m\n\u001b[0;32m   3381\u001b[0m \u001b[38;5;250m\u001b[39m\u001b[38;5;124;03m\"\"\"\u001b[39;00m\n\u001b[0;32m   3382\u001b[0m \u001b[38;5;124;03mShow a figure using either the default renderer(s) or the renderer(s)\u001b[39;00m\n\u001b[0;32m   3383\u001b[0m \u001b[38;5;124;03mspecified by the renderer argument\u001b[39;00m\n\u001b[1;32m   (...)\u001b[0m\n\u001b[0;32m   3410\u001b[0m \u001b[38;5;124;03mNone\u001b[39;00m\n\u001b[0;32m   3411\u001b[0m \u001b[38;5;124;03m\"\"\"\u001b[39;00m\n\u001b[0;32m   3412\u001b[0m \u001b[38;5;28;01mimport\u001b[39;00m\u001b[38;5;250m \u001b[39m\u001b[38;5;21;01mplotly\u001b[39;00m\u001b[38;5;21;01m.\u001b[39;00m\u001b[38;5;21;01mio\u001b[39;00m\u001b[38;5;250m \u001b[39m\u001b[38;5;28;01mas\u001b[39;00m\u001b[38;5;250m \u001b[39m\u001b[38;5;21;01mpio\u001b[39;00m\n\u001b[1;32m-> 3414\u001b[0m \u001b[38;5;28;01mreturn\u001b[39;00m \u001b[43mpio\u001b[49m\u001b[38;5;241;43m.\u001b[39;49m\u001b[43mshow\u001b[49m\u001b[43m(\u001b[49m\u001b[38;5;28;43mself\u001b[39;49m\u001b[43m,\u001b[49m\u001b[43m \u001b[49m\u001b[38;5;241;43m*\u001b[39;49m\u001b[43margs\u001b[49m\u001b[43m,\u001b[49m\u001b[43m \u001b[49m\u001b[38;5;241;43m*\u001b[39;49m\u001b[38;5;241;43m*\u001b[39;49m\u001b[43mkwargs\u001b[49m\u001b[43m)\u001b[49m\n",
      "File \u001b[1;32md:\\BigPapaProject\\Anaconda\\envs\\api\\Lib\\site-packages\\plotly\\io\\_renderers.py:425\u001b[0m, in \u001b[0;36mshow\u001b[1;34m(fig, renderer, validate, **kwargs)\u001b[0m\n\u001b[0;32m    420\u001b[0m     \u001b[38;5;28;01mraise\u001b[39;00m \u001b[38;5;167;01mValueError\u001b[39;00m(\n\u001b[0;32m    421\u001b[0m         \u001b[38;5;124m\"\u001b[39m\u001b[38;5;124mMime type rendering requires ipython but it is not installed\u001b[39m\u001b[38;5;124m\"\u001b[39m\n\u001b[0;32m    422\u001b[0m     )\n\u001b[0;32m    424\u001b[0m \u001b[38;5;28;01mif\u001b[39;00m \u001b[38;5;129;01mnot\u001b[39;00m nbformat \u001b[38;5;129;01mor\u001b[39;00m Version(nbformat\u001b[38;5;241m.\u001b[39m__version__) \u001b[38;5;241m<\u001b[39m Version(\u001b[38;5;124m\"\u001b[39m\u001b[38;5;124m4.2.0\u001b[39m\u001b[38;5;124m\"\u001b[39m):\n\u001b[1;32m--> 425\u001b[0m     \u001b[38;5;28;01mraise\u001b[39;00m \u001b[38;5;167;01mValueError\u001b[39;00m(\n\u001b[0;32m    426\u001b[0m         \u001b[38;5;124m\"\u001b[39m\u001b[38;5;124mMime type rendering requires nbformat>=4.2.0 but it is not installed\u001b[39m\u001b[38;5;124m\"\u001b[39m\n\u001b[0;32m    427\u001b[0m     )\n\u001b[0;32m    429\u001b[0m display_jupyter_version_warnings()\n\u001b[0;32m    431\u001b[0m ipython_display\u001b[38;5;241m.\u001b[39mdisplay(bundle, raw\u001b[38;5;241m=\u001b[39m\u001b[38;5;28;01mTrue\u001b[39;00m)\n",
      "\u001b[1;31mValueError\u001b[0m: Mime type rendering requires nbformat>=4.2.0 but it is not installed"
     ]
    }
   ],
   "source": [
    "# Courbe d'évolution des offres (par date de publication)\n",
    "dataviz[\"date_publication\"] = pd.to_datetime(dataviz[\"date_publication\"])\n",
    "dataviz_groupes = dataviz.groupby(\"date_publication\").size().reset_index(name=\"Nombre d'offres\")\n",
    "fig_plotly_line = px.line(dataviz_groupes, x=\"date_publication\", y=\"Nombre d'offres\", title=\"Évolution des offres d'emploi\")\n",
    "fig_plotly_line.show()"
   ]
  },
  {
   "cell_type": "code",
   "execution_count": 22,
   "metadata": {},
   "outputs": [
    {
     "ename": "ValueError",
     "evalue": "Mime type rendering requires nbformat>=4.2.0 but it is not installed",
     "output_type": "error",
     "traceback": [
      "\u001b[1;31m---------------------------------------------------------------------------\u001b[0m",
      "\u001b[1;31mValueError\u001b[0m                                Traceback (most recent call last)",
      "File \u001b[1;32md:\\BigPapaProject\\Anaconda\\envs\\api\\Lib\\site-packages\\IPython\\core\\formatters.py:984\u001b[0m, in \u001b[0;36mIPythonDisplayFormatter.__call__\u001b[1;34m(self, obj)\u001b[0m\n\u001b[0;32m    982\u001b[0m method \u001b[38;5;241m=\u001b[39m get_real_method(obj, \u001b[38;5;28mself\u001b[39m\u001b[38;5;241m.\u001b[39mprint_method)\n\u001b[0;32m    983\u001b[0m \u001b[38;5;28;01mif\u001b[39;00m method \u001b[38;5;129;01mis\u001b[39;00m \u001b[38;5;129;01mnot\u001b[39;00m \u001b[38;5;28;01mNone\u001b[39;00m:\n\u001b[1;32m--> 984\u001b[0m     \u001b[43mmethod\u001b[49m\u001b[43m(\u001b[49m\u001b[43m)\u001b[49m\n\u001b[0;32m    985\u001b[0m     \u001b[38;5;28;01mreturn\u001b[39;00m \u001b[38;5;28;01mTrue\u001b[39;00m\n",
      "File \u001b[1;32md:\\BigPapaProject\\Anaconda\\envs\\api\\Lib\\site-packages\\plotly\\basedatatypes.py:833\u001b[0m, in \u001b[0;36mBaseFigure._ipython_display_\u001b[1;34m(self)\u001b[0m\n\u001b[0;32m    830\u001b[0m \u001b[38;5;28;01mimport\u001b[39;00m\u001b[38;5;250m \u001b[39m\u001b[38;5;21;01mplotly\u001b[39;00m\u001b[38;5;21;01m.\u001b[39;00m\u001b[38;5;21;01mio\u001b[39;00m\u001b[38;5;250m \u001b[39m\u001b[38;5;28;01mas\u001b[39;00m\u001b[38;5;250m \u001b[39m\u001b[38;5;21;01mpio\u001b[39;00m\n\u001b[0;32m    832\u001b[0m \u001b[38;5;28;01mif\u001b[39;00m pio\u001b[38;5;241m.\u001b[39mrenderers\u001b[38;5;241m.\u001b[39mrender_on_display \u001b[38;5;129;01mand\u001b[39;00m pio\u001b[38;5;241m.\u001b[39mrenderers\u001b[38;5;241m.\u001b[39mdefault:\n\u001b[1;32m--> 833\u001b[0m     \u001b[43mpio\u001b[49m\u001b[38;5;241;43m.\u001b[39;49m\u001b[43mshow\u001b[49m\u001b[43m(\u001b[49m\u001b[38;5;28;43mself\u001b[39;49m\u001b[43m)\u001b[49m\n\u001b[0;32m    834\u001b[0m \u001b[38;5;28;01melse\u001b[39;00m:\n\u001b[0;32m    835\u001b[0m     \u001b[38;5;28mprint\u001b[39m(\u001b[38;5;28mrepr\u001b[39m(\u001b[38;5;28mself\u001b[39m))\n",
      "File \u001b[1;32md:\\BigPapaProject\\Anaconda\\envs\\api\\Lib\\site-packages\\plotly\\io\\_renderers.py:425\u001b[0m, in \u001b[0;36mshow\u001b[1;34m(fig, renderer, validate, **kwargs)\u001b[0m\n\u001b[0;32m    420\u001b[0m     \u001b[38;5;28;01mraise\u001b[39;00m \u001b[38;5;167;01mValueError\u001b[39;00m(\n\u001b[0;32m    421\u001b[0m         \u001b[38;5;124m\"\u001b[39m\u001b[38;5;124mMime type rendering requires ipython but it is not installed\u001b[39m\u001b[38;5;124m\"\u001b[39m\n\u001b[0;32m    422\u001b[0m     )\n\u001b[0;32m    424\u001b[0m \u001b[38;5;28;01mif\u001b[39;00m \u001b[38;5;129;01mnot\u001b[39;00m nbformat \u001b[38;5;129;01mor\u001b[39;00m Version(nbformat\u001b[38;5;241m.\u001b[39m__version__) \u001b[38;5;241m<\u001b[39m Version(\u001b[38;5;124m\"\u001b[39m\u001b[38;5;124m4.2.0\u001b[39m\u001b[38;5;124m\"\u001b[39m):\n\u001b[1;32m--> 425\u001b[0m     \u001b[38;5;28;01mraise\u001b[39;00m \u001b[38;5;167;01mValueError\u001b[39;00m(\n\u001b[0;32m    426\u001b[0m         \u001b[38;5;124m\"\u001b[39m\u001b[38;5;124mMime type rendering requires nbformat>=4.2.0 but it is not installed\u001b[39m\u001b[38;5;124m\"\u001b[39m\n\u001b[0;32m    427\u001b[0m     )\n\u001b[0;32m    429\u001b[0m display_jupyter_version_warnings()\n\u001b[0;32m    431\u001b[0m ipython_display\u001b[38;5;241m.\u001b[39mdisplay(bundle, raw\u001b[38;5;241m=\u001b[39m\u001b[38;5;28;01mTrue\u001b[39;00m)\n",
      "\u001b[1;31mValueError\u001b[0m: Mime type rendering requires nbformat>=4.2.0 but it is not installed"
     ]
    },
    {
     "data": {
      "application/vnd.plotly.v1+json": {
       "config": {
        "plotlyServerURL": "https://plot.ly"
       },
       "data": [
        {
         "domain": {
          "x": [
           0,
           1
          ],
          "y": [
           0,
           1
          ]
         },
         "hovertemplate": "Type de Contrat=%{label}<br>Nombre d'offres=%{value}<extra></extra>",
         "labels": [
          "CDI",
          "CDD",
          "Freelance",
          "Stage",
          "Alternance"
         ],
         "legendgroup": "",
         "name": "",
         "showlegend": true,
         "type": "pie",
         "values": {
          "bdata": "KBkPCgo=",
          "dtype": "i1"
         }
        }
       ],
       "layout": {
        "legend": {
         "tracegroupgap": 0
        },
        "piecolorway": [
         "rgb(247,251,255)",
         "rgb(222,235,247)",
         "rgb(198,219,239)",
         "rgb(158,202,225)",
         "rgb(107,174,214)",
         "rgb(66,146,198)",
         "rgb(33,113,181)",
         "rgb(8,81,156)",
         "rgb(8,48,107)"
        ],
        "template": {
         "data": {
          "candlestick": [
           {
            "decreasing": {
             "line": {
              "color": "#000033"
             }
            },
            "increasing": {
             "line": {
              "color": "#000032"
             }
            },
            "type": "candlestick"
           }
          ],
          "contour": [
           {
            "colorscale": [
             [
              0,
              "#000011"
             ],
             [
              0.1111111111111111,
              "#000012"
             ],
             [
              0.2222222222222222,
              "#000013"
             ],
             [
              0.3333333333333333,
              "#000014"
             ],
             [
              0.4444444444444444,
              "#000015"
             ],
             [
              0.5555555555555556,
              "#000016"
             ],
             [
              0.6666666666666666,
              "#000017"
             ],
             [
              0.7777777777777778,
              "#000018"
             ],
             [
              0.8888888888888888,
              "#000019"
             ],
             [
              1,
              "#000020"
             ]
            ],
            "type": "contour"
           }
          ],
          "contourcarpet": [
           {
            "colorscale": [
             [
              0,
              "#000011"
             ],
             [
              0.1111111111111111,
              "#000012"
             ],
             [
              0.2222222222222222,
              "#000013"
             ],
             [
              0.3333333333333333,
              "#000014"
             ],
             [
              0.4444444444444444,
              "#000015"
             ],
             [
              0.5555555555555556,
              "#000016"
             ],
             [
              0.6666666666666666,
              "#000017"
             ],
             [
              0.7777777777777778,
              "#000018"
             ],
             [
              0.8888888888888888,
              "#000019"
             ],
             [
              1,
              "#000020"
             ]
            ],
            "type": "contourcarpet"
           }
          ],
          "heatmap": [
           {
            "colorscale": [
             [
              0,
              "#000011"
             ],
             [
              0.1111111111111111,
              "#000012"
             ],
             [
              0.2222222222222222,
              "#000013"
             ],
             [
              0.3333333333333333,
              "#000014"
             ],
             [
              0.4444444444444444,
              "#000015"
             ],
             [
              0.5555555555555556,
              "#000016"
             ],
             [
              0.6666666666666666,
              "#000017"
             ],
             [
              0.7777777777777778,
              "#000018"
             ],
             [
              0.8888888888888888,
              "#000019"
             ],
             [
              1,
              "#000020"
             ]
            ],
            "type": "heatmap"
           }
          ],
          "histogram2d": [
           {
            "colorscale": [
             [
              0,
              "#000011"
             ],
             [
              0.1111111111111111,
              "#000012"
             ],
             [
              0.2222222222222222,
              "#000013"
             ],
             [
              0.3333333333333333,
              "#000014"
             ],
             [
              0.4444444444444444,
              "#000015"
             ],
             [
              0.5555555555555556,
              "#000016"
             ],
             [
              0.6666666666666666,
              "#000017"
             ],
             [
              0.7777777777777778,
              "#000018"
             ],
             [
              0.8888888888888888,
              "#000019"
             ],
             [
              1,
              "#000020"
             ]
            ],
            "type": "histogram2d"
           }
          ],
          "icicle": [
           {
            "textfont": {
             "color": "white"
            },
            "type": "icicle"
           }
          ],
          "sankey": [
           {
            "textfont": {
             "color": "#000036"
            },
            "type": "sankey"
           }
          ],
          "scatter": [
           {
            "marker": {
             "line": {
              "width": 0
             }
            },
            "type": "scatter"
           }
          ],
          "table": [
           {
            "cells": {
             "fill": {
              "color": "#000038"
             },
             "font": {
              "color": "#000037"
             },
             "line": {
              "color": "#000039"
             }
            },
            "header": {
             "fill": {
              "color": "#000040"
             },
             "font": {
              "color": "#000036"
             },
             "line": {
              "color": "#000039"
             }
            },
            "type": "table"
           }
          ],
          "waterfall": [
           {
            "connector": {
             "line": {
              "color": "#000036",
              "width": 2
             }
            },
            "decreasing": {
             "marker": {
              "color": "#000033"
             }
            },
            "increasing": {
             "marker": {
              "color": "#000032"
             }
            },
            "totals": {
             "marker": {
              "color": "#000034"
             }
            },
            "type": "waterfall"
           }
          ]
         },
         "layout": {
          "coloraxis": {
           "colorscale": [
            [
             0,
             "#000011"
            ],
            [
             0.1111111111111111,
             "#000012"
            ],
            [
             0.2222222222222222,
             "#000013"
            ],
            [
             0.3333333333333333,
             "#000014"
            ],
            [
             0.4444444444444444,
             "#000015"
            ],
            [
             0.5555555555555556,
             "#000016"
            ],
            [
             0.6666666666666666,
             "#000017"
            ],
            [
             0.7777777777777778,
             "#000018"
            ],
            [
             0.8888888888888888,
             "#000019"
            ],
            [
             1,
             "#000020"
            ]
           ]
          },
          "colorscale": {
           "diverging": [
            [
             0,
             "#000021"
            ],
            [
             0.1,
             "#000022"
            ],
            [
             0.2,
             "#000023"
            ],
            [
             0.3,
             "#000024"
            ],
            [
             0.4,
             "#000025"
            ],
            [
             0.5,
             "#000026"
            ],
            [
             0.6,
             "#000027"
            ],
            [
             0.7,
             "#000028"
            ],
            [
             0.8,
             "#000029"
            ],
            [
             0.9,
             "#000030"
            ],
            [
             1,
             "#000031"
            ]
           ],
           "sequential": [
            [
             0,
             "#000011"
            ],
            [
             0.1111111111111111,
             "#000012"
            ],
            [
             0.2222222222222222,
             "#000013"
            ],
            [
             0.3333333333333333,
             "#000014"
            ],
            [
             0.4444444444444444,
             "#000015"
            ],
            [
             0.5555555555555556,
             "#000016"
            ],
            [
             0.6666666666666666,
             "#000017"
            ],
            [
             0.7777777777777778,
             "#000018"
            ],
            [
             0.8888888888888888,
             "#000019"
            ],
            [
             1,
             "#000020"
            ]
           ],
           "sequentialminus": [
            [
             0,
             "#000011"
            ],
            [
             0.1111111111111111,
             "#000012"
            ],
            [
             0.2222222222222222,
             "#000013"
            ],
            [
             0.3333333333333333,
             "#000014"
            ],
            [
             0.4444444444444444,
             "#000015"
            ],
            [
             0.5555555555555556,
             "#000016"
            ],
            [
             0.6666666666666666,
             "#000017"
            ],
            [
             0.7777777777777778,
             "#000018"
            ],
            [
             0.8888888888888888,
             "#000019"
            ],
            [
             1,
             "#000020"
            ]
           ]
          },
          "colorway": [
           "#000001",
           "#000002",
           "#000003",
           "#000004",
           "#000005",
           "#000006",
           "#000007",
           "#000008",
           "#000009",
           "#000010"
          ]
         }
        },
        "title": {
         "text": "Répartition des offres par type de contrat"
        }
       }
      },
      "text/html": [
       "<div>                        <script type=\"text/javascript\">window.PlotlyConfig = {MathJaxConfig: 'local'};</script>\n",
       "        <script charset=\"utf-8\" src=\"https://cdn.plot.ly/plotly-3.0.0.min.js\"></script>                <div id=\"da6a7ac5-3922-4620-ba27-714b79a75059\" class=\"plotly-graph-div\" style=\"height:100%; width:100%;\"></div>            <script type=\"text/javascript\">                window.PLOTLYENV=window.PLOTLYENV || {};                                if (document.getElementById(\"da6a7ac5-3922-4620-ba27-714b79a75059\")) {                    Plotly.newPlot(                        \"da6a7ac5-3922-4620-ba27-714b79a75059\",                        [{\"domain\":{\"x\":[0.0,1.0],\"y\":[0.0,1.0]},\"hovertemplate\":\"Type de Contrat=%{label}\\u003cbr\\u003eNombre d'offres=%{value}\\u003cextra\\u003e\\u003c\\u002fextra\\u003e\",\"labels\":[\"CDI\",\"CDD\",\"Freelance\",\"Stage\",\"Alternance\"],\"legendgroup\":\"\",\"name\":\"\",\"showlegend\":true,\"values\":{\"dtype\":\"i1\",\"bdata\":\"KBkPCgo=\"},\"type\":\"pie\"}],                        {\"template\":{\"data\":{\"candlestick\":[{\"decreasing\":{\"line\":{\"color\":\"#000033\"}},\"increasing\":{\"line\":{\"color\":\"#000032\"}},\"type\":\"candlestick\"}],\"contourcarpet\":[{\"colorscale\":[[0.0,\"#000011\"],[0.1111111111111111,\"#000012\"],[0.2222222222222222,\"#000013\"],[0.3333333333333333,\"#000014\"],[0.4444444444444444,\"#000015\"],[0.5555555555555556,\"#000016\"],[0.6666666666666666,\"#000017\"],[0.7777777777777778,\"#000018\"],[0.8888888888888888,\"#000019\"],[1.0,\"#000020\"]],\"type\":\"contourcarpet\"}],\"contour\":[{\"colorscale\":[[0.0,\"#000011\"],[0.1111111111111111,\"#000012\"],[0.2222222222222222,\"#000013\"],[0.3333333333333333,\"#000014\"],[0.4444444444444444,\"#000015\"],[0.5555555555555556,\"#000016\"],[0.6666666666666666,\"#000017\"],[0.7777777777777778,\"#000018\"],[0.8888888888888888,\"#000019\"],[1.0,\"#000020\"]],\"type\":\"contour\"}],\"heatmap\":[{\"colorscale\":[[0.0,\"#000011\"],[0.1111111111111111,\"#000012\"],[0.2222222222222222,\"#000013\"],[0.3333333333333333,\"#000014\"],[0.4444444444444444,\"#000015\"],[0.5555555555555556,\"#000016\"],[0.6666666666666666,\"#000017\"],[0.7777777777777778,\"#000018\"],[0.8888888888888888,\"#000019\"],[1.0,\"#000020\"]],\"type\":\"heatmap\"}],\"histogram2d\":[{\"colorscale\":[[0.0,\"#000011\"],[0.1111111111111111,\"#000012\"],[0.2222222222222222,\"#000013\"],[0.3333333333333333,\"#000014\"],[0.4444444444444444,\"#000015\"],[0.5555555555555556,\"#000016\"],[0.6666666666666666,\"#000017\"],[0.7777777777777778,\"#000018\"],[0.8888888888888888,\"#000019\"],[1.0,\"#000020\"]],\"type\":\"histogram2d\"}],\"icicle\":[{\"textfont\":{\"color\":\"white\"},\"type\":\"icicle\"}],\"sankey\":[{\"textfont\":{\"color\":\"#000036\"},\"type\":\"sankey\"}],\"scatter\":[{\"marker\":{\"line\":{\"width\":0}},\"type\":\"scatter\"}],\"table\":[{\"cells\":{\"fill\":{\"color\":\"#000038\"},\"font\":{\"color\":\"#000037\"},\"line\":{\"color\":\"#000039\"}},\"header\":{\"fill\":{\"color\":\"#000040\"},\"font\":{\"color\":\"#000036\"},\"line\":{\"color\":\"#000039\"}},\"type\":\"table\"}],\"waterfall\":[{\"connector\":{\"line\":{\"color\":\"#000036\",\"width\":2}},\"decreasing\":{\"marker\":{\"color\":\"#000033\"}},\"increasing\":{\"marker\":{\"color\":\"#000032\"}},\"totals\":{\"marker\":{\"color\":\"#000034\"}},\"type\":\"waterfall\"}]},\"layout\":{\"coloraxis\":{\"colorscale\":[[0.0,\"#000011\"],[0.1111111111111111,\"#000012\"],[0.2222222222222222,\"#000013\"],[0.3333333333333333,\"#000014\"],[0.4444444444444444,\"#000015\"],[0.5555555555555556,\"#000016\"],[0.6666666666666666,\"#000017\"],[0.7777777777777778,\"#000018\"],[0.8888888888888888,\"#000019\"],[1.0,\"#000020\"]]},\"colorscale\":{\"diverging\":[[0.0,\"#000021\"],[0.1,\"#000022\"],[0.2,\"#000023\"],[0.3,\"#000024\"],[0.4,\"#000025\"],[0.5,\"#000026\"],[0.6,\"#000027\"],[0.7,\"#000028\"],[0.8,\"#000029\"],[0.9,\"#000030\"],[1.0,\"#000031\"]],\"sequential\":[[0.0,\"#000011\"],[0.1111111111111111,\"#000012\"],[0.2222222222222222,\"#000013\"],[0.3333333333333333,\"#000014\"],[0.4444444444444444,\"#000015\"],[0.5555555555555556,\"#000016\"],[0.6666666666666666,\"#000017\"],[0.7777777777777778,\"#000018\"],[0.8888888888888888,\"#000019\"],[1.0,\"#000020\"]],\"sequentialminus\":[[0.0,\"#000011\"],[0.1111111111111111,\"#000012\"],[0.2222222222222222,\"#000013\"],[0.3333333333333333,\"#000014\"],[0.4444444444444444,\"#000015\"],[0.5555555555555556,\"#000016\"],[0.6666666666666666,\"#000017\"],[0.7777777777777778,\"#000018\"],[0.8888888888888888,\"#000019\"],[1.0,\"#000020\"]]},\"colorway\":[\"#000001\",\"#000002\",\"#000003\",\"#000004\",\"#000005\",\"#000006\",\"#000007\",\"#000008\",\"#000009\",\"#000010\"]}},\"legend\":{\"tracegroupgap\":0},\"title\":{\"text\":\"R\\u00e9partition des offres par type de contrat\"},\"piecolorway\":[\"rgb(247,251,255)\",\"rgb(222,235,247)\",\"rgb(198,219,239)\",\"rgb(158,202,225)\",\"rgb(107,174,214)\",\"rgb(66,146,198)\",\"rgb(33,113,181)\",\"rgb(8,81,156)\",\"rgb(8,48,107)\"]},                        {\"responsive\": true}                    )                };            </script>        </div>"
      ],
      "text/plain": [
       "Figure({\n",
       "    'data': [{'domain': {'x': [0.0, 1.0], 'y': [0.0, 1.0]},\n",
       "              'hovertemplate': \"Type de Contrat=%{label}<br>Nombre d'offres=%{value}<extra></extra>\",\n",
       "              'labels': array(['CDI', 'CDD', 'Freelance', 'Stage', 'Alternance'], dtype=object),\n",
       "              'legendgroup': '',\n",
       "              'name': '',\n",
       "              'showlegend': True,\n",
       "              'type': 'pie',\n",
       "              'values': {'bdata': 'KBkPCgo=', 'dtype': 'i1'}}],\n",
       "    'layout': {'legend': {'tracegroupgap': 0},\n",
       "               'piecolorway': [rgb(247,251,255), rgb(222,235,247),\n",
       "                               rgb(198,219,239), rgb(158,202,225),\n",
       "                               rgb(107,174,214), rgb(66,146,198), rgb(33,113,181),\n",
       "                               rgb(8,81,156), rgb(8,48,107)],\n",
       "               'template': '...',\n",
       "               'title': {'text': 'Répartition des offres par type de contrat'}}\n",
       "})"
      ]
     },
     "execution_count": 22,
     "metadata": {},
     "output_type": "execute_result"
    }
   ],
   "source": [
    "# Données fictives\n",
    "data = pd.DataFrame({\n",
    "    \"Type de Contrat\": [\"CDI\", \"CDD\", \"Freelance\", \"Stage\", \"Alternance\"],\n",
    "    \"Nombre d'offres\": [40, 25, 15, 10, 10]\n",
    "})\n",
    "\n",
    "# Création du pie chart\n",
    "fig = px.pie(data, names=\"Type de Contrat\", values=\"Nombre d'offres\", title=\"Répartition des offres par type de contrat\", color_discrete_sequence=px.colors.sequential.Blues)\n",
    "\n",
    "\n",
    "fig\n"
   ]
  },
  {
   "cell_type": "markdown",
   "metadata": {},
   "source": [
    "## **Bibliothèque Altaïr**"
   ]
  },
  {
   "cell_type": "code",
   "execution_count": 32,
   "metadata": {},
   "outputs": [
    {
     "data": {
      "text/html": [
       "\n",
       "<style>\n",
       "  #altair-viz-af59147be2fe4ff78b96cf2983fa7d7b.vega-embed {\n",
       "    width: 100%;\n",
       "    display: flex;\n",
       "  }\n",
       "\n",
       "  #altair-viz-af59147be2fe4ff78b96cf2983fa7d7b.vega-embed details,\n",
       "  #altair-viz-af59147be2fe4ff78b96cf2983fa7d7b.vega-embed details summary {\n",
       "    position: relative;\n",
       "  }\n",
       "</style>\n",
       "<div id=\"altair-viz-af59147be2fe4ff78b96cf2983fa7d7b\"></div>\n",
       "<script type=\"text/javascript\">\n",
       "  var VEGA_DEBUG = (typeof VEGA_DEBUG == \"undefined\") ? {} : VEGA_DEBUG;\n",
       "  (function(spec, embedOpt){\n",
       "    let outputDiv = document.currentScript.previousElementSibling;\n",
       "    if (outputDiv.id !== \"altair-viz-af59147be2fe4ff78b96cf2983fa7d7b\") {\n",
       "      outputDiv = document.getElementById(\"altair-viz-af59147be2fe4ff78b96cf2983fa7d7b\");\n",
       "    }\n",
       "\n",
       "    const paths = {\n",
       "      \"vega\": \"https://cdn.jsdelivr.net/npm/vega@5?noext\",\n",
       "      \"vega-lib\": \"https://cdn.jsdelivr.net/npm/vega-lib?noext\",\n",
       "      \"vega-lite\": \"https://cdn.jsdelivr.net/npm/vega-lite@5.20.1?noext\",\n",
       "      \"vega-embed\": \"https://cdn.jsdelivr.net/npm/vega-embed@6?noext\",\n",
       "    };\n",
       "\n",
       "    function maybeLoadScript(lib, version) {\n",
       "      var key = `${lib.replace(\"-\", \"\")}_version`;\n",
       "      return (VEGA_DEBUG[key] == version) ?\n",
       "        Promise.resolve(paths[lib]) :\n",
       "        new Promise(function(resolve, reject) {\n",
       "          var s = document.createElement('script');\n",
       "          document.getElementsByTagName(\"head\")[0].appendChild(s);\n",
       "          s.async = true;\n",
       "          s.onload = () => {\n",
       "            VEGA_DEBUG[key] = version;\n",
       "            return resolve(paths[lib]);\n",
       "          };\n",
       "          s.onerror = () => reject(`Error loading script: ${paths[lib]}`);\n",
       "          s.src = paths[lib];\n",
       "        });\n",
       "    }\n",
       "\n",
       "    function showError(err) {\n",
       "      outputDiv.innerHTML = `<div class=\"error\" style=\"color:red;\">${err}</div>`;\n",
       "      throw err;\n",
       "    }\n",
       "\n",
       "    function displayChart(vegaEmbed) {\n",
       "      vegaEmbed(outputDiv, spec, embedOpt)\n",
       "        .catch(err => showError(`Javascript Error: ${err.message}<br>This usually means there's a typo in your chart specification. See the javascript console for the full traceback.`));\n",
       "    }\n",
       "\n",
       "    if(typeof define === \"function\" && define.amd) {\n",
       "      requirejs.config({paths});\n",
       "      let deps = [\"vega-embed\"];\n",
       "      require(deps, displayChart, err => showError(`Error loading script: ${err.message}`));\n",
       "    } else {\n",
       "      maybeLoadScript(\"vega\", \"5\")\n",
       "        .then(() => maybeLoadScript(\"vega-lite\", \"5.20.1\"))\n",
       "        .then(() => maybeLoadScript(\"vega-embed\", \"6\"))\n",
       "        .catch(showError)\n",
       "        .then(() => displayChart(vegaEmbed));\n",
       "    }\n",
       "  })({\"config\": {\"view\": {\"continuousWidth\": 300, \"continuousHeight\": 300}}, \"data\": {\"name\": \"data-6b9262aee55c2041947b1d6ab6d3b175\"}, \"mark\": {\"type\": \"bar\"}, \"encoding\": {\"color\": {\"field\": \"secteur_activit\\u00e9\", \"scale\": {\"scheme\": \"blues\"}, \"type\": \"nominal\"}, \"x\": {\"field\": \"secteur_activit\\u00e9\", \"sort\": \"-y\", \"title\": \"Secteur d'activit\\u00e9\", \"type\": \"nominal\"}, \"y\": {\"aggregate\": \"count\", \"title\": \"Nombre d'offres\", \"type\": \"quantitative\"}}, \"height\": 400, \"title\": \"R\\u00e9partition des offres par secteur d'activit\\u00e9\", \"width\": 600, \"$schema\": \"https://vega.github.io/schema/vega-lite/v5.20.1.json\", \"datasets\": {\"data-6b9262aee55c2041947b1d6ab6d3b175\": [{\"id_offre\": \"OFFRE_1\", \"titre_poste\": \"Data Engineer\", \"entreprise\": \"Analytica\", \"lieu\": \"Paris\", \"salaire\": \"50-60k\", \"type_contrat\": \"Freelance\", \"date_publication\": \"2025-01-16T00:00:00\", \"description\": \"Offre de Data Engineer chez DataSolutions.\", \"lien_offre\": \"https://www.hellowork.com/offre-1\", \"t\\u00e9l\\u00e9travail\": \"Oui\", \"exp\\u00e9rience_requise\": \"Senior\", \"comp\\u00e9tences\": \"Machine Learning, Spark\", \"secteur_activit\\u00e9\": \"\\u00c9nergie\", \"source\": \"Hellowork\"}, {\"id_offre\": \"OFFRE_2\", \"titre_poste\": \"Machine Learning Engineer\", \"entreprise\": \"BigData France\", \"lieu\": \"Paris\", \"salaire\": \"40-50k\", \"type_contrat\": \"CDI\", \"date_publication\": \"2025-01-28T00:00:00\", \"description\": \"Offre de Data Analyst chez BigData France.\", \"lien_offre\": \"https://www.hellowork.com/offre-2\", \"t\\u00e9l\\u00e9travail\": \"Non\", \"exp\\u00e9rience_requise\": \"Senior\", \"comp\\u00e9tences\": \"SQL, Docker\", \"secteur_activit\\u00e9\": \"Consulting\", \"source\": \"Hellowork\"}, {\"id_offre\": \"OFFRE_3\", \"titre_poste\": \"Data Scientist\", \"entreprise\": \"AI Innovations\", \"lieu\": \"Nantes\", \"salaire\": \"40-50k\", \"type_contrat\": \"Alternance\", \"date_publication\": \"2025-01-10T00:00:00\", \"description\": \"Offre de Data Engineer chez AI Innovations.\", \"lien_offre\": \"https://www.hellowork.com/offre-3\", \"t\\u00e9l\\u00e9travail\": \"Oui\", \"exp\\u00e9rience_requise\": \"Confirm\\u00e9\", \"comp\\u00e9tences\": \"Docker, Python, SQL, Machine Learning, Power BI\", \"secteur_activit\\u00e9\": \"\\u00c9nergie\", \"source\": \"Hellowork\"}, {\"id_offre\": \"OFFRE_4\", \"titre_poste\": \"Data Scientist\", \"entreprise\": \"TechCorp\", \"lieu\": \"Toulouse\", \"salaire\": \"40-50k\", \"type_contrat\": \"CDD\", \"date_publication\": \"2025-01-12T00:00:00\", \"description\": \"Offre de Machine Learning Engineer chez DataSolutions.\", \"lien_offre\": \"https://www.hellowork.com/offre-4\", \"t\\u00e9l\\u00e9travail\": \"Non\", \"exp\\u00e9rience_requise\": \"Junior\", \"comp\\u00e9tences\": \"Spark, Docker, Machine Learning, Power BI, ETL\", \"secteur_activit\\u00e9\": \"Consulting\", \"source\": \"Hellowork\"}, {\"id_offre\": \"OFFRE_5\", \"titre_poste\": \"Data Scientist\", \"entreprise\": \"Analytica\", \"lieu\": \"Rennes\", \"salaire\": \"35-45k\", \"type_contrat\": \"Stage\", \"date_publication\": \"2025-01-09T00:00:00\", \"description\": \"Offre de Machine Learning Engineer chez BigData France.\", \"lien_offre\": \"https://www.hellowork.com/offre-5\", \"t\\u00e9l\\u00e9travail\": \"Oui\", \"exp\\u00e9rience_requise\": \"Confirm\\u00e9\", \"comp\\u00e9tences\": \"Docker, ETL\", \"secteur_activit\\u00e9\": \"Finance\", \"source\": \"Hellowork\"}, {\"id_offre\": \"OFFRE_6\", \"titre_poste\": \"Data Engineer\", \"entreprise\": \"BigData France\", \"lieu\": \"Nantes\", \"salaire\": \"Non pr\\u00e9cis\\u00e9\", \"type_contrat\": \"CDD\", \"date_publication\": \"2025-01-18T00:00:00\", \"description\": \"Offre de BI Analyst chez AI Innovations.\", \"lien_offre\": \"https://www.hellowork.com/offre-6\", \"t\\u00e9l\\u00e9travail\": \"Non\", \"exp\\u00e9rience_requise\": \"Junior\", \"comp\\u00e9tences\": \"Cloud AWS, Machine Learning, SQL, Docker, Spark\", \"secteur_activit\\u00e9\": \"T\\u00e9l\\u00e9com\", \"source\": \"Hellowork\"}, {\"id_offre\": \"OFFRE_7\", \"titre_poste\": \"Data Analyst\", \"entreprise\": \"DataSolutions\", \"lieu\": \"Nantes\", \"salaire\": \"35-45k\", \"type_contrat\": \"Freelance\", \"date_publication\": \"2025-01-28T00:00:00\", \"description\": \"Offre de Data Scientist chez AI Innovations.\", \"lien_offre\": \"https://www.hellowork.com/offre-7\", \"t\\u00e9l\\u00e9travail\": \"Oui\", \"exp\\u00e9rience_requise\": \"Senior\", \"comp\\u00e9tences\": \"Power BI, SQL\", \"secteur_activit\\u00e9\": \"Sant\\u00e9\", \"source\": \"Hellowork\"}, {\"id_offre\": \"OFFRE_8\", \"titre_poste\": \"Data Engineer\", \"entreprise\": \"TechCorp\", \"lieu\": \"Bordeaux\", \"salaire\": \"40-50k\", \"type_contrat\": \"Stage\", \"date_publication\": \"2025-01-12T00:00:00\", \"description\": \"Offre de Data Analyst chez DataSolutions.\", \"lien_offre\": \"https://www.hellowork.com/offre-8\", \"t\\u00e9l\\u00e9travail\": \"Oui\", \"exp\\u00e9rience_requise\": \"Senior\", \"comp\\u00e9tences\": \"Docker, SQL\", \"secteur_activit\\u00e9\": \"\\u00c9nergie\", \"source\": \"Hellowork\"}, {\"id_offre\": \"OFFRE_9\", \"titre_poste\": \"Machine Learning Engineer\", \"entreprise\": \"DataSolutions\", \"lieu\": \"Rennes\", \"salaire\": \"35-45k\", \"type_contrat\": \"Stage\", \"date_publication\": \"2025-01-29T00:00:00\", \"description\": \"Offre de Machine Learning Engineer chez BigData France.\", \"lien_offre\": \"https://www.hellowork.com/offre-9\", \"t\\u00e9l\\u00e9travail\": \"Non\", \"exp\\u00e9rience_requise\": \"Senior\", \"comp\\u00e9tences\": \"ETL, Spark, Cloud AWS\", \"secteur_activit\\u00e9\": \"Consulting\", \"source\": \"Hellowork\"}, {\"id_offre\": \"OFFRE_10\", \"titre_poste\": \"Data Scientist\", \"entreprise\": \"DataSolutions\", \"lieu\": \"Paris\", \"salaire\": \"50-60k\", \"type_contrat\": \"CDI\", \"date_publication\": \"2025-01-21T00:00:00\", \"description\": \"Offre de Data Analyst chez Analytica.\", \"lien_offre\": \"https://www.hellowork.com/offre-10\", \"t\\u00e9l\\u00e9travail\": \"Non\", \"exp\\u00e9rience_requise\": \"Junior\", \"comp\\u00e9tences\": \"SQL, Python, Cloud AWS\", \"secteur_activit\\u00e9\": \"E-commerce\", \"source\": \"Hellowork\"}, {\"id_offre\": \"OFFRE_11\", \"titre_poste\": \"Machine Learning Engineer\", \"entreprise\": \"TechCorp\", \"lieu\": \"Toulouse\", \"salaire\": \"40-50k\", \"type_contrat\": \"Alternance\", \"date_publication\": \"2025-01-29T00:00:00\", \"description\": \"Offre de Data Engineer chez BigData France.\", \"lien_offre\": \"https://www.hellowork.com/offre-11\", \"t\\u00e9l\\u00e9travail\": \"Non\", \"exp\\u00e9rience_requise\": \"Senior\", \"comp\\u00e9tences\": \"ETL, Power BI\", \"secteur_activit\\u00e9\": \"Finance\", \"source\": \"Hellowork\"}, {\"id_offre\": \"OFFRE_12\", \"titre_poste\": \"Machine Learning Engineer\", \"entreprise\": \"DataSolutions\", \"lieu\": \"Marseille\", \"salaire\": \"50-60k\", \"type_contrat\": \"CDD\", \"date_publication\": \"2024-12-31T00:00:00\", \"description\": \"Offre de Data Scientist chez DataSolutions.\", \"lien_offre\": \"https://www.hellowork.com/offre-12\", \"t\\u00e9l\\u00e9travail\": \"Oui\", \"exp\\u00e9rience_requise\": \"Senior\", \"comp\\u00e9tences\": \"Spark, Python, Cloud AWS, Machine Learning, ETL\", \"secteur_activit\\u00e9\": \"Finance\", \"source\": \"Hellowork\"}, {\"id_offre\": \"OFFRE_13\", \"titre_poste\": \"Data Engineer\", \"entreprise\": \"TechCorp\", \"lieu\": \"Paris\", \"salaire\": \"35-45k\", \"type_contrat\": \"Alternance\", \"date_publication\": \"2025-01-15T00:00:00\", \"description\": \"Offre de Data Scientist chez BigData France.\", \"lien_offre\": \"https://www.hellowork.com/offre-13\", \"t\\u00e9l\\u00e9travail\": \"Non\", \"exp\\u00e9rience_requise\": \"Senior\", \"comp\\u00e9tences\": \"Docker, Spark, Cloud AWS, Machine Learning, ETL\", \"secteur_activit\\u00e9\": \"IA\", \"source\": \"Hellowork\"}, {\"id_offre\": \"OFFRE_14\", \"titre_poste\": \"Data Analyst\", \"entreprise\": \"BigData France\", \"lieu\": \"Bordeaux\", \"salaire\": \"Non pr\\u00e9cis\\u00e9\", \"type_contrat\": \"Alternance\", \"date_publication\": \"2025-01-22T00:00:00\", \"description\": \"Offre de Machine Learning Engineer chez Analytica.\", \"lien_offre\": \"https://www.hellowork.com/offre-14\", \"t\\u00e9l\\u00e9travail\": \"Non\", \"exp\\u00e9rience_requise\": \"Junior\", \"comp\\u00e9tences\": \"Docker, SQL, Spark, Cloud AWS, ETL\", \"secteur_activit\\u00e9\": \"E-commerce\", \"source\": \"Hellowork\"}, {\"id_offre\": \"OFFRE_15\", \"titre_poste\": \"Data Scientist\", \"entreprise\": \"AI Innovations\", \"lieu\": \"Toulouse\", \"salaire\": \"40-50k\", \"type_contrat\": \"CDI\", \"date_publication\": \"2025-01-11T00:00:00\", \"description\": \"Offre de Machine Learning Engineer chez Analytica.\", \"lien_offre\": \"https://www.hellowork.com/offre-15\", \"t\\u00e9l\\u00e9travail\": \"Oui\", \"exp\\u00e9rience_requise\": \"Junior\", \"comp\\u00e9tences\": \"Power BI, Machine Learning\", \"secteur_activit\\u00e9\": \"Finance\", \"source\": \"Hellowork\"}, {\"id_offre\": \"OFFRE_16\", \"titre_poste\": \"Data Scientist\", \"entreprise\": \"Analytica\", \"lieu\": \"Lille\", \"salaire\": \"Non pr\\u00e9cis\\u00e9\", \"type_contrat\": \"Freelance\", \"date_publication\": \"2025-01-04T00:00:00\", \"description\": \"Offre de Data Analyst chez Analytica.\", \"lien_offre\": \"https://www.hellowork.com/offre-16\", \"t\\u00e9l\\u00e9travail\": \"Oui\", \"exp\\u00e9rience_requise\": \"Junior\", \"comp\\u00e9tences\": \"Power BI, ETL, Machine Learning, Docker, SQL\", \"secteur_activit\\u00e9\": \"\\u00c9nergie\", \"source\": \"Hellowork\"}, {\"id_offre\": \"OFFRE_17\", \"titre_poste\": \"Data Engineer\", \"entreprise\": \"TechCorp\", \"lieu\": \"Toulouse\", \"salaire\": \"35-45k\", \"type_contrat\": \"Alternance\", \"date_publication\": \"2025-01-06T00:00:00\", \"description\": \"Offre de Data Analyst chez DataSolutions.\", \"lien_offre\": \"https://www.hellowork.com/offre-17\", \"t\\u00e9l\\u00e9travail\": \"Oui\", \"exp\\u00e9rience_requise\": \"Confirm\\u00e9\", \"comp\\u00e9tences\": \"Power BI, Cloud AWS, Python, Docker\", \"secteur_activit\\u00e9\": \"Sant\\u00e9\", \"source\": \"Hellowork\"}, {\"id_offre\": \"OFFRE_18\", \"titre_poste\": \"Data Engineer\", \"entreprise\": \"DataSolutions\", \"lieu\": \"Lyon\", \"salaire\": \"35-45k\", \"type_contrat\": \"Stage\", \"date_publication\": \"2025-01-23T00:00:00\", \"description\": \"Offre de BI Analyst chez DataSolutions.\", \"lien_offre\": \"https://www.hellowork.com/offre-18\", \"t\\u00e9l\\u00e9travail\": \"Oui\", \"exp\\u00e9rience_requise\": \"Junior\", \"comp\\u00e9tences\": \"Power BI, Machine Learning, ETL, Docker\", \"secteur_activit\\u00e9\": \"Finance\", \"source\": \"Hellowork\"}, {\"id_offre\": \"OFFRE_19\", \"titre_poste\": \"Data Scientist\", \"entreprise\": \"DataSolutions\", \"lieu\": \"Nantes\", \"salaire\": \"35-45k\", \"type_contrat\": \"Freelance\", \"date_publication\": \"2025-01-04T00:00:00\", \"description\": \"Offre de Machine Learning Engineer chez AI Innovations.\", \"lien_offre\": \"https://www.hellowork.com/offre-19\", \"t\\u00e9l\\u00e9travail\": \"Oui\", \"exp\\u00e9rience_requise\": \"Junior\", \"comp\\u00e9tences\": \"Spark, ETL, Docker, Machine Learning, Python\", \"secteur_activit\\u00e9\": \"IA\", \"source\": \"Hellowork\"}, {\"id_offre\": \"OFFRE_20\", \"titre_poste\": \"Machine Learning Engineer\", \"entreprise\": \"TechCorp\", \"lieu\": \"Bordeaux\", \"salaire\": \"40-50k\", \"type_contrat\": \"Alternance\", \"date_publication\": \"2025-01-04T00:00:00\", \"description\": \"Offre de Data Analyst chez Analytica.\", \"lien_offre\": \"https://www.hellowork.com/offre-20\", \"t\\u00e9l\\u00e9travail\": \"Oui\", \"exp\\u00e9rience_requise\": \"Senior\", \"comp\\u00e9tences\": \"Cloud AWS, ETL, SQL, Docker, Power BI\", \"secteur_activit\\u00e9\": \"Consulting\", \"source\": \"Hellowork\"}, {\"id_offre\": \"OFFRE_21\", \"titre_poste\": \"BI Analyst\", \"entreprise\": \"TechCorp\", \"lieu\": \"Bordeaux\", \"salaire\": \"Non pr\\u00e9cis\\u00e9\", \"type_contrat\": \"Freelance\", \"date_publication\": \"2025-01-22T00:00:00\", \"description\": \"Offre de BI Analyst chez AI Innovations.\", \"lien_offre\": \"https://www.hellowork.com/offre-21\", \"t\\u00e9l\\u00e9travail\": \"Oui\", \"exp\\u00e9rience_requise\": \"Junior\", \"comp\\u00e9tences\": \"Docker, ETL, Python\", \"secteur_activit\\u00e9\": \"T\\u00e9l\\u00e9com\", \"source\": \"Hellowork\"}, {\"id_offre\": \"OFFRE_22\", \"titre_poste\": \"BI Analyst\", \"entreprise\": \"DataSolutions\", \"lieu\": \"Paris\", \"salaire\": \"35-45k\", \"type_contrat\": \"CDD\", \"date_publication\": \"2025-01-01T00:00:00\", \"description\": \"Offre de Data Engineer chez Analytica.\", \"lien_offre\": \"https://www.hellowork.com/offre-22\", \"t\\u00e9l\\u00e9travail\": \"Non\", \"exp\\u00e9rience_requise\": \"Senior\", \"comp\\u00e9tences\": \"Docker, Python, Power BI, Cloud AWS, SQL\", \"secteur_activit\\u00e9\": \"IA\", \"source\": \"Hellowork\"}, {\"id_offre\": \"OFFRE_23\", \"titre_poste\": \"BI Analyst\", \"entreprise\": \"TechCorp\", \"lieu\": \"Toulouse\", \"salaire\": \"50-60k\", \"type_contrat\": \"CDI\", \"date_publication\": \"2024-12-31T00:00:00\", \"description\": \"Offre de Data Engineer chez AI Innovations.\", \"lien_offre\": \"https://www.hellowork.com/offre-23\", \"t\\u00e9l\\u00e9travail\": \"Non\", \"exp\\u00e9rience_requise\": \"Senior\", \"comp\\u00e9tences\": \"Python, Spark\", \"secteur_activit\\u00e9\": \"IA\", \"source\": \"Hellowork\"}, {\"id_offre\": \"OFFRE_24\", \"titre_poste\": \"Data Engineer\", \"entreprise\": \"BigData France\", \"lieu\": \"Marseille\", \"salaire\": \"50-60k\", \"type_contrat\": \"CDI\", \"date_publication\": \"2025-01-16T00:00:00\", \"description\": \"Offre de Data Engineer chez AI Innovations.\", \"lien_offre\": \"https://www.hellowork.com/offre-24\", \"t\\u00e9l\\u00e9travail\": \"Oui\", \"exp\\u00e9rience_requise\": \"Senior\", \"comp\\u00e9tences\": \"Power BI, Python\", \"secteur_activit\\u00e9\": \"T\\u00e9l\\u00e9com\", \"source\": \"Hellowork\"}, {\"id_offre\": \"OFFRE_25\", \"titre_poste\": \"BI Analyst\", \"entreprise\": \"AI Innovations\", \"lieu\": \"Paris\", \"salaire\": \"Non pr\\u00e9cis\\u00e9\", \"type_contrat\": \"Stage\", \"date_publication\": \"2025-01-11T00:00:00\", \"description\": \"Offre de Machine Learning Engineer chez Analytica.\", \"lien_offre\": \"https://www.hellowork.com/offre-25\", \"t\\u00e9l\\u00e9travail\": \"Non\", \"exp\\u00e9rience_requise\": \"Junior\", \"comp\\u00e9tences\": \"Spark, Machine Learning, SQL, Cloud AWS, Docker\", \"secteur_activit\\u00e9\": \"Finance\", \"source\": \"Hellowork\"}, {\"id_offre\": \"OFFRE_26\", \"titre_poste\": \"Machine Learning Engineer\", \"entreprise\": \"Analytica\", \"lieu\": \"Rennes\", \"salaire\": \"Non pr\\u00e9cis\\u00e9\", \"type_contrat\": \"CDD\", \"date_publication\": \"2025-01-11T00:00:00\", \"description\": \"Offre de Machine Learning Engineer chez AI Innovations.\", \"lien_offre\": \"https://www.hellowork.com/offre-26\", \"t\\u00e9l\\u00e9travail\": \"Non\", \"exp\\u00e9rience_requise\": \"Junior\", \"comp\\u00e9tences\": \"Python, ETL, Docker\", \"secteur_activit\\u00e9\": \"IA\", \"source\": \"Hellowork\"}, {\"id_offre\": \"OFFRE_27\", \"titre_poste\": \"BI Analyst\", \"entreprise\": \"TechCorp\", \"lieu\": \"Nantes\", \"salaire\": \"50-60k\", \"type_contrat\": \"Freelance\", \"date_publication\": \"2025-01-17T00:00:00\", \"description\": \"Offre de Data Scientist chez TechCorp.\", \"lien_offre\": \"https://www.hellowork.com/offre-27\", \"t\\u00e9l\\u00e9travail\": \"Non\", \"exp\\u00e9rience_requise\": \"Senior\", \"comp\\u00e9tences\": \"Cloud AWS, Spark, SQL\", \"secteur_activit\\u00e9\": \"E-commerce\", \"source\": \"Hellowork\"}, {\"id_offre\": \"OFFRE_28\", \"titre_poste\": \"BI Analyst\", \"entreprise\": \"BigData France\", \"lieu\": \"Lille\", \"salaire\": \"50-60k\", \"type_contrat\": \"Freelance\", \"date_publication\": \"2025-01-10T00:00:00\", \"description\": \"Offre de Data Engineer chez DataSolutions.\", \"lien_offre\": \"https://www.hellowork.com/offre-28\", \"t\\u00e9l\\u00e9travail\": \"Oui\", \"exp\\u00e9rience_requise\": \"Senior\", \"comp\\u00e9tences\": \"Docker, SQL\", \"secteur_activit\\u00e9\": \"E-commerce\", \"source\": \"Hellowork\"}, {\"id_offre\": \"OFFRE_29\", \"titre_poste\": \"Data Analyst\", \"entreprise\": \"AI Innovations\", \"lieu\": \"Nantes\", \"salaire\": \"Non pr\\u00e9cis\\u00e9\", \"type_contrat\": \"CDI\", \"date_publication\": \"2025-01-20T00:00:00\", \"description\": \"Offre de Data Analyst chez DataSolutions.\", \"lien_offre\": \"https://www.hellowork.com/offre-29\", \"t\\u00e9l\\u00e9travail\": \"Non\", \"exp\\u00e9rience_requise\": \"Senior\", \"comp\\u00e9tences\": \"Spark, Power BI, Machine Learning, Cloud AWS, Docker\", \"secteur_activit\\u00e9\": \"IA\", \"source\": \"Hellowork\"}, {\"id_offre\": \"OFFRE_30\", \"titre_poste\": \"Machine Learning Engineer\", \"entreprise\": \"BigData France\", \"lieu\": \"Rennes\", \"salaire\": \"Non pr\\u00e9cis\\u00e9\", \"type_contrat\": \"CDI\", \"date_publication\": \"2025-01-21T00:00:00\", \"description\": \"Offre de Machine Learning Engineer chez Analytica.\", \"lien_offre\": \"https://www.hellowork.com/offre-30\", \"t\\u00e9l\\u00e9travail\": \"Oui\", \"exp\\u00e9rience_requise\": \"Junior\", \"comp\\u00e9tences\": \"SQL, Power BI, Cloud AWS\", \"secteur_activit\\u00e9\": \"T\\u00e9l\\u00e9com\", \"source\": \"Hellowork\"}, {\"id_offre\": \"OFFRE_31\", \"titre_poste\": \"Data Analyst\", \"entreprise\": \"BigData France\", \"lieu\": \"Lille\", \"salaire\": \"40-50k\", \"type_contrat\": \"CDI\", \"date_publication\": \"2025-01-15T00:00:00\", \"description\": \"Offre de Data Engineer chez TechCorp.\", \"lien_offre\": \"https://www.hellowork.com/offre-31\", \"t\\u00e9l\\u00e9travail\": \"Non\", \"exp\\u00e9rience_requise\": \"Confirm\\u00e9\", \"comp\\u00e9tences\": \"SQL, Spark, Machine Learning, Python, Docker\", \"secteur_activit\\u00e9\": \"E-commerce\", \"source\": \"Hellowork\"}, {\"id_offre\": \"OFFRE_32\", \"titre_poste\": \"Data Engineer\", \"entreprise\": \"TechCorp\", \"lieu\": \"Bordeaux\", \"salaire\": \"40-50k\", \"type_contrat\": \"Freelance\", \"date_publication\": \"2025-01-17T00:00:00\", \"description\": \"Offre de Data Scientist chez BigData France.\", \"lien_offre\": \"https://www.hellowork.com/offre-32\", \"t\\u00e9l\\u00e9travail\": \"Non\", \"exp\\u00e9rience_requise\": \"Senior\", \"comp\\u00e9tences\": \"SQL, Python, Spark, Power BI, Machine Learning\", \"secteur_activit\\u00e9\": \"IA\", \"source\": \"Hellowork\"}, {\"id_offre\": \"OFFRE_33\", \"titre_poste\": \"Machine Learning Engineer\", \"entreprise\": \"Analytica\", \"lieu\": \"Paris\", \"salaire\": \"50-60k\", \"type_contrat\": \"Alternance\", \"date_publication\": \"2025-01-15T00:00:00\", \"description\": \"Offre de Machine Learning Engineer chez TechCorp.\", \"lien_offre\": \"https://www.hellowork.com/offre-33\", \"t\\u00e9l\\u00e9travail\": \"Non\", \"exp\\u00e9rience_requise\": \"Confirm\\u00e9\", \"comp\\u00e9tences\": \"Docker, SQL, Machine Learning\", \"secteur_activit\\u00e9\": \"E-commerce\", \"source\": \"Hellowork\"}, {\"id_offre\": \"OFFRE_34\", \"titre_poste\": \"Data Scientist\", \"entreprise\": \"BigData France\", \"lieu\": \"Paris\", \"salaire\": \"35-45k\", \"type_contrat\": \"Freelance\", \"date_publication\": \"2025-01-29T00:00:00\", \"description\": \"Offre de Machine Learning Engineer chez Analytica.\", \"lien_offre\": \"https://www.hellowork.com/offre-34\", \"t\\u00e9l\\u00e9travail\": \"Oui\", \"exp\\u00e9rience_requise\": \"Senior\", \"comp\\u00e9tences\": \"Spark, ETL, SQL, Machine Learning, Docker\", \"secteur_activit\\u00e9\": \"IA\", \"source\": \"Hellowork\"}, {\"id_offre\": \"OFFRE_35\", \"titre_poste\": \"Machine Learning Engineer\", \"entreprise\": \"AI Innovations\", \"lieu\": \"Lyon\", \"salaire\": \"Non pr\\u00e9cis\\u00e9\", \"type_contrat\": \"CDD\", \"date_publication\": \"2025-01-19T00:00:00\", \"description\": \"Offre de Machine Learning Engineer chez AI Innovations.\", \"lien_offre\": \"https://www.hellowork.com/offre-35\", \"t\\u00e9l\\u00e9travail\": \"Non\", \"exp\\u00e9rience_requise\": \"Senior\", \"comp\\u00e9tences\": \"SQL, Cloud AWS, Docker, ETL, Python\", \"secteur_activit\\u00e9\": \"E-commerce\", \"source\": \"Hellowork\"}, {\"id_offre\": \"OFFRE_36\", \"titre_poste\": \"Data Engineer\", \"entreprise\": \"DataSolutions\", \"lieu\": \"Lyon\", \"salaire\": \"35-45k\", \"type_contrat\": \"CDI\", \"date_publication\": \"2025-01-29T00:00:00\", \"description\": \"Offre de Data Scientist chez TechCorp.\", \"lien_offre\": \"https://www.hellowork.com/offre-36\", \"t\\u00e9l\\u00e9travail\": \"Non\", \"exp\\u00e9rience_requise\": \"Confirm\\u00e9\", \"comp\\u00e9tences\": \"Docker, ETL, Power BI, Python\", \"secteur_activit\\u00e9\": \"T\\u00e9l\\u00e9com\", \"source\": \"Hellowork\"}, {\"id_offre\": \"OFFRE_37\", \"titre_poste\": \"Data Scientist\", \"entreprise\": \"AI Innovations\", \"lieu\": \"Lyon\", \"salaire\": \"40-50k\", \"type_contrat\": \"CDI\", \"date_publication\": \"2025-01-05T00:00:00\", \"description\": \"Offre de Data Scientist chez Analytica.\", \"lien_offre\": \"https://www.hellowork.com/offre-37\", \"t\\u00e9l\\u00e9travail\": \"Non\", \"exp\\u00e9rience_requise\": \"Junior\", \"comp\\u00e9tences\": \"Cloud AWS, Machine Learning\", \"secteur_activit\\u00e9\": \"E-commerce\", \"source\": \"Hellowork\"}, {\"id_offre\": \"OFFRE_38\", \"titre_poste\": \"Machine Learning Engineer\", \"entreprise\": \"AI Innovations\", \"lieu\": \"Rennes\", \"salaire\": \"40-50k\", \"type_contrat\": \"CDI\", \"date_publication\": \"2025-01-06T00:00:00\", \"description\": \"Offre de BI Analyst chez Analytica.\", \"lien_offre\": \"https://www.hellowork.com/offre-38\", \"t\\u00e9l\\u00e9travail\": \"Non\", \"exp\\u00e9rience_requise\": \"Senior\", \"comp\\u00e9tences\": \"Cloud AWS, ETL, Docker\", \"secteur_activit\\u00e9\": \"T\\u00e9l\\u00e9com\", \"source\": \"Hellowork\"}, {\"id_offre\": \"OFFRE_39\", \"titre_poste\": \"Data Scientist\", \"entreprise\": \"BigData France\", \"lieu\": \"Nantes\", \"salaire\": \"40-50k\", \"type_contrat\": \"CDI\", \"date_publication\": \"2024-12-31T00:00:00\", \"description\": \"Offre de BI Analyst chez TechCorp.\", \"lien_offre\": \"https://www.hellowork.com/offre-39\", \"t\\u00e9l\\u00e9travail\": \"Non\", \"exp\\u00e9rience_requise\": \"Junior\", \"comp\\u00e9tences\": \"Spark, Power BI, ETL, Machine Learning, Cloud AWS\", \"secteur_activit\\u00e9\": \"\\u00c9nergie\", \"source\": \"Hellowork\"}, {\"id_offre\": \"OFFRE_40\", \"titre_poste\": \"Data Analyst\", \"entreprise\": \"AI Innovations\", \"lieu\": \"Rennes\", \"salaire\": \"35-45k\", \"type_contrat\": \"Stage\", \"date_publication\": \"2025-01-30T00:00:00\", \"description\": \"Offre de Data Analyst chez DataSolutions.\", \"lien_offre\": \"https://www.hellowork.com/offre-40\", \"t\\u00e9l\\u00e9travail\": \"Oui\", \"exp\\u00e9rience_requise\": \"Confirm\\u00e9\", \"comp\\u00e9tences\": \"Power BI, Spark\", \"secteur_activit\\u00e9\": \"E-commerce\", \"source\": \"Hellowork\"}, {\"id_offre\": \"OFFRE_41\", \"titre_poste\": \"Data Engineer\", \"entreprise\": \"AI Innovations\", \"lieu\": \"Paris\", \"salaire\": \"40-50k\", \"type_contrat\": \"CDI\", \"date_publication\": \"2025-01-02T00:00:00\", \"description\": \"Offre de Data Analyst chez TechCorp.\", \"lien_offre\": \"https://www.hellowork.com/offre-41\", \"t\\u00e9l\\u00e9travail\": \"Oui\", \"exp\\u00e9rience_requise\": \"Senior\", \"comp\\u00e9tences\": \"Python, SQL, Machine Learning, Docker\", \"secteur_activit\\u00e9\": \"E-commerce\", \"source\": \"Hellowork\"}, {\"id_offre\": \"OFFRE_42\", \"titre_poste\": \"Machine Learning Engineer\", \"entreprise\": \"Analytica\", \"lieu\": \"Lyon\", \"salaire\": \"Non pr\\u00e9cis\\u00e9\", \"type_contrat\": \"CDD\", \"date_publication\": \"2025-01-28T00:00:00\", \"description\": \"Offre de Machine Learning Engineer chez TechCorp.\", \"lien_offre\": \"https://www.hellowork.com/offre-42\", \"t\\u00e9l\\u00e9travail\": \"Non\", \"exp\\u00e9rience_requise\": \"Junior\", \"comp\\u00e9tences\": \"Cloud AWS, Spark, Machine Learning, Power BI, Python\", \"secteur_activit\\u00e9\": \"T\\u00e9l\\u00e9com\", \"source\": \"Hellowork\"}, {\"id_offre\": \"OFFRE_43\", \"titre_poste\": \"Machine Learning Engineer\", \"entreprise\": \"TechCorp\", \"lieu\": \"Lille\", \"salaire\": \"35-45k\", \"type_contrat\": \"Stage\", \"date_publication\": \"2025-01-17T00:00:00\", \"description\": \"Offre de BI Analyst chez Analytica.\", \"lien_offre\": \"https://www.hellowork.com/offre-43\", \"t\\u00e9l\\u00e9travail\": \"Oui\", \"exp\\u00e9rience_requise\": \"Confirm\\u00e9\", \"comp\\u00e9tences\": \"Spark, Machine Learning\", \"secteur_activit\\u00e9\": \"\\u00c9nergie\", \"source\": \"Hellowork\"}, {\"id_offre\": \"OFFRE_44\", \"titre_poste\": \"Data Analyst\", \"entreprise\": \"BigData France\", \"lieu\": \"Bordeaux\", \"salaire\": \"50-60k\", \"type_contrat\": \"Stage\", \"date_publication\": \"2025-01-09T00:00:00\", \"description\": \"Offre de Data Engineer chez AI Innovations.\", \"lien_offre\": \"https://www.hellowork.com/offre-44\", \"t\\u00e9l\\u00e9travail\": \"Oui\", \"exp\\u00e9rience_requise\": \"Senior\", \"comp\\u00e9tences\": \"SQL, Cloud AWS, Power BI, Spark\", \"secteur_activit\\u00e9\": \"IA\", \"source\": \"Hellowork\"}, {\"id_offre\": \"OFFRE_45\", \"titre_poste\": \"BI Analyst\", \"entreprise\": \"Analytica\", \"lieu\": \"Paris\", \"salaire\": \"50-60k\", \"type_contrat\": \"Stage\", \"date_publication\": \"2025-01-06T00:00:00\", \"description\": \"Offre de Data Analyst chez DataSolutions.\", \"lien_offre\": \"https://www.hellowork.com/offre-45\", \"t\\u00e9l\\u00e9travail\": \"Oui\", \"exp\\u00e9rience_requise\": \"Senior\", \"comp\\u00e9tences\": \"ETL, SQL, Power BI, Cloud AWS, Docker\", \"secteur_activit\\u00e9\": \"T\\u00e9l\\u00e9com\", \"source\": \"Hellowork\"}, {\"id_offre\": \"OFFRE_46\", \"titre_poste\": \"Data Analyst\", \"entreprise\": \"TechCorp\", \"lieu\": \"Lille\", \"salaire\": \"40-50k\", \"type_contrat\": \"Alternance\", \"date_publication\": \"2025-01-01T00:00:00\", \"description\": \"Offre de Data Analyst chez BigData France.\", \"lien_offre\": \"https://www.hellowork.com/offre-46\", \"t\\u00e9l\\u00e9travail\": \"Oui\", \"exp\\u00e9rience_requise\": \"Junior\", \"comp\\u00e9tences\": \"Spark, Docker\", \"secteur_activit\\u00e9\": \"Sant\\u00e9\", \"source\": \"Hellowork\"}, {\"id_offre\": \"OFFRE_47\", \"titre_poste\": \"Machine Learning Engineer\", \"entreprise\": \"TechCorp\", \"lieu\": \"Lille\", \"salaire\": \"50-60k\", \"type_contrat\": \"CDI\", \"date_publication\": \"2025-01-03T00:00:00\", \"description\": \"Offre de Data Scientist chez Analytica.\", \"lien_offre\": \"https://www.hellowork.com/offre-47\", \"t\\u00e9l\\u00e9travail\": \"Oui\", \"exp\\u00e9rience_requise\": \"Junior\", \"comp\\u00e9tences\": \"Power BI, Spark, Docker, Machine Learning, ETL\", \"secteur_activit\\u00e9\": \"Sant\\u00e9\", \"source\": \"Hellowork\"}, {\"id_offre\": \"OFFRE_48\", \"titre_poste\": \"Data Analyst\", \"entreprise\": \"TechCorp\", \"lieu\": \"Marseille\", \"salaire\": \"Non pr\\u00e9cis\\u00e9\", \"type_contrat\": \"CDI\", \"date_publication\": \"2025-01-20T00:00:00\", \"description\": \"Offre de Machine Learning Engineer chez Analytica.\", \"lien_offre\": \"https://www.hellowork.com/offre-48\", \"t\\u00e9l\\u00e9travail\": \"Oui\", \"exp\\u00e9rience_requise\": \"Confirm\\u00e9\", \"comp\\u00e9tences\": \"Python, Cloud AWS\", \"secteur_activit\\u00e9\": \"Sant\\u00e9\", \"source\": \"Hellowork\"}, {\"id_offre\": \"OFFRE_49\", \"titre_poste\": \"Data Engineer\", \"entreprise\": \"DataSolutions\", \"lieu\": \"Marseille\", \"salaire\": \"50-60k\", \"type_contrat\": \"CDD\", \"date_publication\": \"2025-01-11T00:00:00\", \"description\": \"Offre de Data Analyst chez AI Innovations.\", \"lien_offre\": \"https://www.hellowork.com/offre-49\", \"t\\u00e9l\\u00e9travail\": \"Non\", \"exp\\u00e9rience_requise\": \"Senior\", \"comp\\u00e9tences\": \"Machine Learning, Docker, ETL\", \"secteur_activit\\u00e9\": \"Finance\", \"source\": \"Hellowork\"}, {\"id_offre\": \"OFFRE_50\", \"titre_poste\": \"Machine Learning Engineer\", \"entreprise\": \"TechCorp\", \"lieu\": \"Rennes\", \"salaire\": \"Non pr\\u00e9cis\\u00e9\", \"type_contrat\": \"Alternance\", \"date_publication\": \"2025-01-28T00:00:00\", \"description\": \"Offre de Machine Learning Engineer chez TechCorp.\", \"lien_offre\": \"https://www.hellowork.com/offre-50\", \"t\\u00e9l\\u00e9travail\": \"Non\", \"exp\\u00e9rience_requise\": \"Junior\", \"comp\\u00e9tences\": \"Docker, Machine Learning\", \"secteur_activit\\u00e9\": \"IA\", \"source\": \"Hellowork\"}, {\"id_offre\": \"OFFRE_51\", \"titre_poste\": \"BI Analyst\", \"entreprise\": \"BigData France\", \"lieu\": \"Marseille\", \"salaire\": \"Non pr\\u00e9cis\\u00e9\", \"type_contrat\": \"Freelance\", \"date_publication\": \"2025-01-23T00:00:00\", \"description\": \"Offre de Data Scientist chez DataSolutions.\", \"lien_offre\": \"https://www.hellowork.com/offre-51\", \"t\\u00e9l\\u00e9travail\": \"Oui\", \"exp\\u00e9rience_requise\": \"Senior\", \"comp\\u00e9tences\": \"Spark, Power BI, Docker, Cloud AWS, SQL\", \"secteur_activit\\u00e9\": \"T\\u00e9l\\u00e9com\", \"source\": \"Hellowork\"}, {\"id_offre\": \"OFFRE_52\", \"titre_poste\": \"Data Engineer\", \"entreprise\": \"BigData France\", \"lieu\": \"Marseille\", \"salaire\": \"40-50k\", \"type_contrat\": \"CDI\", \"date_publication\": \"2025-01-19T00:00:00\", \"description\": \"Offre de Data Engineer chez BigData France.\", \"lien_offre\": \"https://www.hellowork.com/offre-52\", \"t\\u00e9l\\u00e9travail\": \"Oui\", \"exp\\u00e9rience_requise\": \"Confirm\\u00e9\", \"comp\\u00e9tences\": \"Spark, SQL\", \"secteur_activit\\u00e9\": \"E-commerce\", \"source\": \"Hellowork\"}, {\"id_offre\": \"OFFRE_53\", \"titre_poste\": \"Data Engineer\", \"entreprise\": \"AI Innovations\", \"lieu\": \"Rennes\", \"salaire\": \"40-50k\", \"type_contrat\": \"Alternance\", \"date_publication\": \"2025-01-13T00:00:00\", \"description\": \"Offre de Data Scientist chez AI Innovations.\", \"lien_offre\": \"https://www.hellowork.com/offre-53\", \"t\\u00e9l\\u00e9travail\": \"Non\", \"exp\\u00e9rience_requise\": \"Confirm\\u00e9\", \"comp\\u00e9tences\": \"Machine Learning, Python\", \"secteur_activit\\u00e9\": \"Finance\", \"source\": \"Hellowork\"}, {\"id_offre\": \"OFFRE_54\", \"titre_poste\": \"BI Analyst\", \"entreprise\": \"AI Innovations\", \"lieu\": \"Toulouse\", \"salaire\": \"35-45k\", \"type_contrat\": \"Alternance\", \"date_publication\": \"2025-01-01T00:00:00\", \"description\": \"Offre de Data Scientist chez Analytica.\", \"lien_offre\": \"https://www.hellowork.com/offre-54\", \"t\\u00e9l\\u00e9travail\": \"Oui\", \"exp\\u00e9rience_requise\": \"Junior\", \"comp\\u00e9tences\": \"Python, Power BI, Machine Learning, SQL\", \"secteur_activit\\u00e9\": \"E-commerce\", \"source\": \"Hellowork\"}, {\"id_offre\": \"OFFRE_55\", \"titre_poste\": \"Data Engineer\", \"entreprise\": \"BigData France\", \"lieu\": \"Lyon\", \"salaire\": \"Non pr\\u00e9cis\\u00e9\", \"type_contrat\": \"CDI\", \"date_publication\": \"2025-01-21T00:00:00\", \"description\": \"Offre de Data Engineer chez BigData France.\", \"lien_offre\": \"https://www.hellowork.com/offre-55\", \"t\\u00e9l\\u00e9travail\": \"Non\", \"exp\\u00e9rience_requise\": \"Junior\", \"comp\\u00e9tences\": \"Python, Docker, Cloud AWS, Machine Learning, Spark\", \"secteur_activit\\u00e9\": \"Sant\\u00e9\", \"source\": \"Hellowork\"}, {\"id_offre\": \"OFFRE_56\", \"titre_poste\": \"Data Scientist\", \"entreprise\": \"Analytica\", \"lieu\": \"Marseille\", \"salaire\": \"50-60k\", \"type_contrat\": \"Alternance\", \"date_publication\": \"2025-01-28T00:00:00\", \"description\": \"Offre de BI Analyst chez BigData France.\", \"lien_offre\": \"https://www.hellowork.com/offre-56\", \"t\\u00e9l\\u00e9travail\": \"Oui\", \"exp\\u00e9rience_requise\": \"Junior\", \"comp\\u00e9tences\": \"Docker, Spark, SQL, Cloud AWS, Machine Learning\", \"secteur_activit\\u00e9\": \"E-commerce\", \"source\": \"Hellowork\"}, {\"id_offre\": \"OFFRE_57\", \"titre_poste\": \"Data Engineer\", \"entreprise\": \"AI Innovations\", \"lieu\": \"Lille\", \"salaire\": \"Non pr\\u00e9cis\\u00e9\", \"type_contrat\": \"CDI\", \"date_publication\": \"2025-01-02T00:00:00\", \"description\": \"Offre de Data Analyst chez AI Innovations.\", \"lien_offre\": \"https://www.hellowork.com/offre-57\", \"t\\u00e9l\\u00e9travail\": \"Oui\", \"exp\\u00e9rience_requise\": \"Senior\", \"comp\\u00e9tences\": \"ETL, Spark, Docker, SQL\", \"secteur_activit\\u00e9\": \"Consulting\", \"source\": \"Hellowork\"}, {\"id_offre\": \"OFFRE_58\", \"titre_poste\": \"Machine Learning Engineer\", \"entreprise\": \"Analytica\", \"lieu\": \"Rennes\", \"salaire\": \"40-50k\", \"type_contrat\": \"Alternance\", \"date_publication\": \"2025-01-17T00:00:00\", \"description\": \"Offre de Data Analyst chez DataSolutions.\", \"lien_offre\": \"https://www.hellowork.com/offre-58\", \"t\\u00e9l\\u00e9travail\": \"Oui\", \"exp\\u00e9rience_requise\": \"Junior\", \"comp\\u00e9tences\": \"Spark, SQL, Power BI, Cloud AWS, Docker\", \"secteur_activit\\u00e9\": \"Consulting\", \"source\": \"Hellowork\"}, {\"id_offre\": \"OFFRE_59\", \"titre_poste\": \"Data Engineer\", \"entreprise\": \"TechCorp\", \"lieu\": \"Paris\", \"salaire\": \"40-50k\", \"type_contrat\": \"Freelance\", \"date_publication\": \"2025-01-20T00:00:00\", \"description\": \"Offre de BI Analyst chez DataSolutions.\", \"lien_offre\": \"https://www.hellowork.com/offre-59\", \"t\\u00e9l\\u00e9travail\": \"Oui\", \"exp\\u00e9rience_requise\": \"Senior\", \"comp\\u00e9tences\": \"Machine Learning, Docker, Python, Power BI\", \"secteur_activit\\u00e9\": \"Sant\\u00e9\", \"source\": \"Hellowork\"}, {\"id_offre\": \"OFFRE_60\", \"titre_poste\": \"Machine Learning Engineer\", \"entreprise\": \"BigData France\", \"lieu\": \"Marseille\", \"salaire\": \"Non pr\\u00e9cis\\u00e9\", \"type_contrat\": \"Alternance\", \"date_publication\": \"2025-01-26T00:00:00\", \"description\": \"Offre de Data Scientist chez BigData France.\", \"lien_offre\": \"https://www.hellowork.com/offre-60\", \"t\\u00e9l\\u00e9travail\": \"Oui\", \"exp\\u00e9rience_requise\": \"Confirm\\u00e9\", \"comp\\u00e9tences\": \"Python, ETL, Power BI, Machine Learning, Cloud AWS\", \"secteur_activit\\u00e9\": \"Consulting\", \"source\": \"Hellowork\"}, {\"id_offre\": \"OFFRE_61\", \"titre_poste\": \"Data Scientist\", \"entreprise\": \"BigData France\", \"lieu\": \"Nantes\", \"salaire\": \"50-60k\", \"type_contrat\": \"Stage\", \"date_publication\": \"2025-01-05T00:00:00\", \"description\": \"Offre de Machine Learning Engineer chez BigData France.\", \"lien_offre\": \"https://www.hellowork.com/offre-61\", \"t\\u00e9l\\u00e9travail\": \"Oui\", \"exp\\u00e9rience_requise\": \"Junior\", \"comp\\u00e9tences\": \"Machine Learning, Power BI, Docker, ETL\", \"secteur_activit\\u00e9\": \"Sant\\u00e9\", \"source\": \"Hellowork\"}, {\"id_offre\": \"OFFRE_62\", \"titre_poste\": \"Machine Learning Engineer\", \"entreprise\": \"DataSolutions\", \"lieu\": \"Rennes\", \"salaire\": \"35-45k\", \"type_contrat\": \"Stage\", \"date_publication\": \"2025-01-23T00:00:00\", \"description\": \"Offre de BI Analyst chez DataSolutions.\", \"lien_offre\": \"https://www.hellowork.com/offre-62\", \"t\\u00e9l\\u00e9travail\": \"Oui\", \"exp\\u00e9rience_requise\": \"Confirm\\u00e9\", \"comp\\u00e9tences\": \"Power BI, Cloud AWS, Machine Learning\", \"secteur_activit\\u00e9\": \"IA\", \"source\": \"Hellowork\"}, {\"id_offre\": \"OFFRE_63\", \"titre_poste\": \"Data Scientist\", \"entreprise\": \"TechCorp\", \"lieu\": \"Bordeaux\", \"salaire\": \"50-60k\", \"type_contrat\": \"Freelance\", \"date_publication\": \"2025-01-28T00:00:00\", \"description\": \"Offre de Machine Learning Engineer chez BigData France.\", \"lien_offre\": \"https://www.hellowork.com/offre-63\", \"t\\u00e9l\\u00e9travail\": \"Non\", \"exp\\u00e9rience_requise\": \"Junior\", \"comp\\u00e9tences\": \"Python, Machine Learning\", \"secteur_activit\\u00e9\": \"\\u00c9nergie\", \"source\": \"Hellowork\"}, {\"id_offre\": \"OFFRE_64\", \"titre_poste\": \"BI Analyst\", \"entreprise\": \"AI Innovations\", \"lieu\": \"Paris\", \"salaire\": \"50-60k\", \"type_contrat\": \"Stage\", \"date_publication\": \"2025-01-14T00:00:00\", \"description\": \"Offre de Data Scientist chez AI Innovations.\", \"lien_offre\": \"https://www.hellowork.com/offre-64\", \"t\\u00e9l\\u00e9travail\": \"Non\", \"exp\\u00e9rience_requise\": \"Senior\", \"comp\\u00e9tences\": \"Cloud AWS, Power BI, Spark\", \"secteur_activit\\u00e9\": \"Consulting\", \"source\": \"Hellowork\"}, {\"id_offre\": \"OFFRE_65\", \"titre_poste\": \"Data Scientist\", \"entreprise\": \"TechCorp\", \"lieu\": \"Toulouse\", \"salaire\": \"35-45k\", \"type_contrat\": \"CDI\", \"date_publication\": \"2024-12-31T00:00:00\", \"description\": \"Offre de Data Engineer chez TechCorp.\", \"lien_offre\": \"https://www.hellowork.com/offre-65\", \"t\\u00e9l\\u00e9travail\": \"Oui\", \"exp\\u00e9rience_requise\": \"Junior\", \"comp\\u00e9tences\": \"Machine Learning, Docker\", \"secteur_activit\\u00e9\": \"Consulting\", \"source\": \"Hellowork\"}, {\"id_offre\": \"OFFRE_66\", \"titre_poste\": \"Data Analyst\", \"entreprise\": \"TechCorp\", \"lieu\": \"Rennes\", \"salaire\": \"Non pr\\u00e9cis\\u00e9\", \"type_contrat\": \"Alternance\", \"date_publication\": \"2025-01-17T00:00:00\", \"description\": \"Offre de BI Analyst chez TechCorp.\", \"lien_offre\": \"https://www.hellowork.com/offre-66\", \"t\\u00e9l\\u00e9travail\": \"Non\", \"exp\\u00e9rience_requise\": \"Senior\", \"comp\\u00e9tences\": \"Spark, Machine Learning\", \"secteur_activit\\u00e9\": \"E-commerce\", \"source\": \"Hellowork\"}, {\"id_offre\": \"OFFRE_67\", \"titre_poste\": \"Data Engineer\", \"entreprise\": \"Analytica\", \"lieu\": \"Toulouse\", \"salaire\": \"50-60k\", \"type_contrat\": \"Stage\", \"date_publication\": \"2025-01-25T00:00:00\", \"description\": \"Offre de Data Analyst chez BigData France.\", \"lien_offre\": \"https://www.hellowork.com/offre-67\", \"t\\u00e9l\\u00e9travail\": \"Non\", \"exp\\u00e9rience_requise\": \"Senior\", \"comp\\u00e9tences\": \"Docker, Spark\", \"secteur_activit\\u00e9\": \"E-commerce\", \"source\": \"Hellowork\"}, {\"id_offre\": \"OFFRE_68\", \"titre_poste\": \"Data Engineer\", \"entreprise\": \"Analytica\", \"lieu\": \"Rennes\", \"salaire\": \"35-45k\", \"type_contrat\": \"CDD\", \"date_publication\": \"2025-01-09T00:00:00\", \"description\": \"Offre de BI Analyst chez DataSolutions.\", \"lien_offre\": \"https://www.hellowork.com/offre-68\", \"t\\u00e9l\\u00e9travail\": \"Oui\", \"exp\\u00e9rience_requise\": \"Confirm\\u00e9\", \"comp\\u00e9tences\": \"Python, Docker\", \"secteur_activit\\u00e9\": \"T\\u00e9l\\u00e9com\", \"source\": \"Hellowork\"}, {\"id_offre\": \"OFFRE_69\", \"titre_poste\": \"Data Scientist\", \"entreprise\": \"DataSolutions\", \"lieu\": \"Toulouse\", \"salaire\": \"Non pr\\u00e9cis\\u00e9\", \"type_contrat\": \"CDI\", \"date_publication\": \"2025-01-29T00:00:00\", \"description\": \"Offre de Data Analyst chez BigData France.\", \"lien_offre\": \"https://www.hellowork.com/offre-69\", \"t\\u00e9l\\u00e9travail\": \"Oui\", \"exp\\u00e9rience_requise\": \"Senior\", \"comp\\u00e9tences\": \"Docker, SQL, Python\", \"secteur_activit\\u00e9\": \"E-commerce\", \"source\": \"Hellowork\"}, {\"id_offre\": \"OFFRE_70\", \"titre_poste\": \"Data Analyst\", \"entreprise\": \"AI Innovations\", \"lieu\": \"Lille\", \"salaire\": \"Non pr\\u00e9cis\\u00e9\", \"type_contrat\": \"CDI\", \"date_publication\": \"2025-01-30T00:00:00\", \"description\": \"Offre de Data Engineer chez DataSolutions.\", \"lien_offre\": \"https://www.hellowork.com/offre-70\", \"t\\u00e9l\\u00e9travail\": \"Non\", \"exp\\u00e9rience_requise\": \"Confirm\\u00e9\", \"comp\\u00e9tences\": \"Python, Cloud AWS, Spark\", \"secteur_activit\\u00e9\": \"E-commerce\", \"source\": \"Hellowork\"}, {\"id_offre\": \"OFFRE_71\", \"titre_poste\": \"Machine Learning Engineer\", \"entreprise\": \"TechCorp\", \"lieu\": \"Lyon\", \"salaire\": \"50-60k\", \"type_contrat\": \"CDD\", \"date_publication\": \"2025-01-02T00:00:00\", \"description\": \"Offre de Data Scientist chez BigData France.\", \"lien_offre\": \"https://www.hellowork.com/offre-71\", \"t\\u00e9l\\u00e9travail\": \"Non\", \"exp\\u00e9rience_requise\": \"Senior\", \"comp\\u00e9tences\": \"Spark, Docker\", \"secteur_activit\\u00e9\": \"Finance\", \"source\": \"Hellowork\"}, {\"id_offre\": \"OFFRE_72\", \"titre_poste\": \"Data Scientist\", \"entreprise\": \"DataSolutions\", \"lieu\": \"Marseille\", \"salaire\": \"Non pr\\u00e9cis\\u00e9\", \"type_contrat\": \"Freelance\", \"date_publication\": \"2025-01-22T00:00:00\", \"description\": \"Offre de Data Scientist chez AI Innovations.\", \"lien_offre\": \"https://www.hellowork.com/offre-72\", \"t\\u00e9l\\u00e9travail\": \"Non\", \"exp\\u00e9rience_requise\": \"Senior\", \"comp\\u00e9tences\": \"Power BI, Docker, Machine Learning\", \"secteur_activit\\u00e9\": \"Finance\", \"source\": \"Hellowork\"}, {\"id_offre\": \"OFFRE_73\", \"titre_poste\": \"Data Scientist\", \"entreprise\": \"Analytica\", \"lieu\": \"Lyon\", \"salaire\": \"40-50k\", \"type_contrat\": \"Freelance\", \"date_publication\": \"2025-01-20T00:00:00\", \"description\": \"Offre de Data Scientist chez BigData France.\", \"lien_offre\": \"https://www.hellowork.com/offre-73\", \"t\\u00e9l\\u00e9travail\": \"Non\", \"exp\\u00e9rience_requise\": \"Confirm\\u00e9\", \"comp\\u00e9tences\": \"ETL, SQL, Docker, Machine Learning, Cloud AWS\", \"secteur_activit\\u00e9\": \"IA\", \"source\": \"Hellowork\"}, {\"id_offre\": \"OFFRE_74\", \"titre_poste\": \"Machine Learning Engineer\", \"entreprise\": \"DataSolutions\", \"lieu\": \"Nantes\", \"salaire\": \"40-50k\", \"type_contrat\": \"Stage\", \"date_publication\": \"2025-01-20T00:00:00\", \"description\": \"Offre de Data Scientist chez DataSolutions.\", \"lien_offre\": \"https://www.hellowork.com/offre-74\", \"t\\u00e9l\\u00e9travail\": \"Oui\", \"exp\\u00e9rience_requise\": \"Senior\", \"comp\\u00e9tences\": \"Docker, Spark, Python, Power BI\", \"secteur_activit\\u00e9\": \"E-commerce\", \"source\": \"Hellowork\"}, {\"id_offre\": \"OFFRE_75\", \"titre_poste\": \"BI Analyst\", \"entreprise\": \"Analytica\", \"lieu\": \"Paris\", \"salaire\": \"40-50k\", \"type_contrat\": \"CDI\", \"date_publication\": \"2025-01-12T00:00:00\", \"description\": \"Offre de Data Engineer chez BigData France.\", \"lien_offre\": \"https://www.hellowork.com/offre-75\", \"t\\u00e9l\\u00e9travail\": \"Oui\", \"exp\\u00e9rience_requise\": \"Confirm\\u00e9\", \"comp\\u00e9tences\": \"Python, Spark\", \"secteur_activit\\u00e9\": \"Consulting\", \"source\": \"Hellowork\"}, {\"id_offre\": \"OFFRE_76\", \"titre_poste\": \"Data Engineer\", \"entreprise\": \"AI Innovations\", \"lieu\": \"Marseille\", \"salaire\": \"Non pr\\u00e9cis\\u00e9\", \"type_contrat\": \"Stage\", \"date_publication\": \"2025-01-30T00:00:00\", \"description\": \"Offre de Machine Learning Engineer chez BigData France.\", \"lien_offre\": \"https://www.hellowork.com/offre-76\", \"t\\u00e9l\\u00e9travail\": \"Oui\", \"exp\\u00e9rience_requise\": \"Junior\", \"comp\\u00e9tences\": \"Docker, Cloud AWS, Power BI, SQL, Machine Learning\", \"secteur_activit\\u00e9\": \"\\u00c9nergie\", \"source\": \"Hellowork\"}, {\"id_offre\": \"OFFRE_77\", \"titre_poste\": \"Data Engineer\", \"entreprise\": \"AI Innovations\", \"lieu\": \"Lyon\", \"salaire\": \"40-50k\", \"type_contrat\": \"Stage\", \"date_publication\": \"2025-01-26T00:00:00\", \"description\": \"Offre de Data Scientist chez DataSolutions.\", \"lien_offre\": \"https://www.hellowork.com/offre-77\", \"t\\u00e9l\\u00e9travail\": \"Oui\", \"exp\\u00e9rience_requise\": \"Confirm\\u00e9\", \"comp\\u00e9tences\": \"Cloud AWS, Machine Learning, Docker, Power BI\", \"secteur_activit\\u00e9\": \"Sant\\u00e9\", \"source\": \"Hellowork\"}, {\"id_offre\": \"OFFRE_78\", \"titre_poste\": \"BI Analyst\", \"entreprise\": \"DataSolutions\", \"lieu\": \"Bordeaux\", \"salaire\": \"40-50k\", \"type_contrat\": \"Stage\", \"date_publication\": \"2025-01-17T00:00:00\", \"description\": \"Offre de BI Analyst chez AI Innovations.\", \"lien_offre\": \"https://www.hellowork.com/offre-78\", \"t\\u00e9l\\u00e9travail\": \"Non\", \"exp\\u00e9rience_requise\": \"Junior\", \"comp\\u00e9tences\": \"ETL, Docker, Machine Learning\", \"secteur_activit\\u00e9\": \"T\\u00e9l\\u00e9com\", \"source\": \"Hellowork\"}, {\"id_offre\": \"OFFRE_79\", \"titre_poste\": \"Data Engineer\", \"entreprise\": \"AI Innovations\", \"lieu\": \"Bordeaux\", \"salaire\": \"35-45k\", \"type_contrat\": \"Stage\", \"date_publication\": \"2025-01-14T00:00:00\", \"description\": \"Offre de BI Analyst chez AI Innovations.\", \"lien_offre\": \"https://www.hellowork.com/offre-79\", \"t\\u00e9l\\u00e9travail\": \"Oui\", \"exp\\u00e9rience_requise\": \"Junior\", \"comp\\u00e9tences\": \"Cloud AWS, Spark, Docker, SQL\", \"secteur_activit\\u00e9\": \"Consulting\", \"source\": \"Hellowork\"}, {\"id_offre\": \"OFFRE_80\", \"titre_poste\": \"BI Analyst\", \"entreprise\": \"Analytica\", \"lieu\": \"Toulouse\", \"salaire\": \"40-50k\", \"type_contrat\": \"CDD\", \"date_publication\": \"2025-01-17T00:00:00\", \"description\": \"Offre de BI Analyst chez AI Innovations.\", \"lien_offre\": \"https://www.hellowork.com/offre-80\", \"t\\u00e9l\\u00e9travail\": \"Oui\", \"exp\\u00e9rience_requise\": \"Junior\", \"comp\\u00e9tences\": \"ETL, SQL, Docker, Cloud AWS\", \"secteur_activit\\u00e9\": \"\\u00c9nergie\", \"source\": \"Hellowork\"}, {\"id_offre\": \"OFFRE_81\", \"titre_poste\": \"Data Engineer\", \"entreprise\": \"TechCorp\", \"lieu\": \"Marseille\", \"salaire\": \"40-50k\", \"type_contrat\": \"CDD\", \"date_publication\": \"2025-01-10T00:00:00\", \"description\": \"Offre de BI Analyst chez AI Innovations.\", \"lien_offre\": \"https://www.hellowork.com/offre-81\", \"t\\u00e9l\\u00e9travail\": \"Oui\", \"exp\\u00e9rience_requise\": \"Confirm\\u00e9\", \"comp\\u00e9tences\": \"Cloud AWS, Power BI, SQL\", \"secteur_activit\\u00e9\": \"Sant\\u00e9\", \"source\": \"Hellowork\"}, {\"id_offre\": \"OFFRE_82\", \"titre_poste\": \"Data Scientist\", \"entreprise\": \"TechCorp\", \"lieu\": \"Lyon\", \"salaire\": \"40-50k\", \"type_contrat\": \"CDI\", \"date_publication\": \"2025-01-22T00:00:00\", \"description\": \"Offre de Machine Learning Engineer chez Analytica.\", \"lien_offre\": \"https://www.hellowork.com/offre-82\", \"t\\u00e9l\\u00e9travail\": \"Oui\", \"exp\\u00e9rience_requise\": \"Senior\", \"comp\\u00e9tences\": \"SQL, Spark, Docker, Power BI\", \"secteur_activit\\u00e9\": \"E-commerce\", \"source\": \"Hellowork\"}, {\"id_offre\": \"OFFRE_83\", \"titre_poste\": \"Data Scientist\", \"entreprise\": \"TechCorp\", \"lieu\": \"Paris\", \"salaire\": \"35-45k\", \"type_contrat\": \"CDD\", \"date_publication\": \"2025-01-01T00:00:00\", \"description\": \"Offre de BI Analyst chez AI Innovations.\", \"lien_offre\": \"https://www.hellowork.com/offre-83\", \"t\\u00e9l\\u00e9travail\": \"Non\", \"exp\\u00e9rience_requise\": \"Senior\", \"comp\\u00e9tences\": \"Docker, Python, Power BI, ETL\", \"secteur_activit\\u00e9\": \"E-commerce\", \"source\": \"Hellowork\"}, {\"id_offre\": \"OFFRE_84\", \"titre_poste\": \"Data Engineer\", \"entreprise\": \"DataSolutions\", \"lieu\": \"Marseille\", \"salaire\": \"40-50k\", \"type_contrat\": \"CDD\", \"date_publication\": \"2025-01-28T00:00:00\", \"description\": \"Offre de BI Analyst chez TechCorp.\", \"lien_offre\": \"https://www.hellowork.com/offre-84\", \"t\\u00e9l\\u00e9travail\": \"Oui\", \"exp\\u00e9rience_requise\": \"Confirm\\u00e9\", \"comp\\u00e9tences\": \"Python, SQL, Cloud AWS, Spark\", \"secteur_activit\\u00e9\": \"Consulting\", \"source\": \"Hellowork\"}, {\"id_offre\": \"OFFRE_85\", \"titre_poste\": \"BI Analyst\", \"entreprise\": \"AI Innovations\", \"lieu\": \"Bordeaux\", \"salaire\": \"50-60k\", \"type_contrat\": \"Alternance\", \"date_publication\": \"2025-01-08T00:00:00\", \"description\": \"Offre de Data Analyst chez BigData France.\", \"lien_offre\": \"https://www.hellowork.com/offre-85\", \"t\\u00e9l\\u00e9travail\": \"Non\", \"exp\\u00e9rience_requise\": \"Confirm\\u00e9\", \"comp\\u00e9tences\": \"Docker, Power BI, Spark, Cloud AWS\", \"secteur_activit\\u00e9\": \"Sant\\u00e9\", \"source\": \"Hellowork\"}, {\"id_offre\": \"OFFRE_86\", \"titre_poste\": \"Data Engineer\", \"entreprise\": \"AI Innovations\", \"lieu\": \"Nantes\", \"salaire\": \"50-60k\", \"type_contrat\": \"Alternance\", \"date_publication\": \"2025-01-24T00:00:00\", \"description\": \"Offre de Data Engineer chez AI Innovations.\", \"lien_offre\": \"https://www.hellowork.com/offre-86\", \"t\\u00e9l\\u00e9travail\": \"Oui\", \"exp\\u00e9rience_requise\": \"Confirm\\u00e9\", \"comp\\u00e9tences\": \"Machine Learning, Spark\", \"secteur_activit\\u00e9\": \"Finance\", \"source\": \"Hellowork\"}, {\"id_offre\": \"OFFRE_87\", \"titre_poste\": \"Data Analyst\", \"entreprise\": \"TechCorp\", \"lieu\": \"Bordeaux\", \"salaire\": \"Non pr\\u00e9cis\\u00e9\", \"type_contrat\": \"Alternance\", \"date_publication\": \"2025-01-25T00:00:00\", \"description\": \"Offre de Data Engineer chez Analytica.\", \"lien_offre\": \"https://www.hellowork.com/offre-87\", \"t\\u00e9l\\u00e9travail\": \"Non\", \"exp\\u00e9rience_requise\": \"Senior\", \"comp\\u00e9tences\": \"ETL, Machine Learning, Cloud AWS, Spark\", \"secteur_activit\\u00e9\": \"Finance\", \"source\": \"Hellowork\"}, {\"id_offre\": \"OFFRE_88\", \"titre_poste\": \"Data Scientist\", \"entreprise\": \"AI Innovations\", \"lieu\": \"Rennes\", \"salaire\": \"Non pr\\u00e9cis\\u00e9\", \"type_contrat\": \"Stage\", \"date_publication\": \"2025-01-27T00:00:00\", \"description\": \"Offre de BI Analyst chez DataSolutions.\", \"lien_offre\": \"https://www.hellowork.com/offre-88\", \"t\\u00e9l\\u00e9travail\": \"Oui\", \"exp\\u00e9rience_requise\": \"Junior\", \"comp\\u00e9tences\": \"Machine Learning, Cloud AWS, Docker, Spark, Python\", \"secteur_activit\\u00e9\": \"IA\", \"source\": \"Hellowork\"}, {\"id_offre\": \"OFFRE_89\", \"titre_poste\": \"BI Analyst\", \"entreprise\": \"AI Innovations\", \"lieu\": \"Lyon\", \"salaire\": \"35-45k\", \"type_contrat\": \"Alternance\", \"date_publication\": \"2025-01-13T00:00:00\", \"description\": \"Offre de Machine Learning Engineer chez BigData France.\", \"lien_offre\": \"https://www.hellowork.com/offre-89\", \"t\\u00e9l\\u00e9travail\": \"Oui\", \"exp\\u00e9rience_requise\": \"Confirm\\u00e9\", \"comp\\u00e9tences\": \"Python, Spark, Machine Learning, Power BI, ETL\", \"secteur_activit\\u00e9\": \"\\u00c9nergie\", \"source\": \"Hellowork\"}, {\"id_offre\": \"OFFRE_90\", \"titre_poste\": \"Machine Learning Engineer\", \"entreprise\": \"BigData France\", \"lieu\": \"Nantes\", \"salaire\": \"40-50k\", \"type_contrat\": \"CDI\", \"date_publication\": \"2025-01-12T00:00:00\", \"description\": \"Offre de Data Engineer chez BigData France.\", \"lien_offre\": \"https://www.hellowork.com/offre-90\", \"t\\u00e9l\\u00e9travail\": \"Non\", \"exp\\u00e9rience_requise\": \"Confirm\\u00e9\", \"comp\\u00e9tences\": \"Machine Learning, ETL, Spark, Docker, Cloud AWS\", \"secteur_activit\\u00e9\": \"T\\u00e9l\\u00e9com\", \"source\": \"Hellowork\"}, {\"id_offre\": \"OFFRE_91\", \"titre_poste\": \"BI Analyst\", \"entreprise\": \"AI Innovations\", \"lieu\": \"Nantes\", \"salaire\": \"40-50k\", \"type_contrat\": \"CDI\", \"date_publication\": \"2025-01-05T00:00:00\", \"description\": \"Offre de Data Engineer chez AI Innovations.\", \"lien_offre\": \"https://www.hellowork.com/offre-91\", \"t\\u00e9l\\u00e9travail\": \"Non\", \"exp\\u00e9rience_requise\": \"Junior\", \"comp\\u00e9tences\": \"Power BI, SQL, Python\", \"secteur_activit\\u00e9\": \"T\\u00e9l\\u00e9com\", \"source\": \"Hellowork\"}, {\"id_offre\": \"OFFRE_92\", \"titre_poste\": \"Data Analyst\", \"entreprise\": \"TechCorp\", \"lieu\": \"Lyon\", \"salaire\": \"40-50k\", \"type_contrat\": \"CDI\", \"date_publication\": \"2025-01-08T00:00:00\", \"description\": \"Offre de Data Analyst chez TechCorp.\", \"lien_offre\": \"https://www.hellowork.com/offre-92\", \"t\\u00e9l\\u00e9travail\": \"Oui\", \"exp\\u00e9rience_requise\": \"Confirm\\u00e9\", \"comp\\u00e9tences\": \"Power BI, Spark, SQL, Cloud AWS, Docker\", \"secteur_activit\\u00e9\": \"Finance\", \"source\": \"Hellowork\"}, {\"id_offre\": \"OFFRE_93\", \"titre_poste\": \"BI Analyst\", \"entreprise\": \"AI Innovations\", \"lieu\": \"Toulouse\", \"salaire\": \"50-60k\", \"type_contrat\": \"Freelance\", \"date_publication\": \"2025-01-25T00:00:00\", \"description\": \"Offre de Data Analyst chez AI Innovations.\", \"lien_offre\": \"https://www.hellowork.com/offre-93\", \"t\\u00e9l\\u00e9travail\": \"Non\", \"exp\\u00e9rience_requise\": \"Senior\", \"comp\\u00e9tences\": \"Machine Learning, Spark, Power BI\", \"secteur_activit\\u00e9\": \"T\\u00e9l\\u00e9com\", \"source\": \"Hellowork\"}, {\"id_offre\": \"OFFRE_94\", \"titre_poste\": \"Data Scientist\", \"entreprise\": \"TechCorp\", \"lieu\": \"Paris\", \"salaire\": \"Non pr\\u00e9cis\\u00e9\", \"type_contrat\": \"CDI\", \"date_publication\": \"2025-01-28T00:00:00\", \"description\": \"Offre de Data Scientist chez DataSolutions.\", \"lien_offre\": \"https://www.hellowork.com/offre-94\", \"t\\u00e9l\\u00e9travail\": \"Oui\", \"exp\\u00e9rience_requise\": \"Senior\", \"comp\\u00e9tences\": \"Cloud AWS, Docker, Spark, ETL\", \"secteur_activit\\u00e9\": \"\\u00c9nergie\", \"source\": \"Hellowork\"}, {\"id_offre\": \"OFFRE_95\", \"titre_poste\": \"Machine Learning Engineer\", \"entreprise\": \"TechCorp\", \"lieu\": \"Lyon\", \"salaire\": \"40-50k\", \"type_contrat\": \"Stage\", \"date_publication\": \"2025-01-22T00:00:00\", \"description\": \"Offre de Data Engineer chez TechCorp.\", \"lien_offre\": \"https://www.hellowork.com/offre-95\", \"t\\u00e9l\\u00e9travail\": \"Oui\", \"exp\\u00e9rience_requise\": \"Junior\", \"comp\\u00e9tences\": \"SQL, Spark\", \"secteur_activit\\u00e9\": \"Consulting\", \"source\": \"Hellowork\"}, {\"id_offre\": \"OFFRE_96\", \"titre_poste\": \"Data Scientist\", \"entreprise\": \"AI Innovations\", \"lieu\": \"Bordeaux\", \"salaire\": \"Non pr\\u00e9cis\\u00e9\", \"type_contrat\": \"Freelance\", \"date_publication\": \"2025-01-13T00:00:00\", \"description\": \"Offre de Data Analyst chez BigData France.\", \"lien_offre\": \"https://www.hellowork.com/offre-96\", \"t\\u00e9l\\u00e9travail\": \"Oui\", \"exp\\u00e9rience_requise\": \"Senior\", \"comp\\u00e9tences\": \"Cloud AWS, ETL, Power BI\", \"secteur_activit\\u00e9\": \"Consulting\", \"source\": \"Hellowork\"}, {\"id_offre\": \"OFFRE_97\", \"titre_poste\": \"Data Engineer\", \"entreprise\": \"BigData France\", \"lieu\": \"Nantes\", \"salaire\": \"50-60k\", \"type_contrat\": \"Freelance\", \"date_publication\": \"2025-01-14T00:00:00\", \"description\": \"Offre de Machine Learning Engineer chez DataSolutions.\", \"lien_offre\": \"https://www.hellowork.com/offre-97\", \"t\\u00e9l\\u00e9travail\": \"Oui\", \"exp\\u00e9rience_requise\": \"Senior\", \"comp\\u00e9tences\": \"Machine Learning, Python\", \"secteur_activit\\u00e9\": \"\\u00c9nergie\", \"source\": \"Hellowork\"}, {\"id_offre\": \"OFFRE_98\", \"titre_poste\": \"Data Engineer\", \"entreprise\": \"AI Innovations\", \"lieu\": \"Toulouse\", \"salaire\": \"Non pr\\u00e9cis\\u00e9\", \"type_contrat\": \"CDI\", \"date_publication\": \"2025-01-18T00:00:00\", \"description\": \"Offre de Data Scientist chez TechCorp.\", \"lien_offre\": \"https://www.hellowork.com/offre-98\", \"t\\u00e9l\\u00e9travail\": \"Non\", \"exp\\u00e9rience_requise\": \"Senior\", \"comp\\u00e9tences\": \"Python, SQL\", \"secteur_activit\\u00e9\": \"\\u00c9nergie\", \"source\": \"Hellowork\"}, {\"id_offre\": \"OFFRE_99\", \"titre_poste\": \"Data Engineer\", \"entreprise\": \"TechCorp\", \"lieu\": \"Rennes\", \"salaire\": \"40-50k\", \"type_contrat\": \"CDD\", \"date_publication\": \"2025-01-09T00:00:00\", \"description\": \"Offre de BI Analyst chez AI Innovations.\", \"lien_offre\": \"https://www.hellowork.com/offre-99\", \"t\\u00e9l\\u00e9travail\": \"Oui\", \"exp\\u00e9rience_requise\": \"Senior\", \"comp\\u00e9tences\": \"SQL, Python\", \"secteur_activit\\u00e9\": \"Consulting\", \"source\": \"Hellowork\"}, {\"id_offre\": \"OFFRE_100\", \"titre_poste\": \"Machine Learning Engineer\", \"entreprise\": \"Analytica\", \"lieu\": \"Lyon\", \"salaire\": \"50-60k\", \"type_contrat\": \"Alternance\", \"date_publication\": \"2025-01-21T00:00:00\", \"description\": \"Offre de Data Scientist chez TechCorp.\", \"lien_offre\": \"https://www.hellowork.com/offre-100\", \"t\\u00e9l\\u00e9travail\": \"Non\", \"exp\\u00e9rience_requise\": \"Senior\", \"comp\\u00e9tences\": \"SQL, Spark\", \"secteur_activit\\u00e9\": \"Consulting\", \"source\": \"Hellowork\"}]}}, {\"mode\": \"vega-lite\"});\n",
       "</script>"
      ],
      "text/plain": [
       "alt.Chart(...)"
      ]
     },
     "execution_count": 32,
     "metadata": {},
     "output_type": "execute_result"
    }
   ],
   "source": [
    "# Histogramme du nombre d'offres par secteur d'activité\n",
    "fig_altair_hist = alt.Chart(dataviz).mark_bar().encode(\n",
    "    x=alt.X(\"secteur_activité\", sort=\"-y\", title=\"Secteur d'activité\"),\n",
    "    y=alt.Y(\"count()\", title=\"Nombre d'offres\"),\n",
    "    color=alt.Color(\"secteur_activité\", scale=alt.Scale(scheme=\"blues\"))\n",
    ").properties(\n",
    "    title=\"Répartition des offres par secteur d'activité\",\n",
    "    width=600,\n",
    "    height=400\n",
    ")\n",
    "fig_altair_hist"
   ]
  },
  {
   "cell_type": "code",
   "execution_count": 33,
   "metadata": {},
   "outputs": [
    {
     "data": {
      "text/html": [
       "\n",
       "<style>\n",
       "  #altair-viz-7ea4d9565cd748d0863ae27d81c2a08d.vega-embed {\n",
       "    width: 100%;\n",
       "    display: flex;\n",
       "  }\n",
       "\n",
       "  #altair-viz-7ea4d9565cd748d0863ae27d81c2a08d.vega-embed details,\n",
       "  #altair-viz-7ea4d9565cd748d0863ae27d81c2a08d.vega-embed details summary {\n",
       "    position: relative;\n",
       "  }\n",
       "</style>\n",
       "<div id=\"altair-viz-7ea4d9565cd748d0863ae27d81c2a08d\"></div>\n",
       "<script type=\"text/javascript\">\n",
       "  var VEGA_DEBUG = (typeof VEGA_DEBUG == \"undefined\") ? {} : VEGA_DEBUG;\n",
       "  (function(spec, embedOpt){\n",
       "    let outputDiv = document.currentScript.previousElementSibling;\n",
       "    if (outputDiv.id !== \"altair-viz-7ea4d9565cd748d0863ae27d81c2a08d\") {\n",
       "      outputDiv = document.getElementById(\"altair-viz-7ea4d9565cd748d0863ae27d81c2a08d\");\n",
       "    }\n",
       "\n",
       "    const paths = {\n",
       "      \"vega\": \"https://cdn.jsdelivr.net/npm/vega@5?noext\",\n",
       "      \"vega-lib\": \"https://cdn.jsdelivr.net/npm/vega-lib?noext\",\n",
       "      \"vega-lite\": \"https://cdn.jsdelivr.net/npm/vega-lite@5.20.1?noext\",\n",
       "      \"vega-embed\": \"https://cdn.jsdelivr.net/npm/vega-embed@6?noext\",\n",
       "    };\n",
       "\n",
       "    function maybeLoadScript(lib, version) {\n",
       "      var key = `${lib.replace(\"-\", \"\")}_version`;\n",
       "      return (VEGA_DEBUG[key] == version) ?\n",
       "        Promise.resolve(paths[lib]) :\n",
       "        new Promise(function(resolve, reject) {\n",
       "          var s = document.createElement('script');\n",
       "          document.getElementsByTagName(\"head\")[0].appendChild(s);\n",
       "          s.async = true;\n",
       "          s.onload = () => {\n",
       "            VEGA_DEBUG[key] = version;\n",
       "            return resolve(paths[lib]);\n",
       "          };\n",
       "          s.onerror = () => reject(`Error loading script: ${paths[lib]}`);\n",
       "          s.src = paths[lib];\n",
       "        });\n",
       "    }\n",
       "\n",
       "    function showError(err) {\n",
       "      outputDiv.innerHTML = `<div class=\"error\" style=\"color:red;\">${err}</div>`;\n",
       "      throw err;\n",
       "    }\n",
       "\n",
       "    function displayChart(vegaEmbed) {\n",
       "      vegaEmbed(outputDiv, spec, embedOpt)\n",
       "        .catch(err => showError(`Javascript Error: ${err.message}<br>This usually means there's a typo in your chart specification. See the javascript console for the full traceback.`));\n",
       "    }\n",
       "\n",
       "    if(typeof define === \"function\" && define.amd) {\n",
       "      requirejs.config({paths});\n",
       "      let deps = [\"vega-embed\"];\n",
       "      require(deps, displayChart, err => showError(`Error loading script: ${err.message}`));\n",
       "    } else {\n",
       "      maybeLoadScript(\"vega\", \"5\")\n",
       "        .then(() => maybeLoadScript(\"vega-lite\", \"5.20.1\"))\n",
       "        .then(() => maybeLoadScript(\"vega-embed\", \"6\"))\n",
       "        .catch(showError)\n",
       "        .then(() => displayChart(vegaEmbed));\n",
       "    }\n",
       "  })({\"config\": {\"view\": {\"continuousWidth\": 300, \"continuousHeight\": 300}}, \"data\": {\"name\": \"data-6b9262aee55c2041947b1d6ab6d3b175\"}, \"mark\": {\"type\": \"circle\", \"size\": 100}, \"encoding\": {\"color\": {\"field\": \"exp\\u00e9rience_requise\", \"scale\": {\"scheme\": \"set2\"}, \"type\": \"nominal\"}, \"tooltip\": [{\"field\": \"titre_poste\", \"type\": \"nominal\"}, {\"field\": \"entreprise\", \"type\": \"nominal\"}, {\"field\": \"lieu\", \"type\": \"nominal\"}, {\"field\": \"salaire\", \"type\": \"nominal\"}], \"x\": {\"field\": \"exp\\u00e9rience_requise\", \"sort\": [\"Junior\", \"Confirm\\u00e9\", \"Senior\"], \"title\": \"Exp\\u00e9rience requise\", \"type\": \"nominal\"}, \"y\": {\"field\": \"salaire\", \"title\": \"Fourchette de salaire\", \"type\": \"nominal\"}}, \"height\": 400, \"title\": \"Relation entre l'exp\\u00e9rience requise et le salaire\", \"width\": 700, \"$schema\": \"https://vega.github.io/schema/vega-lite/v5.20.1.json\", \"datasets\": {\"data-6b9262aee55c2041947b1d6ab6d3b175\": [{\"id_offre\": \"OFFRE_1\", \"titre_poste\": \"Data Engineer\", \"entreprise\": \"Analytica\", \"lieu\": \"Paris\", \"salaire\": \"50-60k\", \"type_contrat\": \"Freelance\", \"date_publication\": \"2025-01-16T00:00:00\", \"description\": \"Offre de Data Engineer chez DataSolutions.\", \"lien_offre\": \"https://www.hellowork.com/offre-1\", \"t\\u00e9l\\u00e9travail\": \"Oui\", \"exp\\u00e9rience_requise\": \"Senior\", \"comp\\u00e9tences\": \"Machine Learning, Spark\", \"secteur_activit\\u00e9\": \"\\u00c9nergie\", \"source\": \"Hellowork\"}, {\"id_offre\": \"OFFRE_2\", \"titre_poste\": \"Machine Learning Engineer\", \"entreprise\": \"BigData France\", \"lieu\": \"Paris\", \"salaire\": \"40-50k\", \"type_contrat\": \"CDI\", \"date_publication\": \"2025-01-28T00:00:00\", \"description\": \"Offre de Data Analyst chez BigData France.\", \"lien_offre\": \"https://www.hellowork.com/offre-2\", \"t\\u00e9l\\u00e9travail\": \"Non\", \"exp\\u00e9rience_requise\": \"Senior\", \"comp\\u00e9tences\": \"SQL, Docker\", \"secteur_activit\\u00e9\": \"Consulting\", \"source\": \"Hellowork\"}, {\"id_offre\": \"OFFRE_3\", \"titre_poste\": \"Data Scientist\", \"entreprise\": \"AI Innovations\", \"lieu\": \"Nantes\", \"salaire\": \"40-50k\", \"type_contrat\": \"Alternance\", \"date_publication\": \"2025-01-10T00:00:00\", \"description\": \"Offre de Data Engineer chez AI Innovations.\", \"lien_offre\": \"https://www.hellowork.com/offre-3\", \"t\\u00e9l\\u00e9travail\": \"Oui\", \"exp\\u00e9rience_requise\": \"Confirm\\u00e9\", \"comp\\u00e9tences\": \"Docker, Python, SQL, Machine Learning, Power BI\", \"secteur_activit\\u00e9\": \"\\u00c9nergie\", \"source\": \"Hellowork\"}, {\"id_offre\": \"OFFRE_4\", \"titre_poste\": \"Data Scientist\", \"entreprise\": \"TechCorp\", \"lieu\": \"Toulouse\", \"salaire\": \"40-50k\", \"type_contrat\": \"CDD\", \"date_publication\": \"2025-01-12T00:00:00\", \"description\": \"Offre de Machine Learning Engineer chez DataSolutions.\", \"lien_offre\": \"https://www.hellowork.com/offre-4\", \"t\\u00e9l\\u00e9travail\": \"Non\", \"exp\\u00e9rience_requise\": \"Junior\", \"comp\\u00e9tences\": \"Spark, Docker, Machine Learning, Power BI, ETL\", \"secteur_activit\\u00e9\": \"Consulting\", \"source\": \"Hellowork\"}, {\"id_offre\": \"OFFRE_5\", \"titre_poste\": \"Data Scientist\", \"entreprise\": \"Analytica\", \"lieu\": \"Rennes\", \"salaire\": \"35-45k\", \"type_contrat\": \"Stage\", \"date_publication\": \"2025-01-09T00:00:00\", \"description\": \"Offre de Machine Learning Engineer chez BigData France.\", \"lien_offre\": \"https://www.hellowork.com/offre-5\", \"t\\u00e9l\\u00e9travail\": \"Oui\", \"exp\\u00e9rience_requise\": \"Confirm\\u00e9\", \"comp\\u00e9tences\": \"Docker, ETL\", \"secteur_activit\\u00e9\": \"Finance\", \"source\": \"Hellowork\"}, {\"id_offre\": \"OFFRE_6\", \"titre_poste\": \"Data Engineer\", \"entreprise\": \"BigData France\", \"lieu\": \"Nantes\", \"salaire\": \"Non pr\\u00e9cis\\u00e9\", \"type_contrat\": \"CDD\", \"date_publication\": \"2025-01-18T00:00:00\", \"description\": \"Offre de BI Analyst chez AI Innovations.\", \"lien_offre\": \"https://www.hellowork.com/offre-6\", \"t\\u00e9l\\u00e9travail\": \"Non\", \"exp\\u00e9rience_requise\": \"Junior\", \"comp\\u00e9tences\": \"Cloud AWS, Machine Learning, SQL, Docker, Spark\", \"secteur_activit\\u00e9\": \"T\\u00e9l\\u00e9com\", \"source\": \"Hellowork\"}, {\"id_offre\": \"OFFRE_7\", \"titre_poste\": \"Data Analyst\", \"entreprise\": \"DataSolutions\", \"lieu\": \"Nantes\", \"salaire\": \"35-45k\", \"type_contrat\": \"Freelance\", \"date_publication\": \"2025-01-28T00:00:00\", \"description\": \"Offre de Data Scientist chez AI Innovations.\", \"lien_offre\": \"https://www.hellowork.com/offre-7\", \"t\\u00e9l\\u00e9travail\": \"Oui\", \"exp\\u00e9rience_requise\": \"Senior\", \"comp\\u00e9tences\": \"Power BI, SQL\", \"secteur_activit\\u00e9\": \"Sant\\u00e9\", \"source\": \"Hellowork\"}, {\"id_offre\": \"OFFRE_8\", \"titre_poste\": \"Data Engineer\", \"entreprise\": \"TechCorp\", \"lieu\": \"Bordeaux\", \"salaire\": \"40-50k\", \"type_contrat\": \"Stage\", \"date_publication\": \"2025-01-12T00:00:00\", \"description\": \"Offre de Data Analyst chez DataSolutions.\", \"lien_offre\": \"https://www.hellowork.com/offre-8\", \"t\\u00e9l\\u00e9travail\": \"Oui\", \"exp\\u00e9rience_requise\": \"Senior\", \"comp\\u00e9tences\": \"Docker, SQL\", \"secteur_activit\\u00e9\": \"\\u00c9nergie\", \"source\": \"Hellowork\"}, {\"id_offre\": \"OFFRE_9\", \"titre_poste\": \"Machine Learning Engineer\", \"entreprise\": \"DataSolutions\", \"lieu\": \"Rennes\", \"salaire\": \"35-45k\", \"type_contrat\": \"Stage\", \"date_publication\": \"2025-01-29T00:00:00\", \"description\": \"Offre de Machine Learning Engineer chez BigData France.\", \"lien_offre\": \"https://www.hellowork.com/offre-9\", \"t\\u00e9l\\u00e9travail\": \"Non\", \"exp\\u00e9rience_requise\": \"Senior\", \"comp\\u00e9tences\": \"ETL, Spark, Cloud AWS\", \"secteur_activit\\u00e9\": \"Consulting\", \"source\": \"Hellowork\"}, {\"id_offre\": \"OFFRE_10\", \"titre_poste\": \"Data Scientist\", \"entreprise\": \"DataSolutions\", \"lieu\": \"Paris\", \"salaire\": \"50-60k\", \"type_contrat\": \"CDI\", \"date_publication\": \"2025-01-21T00:00:00\", \"description\": \"Offre de Data Analyst chez Analytica.\", \"lien_offre\": \"https://www.hellowork.com/offre-10\", \"t\\u00e9l\\u00e9travail\": \"Non\", \"exp\\u00e9rience_requise\": \"Junior\", \"comp\\u00e9tences\": \"SQL, Python, Cloud AWS\", \"secteur_activit\\u00e9\": \"E-commerce\", \"source\": \"Hellowork\"}, {\"id_offre\": \"OFFRE_11\", \"titre_poste\": \"Machine Learning Engineer\", \"entreprise\": \"TechCorp\", \"lieu\": \"Toulouse\", \"salaire\": \"40-50k\", \"type_contrat\": \"Alternance\", \"date_publication\": \"2025-01-29T00:00:00\", \"description\": \"Offre de Data Engineer chez BigData France.\", \"lien_offre\": \"https://www.hellowork.com/offre-11\", \"t\\u00e9l\\u00e9travail\": \"Non\", \"exp\\u00e9rience_requise\": \"Senior\", \"comp\\u00e9tences\": \"ETL, Power BI\", \"secteur_activit\\u00e9\": \"Finance\", \"source\": \"Hellowork\"}, {\"id_offre\": \"OFFRE_12\", \"titre_poste\": \"Machine Learning Engineer\", \"entreprise\": \"DataSolutions\", \"lieu\": \"Marseille\", \"salaire\": \"50-60k\", \"type_contrat\": \"CDD\", \"date_publication\": \"2024-12-31T00:00:00\", \"description\": \"Offre de Data Scientist chez DataSolutions.\", \"lien_offre\": \"https://www.hellowork.com/offre-12\", \"t\\u00e9l\\u00e9travail\": \"Oui\", \"exp\\u00e9rience_requise\": \"Senior\", \"comp\\u00e9tences\": \"Spark, Python, Cloud AWS, Machine Learning, ETL\", \"secteur_activit\\u00e9\": \"Finance\", \"source\": \"Hellowork\"}, {\"id_offre\": \"OFFRE_13\", \"titre_poste\": \"Data Engineer\", \"entreprise\": \"TechCorp\", \"lieu\": \"Paris\", \"salaire\": \"35-45k\", \"type_contrat\": \"Alternance\", \"date_publication\": \"2025-01-15T00:00:00\", \"description\": \"Offre de Data Scientist chez BigData France.\", \"lien_offre\": \"https://www.hellowork.com/offre-13\", \"t\\u00e9l\\u00e9travail\": \"Non\", \"exp\\u00e9rience_requise\": \"Senior\", \"comp\\u00e9tences\": \"Docker, Spark, Cloud AWS, Machine Learning, ETL\", \"secteur_activit\\u00e9\": \"IA\", \"source\": \"Hellowork\"}, {\"id_offre\": \"OFFRE_14\", \"titre_poste\": \"Data Analyst\", \"entreprise\": \"BigData France\", \"lieu\": \"Bordeaux\", \"salaire\": \"Non pr\\u00e9cis\\u00e9\", \"type_contrat\": \"Alternance\", \"date_publication\": \"2025-01-22T00:00:00\", \"description\": \"Offre de Machine Learning Engineer chez Analytica.\", \"lien_offre\": \"https://www.hellowork.com/offre-14\", \"t\\u00e9l\\u00e9travail\": \"Non\", \"exp\\u00e9rience_requise\": \"Junior\", \"comp\\u00e9tences\": \"Docker, SQL, Spark, Cloud AWS, ETL\", \"secteur_activit\\u00e9\": \"E-commerce\", \"source\": \"Hellowork\"}, {\"id_offre\": \"OFFRE_15\", \"titre_poste\": \"Data Scientist\", \"entreprise\": \"AI Innovations\", \"lieu\": \"Toulouse\", \"salaire\": \"40-50k\", \"type_contrat\": \"CDI\", \"date_publication\": \"2025-01-11T00:00:00\", \"description\": \"Offre de Machine Learning Engineer chez Analytica.\", \"lien_offre\": \"https://www.hellowork.com/offre-15\", \"t\\u00e9l\\u00e9travail\": \"Oui\", \"exp\\u00e9rience_requise\": \"Junior\", \"comp\\u00e9tences\": \"Power BI, Machine Learning\", \"secteur_activit\\u00e9\": \"Finance\", \"source\": \"Hellowork\"}, {\"id_offre\": \"OFFRE_16\", \"titre_poste\": \"Data Scientist\", \"entreprise\": \"Analytica\", \"lieu\": \"Lille\", \"salaire\": \"Non pr\\u00e9cis\\u00e9\", \"type_contrat\": \"Freelance\", \"date_publication\": \"2025-01-04T00:00:00\", \"description\": \"Offre de Data Analyst chez Analytica.\", \"lien_offre\": \"https://www.hellowork.com/offre-16\", \"t\\u00e9l\\u00e9travail\": \"Oui\", \"exp\\u00e9rience_requise\": \"Junior\", \"comp\\u00e9tences\": \"Power BI, ETL, Machine Learning, Docker, SQL\", \"secteur_activit\\u00e9\": \"\\u00c9nergie\", \"source\": \"Hellowork\"}, {\"id_offre\": \"OFFRE_17\", \"titre_poste\": \"Data Engineer\", \"entreprise\": \"TechCorp\", \"lieu\": \"Toulouse\", \"salaire\": \"35-45k\", \"type_contrat\": \"Alternance\", \"date_publication\": \"2025-01-06T00:00:00\", \"description\": \"Offre de Data Analyst chez DataSolutions.\", \"lien_offre\": \"https://www.hellowork.com/offre-17\", \"t\\u00e9l\\u00e9travail\": \"Oui\", \"exp\\u00e9rience_requise\": \"Confirm\\u00e9\", \"comp\\u00e9tences\": \"Power BI, Cloud AWS, Python, Docker\", \"secteur_activit\\u00e9\": \"Sant\\u00e9\", \"source\": \"Hellowork\"}, {\"id_offre\": \"OFFRE_18\", \"titre_poste\": \"Data Engineer\", \"entreprise\": \"DataSolutions\", \"lieu\": \"Lyon\", \"salaire\": \"35-45k\", \"type_contrat\": \"Stage\", \"date_publication\": \"2025-01-23T00:00:00\", \"description\": \"Offre de BI Analyst chez DataSolutions.\", \"lien_offre\": \"https://www.hellowork.com/offre-18\", \"t\\u00e9l\\u00e9travail\": \"Oui\", \"exp\\u00e9rience_requise\": \"Junior\", \"comp\\u00e9tences\": \"Power BI, Machine Learning, ETL, Docker\", \"secteur_activit\\u00e9\": \"Finance\", \"source\": \"Hellowork\"}, {\"id_offre\": \"OFFRE_19\", \"titre_poste\": \"Data Scientist\", \"entreprise\": \"DataSolutions\", \"lieu\": \"Nantes\", \"salaire\": \"35-45k\", \"type_contrat\": \"Freelance\", \"date_publication\": \"2025-01-04T00:00:00\", \"description\": \"Offre de Machine Learning Engineer chez AI Innovations.\", \"lien_offre\": \"https://www.hellowork.com/offre-19\", \"t\\u00e9l\\u00e9travail\": \"Oui\", \"exp\\u00e9rience_requise\": \"Junior\", \"comp\\u00e9tences\": \"Spark, ETL, Docker, Machine Learning, Python\", \"secteur_activit\\u00e9\": \"IA\", \"source\": \"Hellowork\"}, {\"id_offre\": \"OFFRE_20\", \"titre_poste\": \"Machine Learning Engineer\", \"entreprise\": \"TechCorp\", \"lieu\": \"Bordeaux\", \"salaire\": \"40-50k\", \"type_contrat\": \"Alternance\", \"date_publication\": \"2025-01-04T00:00:00\", \"description\": \"Offre de Data Analyst chez Analytica.\", \"lien_offre\": \"https://www.hellowork.com/offre-20\", \"t\\u00e9l\\u00e9travail\": \"Oui\", \"exp\\u00e9rience_requise\": \"Senior\", \"comp\\u00e9tences\": \"Cloud AWS, ETL, SQL, Docker, Power BI\", \"secteur_activit\\u00e9\": \"Consulting\", \"source\": \"Hellowork\"}, {\"id_offre\": \"OFFRE_21\", \"titre_poste\": \"BI Analyst\", \"entreprise\": \"TechCorp\", \"lieu\": \"Bordeaux\", \"salaire\": \"Non pr\\u00e9cis\\u00e9\", \"type_contrat\": \"Freelance\", \"date_publication\": \"2025-01-22T00:00:00\", \"description\": \"Offre de BI Analyst chez AI Innovations.\", \"lien_offre\": \"https://www.hellowork.com/offre-21\", \"t\\u00e9l\\u00e9travail\": \"Oui\", \"exp\\u00e9rience_requise\": \"Junior\", \"comp\\u00e9tences\": \"Docker, ETL, Python\", \"secteur_activit\\u00e9\": \"T\\u00e9l\\u00e9com\", \"source\": \"Hellowork\"}, {\"id_offre\": \"OFFRE_22\", \"titre_poste\": \"BI Analyst\", \"entreprise\": \"DataSolutions\", \"lieu\": \"Paris\", \"salaire\": \"35-45k\", \"type_contrat\": \"CDD\", \"date_publication\": \"2025-01-01T00:00:00\", \"description\": \"Offre de Data Engineer chez Analytica.\", \"lien_offre\": \"https://www.hellowork.com/offre-22\", \"t\\u00e9l\\u00e9travail\": \"Non\", \"exp\\u00e9rience_requise\": \"Senior\", \"comp\\u00e9tences\": \"Docker, Python, Power BI, Cloud AWS, SQL\", \"secteur_activit\\u00e9\": \"IA\", \"source\": \"Hellowork\"}, {\"id_offre\": \"OFFRE_23\", \"titre_poste\": \"BI Analyst\", \"entreprise\": \"TechCorp\", \"lieu\": \"Toulouse\", \"salaire\": \"50-60k\", \"type_contrat\": \"CDI\", \"date_publication\": \"2024-12-31T00:00:00\", \"description\": \"Offre de Data Engineer chez AI Innovations.\", \"lien_offre\": \"https://www.hellowork.com/offre-23\", \"t\\u00e9l\\u00e9travail\": \"Non\", \"exp\\u00e9rience_requise\": \"Senior\", \"comp\\u00e9tences\": \"Python, Spark\", \"secteur_activit\\u00e9\": \"IA\", \"source\": \"Hellowork\"}, {\"id_offre\": \"OFFRE_24\", \"titre_poste\": \"Data Engineer\", \"entreprise\": \"BigData France\", \"lieu\": \"Marseille\", \"salaire\": \"50-60k\", \"type_contrat\": \"CDI\", \"date_publication\": \"2025-01-16T00:00:00\", \"description\": \"Offre de Data Engineer chez AI Innovations.\", \"lien_offre\": \"https://www.hellowork.com/offre-24\", \"t\\u00e9l\\u00e9travail\": \"Oui\", \"exp\\u00e9rience_requise\": \"Senior\", \"comp\\u00e9tences\": \"Power BI, Python\", \"secteur_activit\\u00e9\": \"T\\u00e9l\\u00e9com\", \"source\": \"Hellowork\"}, {\"id_offre\": \"OFFRE_25\", \"titre_poste\": \"BI Analyst\", \"entreprise\": \"AI Innovations\", \"lieu\": \"Paris\", \"salaire\": \"Non pr\\u00e9cis\\u00e9\", \"type_contrat\": \"Stage\", \"date_publication\": \"2025-01-11T00:00:00\", \"description\": \"Offre de Machine Learning Engineer chez Analytica.\", \"lien_offre\": \"https://www.hellowork.com/offre-25\", \"t\\u00e9l\\u00e9travail\": \"Non\", \"exp\\u00e9rience_requise\": \"Junior\", \"comp\\u00e9tences\": \"Spark, Machine Learning, SQL, Cloud AWS, Docker\", \"secteur_activit\\u00e9\": \"Finance\", \"source\": \"Hellowork\"}, {\"id_offre\": \"OFFRE_26\", \"titre_poste\": \"Machine Learning Engineer\", \"entreprise\": \"Analytica\", \"lieu\": \"Rennes\", \"salaire\": \"Non pr\\u00e9cis\\u00e9\", \"type_contrat\": \"CDD\", \"date_publication\": \"2025-01-11T00:00:00\", \"description\": \"Offre de Machine Learning Engineer chez AI Innovations.\", \"lien_offre\": \"https://www.hellowork.com/offre-26\", \"t\\u00e9l\\u00e9travail\": \"Non\", \"exp\\u00e9rience_requise\": \"Junior\", \"comp\\u00e9tences\": \"Python, ETL, Docker\", \"secteur_activit\\u00e9\": \"IA\", \"source\": \"Hellowork\"}, {\"id_offre\": \"OFFRE_27\", \"titre_poste\": \"BI Analyst\", \"entreprise\": \"TechCorp\", \"lieu\": \"Nantes\", \"salaire\": \"50-60k\", \"type_contrat\": \"Freelance\", \"date_publication\": \"2025-01-17T00:00:00\", \"description\": \"Offre de Data Scientist chez TechCorp.\", \"lien_offre\": \"https://www.hellowork.com/offre-27\", \"t\\u00e9l\\u00e9travail\": \"Non\", \"exp\\u00e9rience_requise\": \"Senior\", \"comp\\u00e9tences\": \"Cloud AWS, Spark, SQL\", \"secteur_activit\\u00e9\": \"E-commerce\", \"source\": \"Hellowork\"}, {\"id_offre\": \"OFFRE_28\", \"titre_poste\": \"BI Analyst\", \"entreprise\": \"BigData France\", \"lieu\": \"Lille\", \"salaire\": \"50-60k\", \"type_contrat\": \"Freelance\", \"date_publication\": \"2025-01-10T00:00:00\", \"description\": \"Offre de Data Engineer chez DataSolutions.\", \"lien_offre\": \"https://www.hellowork.com/offre-28\", \"t\\u00e9l\\u00e9travail\": \"Oui\", \"exp\\u00e9rience_requise\": \"Senior\", \"comp\\u00e9tences\": \"Docker, SQL\", \"secteur_activit\\u00e9\": \"E-commerce\", \"source\": \"Hellowork\"}, {\"id_offre\": \"OFFRE_29\", \"titre_poste\": \"Data Analyst\", \"entreprise\": \"AI Innovations\", \"lieu\": \"Nantes\", \"salaire\": \"Non pr\\u00e9cis\\u00e9\", \"type_contrat\": \"CDI\", \"date_publication\": \"2025-01-20T00:00:00\", \"description\": \"Offre de Data Analyst chez DataSolutions.\", \"lien_offre\": \"https://www.hellowork.com/offre-29\", \"t\\u00e9l\\u00e9travail\": \"Non\", \"exp\\u00e9rience_requise\": \"Senior\", \"comp\\u00e9tences\": \"Spark, Power BI, Machine Learning, Cloud AWS, Docker\", \"secteur_activit\\u00e9\": \"IA\", \"source\": \"Hellowork\"}, {\"id_offre\": \"OFFRE_30\", \"titre_poste\": \"Machine Learning Engineer\", \"entreprise\": \"BigData France\", \"lieu\": \"Rennes\", \"salaire\": \"Non pr\\u00e9cis\\u00e9\", \"type_contrat\": \"CDI\", \"date_publication\": \"2025-01-21T00:00:00\", \"description\": \"Offre de Machine Learning Engineer chez Analytica.\", \"lien_offre\": \"https://www.hellowork.com/offre-30\", \"t\\u00e9l\\u00e9travail\": \"Oui\", \"exp\\u00e9rience_requise\": \"Junior\", \"comp\\u00e9tences\": \"SQL, Power BI, Cloud AWS\", \"secteur_activit\\u00e9\": \"T\\u00e9l\\u00e9com\", \"source\": \"Hellowork\"}, {\"id_offre\": \"OFFRE_31\", \"titre_poste\": \"Data Analyst\", \"entreprise\": \"BigData France\", \"lieu\": \"Lille\", \"salaire\": \"40-50k\", \"type_contrat\": \"CDI\", \"date_publication\": \"2025-01-15T00:00:00\", \"description\": \"Offre de Data Engineer chez TechCorp.\", \"lien_offre\": \"https://www.hellowork.com/offre-31\", \"t\\u00e9l\\u00e9travail\": \"Non\", \"exp\\u00e9rience_requise\": \"Confirm\\u00e9\", \"comp\\u00e9tences\": \"SQL, Spark, Machine Learning, Python, Docker\", \"secteur_activit\\u00e9\": \"E-commerce\", \"source\": \"Hellowork\"}, {\"id_offre\": \"OFFRE_32\", \"titre_poste\": \"Data Engineer\", \"entreprise\": \"TechCorp\", \"lieu\": \"Bordeaux\", \"salaire\": \"40-50k\", \"type_contrat\": \"Freelance\", \"date_publication\": \"2025-01-17T00:00:00\", \"description\": \"Offre de Data Scientist chez BigData France.\", \"lien_offre\": \"https://www.hellowork.com/offre-32\", \"t\\u00e9l\\u00e9travail\": \"Non\", \"exp\\u00e9rience_requise\": \"Senior\", \"comp\\u00e9tences\": \"SQL, Python, Spark, Power BI, Machine Learning\", \"secteur_activit\\u00e9\": \"IA\", \"source\": \"Hellowork\"}, {\"id_offre\": \"OFFRE_33\", \"titre_poste\": \"Machine Learning Engineer\", \"entreprise\": \"Analytica\", \"lieu\": \"Paris\", \"salaire\": \"50-60k\", \"type_contrat\": \"Alternance\", \"date_publication\": \"2025-01-15T00:00:00\", \"description\": \"Offre de Machine Learning Engineer chez TechCorp.\", \"lien_offre\": \"https://www.hellowork.com/offre-33\", \"t\\u00e9l\\u00e9travail\": \"Non\", \"exp\\u00e9rience_requise\": \"Confirm\\u00e9\", \"comp\\u00e9tences\": \"Docker, SQL, Machine Learning\", \"secteur_activit\\u00e9\": \"E-commerce\", \"source\": \"Hellowork\"}, {\"id_offre\": \"OFFRE_34\", \"titre_poste\": \"Data Scientist\", \"entreprise\": \"BigData France\", \"lieu\": \"Paris\", \"salaire\": \"35-45k\", \"type_contrat\": \"Freelance\", \"date_publication\": \"2025-01-29T00:00:00\", \"description\": \"Offre de Machine Learning Engineer chez Analytica.\", \"lien_offre\": \"https://www.hellowork.com/offre-34\", \"t\\u00e9l\\u00e9travail\": \"Oui\", \"exp\\u00e9rience_requise\": \"Senior\", \"comp\\u00e9tences\": \"Spark, ETL, SQL, Machine Learning, Docker\", \"secteur_activit\\u00e9\": \"IA\", \"source\": \"Hellowork\"}, {\"id_offre\": \"OFFRE_35\", \"titre_poste\": \"Machine Learning Engineer\", \"entreprise\": \"AI Innovations\", \"lieu\": \"Lyon\", \"salaire\": \"Non pr\\u00e9cis\\u00e9\", \"type_contrat\": \"CDD\", \"date_publication\": \"2025-01-19T00:00:00\", \"description\": \"Offre de Machine Learning Engineer chez AI Innovations.\", \"lien_offre\": \"https://www.hellowork.com/offre-35\", \"t\\u00e9l\\u00e9travail\": \"Non\", \"exp\\u00e9rience_requise\": \"Senior\", \"comp\\u00e9tences\": \"SQL, Cloud AWS, Docker, ETL, Python\", \"secteur_activit\\u00e9\": \"E-commerce\", \"source\": \"Hellowork\"}, {\"id_offre\": \"OFFRE_36\", \"titre_poste\": \"Data Engineer\", \"entreprise\": \"DataSolutions\", \"lieu\": \"Lyon\", \"salaire\": \"35-45k\", \"type_contrat\": \"CDI\", \"date_publication\": \"2025-01-29T00:00:00\", \"description\": \"Offre de Data Scientist chez TechCorp.\", \"lien_offre\": \"https://www.hellowork.com/offre-36\", \"t\\u00e9l\\u00e9travail\": \"Non\", \"exp\\u00e9rience_requise\": \"Confirm\\u00e9\", \"comp\\u00e9tences\": \"Docker, ETL, Power BI, Python\", \"secteur_activit\\u00e9\": \"T\\u00e9l\\u00e9com\", \"source\": \"Hellowork\"}, {\"id_offre\": \"OFFRE_37\", \"titre_poste\": \"Data Scientist\", \"entreprise\": \"AI Innovations\", \"lieu\": \"Lyon\", \"salaire\": \"40-50k\", \"type_contrat\": \"CDI\", \"date_publication\": \"2025-01-05T00:00:00\", \"description\": \"Offre de Data Scientist chez Analytica.\", \"lien_offre\": \"https://www.hellowork.com/offre-37\", \"t\\u00e9l\\u00e9travail\": \"Non\", \"exp\\u00e9rience_requise\": \"Junior\", \"comp\\u00e9tences\": \"Cloud AWS, Machine Learning\", \"secteur_activit\\u00e9\": \"E-commerce\", \"source\": \"Hellowork\"}, {\"id_offre\": \"OFFRE_38\", \"titre_poste\": \"Machine Learning Engineer\", \"entreprise\": \"AI Innovations\", \"lieu\": \"Rennes\", \"salaire\": \"40-50k\", \"type_contrat\": \"CDI\", \"date_publication\": \"2025-01-06T00:00:00\", \"description\": \"Offre de BI Analyst chez Analytica.\", \"lien_offre\": \"https://www.hellowork.com/offre-38\", \"t\\u00e9l\\u00e9travail\": \"Non\", \"exp\\u00e9rience_requise\": \"Senior\", \"comp\\u00e9tences\": \"Cloud AWS, ETL, Docker\", \"secteur_activit\\u00e9\": \"T\\u00e9l\\u00e9com\", \"source\": \"Hellowork\"}, {\"id_offre\": \"OFFRE_39\", \"titre_poste\": \"Data Scientist\", \"entreprise\": \"BigData France\", \"lieu\": \"Nantes\", \"salaire\": \"40-50k\", \"type_contrat\": \"CDI\", \"date_publication\": \"2024-12-31T00:00:00\", \"description\": \"Offre de BI Analyst chez TechCorp.\", \"lien_offre\": \"https://www.hellowork.com/offre-39\", \"t\\u00e9l\\u00e9travail\": \"Non\", \"exp\\u00e9rience_requise\": \"Junior\", \"comp\\u00e9tences\": \"Spark, Power BI, ETL, Machine Learning, Cloud AWS\", \"secteur_activit\\u00e9\": \"\\u00c9nergie\", \"source\": \"Hellowork\"}, {\"id_offre\": \"OFFRE_40\", \"titre_poste\": \"Data Analyst\", \"entreprise\": \"AI Innovations\", \"lieu\": \"Rennes\", \"salaire\": \"35-45k\", \"type_contrat\": \"Stage\", \"date_publication\": \"2025-01-30T00:00:00\", \"description\": \"Offre de Data Analyst chez DataSolutions.\", \"lien_offre\": \"https://www.hellowork.com/offre-40\", \"t\\u00e9l\\u00e9travail\": \"Oui\", \"exp\\u00e9rience_requise\": \"Confirm\\u00e9\", \"comp\\u00e9tences\": \"Power BI, Spark\", \"secteur_activit\\u00e9\": \"E-commerce\", \"source\": \"Hellowork\"}, {\"id_offre\": \"OFFRE_41\", \"titre_poste\": \"Data Engineer\", \"entreprise\": \"AI Innovations\", \"lieu\": \"Paris\", \"salaire\": \"40-50k\", \"type_contrat\": \"CDI\", \"date_publication\": \"2025-01-02T00:00:00\", \"description\": \"Offre de Data Analyst chez TechCorp.\", \"lien_offre\": \"https://www.hellowork.com/offre-41\", \"t\\u00e9l\\u00e9travail\": \"Oui\", \"exp\\u00e9rience_requise\": \"Senior\", \"comp\\u00e9tences\": \"Python, SQL, Machine Learning, Docker\", \"secteur_activit\\u00e9\": \"E-commerce\", \"source\": \"Hellowork\"}, {\"id_offre\": \"OFFRE_42\", \"titre_poste\": \"Machine Learning Engineer\", \"entreprise\": \"Analytica\", \"lieu\": \"Lyon\", \"salaire\": \"Non pr\\u00e9cis\\u00e9\", \"type_contrat\": \"CDD\", \"date_publication\": \"2025-01-28T00:00:00\", \"description\": \"Offre de Machine Learning Engineer chez TechCorp.\", \"lien_offre\": \"https://www.hellowork.com/offre-42\", \"t\\u00e9l\\u00e9travail\": \"Non\", \"exp\\u00e9rience_requise\": \"Junior\", \"comp\\u00e9tences\": \"Cloud AWS, Spark, Machine Learning, Power BI, Python\", \"secteur_activit\\u00e9\": \"T\\u00e9l\\u00e9com\", \"source\": \"Hellowork\"}, {\"id_offre\": \"OFFRE_43\", \"titre_poste\": \"Machine Learning Engineer\", \"entreprise\": \"TechCorp\", \"lieu\": \"Lille\", \"salaire\": \"35-45k\", \"type_contrat\": \"Stage\", \"date_publication\": \"2025-01-17T00:00:00\", \"description\": \"Offre de BI Analyst chez Analytica.\", \"lien_offre\": \"https://www.hellowork.com/offre-43\", \"t\\u00e9l\\u00e9travail\": \"Oui\", \"exp\\u00e9rience_requise\": \"Confirm\\u00e9\", \"comp\\u00e9tences\": \"Spark, Machine Learning\", \"secteur_activit\\u00e9\": \"\\u00c9nergie\", \"source\": \"Hellowork\"}, {\"id_offre\": \"OFFRE_44\", \"titre_poste\": \"Data Analyst\", \"entreprise\": \"BigData France\", \"lieu\": \"Bordeaux\", \"salaire\": \"50-60k\", \"type_contrat\": \"Stage\", \"date_publication\": \"2025-01-09T00:00:00\", \"description\": \"Offre de Data Engineer chez AI Innovations.\", \"lien_offre\": \"https://www.hellowork.com/offre-44\", \"t\\u00e9l\\u00e9travail\": \"Oui\", \"exp\\u00e9rience_requise\": \"Senior\", \"comp\\u00e9tences\": \"SQL, Cloud AWS, Power BI, Spark\", \"secteur_activit\\u00e9\": \"IA\", \"source\": \"Hellowork\"}, {\"id_offre\": \"OFFRE_45\", \"titre_poste\": \"BI Analyst\", \"entreprise\": \"Analytica\", \"lieu\": \"Paris\", \"salaire\": \"50-60k\", \"type_contrat\": \"Stage\", \"date_publication\": \"2025-01-06T00:00:00\", \"description\": \"Offre de Data Analyst chez DataSolutions.\", \"lien_offre\": \"https://www.hellowork.com/offre-45\", \"t\\u00e9l\\u00e9travail\": \"Oui\", \"exp\\u00e9rience_requise\": \"Senior\", \"comp\\u00e9tences\": \"ETL, SQL, Power BI, Cloud AWS, Docker\", \"secteur_activit\\u00e9\": \"T\\u00e9l\\u00e9com\", \"source\": \"Hellowork\"}, {\"id_offre\": \"OFFRE_46\", \"titre_poste\": \"Data Analyst\", \"entreprise\": \"TechCorp\", \"lieu\": \"Lille\", \"salaire\": \"40-50k\", \"type_contrat\": \"Alternance\", \"date_publication\": \"2025-01-01T00:00:00\", \"description\": \"Offre de Data Analyst chez BigData France.\", \"lien_offre\": \"https://www.hellowork.com/offre-46\", \"t\\u00e9l\\u00e9travail\": \"Oui\", \"exp\\u00e9rience_requise\": \"Junior\", \"comp\\u00e9tences\": \"Spark, Docker\", \"secteur_activit\\u00e9\": \"Sant\\u00e9\", \"source\": \"Hellowork\"}, {\"id_offre\": \"OFFRE_47\", \"titre_poste\": \"Machine Learning Engineer\", \"entreprise\": \"TechCorp\", \"lieu\": \"Lille\", \"salaire\": \"50-60k\", \"type_contrat\": \"CDI\", \"date_publication\": \"2025-01-03T00:00:00\", \"description\": \"Offre de Data Scientist chez Analytica.\", \"lien_offre\": \"https://www.hellowork.com/offre-47\", \"t\\u00e9l\\u00e9travail\": \"Oui\", \"exp\\u00e9rience_requise\": \"Junior\", \"comp\\u00e9tences\": \"Power BI, Spark, Docker, Machine Learning, ETL\", \"secteur_activit\\u00e9\": \"Sant\\u00e9\", \"source\": \"Hellowork\"}, {\"id_offre\": \"OFFRE_48\", \"titre_poste\": \"Data Analyst\", \"entreprise\": \"TechCorp\", \"lieu\": \"Marseille\", \"salaire\": \"Non pr\\u00e9cis\\u00e9\", \"type_contrat\": \"CDI\", \"date_publication\": \"2025-01-20T00:00:00\", \"description\": \"Offre de Machine Learning Engineer chez Analytica.\", \"lien_offre\": \"https://www.hellowork.com/offre-48\", \"t\\u00e9l\\u00e9travail\": \"Oui\", \"exp\\u00e9rience_requise\": \"Confirm\\u00e9\", \"comp\\u00e9tences\": \"Python, Cloud AWS\", \"secteur_activit\\u00e9\": \"Sant\\u00e9\", \"source\": \"Hellowork\"}, {\"id_offre\": \"OFFRE_49\", \"titre_poste\": \"Data Engineer\", \"entreprise\": \"DataSolutions\", \"lieu\": \"Marseille\", \"salaire\": \"50-60k\", \"type_contrat\": \"CDD\", \"date_publication\": \"2025-01-11T00:00:00\", \"description\": \"Offre de Data Analyst chez AI Innovations.\", \"lien_offre\": \"https://www.hellowork.com/offre-49\", \"t\\u00e9l\\u00e9travail\": \"Non\", \"exp\\u00e9rience_requise\": \"Senior\", \"comp\\u00e9tences\": \"Machine Learning, Docker, ETL\", \"secteur_activit\\u00e9\": \"Finance\", \"source\": \"Hellowork\"}, {\"id_offre\": \"OFFRE_50\", \"titre_poste\": \"Machine Learning Engineer\", \"entreprise\": \"TechCorp\", \"lieu\": \"Rennes\", \"salaire\": \"Non pr\\u00e9cis\\u00e9\", \"type_contrat\": \"Alternance\", \"date_publication\": \"2025-01-28T00:00:00\", \"description\": \"Offre de Machine Learning Engineer chez TechCorp.\", \"lien_offre\": \"https://www.hellowork.com/offre-50\", \"t\\u00e9l\\u00e9travail\": \"Non\", \"exp\\u00e9rience_requise\": \"Junior\", \"comp\\u00e9tences\": \"Docker, Machine Learning\", \"secteur_activit\\u00e9\": \"IA\", \"source\": \"Hellowork\"}, {\"id_offre\": \"OFFRE_51\", \"titre_poste\": \"BI Analyst\", \"entreprise\": \"BigData France\", \"lieu\": \"Marseille\", \"salaire\": \"Non pr\\u00e9cis\\u00e9\", \"type_contrat\": \"Freelance\", \"date_publication\": \"2025-01-23T00:00:00\", \"description\": \"Offre de Data Scientist chez DataSolutions.\", \"lien_offre\": \"https://www.hellowork.com/offre-51\", \"t\\u00e9l\\u00e9travail\": \"Oui\", \"exp\\u00e9rience_requise\": \"Senior\", \"comp\\u00e9tences\": \"Spark, Power BI, Docker, Cloud AWS, SQL\", \"secteur_activit\\u00e9\": \"T\\u00e9l\\u00e9com\", \"source\": \"Hellowork\"}, {\"id_offre\": \"OFFRE_52\", \"titre_poste\": \"Data Engineer\", \"entreprise\": \"BigData France\", \"lieu\": \"Marseille\", \"salaire\": \"40-50k\", \"type_contrat\": \"CDI\", \"date_publication\": \"2025-01-19T00:00:00\", \"description\": \"Offre de Data Engineer chez BigData France.\", \"lien_offre\": \"https://www.hellowork.com/offre-52\", \"t\\u00e9l\\u00e9travail\": \"Oui\", \"exp\\u00e9rience_requise\": \"Confirm\\u00e9\", \"comp\\u00e9tences\": \"Spark, SQL\", \"secteur_activit\\u00e9\": \"E-commerce\", \"source\": \"Hellowork\"}, {\"id_offre\": \"OFFRE_53\", \"titre_poste\": \"Data Engineer\", \"entreprise\": \"AI Innovations\", \"lieu\": \"Rennes\", \"salaire\": \"40-50k\", \"type_contrat\": \"Alternance\", \"date_publication\": \"2025-01-13T00:00:00\", \"description\": \"Offre de Data Scientist chez AI Innovations.\", \"lien_offre\": \"https://www.hellowork.com/offre-53\", \"t\\u00e9l\\u00e9travail\": \"Non\", \"exp\\u00e9rience_requise\": \"Confirm\\u00e9\", \"comp\\u00e9tences\": \"Machine Learning, Python\", \"secteur_activit\\u00e9\": \"Finance\", \"source\": \"Hellowork\"}, {\"id_offre\": \"OFFRE_54\", \"titre_poste\": \"BI Analyst\", \"entreprise\": \"AI Innovations\", \"lieu\": \"Toulouse\", \"salaire\": \"35-45k\", \"type_contrat\": \"Alternance\", \"date_publication\": \"2025-01-01T00:00:00\", \"description\": \"Offre de Data Scientist chez Analytica.\", \"lien_offre\": \"https://www.hellowork.com/offre-54\", \"t\\u00e9l\\u00e9travail\": \"Oui\", \"exp\\u00e9rience_requise\": \"Junior\", \"comp\\u00e9tences\": \"Python, Power BI, Machine Learning, SQL\", \"secteur_activit\\u00e9\": \"E-commerce\", \"source\": \"Hellowork\"}, {\"id_offre\": \"OFFRE_55\", \"titre_poste\": \"Data Engineer\", \"entreprise\": \"BigData France\", \"lieu\": \"Lyon\", \"salaire\": \"Non pr\\u00e9cis\\u00e9\", \"type_contrat\": \"CDI\", \"date_publication\": \"2025-01-21T00:00:00\", \"description\": \"Offre de Data Engineer chez BigData France.\", \"lien_offre\": \"https://www.hellowork.com/offre-55\", \"t\\u00e9l\\u00e9travail\": \"Non\", \"exp\\u00e9rience_requise\": \"Junior\", \"comp\\u00e9tences\": \"Python, Docker, Cloud AWS, Machine Learning, Spark\", \"secteur_activit\\u00e9\": \"Sant\\u00e9\", \"source\": \"Hellowork\"}, {\"id_offre\": \"OFFRE_56\", \"titre_poste\": \"Data Scientist\", \"entreprise\": \"Analytica\", \"lieu\": \"Marseille\", \"salaire\": \"50-60k\", \"type_contrat\": \"Alternance\", \"date_publication\": \"2025-01-28T00:00:00\", \"description\": \"Offre de BI Analyst chez BigData France.\", \"lien_offre\": \"https://www.hellowork.com/offre-56\", \"t\\u00e9l\\u00e9travail\": \"Oui\", \"exp\\u00e9rience_requise\": \"Junior\", \"comp\\u00e9tences\": \"Docker, Spark, SQL, Cloud AWS, Machine Learning\", \"secteur_activit\\u00e9\": \"E-commerce\", \"source\": \"Hellowork\"}, {\"id_offre\": \"OFFRE_57\", \"titre_poste\": \"Data Engineer\", \"entreprise\": \"AI Innovations\", \"lieu\": \"Lille\", \"salaire\": \"Non pr\\u00e9cis\\u00e9\", \"type_contrat\": \"CDI\", \"date_publication\": \"2025-01-02T00:00:00\", \"description\": \"Offre de Data Analyst chez AI Innovations.\", \"lien_offre\": \"https://www.hellowork.com/offre-57\", \"t\\u00e9l\\u00e9travail\": \"Oui\", \"exp\\u00e9rience_requise\": \"Senior\", \"comp\\u00e9tences\": \"ETL, Spark, Docker, SQL\", \"secteur_activit\\u00e9\": \"Consulting\", \"source\": \"Hellowork\"}, {\"id_offre\": \"OFFRE_58\", \"titre_poste\": \"Machine Learning Engineer\", \"entreprise\": \"Analytica\", \"lieu\": \"Rennes\", \"salaire\": \"40-50k\", \"type_contrat\": \"Alternance\", \"date_publication\": \"2025-01-17T00:00:00\", \"description\": \"Offre de Data Analyst chez DataSolutions.\", \"lien_offre\": \"https://www.hellowork.com/offre-58\", \"t\\u00e9l\\u00e9travail\": \"Oui\", \"exp\\u00e9rience_requise\": \"Junior\", \"comp\\u00e9tences\": \"Spark, SQL, Power BI, Cloud AWS, Docker\", \"secteur_activit\\u00e9\": \"Consulting\", \"source\": \"Hellowork\"}, {\"id_offre\": \"OFFRE_59\", \"titre_poste\": \"Data Engineer\", \"entreprise\": \"TechCorp\", \"lieu\": \"Paris\", \"salaire\": \"40-50k\", \"type_contrat\": \"Freelance\", \"date_publication\": \"2025-01-20T00:00:00\", \"description\": \"Offre de BI Analyst chez DataSolutions.\", \"lien_offre\": \"https://www.hellowork.com/offre-59\", \"t\\u00e9l\\u00e9travail\": \"Oui\", \"exp\\u00e9rience_requise\": \"Senior\", \"comp\\u00e9tences\": \"Machine Learning, Docker, Python, Power BI\", \"secteur_activit\\u00e9\": \"Sant\\u00e9\", \"source\": \"Hellowork\"}, {\"id_offre\": \"OFFRE_60\", \"titre_poste\": \"Machine Learning Engineer\", \"entreprise\": \"BigData France\", \"lieu\": \"Marseille\", \"salaire\": \"Non pr\\u00e9cis\\u00e9\", \"type_contrat\": \"Alternance\", \"date_publication\": \"2025-01-26T00:00:00\", \"description\": \"Offre de Data Scientist chez BigData France.\", \"lien_offre\": \"https://www.hellowork.com/offre-60\", \"t\\u00e9l\\u00e9travail\": \"Oui\", \"exp\\u00e9rience_requise\": \"Confirm\\u00e9\", \"comp\\u00e9tences\": \"Python, ETL, Power BI, Machine Learning, Cloud AWS\", \"secteur_activit\\u00e9\": \"Consulting\", \"source\": \"Hellowork\"}, {\"id_offre\": \"OFFRE_61\", \"titre_poste\": \"Data Scientist\", \"entreprise\": \"BigData France\", \"lieu\": \"Nantes\", \"salaire\": \"50-60k\", \"type_contrat\": \"Stage\", \"date_publication\": \"2025-01-05T00:00:00\", \"description\": \"Offre de Machine Learning Engineer chez BigData France.\", \"lien_offre\": \"https://www.hellowork.com/offre-61\", \"t\\u00e9l\\u00e9travail\": \"Oui\", \"exp\\u00e9rience_requise\": \"Junior\", \"comp\\u00e9tences\": \"Machine Learning, Power BI, Docker, ETL\", \"secteur_activit\\u00e9\": \"Sant\\u00e9\", \"source\": \"Hellowork\"}, {\"id_offre\": \"OFFRE_62\", \"titre_poste\": \"Machine Learning Engineer\", \"entreprise\": \"DataSolutions\", \"lieu\": \"Rennes\", \"salaire\": \"35-45k\", \"type_contrat\": \"Stage\", \"date_publication\": \"2025-01-23T00:00:00\", \"description\": \"Offre de BI Analyst chez DataSolutions.\", \"lien_offre\": \"https://www.hellowork.com/offre-62\", \"t\\u00e9l\\u00e9travail\": \"Oui\", \"exp\\u00e9rience_requise\": \"Confirm\\u00e9\", \"comp\\u00e9tences\": \"Power BI, Cloud AWS, Machine Learning\", \"secteur_activit\\u00e9\": \"IA\", \"source\": \"Hellowork\"}, {\"id_offre\": \"OFFRE_63\", \"titre_poste\": \"Data Scientist\", \"entreprise\": \"TechCorp\", \"lieu\": \"Bordeaux\", \"salaire\": \"50-60k\", \"type_contrat\": \"Freelance\", \"date_publication\": \"2025-01-28T00:00:00\", \"description\": \"Offre de Machine Learning Engineer chez BigData France.\", \"lien_offre\": \"https://www.hellowork.com/offre-63\", \"t\\u00e9l\\u00e9travail\": \"Non\", \"exp\\u00e9rience_requise\": \"Junior\", \"comp\\u00e9tences\": \"Python, Machine Learning\", \"secteur_activit\\u00e9\": \"\\u00c9nergie\", \"source\": \"Hellowork\"}, {\"id_offre\": \"OFFRE_64\", \"titre_poste\": \"BI Analyst\", \"entreprise\": \"AI Innovations\", \"lieu\": \"Paris\", \"salaire\": \"50-60k\", \"type_contrat\": \"Stage\", \"date_publication\": \"2025-01-14T00:00:00\", \"description\": \"Offre de Data Scientist chez AI Innovations.\", \"lien_offre\": \"https://www.hellowork.com/offre-64\", \"t\\u00e9l\\u00e9travail\": \"Non\", \"exp\\u00e9rience_requise\": \"Senior\", \"comp\\u00e9tences\": \"Cloud AWS, Power BI, Spark\", \"secteur_activit\\u00e9\": \"Consulting\", \"source\": \"Hellowork\"}, {\"id_offre\": \"OFFRE_65\", \"titre_poste\": \"Data Scientist\", \"entreprise\": \"TechCorp\", \"lieu\": \"Toulouse\", \"salaire\": \"35-45k\", \"type_contrat\": \"CDI\", \"date_publication\": \"2024-12-31T00:00:00\", \"description\": \"Offre de Data Engineer chez TechCorp.\", \"lien_offre\": \"https://www.hellowork.com/offre-65\", \"t\\u00e9l\\u00e9travail\": \"Oui\", \"exp\\u00e9rience_requise\": \"Junior\", \"comp\\u00e9tences\": \"Machine Learning, Docker\", \"secteur_activit\\u00e9\": \"Consulting\", \"source\": \"Hellowork\"}, {\"id_offre\": \"OFFRE_66\", \"titre_poste\": \"Data Analyst\", \"entreprise\": \"TechCorp\", \"lieu\": \"Rennes\", \"salaire\": \"Non pr\\u00e9cis\\u00e9\", \"type_contrat\": \"Alternance\", \"date_publication\": \"2025-01-17T00:00:00\", \"description\": \"Offre de BI Analyst chez TechCorp.\", \"lien_offre\": \"https://www.hellowork.com/offre-66\", \"t\\u00e9l\\u00e9travail\": \"Non\", \"exp\\u00e9rience_requise\": \"Senior\", \"comp\\u00e9tences\": \"Spark, Machine Learning\", \"secteur_activit\\u00e9\": \"E-commerce\", \"source\": \"Hellowork\"}, {\"id_offre\": \"OFFRE_67\", \"titre_poste\": \"Data Engineer\", \"entreprise\": \"Analytica\", \"lieu\": \"Toulouse\", \"salaire\": \"50-60k\", \"type_contrat\": \"Stage\", \"date_publication\": \"2025-01-25T00:00:00\", \"description\": \"Offre de Data Analyst chez BigData France.\", \"lien_offre\": \"https://www.hellowork.com/offre-67\", \"t\\u00e9l\\u00e9travail\": \"Non\", \"exp\\u00e9rience_requise\": \"Senior\", \"comp\\u00e9tences\": \"Docker, Spark\", \"secteur_activit\\u00e9\": \"E-commerce\", \"source\": \"Hellowork\"}, {\"id_offre\": \"OFFRE_68\", \"titre_poste\": \"Data Engineer\", \"entreprise\": \"Analytica\", \"lieu\": \"Rennes\", \"salaire\": \"35-45k\", \"type_contrat\": \"CDD\", \"date_publication\": \"2025-01-09T00:00:00\", \"description\": \"Offre de BI Analyst chez DataSolutions.\", \"lien_offre\": \"https://www.hellowork.com/offre-68\", \"t\\u00e9l\\u00e9travail\": \"Oui\", \"exp\\u00e9rience_requise\": \"Confirm\\u00e9\", \"comp\\u00e9tences\": \"Python, Docker\", \"secteur_activit\\u00e9\": \"T\\u00e9l\\u00e9com\", \"source\": \"Hellowork\"}, {\"id_offre\": \"OFFRE_69\", \"titre_poste\": \"Data Scientist\", \"entreprise\": \"DataSolutions\", \"lieu\": \"Toulouse\", \"salaire\": \"Non pr\\u00e9cis\\u00e9\", \"type_contrat\": \"CDI\", \"date_publication\": \"2025-01-29T00:00:00\", \"description\": \"Offre de Data Analyst chez BigData France.\", \"lien_offre\": \"https://www.hellowork.com/offre-69\", \"t\\u00e9l\\u00e9travail\": \"Oui\", \"exp\\u00e9rience_requise\": \"Senior\", \"comp\\u00e9tences\": \"Docker, SQL, Python\", \"secteur_activit\\u00e9\": \"E-commerce\", \"source\": \"Hellowork\"}, {\"id_offre\": \"OFFRE_70\", \"titre_poste\": \"Data Analyst\", \"entreprise\": \"AI Innovations\", \"lieu\": \"Lille\", \"salaire\": \"Non pr\\u00e9cis\\u00e9\", \"type_contrat\": \"CDI\", \"date_publication\": \"2025-01-30T00:00:00\", \"description\": \"Offre de Data Engineer chez DataSolutions.\", \"lien_offre\": \"https://www.hellowork.com/offre-70\", \"t\\u00e9l\\u00e9travail\": \"Non\", \"exp\\u00e9rience_requise\": \"Confirm\\u00e9\", \"comp\\u00e9tences\": \"Python, Cloud AWS, Spark\", \"secteur_activit\\u00e9\": \"E-commerce\", \"source\": \"Hellowork\"}, {\"id_offre\": \"OFFRE_71\", \"titre_poste\": \"Machine Learning Engineer\", \"entreprise\": \"TechCorp\", \"lieu\": \"Lyon\", \"salaire\": \"50-60k\", \"type_contrat\": \"CDD\", \"date_publication\": \"2025-01-02T00:00:00\", \"description\": \"Offre de Data Scientist chez BigData France.\", \"lien_offre\": \"https://www.hellowork.com/offre-71\", \"t\\u00e9l\\u00e9travail\": \"Non\", \"exp\\u00e9rience_requise\": \"Senior\", \"comp\\u00e9tences\": \"Spark, Docker\", \"secteur_activit\\u00e9\": \"Finance\", \"source\": \"Hellowork\"}, {\"id_offre\": \"OFFRE_72\", \"titre_poste\": \"Data Scientist\", \"entreprise\": \"DataSolutions\", \"lieu\": \"Marseille\", \"salaire\": \"Non pr\\u00e9cis\\u00e9\", \"type_contrat\": \"Freelance\", \"date_publication\": \"2025-01-22T00:00:00\", \"description\": \"Offre de Data Scientist chez AI Innovations.\", \"lien_offre\": \"https://www.hellowork.com/offre-72\", \"t\\u00e9l\\u00e9travail\": \"Non\", \"exp\\u00e9rience_requise\": \"Senior\", \"comp\\u00e9tences\": \"Power BI, Docker, Machine Learning\", \"secteur_activit\\u00e9\": \"Finance\", \"source\": \"Hellowork\"}, {\"id_offre\": \"OFFRE_73\", \"titre_poste\": \"Data Scientist\", \"entreprise\": \"Analytica\", \"lieu\": \"Lyon\", \"salaire\": \"40-50k\", \"type_contrat\": \"Freelance\", \"date_publication\": \"2025-01-20T00:00:00\", \"description\": \"Offre de Data Scientist chez BigData France.\", \"lien_offre\": \"https://www.hellowork.com/offre-73\", \"t\\u00e9l\\u00e9travail\": \"Non\", \"exp\\u00e9rience_requise\": \"Confirm\\u00e9\", \"comp\\u00e9tences\": \"ETL, SQL, Docker, Machine Learning, Cloud AWS\", \"secteur_activit\\u00e9\": \"IA\", \"source\": \"Hellowork\"}, {\"id_offre\": \"OFFRE_74\", \"titre_poste\": \"Machine Learning Engineer\", \"entreprise\": \"DataSolutions\", \"lieu\": \"Nantes\", \"salaire\": \"40-50k\", \"type_contrat\": \"Stage\", \"date_publication\": \"2025-01-20T00:00:00\", \"description\": \"Offre de Data Scientist chez DataSolutions.\", \"lien_offre\": \"https://www.hellowork.com/offre-74\", \"t\\u00e9l\\u00e9travail\": \"Oui\", \"exp\\u00e9rience_requise\": \"Senior\", \"comp\\u00e9tences\": \"Docker, Spark, Python, Power BI\", \"secteur_activit\\u00e9\": \"E-commerce\", \"source\": \"Hellowork\"}, {\"id_offre\": \"OFFRE_75\", \"titre_poste\": \"BI Analyst\", \"entreprise\": \"Analytica\", \"lieu\": \"Paris\", \"salaire\": \"40-50k\", \"type_contrat\": \"CDI\", \"date_publication\": \"2025-01-12T00:00:00\", \"description\": \"Offre de Data Engineer chez BigData France.\", \"lien_offre\": \"https://www.hellowork.com/offre-75\", \"t\\u00e9l\\u00e9travail\": \"Oui\", \"exp\\u00e9rience_requise\": \"Confirm\\u00e9\", \"comp\\u00e9tences\": \"Python, Spark\", \"secteur_activit\\u00e9\": \"Consulting\", \"source\": \"Hellowork\"}, {\"id_offre\": \"OFFRE_76\", \"titre_poste\": \"Data Engineer\", \"entreprise\": \"AI Innovations\", \"lieu\": \"Marseille\", \"salaire\": \"Non pr\\u00e9cis\\u00e9\", \"type_contrat\": \"Stage\", \"date_publication\": \"2025-01-30T00:00:00\", \"description\": \"Offre de Machine Learning Engineer chez BigData France.\", \"lien_offre\": \"https://www.hellowork.com/offre-76\", \"t\\u00e9l\\u00e9travail\": \"Oui\", \"exp\\u00e9rience_requise\": \"Junior\", \"comp\\u00e9tences\": \"Docker, Cloud AWS, Power BI, SQL, Machine Learning\", \"secteur_activit\\u00e9\": \"\\u00c9nergie\", \"source\": \"Hellowork\"}, {\"id_offre\": \"OFFRE_77\", \"titre_poste\": \"Data Engineer\", \"entreprise\": \"AI Innovations\", \"lieu\": \"Lyon\", \"salaire\": \"40-50k\", \"type_contrat\": \"Stage\", \"date_publication\": \"2025-01-26T00:00:00\", \"description\": \"Offre de Data Scientist chez DataSolutions.\", \"lien_offre\": \"https://www.hellowork.com/offre-77\", \"t\\u00e9l\\u00e9travail\": \"Oui\", \"exp\\u00e9rience_requise\": \"Confirm\\u00e9\", \"comp\\u00e9tences\": \"Cloud AWS, Machine Learning, Docker, Power BI\", \"secteur_activit\\u00e9\": \"Sant\\u00e9\", \"source\": \"Hellowork\"}, {\"id_offre\": \"OFFRE_78\", \"titre_poste\": \"BI Analyst\", \"entreprise\": \"DataSolutions\", \"lieu\": \"Bordeaux\", \"salaire\": \"40-50k\", \"type_contrat\": \"Stage\", \"date_publication\": \"2025-01-17T00:00:00\", \"description\": \"Offre de BI Analyst chez AI Innovations.\", \"lien_offre\": \"https://www.hellowork.com/offre-78\", \"t\\u00e9l\\u00e9travail\": \"Non\", \"exp\\u00e9rience_requise\": \"Junior\", \"comp\\u00e9tences\": \"ETL, Docker, Machine Learning\", \"secteur_activit\\u00e9\": \"T\\u00e9l\\u00e9com\", \"source\": \"Hellowork\"}, {\"id_offre\": \"OFFRE_79\", \"titre_poste\": \"Data Engineer\", \"entreprise\": \"AI Innovations\", \"lieu\": \"Bordeaux\", \"salaire\": \"35-45k\", \"type_contrat\": \"Stage\", \"date_publication\": \"2025-01-14T00:00:00\", \"description\": \"Offre de BI Analyst chez AI Innovations.\", \"lien_offre\": \"https://www.hellowork.com/offre-79\", \"t\\u00e9l\\u00e9travail\": \"Oui\", \"exp\\u00e9rience_requise\": \"Junior\", \"comp\\u00e9tences\": \"Cloud AWS, Spark, Docker, SQL\", \"secteur_activit\\u00e9\": \"Consulting\", \"source\": \"Hellowork\"}, {\"id_offre\": \"OFFRE_80\", \"titre_poste\": \"BI Analyst\", \"entreprise\": \"Analytica\", \"lieu\": \"Toulouse\", \"salaire\": \"40-50k\", \"type_contrat\": \"CDD\", \"date_publication\": \"2025-01-17T00:00:00\", \"description\": \"Offre de BI Analyst chez AI Innovations.\", \"lien_offre\": \"https://www.hellowork.com/offre-80\", \"t\\u00e9l\\u00e9travail\": \"Oui\", \"exp\\u00e9rience_requise\": \"Junior\", \"comp\\u00e9tences\": \"ETL, SQL, Docker, Cloud AWS\", \"secteur_activit\\u00e9\": \"\\u00c9nergie\", \"source\": \"Hellowork\"}, {\"id_offre\": \"OFFRE_81\", \"titre_poste\": \"Data Engineer\", \"entreprise\": \"TechCorp\", \"lieu\": \"Marseille\", \"salaire\": \"40-50k\", \"type_contrat\": \"CDD\", \"date_publication\": \"2025-01-10T00:00:00\", \"description\": \"Offre de BI Analyst chez AI Innovations.\", \"lien_offre\": \"https://www.hellowork.com/offre-81\", \"t\\u00e9l\\u00e9travail\": \"Oui\", \"exp\\u00e9rience_requise\": \"Confirm\\u00e9\", \"comp\\u00e9tences\": \"Cloud AWS, Power BI, SQL\", \"secteur_activit\\u00e9\": \"Sant\\u00e9\", \"source\": \"Hellowork\"}, {\"id_offre\": \"OFFRE_82\", \"titre_poste\": \"Data Scientist\", \"entreprise\": \"TechCorp\", \"lieu\": \"Lyon\", \"salaire\": \"40-50k\", \"type_contrat\": \"CDI\", \"date_publication\": \"2025-01-22T00:00:00\", \"description\": \"Offre de Machine Learning Engineer chez Analytica.\", \"lien_offre\": \"https://www.hellowork.com/offre-82\", \"t\\u00e9l\\u00e9travail\": \"Oui\", \"exp\\u00e9rience_requise\": \"Senior\", \"comp\\u00e9tences\": \"SQL, Spark, Docker, Power BI\", \"secteur_activit\\u00e9\": \"E-commerce\", \"source\": \"Hellowork\"}, {\"id_offre\": \"OFFRE_83\", \"titre_poste\": \"Data Scientist\", \"entreprise\": \"TechCorp\", \"lieu\": \"Paris\", \"salaire\": \"35-45k\", \"type_contrat\": \"CDD\", \"date_publication\": \"2025-01-01T00:00:00\", \"description\": \"Offre de BI Analyst chez AI Innovations.\", \"lien_offre\": \"https://www.hellowork.com/offre-83\", \"t\\u00e9l\\u00e9travail\": \"Non\", \"exp\\u00e9rience_requise\": \"Senior\", \"comp\\u00e9tences\": \"Docker, Python, Power BI, ETL\", \"secteur_activit\\u00e9\": \"E-commerce\", \"source\": \"Hellowork\"}, {\"id_offre\": \"OFFRE_84\", \"titre_poste\": \"Data Engineer\", \"entreprise\": \"DataSolutions\", \"lieu\": \"Marseille\", \"salaire\": \"40-50k\", \"type_contrat\": \"CDD\", \"date_publication\": \"2025-01-28T00:00:00\", \"description\": \"Offre de BI Analyst chez TechCorp.\", \"lien_offre\": \"https://www.hellowork.com/offre-84\", \"t\\u00e9l\\u00e9travail\": \"Oui\", \"exp\\u00e9rience_requise\": \"Confirm\\u00e9\", \"comp\\u00e9tences\": \"Python, SQL, Cloud AWS, Spark\", \"secteur_activit\\u00e9\": \"Consulting\", \"source\": \"Hellowork\"}, {\"id_offre\": \"OFFRE_85\", \"titre_poste\": \"BI Analyst\", \"entreprise\": \"AI Innovations\", \"lieu\": \"Bordeaux\", \"salaire\": \"50-60k\", \"type_contrat\": \"Alternance\", \"date_publication\": \"2025-01-08T00:00:00\", \"description\": \"Offre de Data Analyst chez BigData France.\", \"lien_offre\": \"https://www.hellowork.com/offre-85\", \"t\\u00e9l\\u00e9travail\": \"Non\", \"exp\\u00e9rience_requise\": \"Confirm\\u00e9\", \"comp\\u00e9tences\": \"Docker, Power BI, Spark, Cloud AWS\", \"secteur_activit\\u00e9\": \"Sant\\u00e9\", \"source\": \"Hellowork\"}, {\"id_offre\": \"OFFRE_86\", \"titre_poste\": \"Data Engineer\", \"entreprise\": \"AI Innovations\", \"lieu\": \"Nantes\", \"salaire\": \"50-60k\", \"type_contrat\": \"Alternance\", \"date_publication\": \"2025-01-24T00:00:00\", \"description\": \"Offre de Data Engineer chez AI Innovations.\", \"lien_offre\": \"https://www.hellowork.com/offre-86\", \"t\\u00e9l\\u00e9travail\": \"Oui\", \"exp\\u00e9rience_requise\": \"Confirm\\u00e9\", \"comp\\u00e9tences\": \"Machine Learning, Spark\", \"secteur_activit\\u00e9\": \"Finance\", \"source\": \"Hellowork\"}, {\"id_offre\": \"OFFRE_87\", \"titre_poste\": \"Data Analyst\", \"entreprise\": \"TechCorp\", \"lieu\": \"Bordeaux\", \"salaire\": \"Non pr\\u00e9cis\\u00e9\", \"type_contrat\": \"Alternance\", \"date_publication\": \"2025-01-25T00:00:00\", \"description\": \"Offre de Data Engineer chez Analytica.\", \"lien_offre\": \"https://www.hellowork.com/offre-87\", \"t\\u00e9l\\u00e9travail\": \"Non\", \"exp\\u00e9rience_requise\": \"Senior\", \"comp\\u00e9tences\": \"ETL, Machine Learning, Cloud AWS, Spark\", \"secteur_activit\\u00e9\": \"Finance\", \"source\": \"Hellowork\"}, {\"id_offre\": \"OFFRE_88\", \"titre_poste\": \"Data Scientist\", \"entreprise\": \"AI Innovations\", \"lieu\": \"Rennes\", \"salaire\": \"Non pr\\u00e9cis\\u00e9\", \"type_contrat\": \"Stage\", \"date_publication\": \"2025-01-27T00:00:00\", \"description\": \"Offre de BI Analyst chez DataSolutions.\", \"lien_offre\": \"https://www.hellowork.com/offre-88\", \"t\\u00e9l\\u00e9travail\": \"Oui\", \"exp\\u00e9rience_requise\": \"Junior\", \"comp\\u00e9tences\": \"Machine Learning, Cloud AWS, Docker, Spark, Python\", \"secteur_activit\\u00e9\": \"IA\", \"source\": \"Hellowork\"}, {\"id_offre\": \"OFFRE_89\", \"titre_poste\": \"BI Analyst\", \"entreprise\": \"AI Innovations\", \"lieu\": \"Lyon\", \"salaire\": \"35-45k\", \"type_contrat\": \"Alternance\", \"date_publication\": \"2025-01-13T00:00:00\", \"description\": \"Offre de Machine Learning Engineer chez BigData France.\", \"lien_offre\": \"https://www.hellowork.com/offre-89\", \"t\\u00e9l\\u00e9travail\": \"Oui\", \"exp\\u00e9rience_requise\": \"Confirm\\u00e9\", \"comp\\u00e9tences\": \"Python, Spark, Machine Learning, Power BI, ETL\", \"secteur_activit\\u00e9\": \"\\u00c9nergie\", \"source\": \"Hellowork\"}, {\"id_offre\": \"OFFRE_90\", \"titre_poste\": \"Machine Learning Engineer\", \"entreprise\": \"BigData France\", \"lieu\": \"Nantes\", \"salaire\": \"40-50k\", \"type_contrat\": \"CDI\", \"date_publication\": \"2025-01-12T00:00:00\", \"description\": \"Offre de Data Engineer chez BigData France.\", \"lien_offre\": \"https://www.hellowork.com/offre-90\", \"t\\u00e9l\\u00e9travail\": \"Non\", \"exp\\u00e9rience_requise\": \"Confirm\\u00e9\", \"comp\\u00e9tences\": \"Machine Learning, ETL, Spark, Docker, Cloud AWS\", \"secteur_activit\\u00e9\": \"T\\u00e9l\\u00e9com\", \"source\": \"Hellowork\"}, {\"id_offre\": \"OFFRE_91\", \"titre_poste\": \"BI Analyst\", \"entreprise\": \"AI Innovations\", \"lieu\": \"Nantes\", \"salaire\": \"40-50k\", \"type_contrat\": \"CDI\", \"date_publication\": \"2025-01-05T00:00:00\", \"description\": \"Offre de Data Engineer chez AI Innovations.\", \"lien_offre\": \"https://www.hellowork.com/offre-91\", \"t\\u00e9l\\u00e9travail\": \"Non\", \"exp\\u00e9rience_requise\": \"Junior\", \"comp\\u00e9tences\": \"Power BI, SQL, Python\", \"secteur_activit\\u00e9\": \"T\\u00e9l\\u00e9com\", \"source\": \"Hellowork\"}, {\"id_offre\": \"OFFRE_92\", \"titre_poste\": \"Data Analyst\", \"entreprise\": \"TechCorp\", \"lieu\": \"Lyon\", \"salaire\": \"40-50k\", \"type_contrat\": \"CDI\", \"date_publication\": \"2025-01-08T00:00:00\", \"description\": \"Offre de Data Analyst chez TechCorp.\", \"lien_offre\": \"https://www.hellowork.com/offre-92\", \"t\\u00e9l\\u00e9travail\": \"Oui\", \"exp\\u00e9rience_requise\": \"Confirm\\u00e9\", \"comp\\u00e9tences\": \"Power BI, Spark, SQL, Cloud AWS, Docker\", \"secteur_activit\\u00e9\": \"Finance\", \"source\": \"Hellowork\"}, {\"id_offre\": \"OFFRE_93\", \"titre_poste\": \"BI Analyst\", \"entreprise\": \"AI Innovations\", \"lieu\": \"Toulouse\", \"salaire\": \"50-60k\", \"type_contrat\": \"Freelance\", \"date_publication\": \"2025-01-25T00:00:00\", \"description\": \"Offre de Data Analyst chez AI Innovations.\", \"lien_offre\": \"https://www.hellowork.com/offre-93\", \"t\\u00e9l\\u00e9travail\": \"Non\", \"exp\\u00e9rience_requise\": \"Senior\", \"comp\\u00e9tences\": \"Machine Learning, Spark, Power BI\", \"secteur_activit\\u00e9\": \"T\\u00e9l\\u00e9com\", \"source\": \"Hellowork\"}, {\"id_offre\": \"OFFRE_94\", \"titre_poste\": \"Data Scientist\", \"entreprise\": \"TechCorp\", \"lieu\": \"Paris\", \"salaire\": \"Non pr\\u00e9cis\\u00e9\", \"type_contrat\": \"CDI\", \"date_publication\": \"2025-01-28T00:00:00\", \"description\": \"Offre de Data Scientist chez DataSolutions.\", \"lien_offre\": \"https://www.hellowork.com/offre-94\", \"t\\u00e9l\\u00e9travail\": \"Oui\", \"exp\\u00e9rience_requise\": \"Senior\", \"comp\\u00e9tences\": \"Cloud AWS, Docker, Spark, ETL\", \"secteur_activit\\u00e9\": \"\\u00c9nergie\", \"source\": \"Hellowork\"}, {\"id_offre\": \"OFFRE_95\", \"titre_poste\": \"Machine Learning Engineer\", \"entreprise\": \"TechCorp\", \"lieu\": \"Lyon\", \"salaire\": \"40-50k\", \"type_contrat\": \"Stage\", \"date_publication\": \"2025-01-22T00:00:00\", \"description\": \"Offre de Data Engineer chez TechCorp.\", \"lien_offre\": \"https://www.hellowork.com/offre-95\", \"t\\u00e9l\\u00e9travail\": \"Oui\", \"exp\\u00e9rience_requise\": \"Junior\", \"comp\\u00e9tences\": \"SQL, Spark\", \"secteur_activit\\u00e9\": \"Consulting\", \"source\": \"Hellowork\"}, {\"id_offre\": \"OFFRE_96\", \"titre_poste\": \"Data Scientist\", \"entreprise\": \"AI Innovations\", \"lieu\": \"Bordeaux\", \"salaire\": \"Non pr\\u00e9cis\\u00e9\", \"type_contrat\": \"Freelance\", \"date_publication\": \"2025-01-13T00:00:00\", \"description\": \"Offre de Data Analyst chez BigData France.\", \"lien_offre\": \"https://www.hellowork.com/offre-96\", \"t\\u00e9l\\u00e9travail\": \"Oui\", \"exp\\u00e9rience_requise\": \"Senior\", \"comp\\u00e9tences\": \"Cloud AWS, ETL, Power BI\", \"secteur_activit\\u00e9\": \"Consulting\", \"source\": \"Hellowork\"}, {\"id_offre\": \"OFFRE_97\", \"titre_poste\": \"Data Engineer\", \"entreprise\": \"BigData France\", \"lieu\": \"Nantes\", \"salaire\": \"50-60k\", \"type_contrat\": \"Freelance\", \"date_publication\": \"2025-01-14T00:00:00\", \"description\": \"Offre de Machine Learning Engineer chez DataSolutions.\", \"lien_offre\": \"https://www.hellowork.com/offre-97\", \"t\\u00e9l\\u00e9travail\": \"Oui\", \"exp\\u00e9rience_requise\": \"Senior\", \"comp\\u00e9tences\": \"Machine Learning, Python\", \"secteur_activit\\u00e9\": \"\\u00c9nergie\", \"source\": \"Hellowork\"}, {\"id_offre\": \"OFFRE_98\", \"titre_poste\": \"Data Engineer\", \"entreprise\": \"AI Innovations\", \"lieu\": \"Toulouse\", \"salaire\": \"Non pr\\u00e9cis\\u00e9\", \"type_contrat\": \"CDI\", \"date_publication\": \"2025-01-18T00:00:00\", \"description\": \"Offre de Data Scientist chez TechCorp.\", \"lien_offre\": \"https://www.hellowork.com/offre-98\", \"t\\u00e9l\\u00e9travail\": \"Non\", \"exp\\u00e9rience_requise\": \"Senior\", \"comp\\u00e9tences\": \"Python, SQL\", \"secteur_activit\\u00e9\": \"\\u00c9nergie\", \"source\": \"Hellowork\"}, {\"id_offre\": \"OFFRE_99\", \"titre_poste\": \"Data Engineer\", \"entreprise\": \"TechCorp\", \"lieu\": \"Rennes\", \"salaire\": \"40-50k\", \"type_contrat\": \"CDD\", \"date_publication\": \"2025-01-09T00:00:00\", \"description\": \"Offre de BI Analyst chez AI Innovations.\", \"lien_offre\": \"https://www.hellowork.com/offre-99\", \"t\\u00e9l\\u00e9travail\": \"Oui\", \"exp\\u00e9rience_requise\": \"Senior\", \"comp\\u00e9tences\": \"SQL, Python\", \"secteur_activit\\u00e9\": \"Consulting\", \"source\": \"Hellowork\"}, {\"id_offre\": \"OFFRE_100\", \"titre_poste\": \"Machine Learning Engineer\", \"entreprise\": \"Analytica\", \"lieu\": \"Lyon\", \"salaire\": \"50-60k\", \"type_contrat\": \"Alternance\", \"date_publication\": \"2025-01-21T00:00:00\", \"description\": \"Offre de Data Scientist chez TechCorp.\", \"lien_offre\": \"https://www.hellowork.com/offre-100\", \"t\\u00e9l\\u00e9travail\": \"Non\", \"exp\\u00e9rience_requise\": \"Senior\", \"comp\\u00e9tences\": \"SQL, Spark\", \"secteur_activit\\u00e9\": \"Consulting\", \"source\": \"Hellowork\"}]}}, {\"mode\": \"vega-lite\"});\n",
       "</script>"
      ],
      "text/plain": [
       "alt.Chart(...)"
      ]
     },
     "execution_count": 33,
     "metadata": {},
     "output_type": "execute_result"
    }
   ],
   "source": [
    "# Graphique en points (scatter) : Expérience requise vs Salaire\n",
    "fig_altair_scatter = alt.Chart(dataviz).mark_circle(size=100).encode(\n",
    "    x=alt.X(\"expérience_requise\", title=\"Expérience requise\", sort=[\"Junior\", \"Confirmé\", \"Senior\"]),\n",
    "    y=alt.Y(\"salaire\", title=\"Fourchette de salaire\"),\n",
    "    color=alt.Color(\"expérience_requise\", scale=alt.Scale(scheme=\"set2\")),\n",
    "    tooltip=[\"titre_poste\", \"entreprise\", \"lieu\", \"salaire\"]\n",
    ").properties(\n",
    "    title=\"Relation entre l'expérience requise et le salaire\",\n",
    "    width=700,\n",
    "    height=400\n",
    ")\n",
    "fig_altair_scatter"
   ]
  },
  {
   "cell_type": "code",
   "execution_count": 34,
   "metadata": {},
   "outputs": [
    {
     "data": {
      "text/html": [
       "\n",
       "<style>\n",
       "  #altair-viz-548f16db5c6d44fe83b3fbdf7181e36c.vega-embed {\n",
       "    width: 100%;\n",
       "    display: flex;\n",
       "  }\n",
       "\n",
       "  #altair-viz-548f16db5c6d44fe83b3fbdf7181e36c.vega-embed details,\n",
       "  #altair-viz-548f16db5c6d44fe83b3fbdf7181e36c.vega-embed details summary {\n",
       "    position: relative;\n",
       "  }\n",
       "</style>\n",
       "<div id=\"altair-viz-548f16db5c6d44fe83b3fbdf7181e36c\"></div>\n",
       "<script type=\"text/javascript\">\n",
       "  var VEGA_DEBUG = (typeof VEGA_DEBUG == \"undefined\") ? {} : VEGA_DEBUG;\n",
       "  (function(spec, embedOpt){\n",
       "    let outputDiv = document.currentScript.previousElementSibling;\n",
       "    if (outputDiv.id !== \"altair-viz-548f16db5c6d44fe83b3fbdf7181e36c\") {\n",
       "      outputDiv = document.getElementById(\"altair-viz-548f16db5c6d44fe83b3fbdf7181e36c\");\n",
       "    }\n",
       "\n",
       "    const paths = {\n",
       "      \"vega\": \"https://cdn.jsdelivr.net/npm/vega@5?noext\",\n",
       "      \"vega-lib\": \"https://cdn.jsdelivr.net/npm/vega-lib?noext\",\n",
       "      \"vega-lite\": \"https://cdn.jsdelivr.net/npm/vega-lite@5.20.1?noext\",\n",
       "      \"vega-embed\": \"https://cdn.jsdelivr.net/npm/vega-embed@6?noext\",\n",
       "    };\n",
       "\n",
       "    function maybeLoadScript(lib, version) {\n",
       "      var key = `${lib.replace(\"-\", \"\")}_version`;\n",
       "      return (VEGA_DEBUG[key] == version) ?\n",
       "        Promise.resolve(paths[lib]) :\n",
       "        new Promise(function(resolve, reject) {\n",
       "          var s = document.createElement('script');\n",
       "          document.getElementsByTagName(\"head\")[0].appendChild(s);\n",
       "          s.async = true;\n",
       "          s.onload = () => {\n",
       "            VEGA_DEBUG[key] = version;\n",
       "            return resolve(paths[lib]);\n",
       "          };\n",
       "          s.onerror = () => reject(`Error loading script: ${paths[lib]}`);\n",
       "          s.src = paths[lib];\n",
       "        });\n",
       "    }\n",
       "\n",
       "    function showError(err) {\n",
       "      outputDiv.innerHTML = `<div class=\"error\" style=\"color:red;\">${err}</div>`;\n",
       "      throw err;\n",
       "    }\n",
       "\n",
       "    function displayChart(vegaEmbed) {\n",
       "      vegaEmbed(outputDiv, spec, embedOpt)\n",
       "        .catch(err => showError(`Javascript Error: ${err.message}<br>This usually means there's a typo in your chart specification. See the javascript console for the full traceback.`));\n",
       "    }\n",
       "\n",
       "    if(typeof define === \"function\" && define.amd) {\n",
       "      requirejs.config({paths});\n",
       "      let deps = [\"vega-embed\"];\n",
       "      require(deps, displayChart, err => showError(`Error loading script: ${err.message}`));\n",
       "    } else {\n",
       "      maybeLoadScript(\"vega\", \"5\")\n",
       "        .then(() => maybeLoadScript(\"vega-lite\", \"5.20.1\"))\n",
       "        .then(() => maybeLoadScript(\"vega-embed\", \"6\"))\n",
       "        .catch(showError)\n",
       "        .then(() => displayChart(vegaEmbed));\n",
       "    }\n",
       "  })({\"config\": {\"view\": {\"continuousWidth\": 300, \"continuousHeight\": 300}}, \"data\": {\"name\": \"data-6b9262aee55c2041947b1d6ab6d3b175\"}, \"mark\": {\"type\": \"line\", \"point\": true}, \"encoding\": {\"color\": {\"field\": \"type_contrat\", \"scale\": {\"scheme\": \"category20\"}, \"type\": \"nominal\"}, \"tooltip\": [{\"field\": \"date_publication\", \"type\": \"temporal\"}, {\"field\": \"type_contrat\", \"type\": \"nominal\"}, {\"aggregate\": \"count\", \"type\": \"quantitative\"}], \"x\": {\"field\": \"date_publication\", \"title\": \"Date de publication\", \"type\": \"temporal\"}, \"y\": {\"aggregate\": \"count\", \"title\": \"Nombre d'offres\", \"type\": \"quantitative\"}}, \"height\": 400, \"title\": \"\\u00c9volution du nombre d'offres par type de contrat\", \"width\": 700, \"$schema\": \"https://vega.github.io/schema/vega-lite/v5.20.1.json\", \"datasets\": {\"data-6b9262aee55c2041947b1d6ab6d3b175\": [{\"id_offre\": \"OFFRE_1\", \"titre_poste\": \"Data Engineer\", \"entreprise\": \"Analytica\", \"lieu\": \"Paris\", \"salaire\": \"50-60k\", \"type_contrat\": \"Freelance\", \"date_publication\": \"2025-01-16T00:00:00\", \"description\": \"Offre de Data Engineer chez DataSolutions.\", \"lien_offre\": \"https://www.hellowork.com/offre-1\", \"t\\u00e9l\\u00e9travail\": \"Oui\", \"exp\\u00e9rience_requise\": \"Senior\", \"comp\\u00e9tences\": \"Machine Learning, Spark\", \"secteur_activit\\u00e9\": \"\\u00c9nergie\", \"source\": \"Hellowork\"}, {\"id_offre\": \"OFFRE_2\", \"titre_poste\": \"Machine Learning Engineer\", \"entreprise\": \"BigData France\", \"lieu\": \"Paris\", \"salaire\": \"40-50k\", \"type_contrat\": \"CDI\", \"date_publication\": \"2025-01-28T00:00:00\", \"description\": \"Offre de Data Analyst chez BigData France.\", \"lien_offre\": \"https://www.hellowork.com/offre-2\", \"t\\u00e9l\\u00e9travail\": \"Non\", \"exp\\u00e9rience_requise\": \"Senior\", \"comp\\u00e9tences\": \"SQL, Docker\", \"secteur_activit\\u00e9\": \"Consulting\", \"source\": \"Hellowork\"}, {\"id_offre\": \"OFFRE_3\", \"titre_poste\": \"Data Scientist\", \"entreprise\": \"AI Innovations\", \"lieu\": \"Nantes\", \"salaire\": \"40-50k\", \"type_contrat\": \"Alternance\", \"date_publication\": \"2025-01-10T00:00:00\", \"description\": \"Offre de Data Engineer chez AI Innovations.\", \"lien_offre\": \"https://www.hellowork.com/offre-3\", \"t\\u00e9l\\u00e9travail\": \"Oui\", \"exp\\u00e9rience_requise\": \"Confirm\\u00e9\", \"comp\\u00e9tences\": \"Docker, Python, SQL, Machine Learning, Power BI\", \"secteur_activit\\u00e9\": \"\\u00c9nergie\", \"source\": \"Hellowork\"}, {\"id_offre\": \"OFFRE_4\", \"titre_poste\": \"Data Scientist\", \"entreprise\": \"TechCorp\", \"lieu\": \"Toulouse\", \"salaire\": \"40-50k\", \"type_contrat\": \"CDD\", \"date_publication\": \"2025-01-12T00:00:00\", \"description\": \"Offre de Machine Learning Engineer chez DataSolutions.\", \"lien_offre\": \"https://www.hellowork.com/offre-4\", \"t\\u00e9l\\u00e9travail\": \"Non\", \"exp\\u00e9rience_requise\": \"Junior\", \"comp\\u00e9tences\": \"Spark, Docker, Machine Learning, Power BI, ETL\", \"secteur_activit\\u00e9\": \"Consulting\", \"source\": \"Hellowork\"}, {\"id_offre\": \"OFFRE_5\", \"titre_poste\": \"Data Scientist\", \"entreprise\": \"Analytica\", \"lieu\": \"Rennes\", \"salaire\": \"35-45k\", \"type_contrat\": \"Stage\", \"date_publication\": \"2025-01-09T00:00:00\", \"description\": \"Offre de Machine Learning Engineer chez BigData France.\", \"lien_offre\": \"https://www.hellowork.com/offre-5\", \"t\\u00e9l\\u00e9travail\": \"Oui\", \"exp\\u00e9rience_requise\": \"Confirm\\u00e9\", \"comp\\u00e9tences\": \"Docker, ETL\", \"secteur_activit\\u00e9\": \"Finance\", \"source\": \"Hellowork\"}, {\"id_offre\": \"OFFRE_6\", \"titre_poste\": \"Data Engineer\", \"entreprise\": \"BigData France\", \"lieu\": \"Nantes\", \"salaire\": \"Non pr\\u00e9cis\\u00e9\", \"type_contrat\": \"CDD\", \"date_publication\": \"2025-01-18T00:00:00\", \"description\": \"Offre de BI Analyst chez AI Innovations.\", \"lien_offre\": \"https://www.hellowork.com/offre-6\", \"t\\u00e9l\\u00e9travail\": \"Non\", \"exp\\u00e9rience_requise\": \"Junior\", \"comp\\u00e9tences\": \"Cloud AWS, Machine Learning, SQL, Docker, Spark\", \"secteur_activit\\u00e9\": \"T\\u00e9l\\u00e9com\", \"source\": \"Hellowork\"}, {\"id_offre\": \"OFFRE_7\", \"titre_poste\": \"Data Analyst\", \"entreprise\": \"DataSolutions\", \"lieu\": \"Nantes\", \"salaire\": \"35-45k\", \"type_contrat\": \"Freelance\", \"date_publication\": \"2025-01-28T00:00:00\", \"description\": \"Offre de Data Scientist chez AI Innovations.\", \"lien_offre\": \"https://www.hellowork.com/offre-7\", \"t\\u00e9l\\u00e9travail\": \"Oui\", \"exp\\u00e9rience_requise\": \"Senior\", \"comp\\u00e9tences\": \"Power BI, SQL\", \"secteur_activit\\u00e9\": \"Sant\\u00e9\", \"source\": \"Hellowork\"}, {\"id_offre\": \"OFFRE_8\", \"titre_poste\": \"Data Engineer\", \"entreprise\": \"TechCorp\", \"lieu\": \"Bordeaux\", \"salaire\": \"40-50k\", \"type_contrat\": \"Stage\", \"date_publication\": \"2025-01-12T00:00:00\", \"description\": \"Offre de Data Analyst chez DataSolutions.\", \"lien_offre\": \"https://www.hellowork.com/offre-8\", \"t\\u00e9l\\u00e9travail\": \"Oui\", \"exp\\u00e9rience_requise\": \"Senior\", \"comp\\u00e9tences\": \"Docker, SQL\", \"secteur_activit\\u00e9\": \"\\u00c9nergie\", \"source\": \"Hellowork\"}, {\"id_offre\": \"OFFRE_9\", \"titre_poste\": \"Machine Learning Engineer\", \"entreprise\": \"DataSolutions\", \"lieu\": \"Rennes\", \"salaire\": \"35-45k\", \"type_contrat\": \"Stage\", \"date_publication\": \"2025-01-29T00:00:00\", \"description\": \"Offre de Machine Learning Engineer chez BigData France.\", \"lien_offre\": \"https://www.hellowork.com/offre-9\", \"t\\u00e9l\\u00e9travail\": \"Non\", \"exp\\u00e9rience_requise\": \"Senior\", \"comp\\u00e9tences\": \"ETL, Spark, Cloud AWS\", \"secteur_activit\\u00e9\": \"Consulting\", \"source\": \"Hellowork\"}, {\"id_offre\": \"OFFRE_10\", \"titre_poste\": \"Data Scientist\", \"entreprise\": \"DataSolutions\", \"lieu\": \"Paris\", \"salaire\": \"50-60k\", \"type_contrat\": \"CDI\", \"date_publication\": \"2025-01-21T00:00:00\", \"description\": \"Offre de Data Analyst chez Analytica.\", \"lien_offre\": \"https://www.hellowork.com/offre-10\", \"t\\u00e9l\\u00e9travail\": \"Non\", \"exp\\u00e9rience_requise\": \"Junior\", \"comp\\u00e9tences\": \"SQL, Python, Cloud AWS\", \"secteur_activit\\u00e9\": \"E-commerce\", \"source\": \"Hellowork\"}, {\"id_offre\": \"OFFRE_11\", \"titre_poste\": \"Machine Learning Engineer\", \"entreprise\": \"TechCorp\", \"lieu\": \"Toulouse\", \"salaire\": \"40-50k\", \"type_contrat\": \"Alternance\", \"date_publication\": \"2025-01-29T00:00:00\", \"description\": \"Offre de Data Engineer chez BigData France.\", \"lien_offre\": \"https://www.hellowork.com/offre-11\", \"t\\u00e9l\\u00e9travail\": \"Non\", \"exp\\u00e9rience_requise\": \"Senior\", \"comp\\u00e9tences\": \"ETL, Power BI\", \"secteur_activit\\u00e9\": \"Finance\", \"source\": \"Hellowork\"}, {\"id_offre\": \"OFFRE_12\", \"titre_poste\": \"Machine Learning Engineer\", \"entreprise\": \"DataSolutions\", \"lieu\": \"Marseille\", \"salaire\": \"50-60k\", \"type_contrat\": \"CDD\", \"date_publication\": \"2024-12-31T00:00:00\", \"description\": \"Offre de Data Scientist chez DataSolutions.\", \"lien_offre\": \"https://www.hellowork.com/offre-12\", \"t\\u00e9l\\u00e9travail\": \"Oui\", \"exp\\u00e9rience_requise\": \"Senior\", \"comp\\u00e9tences\": \"Spark, Python, Cloud AWS, Machine Learning, ETL\", \"secteur_activit\\u00e9\": \"Finance\", \"source\": \"Hellowork\"}, {\"id_offre\": \"OFFRE_13\", \"titre_poste\": \"Data Engineer\", \"entreprise\": \"TechCorp\", \"lieu\": \"Paris\", \"salaire\": \"35-45k\", \"type_contrat\": \"Alternance\", \"date_publication\": \"2025-01-15T00:00:00\", \"description\": \"Offre de Data Scientist chez BigData France.\", \"lien_offre\": \"https://www.hellowork.com/offre-13\", \"t\\u00e9l\\u00e9travail\": \"Non\", \"exp\\u00e9rience_requise\": \"Senior\", \"comp\\u00e9tences\": \"Docker, Spark, Cloud AWS, Machine Learning, ETL\", \"secteur_activit\\u00e9\": \"IA\", \"source\": \"Hellowork\"}, {\"id_offre\": \"OFFRE_14\", \"titre_poste\": \"Data Analyst\", \"entreprise\": \"BigData France\", \"lieu\": \"Bordeaux\", \"salaire\": \"Non pr\\u00e9cis\\u00e9\", \"type_contrat\": \"Alternance\", \"date_publication\": \"2025-01-22T00:00:00\", \"description\": \"Offre de Machine Learning Engineer chez Analytica.\", \"lien_offre\": \"https://www.hellowork.com/offre-14\", \"t\\u00e9l\\u00e9travail\": \"Non\", \"exp\\u00e9rience_requise\": \"Junior\", \"comp\\u00e9tences\": \"Docker, SQL, Spark, Cloud AWS, ETL\", \"secteur_activit\\u00e9\": \"E-commerce\", \"source\": \"Hellowork\"}, {\"id_offre\": \"OFFRE_15\", \"titre_poste\": \"Data Scientist\", \"entreprise\": \"AI Innovations\", \"lieu\": \"Toulouse\", \"salaire\": \"40-50k\", \"type_contrat\": \"CDI\", \"date_publication\": \"2025-01-11T00:00:00\", \"description\": \"Offre de Machine Learning Engineer chez Analytica.\", \"lien_offre\": \"https://www.hellowork.com/offre-15\", \"t\\u00e9l\\u00e9travail\": \"Oui\", \"exp\\u00e9rience_requise\": \"Junior\", \"comp\\u00e9tences\": \"Power BI, Machine Learning\", \"secteur_activit\\u00e9\": \"Finance\", \"source\": \"Hellowork\"}, {\"id_offre\": \"OFFRE_16\", \"titre_poste\": \"Data Scientist\", \"entreprise\": \"Analytica\", \"lieu\": \"Lille\", \"salaire\": \"Non pr\\u00e9cis\\u00e9\", \"type_contrat\": \"Freelance\", \"date_publication\": \"2025-01-04T00:00:00\", \"description\": \"Offre de Data Analyst chez Analytica.\", \"lien_offre\": \"https://www.hellowork.com/offre-16\", \"t\\u00e9l\\u00e9travail\": \"Oui\", \"exp\\u00e9rience_requise\": \"Junior\", \"comp\\u00e9tences\": \"Power BI, ETL, Machine Learning, Docker, SQL\", \"secteur_activit\\u00e9\": \"\\u00c9nergie\", \"source\": \"Hellowork\"}, {\"id_offre\": \"OFFRE_17\", \"titre_poste\": \"Data Engineer\", \"entreprise\": \"TechCorp\", \"lieu\": \"Toulouse\", \"salaire\": \"35-45k\", \"type_contrat\": \"Alternance\", \"date_publication\": \"2025-01-06T00:00:00\", \"description\": \"Offre de Data Analyst chez DataSolutions.\", \"lien_offre\": \"https://www.hellowork.com/offre-17\", \"t\\u00e9l\\u00e9travail\": \"Oui\", \"exp\\u00e9rience_requise\": \"Confirm\\u00e9\", \"comp\\u00e9tences\": \"Power BI, Cloud AWS, Python, Docker\", \"secteur_activit\\u00e9\": \"Sant\\u00e9\", \"source\": \"Hellowork\"}, {\"id_offre\": \"OFFRE_18\", \"titre_poste\": \"Data Engineer\", \"entreprise\": \"DataSolutions\", \"lieu\": \"Lyon\", \"salaire\": \"35-45k\", \"type_contrat\": \"Stage\", \"date_publication\": \"2025-01-23T00:00:00\", \"description\": \"Offre de BI Analyst chez DataSolutions.\", \"lien_offre\": \"https://www.hellowork.com/offre-18\", \"t\\u00e9l\\u00e9travail\": \"Oui\", \"exp\\u00e9rience_requise\": \"Junior\", \"comp\\u00e9tences\": \"Power BI, Machine Learning, ETL, Docker\", \"secteur_activit\\u00e9\": \"Finance\", \"source\": \"Hellowork\"}, {\"id_offre\": \"OFFRE_19\", \"titre_poste\": \"Data Scientist\", \"entreprise\": \"DataSolutions\", \"lieu\": \"Nantes\", \"salaire\": \"35-45k\", \"type_contrat\": \"Freelance\", \"date_publication\": \"2025-01-04T00:00:00\", \"description\": \"Offre de Machine Learning Engineer chez AI Innovations.\", \"lien_offre\": \"https://www.hellowork.com/offre-19\", \"t\\u00e9l\\u00e9travail\": \"Oui\", \"exp\\u00e9rience_requise\": \"Junior\", \"comp\\u00e9tences\": \"Spark, ETL, Docker, Machine Learning, Python\", \"secteur_activit\\u00e9\": \"IA\", \"source\": \"Hellowork\"}, {\"id_offre\": \"OFFRE_20\", \"titre_poste\": \"Machine Learning Engineer\", \"entreprise\": \"TechCorp\", \"lieu\": \"Bordeaux\", \"salaire\": \"40-50k\", \"type_contrat\": \"Alternance\", \"date_publication\": \"2025-01-04T00:00:00\", \"description\": \"Offre de Data Analyst chez Analytica.\", \"lien_offre\": \"https://www.hellowork.com/offre-20\", \"t\\u00e9l\\u00e9travail\": \"Oui\", \"exp\\u00e9rience_requise\": \"Senior\", \"comp\\u00e9tences\": \"Cloud AWS, ETL, SQL, Docker, Power BI\", \"secteur_activit\\u00e9\": \"Consulting\", \"source\": \"Hellowork\"}, {\"id_offre\": \"OFFRE_21\", \"titre_poste\": \"BI Analyst\", \"entreprise\": \"TechCorp\", \"lieu\": \"Bordeaux\", \"salaire\": \"Non pr\\u00e9cis\\u00e9\", \"type_contrat\": \"Freelance\", \"date_publication\": \"2025-01-22T00:00:00\", \"description\": \"Offre de BI Analyst chez AI Innovations.\", \"lien_offre\": \"https://www.hellowork.com/offre-21\", \"t\\u00e9l\\u00e9travail\": \"Oui\", \"exp\\u00e9rience_requise\": \"Junior\", \"comp\\u00e9tences\": \"Docker, ETL, Python\", \"secteur_activit\\u00e9\": \"T\\u00e9l\\u00e9com\", \"source\": \"Hellowork\"}, {\"id_offre\": \"OFFRE_22\", \"titre_poste\": \"BI Analyst\", \"entreprise\": \"DataSolutions\", \"lieu\": \"Paris\", \"salaire\": \"35-45k\", \"type_contrat\": \"CDD\", \"date_publication\": \"2025-01-01T00:00:00\", \"description\": \"Offre de Data Engineer chez Analytica.\", \"lien_offre\": \"https://www.hellowork.com/offre-22\", \"t\\u00e9l\\u00e9travail\": \"Non\", \"exp\\u00e9rience_requise\": \"Senior\", \"comp\\u00e9tences\": \"Docker, Python, Power BI, Cloud AWS, SQL\", \"secteur_activit\\u00e9\": \"IA\", \"source\": \"Hellowork\"}, {\"id_offre\": \"OFFRE_23\", \"titre_poste\": \"BI Analyst\", \"entreprise\": \"TechCorp\", \"lieu\": \"Toulouse\", \"salaire\": \"50-60k\", \"type_contrat\": \"CDI\", \"date_publication\": \"2024-12-31T00:00:00\", \"description\": \"Offre de Data Engineer chez AI Innovations.\", \"lien_offre\": \"https://www.hellowork.com/offre-23\", \"t\\u00e9l\\u00e9travail\": \"Non\", \"exp\\u00e9rience_requise\": \"Senior\", \"comp\\u00e9tences\": \"Python, Spark\", \"secteur_activit\\u00e9\": \"IA\", \"source\": \"Hellowork\"}, {\"id_offre\": \"OFFRE_24\", \"titre_poste\": \"Data Engineer\", \"entreprise\": \"BigData France\", \"lieu\": \"Marseille\", \"salaire\": \"50-60k\", \"type_contrat\": \"CDI\", \"date_publication\": \"2025-01-16T00:00:00\", \"description\": \"Offre de Data Engineer chez AI Innovations.\", \"lien_offre\": \"https://www.hellowork.com/offre-24\", \"t\\u00e9l\\u00e9travail\": \"Oui\", \"exp\\u00e9rience_requise\": \"Senior\", \"comp\\u00e9tences\": \"Power BI, Python\", \"secteur_activit\\u00e9\": \"T\\u00e9l\\u00e9com\", \"source\": \"Hellowork\"}, {\"id_offre\": \"OFFRE_25\", \"titre_poste\": \"BI Analyst\", \"entreprise\": \"AI Innovations\", \"lieu\": \"Paris\", \"salaire\": \"Non pr\\u00e9cis\\u00e9\", \"type_contrat\": \"Stage\", \"date_publication\": \"2025-01-11T00:00:00\", \"description\": \"Offre de Machine Learning Engineer chez Analytica.\", \"lien_offre\": \"https://www.hellowork.com/offre-25\", \"t\\u00e9l\\u00e9travail\": \"Non\", \"exp\\u00e9rience_requise\": \"Junior\", \"comp\\u00e9tences\": \"Spark, Machine Learning, SQL, Cloud AWS, Docker\", \"secteur_activit\\u00e9\": \"Finance\", \"source\": \"Hellowork\"}, {\"id_offre\": \"OFFRE_26\", \"titre_poste\": \"Machine Learning Engineer\", \"entreprise\": \"Analytica\", \"lieu\": \"Rennes\", \"salaire\": \"Non pr\\u00e9cis\\u00e9\", \"type_contrat\": \"CDD\", \"date_publication\": \"2025-01-11T00:00:00\", \"description\": \"Offre de Machine Learning Engineer chez AI Innovations.\", \"lien_offre\": \"https://www.hellowork.com/offre-26\", \"t\\u00e9l\\u00e9travail\": \"Non\", \"exp\\u00e9rience_requise\": \"Junior\", \"comp\\u00e9tences\": \"Python, ETL, Docker\", \"secteur_activit\\u00e9\": \"IA\", \"source\": \"Hellowork\"}, {\"id_offre\": \"OFFRE_27\", \"titre_poste\": \"BI Analyst\", \"entreprise\": \"TechCorp\", \"lieu\": \"Nantes\", \"salaire\": \"50-60k\", \"type_contrat\": \"Freelance\", \"date_publication\": \"2025-01-17T00:00:00\", \"description\": \"Offre de Data Scientist chez TechCorp.\", \"lien_offre\": \"https://www.hellowork.com/offre-27\", \"t\\u00e9l\\u00e9travail\": \"Non\", \"exp\\u00e9rience_requise\": \"Senior\", \"comp\\u00e9tences\": \"Cloud AWS, Spark, SQL\", \"secteur_activit\\u00e9\": \"E-commerce\", \"source\": \"Hellowork\"}, {\"id_offre\": \"OFFRE_28\", \"titre_poste\": \"BI Analyst\", \"entreprise\": \"BigData France\", \"lieu\": \"Lille\", \"salaire\": \"50-60k\", \"type_contrat\": \"Freelance\", \"date_publication\": \"2025-01-10T00:00:00\", \"description\": \"Offre de Data Engineer chez DataSolutions.\", \"lien_offre\": \"https://www.hellowork.com/offre-28\", \"t\\u00e9l\\u00e9travail\": \"Oui\", \"exp\\u00e9rience_requise\": \"Senior\", \"comp\\u00e9tences\": \"Docker, SQL\", \"secteur_activit\\u00e9\": \"E-commerce\", \"source\": \"Hellowork\"}, {\"id_offre\": \"OFFRE_29\", \"titre_poste\": \"Data Analyst\", \"entreprise\": \"AI Innovations\", \"lieu\": \"Nantes\", \"salaire\": \"Non pr\\u00e9cis\\u00e9\", \"type_contrat\": \"CDI\", \"date_publication\": \"2025-01-20T00:00:00\", \"description\": \"Offre de Data Analyst chez DataSolutions.\", \"lien_offre\": \"https://www.hellowork.com/offre-29\", \"t\\u00e9l\\u00e9travail\": \"Non\", \"exp\\u00e9rience_requise\": \"Senior\", \"comp\\u00e9tences\": \"Spark, Power BI, Machine Learning, Cloud AWS, Docker\", \"secteur_activit\\u00e9\": \"IA\", \"source\": \"Hellowork\"}, {\"id_offre\": \"OFFRE_30\", \"titre_poste\": \"Machine Learning Engineer\", \"entreprise\": \"BigData France\", \"lieu\": \"Rennes\", \"salaire\": \"Non pr\\u00e9cis\\u00e9\", \"type_contrat\": \"CDI\", \"date_publication\": \"2025-01-21T00:00:00\", \"description\": \"Offre de Machine Learning Engineer chez Analytica.\", \"lien_offre\": \"https://www.hellowork.com/offre-30\", \"t\\u00e9l\\u00e9travail\": \"Oui\", \"exp\\u00e9rience_requise\": \"Junior\", \"comp\\u00e9tences\": \"SQL, Power BI, Cloud AWS\", \"secteur_activit\\u00e9\": \"T\\u00e9l\\u00e9com\", \"source\": \"Hellowork\"}, {\"id_offre\": \"OFFRE_31\", \"titre_poste\": \"Data Analyst\", \"entreprise\": \"BigData France\", \"lieu\": \"Lille\", \"salaire\": \"40-50k\", \"type_contrat\": \"CDI\", \"date_publication\": \"2025-01-15T00:00:00\", \"description\": \"Offre de Data Engineer chez TechCorp.\", \"lien_offre\": \"https://www.hellowork.com/offre-31\", \"t\\u00e9l\\u00e9travail\": \"Non\", \"exp\\u00e9rience_requise\": \"Confirm\\u00e9\", \"comp\\u00e9tences\": \"SQL, Spark, Machine Learning, Python, Docker\", \"secteur_activit\\u00e9\": \"E-commerce\", \"source\": \"Hellowork\"}, {\"id_offre\": \"OFFRE_32\", \"titre_poste\": \"Data Engineer\", \"entreprise\": \"TechCorp\", \"lieu\": \"Bordeaux\", \"salaire\": \"40-50k\", \"type_contrat\": \"Freelance\", \"date_publication\": \"2025-01-17T00:00:00\", \"description\": \"Offre de Data Scientist chez BigData France.\", \"lien_offre\": \"https://www.hellowork.com/offre-32\", \"t\\u00e9l\\u00e9travail\": \"Non\", \"exp\\u00e9rience_requise\": \"Senior\", \"comp\\u00e9tences\": \"SQL, Python, Spark, Power BI, Machine Learning\", \"secteur_activit\\u00e9\": \"IA\", \"source\": \"Hellowork\"}, {\"id_offre\": \"OFFRE_33\", \"titre_poste\": \"Machine Learning Engineer\", \"entreprise\": \"Analytica\", \"lieu\": \"Paris\", \"salaire\": \"50-60k\", \"type_contrat\": \"Alternance\", \"date_publication\": \"2025-01-15T00:00:00\", \"description\": \"Offre de Machine Learning Engineer chez TechCorp.\", \"lien_offre\": \"https://www.hellowork.com/offre-33\", \"t\\u00e9l\\u00e9travail\": \"Non\", \"exp\\u00e9rience_requise\": \"Confirm\\u00e9\", \"comp\\u00e9tences\": \"Docker, SQL, Machine Learning\", \"secteur_activit\\u00e9\": \"E-commerce\", \"source\": \"Hellowork\"}, {\"id_offre\": \"OFFRE_34\", \"titre_poste\": \"Data Scientist\", \"entreprise\": \"BigData France\", \"lieu\": \"Paris\", \"salaire\": \"35-45k\", \"type_contrat\": \"Freelance\", \"date_publication\": \"2025-01-29T00:00:00\", \"description\": \"Offre de Machine Learning Engineer chez Analytica.\", \"lien_offre\": \"https://www.hellowork.com/offre-34\", \"t\\u00e9l\\u00e9travail\": \"Oui\", \"exp\\u00e9rience_requise\": \"Senior\", \"comp\\u00e9tences\": \"Spark, ETL, SQL, Machine Learning, Docker\", \"secteur_activit\\u00e9\": \"IA\", \"source\": \"Hellowork\"}, {\"id_offre\": \"OFFRE_35\", \"titre_poste\": \"Machine Learning Engineer\", \"entreprise\": \"AI Innovations\", \"lieu\": \"Lyon\", \"salaire\": \"Non pr\\u00e9cis\\u00e9\", \"type_contrat\": \"CDD\", \"date_publication\": \"2025-01-19T00:00:00\", \"description\": \"Offre de Machine Learning Engineer chez AI Innovations.\", \"lien_offre\": \"https://www.hellowork.com/offre-35\", \"t\\u00e9l\\u00e9travail\": \"Non\", \"exp\\u00e9rience_requise\": \"Senior\", \"comp\\u00e9tences\": \"SQL, Cloud AWS, Docker, ETL, Python\", \"secteur_activit\\u00e9\": \"E-commerce\", \"source\": \"Hellowork\"}, {\"id_offre\": \"OFFRE_36\", \"titre_poste\": \"Data Engineer\", \"entreprise\": \"DataSolutions\", \"lieu\": \"Lyon\", \"salaire\": \"35-45k\", \"type_contrat\": \"CDI\", \"date_publication\": \"2025-01-29T00:00:00\", \"description\": \"Offre de Data Scientist chez TechCorp.\", \"lien_offre\": \"https://www.hellowork.com/offre-36\", \"t\\u00e9l\\u00e9travail\": \"Non\", \"exp\\u00e9rience_requise\": \"Confirm\\u00e9\", \"comp\\u00e9tences\": \"Docker, ETL, Power BI, Python\", \"secteur_activit\\u00e9\": \"T\\u00e9l\\u00e9com\", \"source\": \"Hellowork\"}, {\"id_offre\": \"OFFRE_37\", \"titre_poste\": \"Data Scientist\", \"entreprise\": \"AI Innovations\", \"lieu\": \"Lyon\", \"salaire\": \"40-50k\", \"type_contrat\": \"CDI\", \"date_publication\": \"2025-01-05T00:00:00\", \"description\": \"Offre de Data Scientist chez Analytica.\", \"lien_offre\": \"https://www.hellowork.com/offre-37\", \"t\\u00e9l\\u00e9travail\": \"Non\", \"exp\\u00e9rience_requise\": \"Junior\", \"comp\\u00e9tences\": \"Cloud AWS, Machine Learning\", \"secteur_activit\\u00e9\": \"E-commerce\", \"source\": \"Hellowork\"}, {\"id_offre\": \"OFFRE_38\", \"titre_poste\": \"Machine Learning Engineer\", \"entreprise\": \"AI Innovations\", \"lieu\": \"Rennes\", \"salaire\": \"40-50k\", \"type_contrat\": \"CDI\", \"date_publication\": \"2025-01-06T00:00:00\", \"description\": \"Offre de BI Analyst chez Analytica.\", \"lien_offre\": \"https://www.hellowork.com/offre-38\", \"t\\u00e9l\\u00e9travail\": \"Non\", \"exp\\u00e9rience_requise\": \"Senior\", \"comp\\u00e9tences\": \"Cloud AWS, ETL, Docker\", \"secteur_activit\\u00e9\": \"T\\u00e9l\\u00e9com\", \"source\": \"Hellowork\"}, {\"id_offre\": \"OFFRE_39\", \"titre_poste\": \"Data Scientist\", \"entreprise\": \"BigData France\", \"lieu\": \"Nantes\", \"salaire\": \"40-50k\", \"type_contrat\": \"CDI\", \"date_publication\": \"2024-12-31T00:00:00\", \"description\": \"Offre de BI Analyst chez TechCorp.\", \"lien_offre\": \"https://www.hellowork.com/offre-39\", \"t\\u00e9l\\u00e9travail\": \"Non\", \"exp\\u00e9rience_requise\": \"Junior\", \"comp\\u00e9tences\": \"Spark, Power BI, ETL, Machine Learning, Cloud AWS\", \"secteur_activit\\u00e9\": \"\\u00c9nergie\", \"source\": \"Hellowork\"}, {\"id_offre\": \"OFFRE_40\", \"titre_poste\": \"Data Analyst\", \"entreprise\": \"AI Innovations\", \"lieu\": \"Rennes\", \"salaire\": \"35-45k\", \"type_contrat\": \"Stage\", \"date_publication\": \"2025-01-30T00:00:00\", \"description\": \"Offre de Data Analyst chez DataSolutions.\", \"lien_offre\": \"https://www.hellowork.com/offre-40\", \"t\\u00e9l\\u00e9travail\": \"Oui\", \"exp\\u00e9rience_requise\": \"Confirm\\u00e9\", \"comp\\u00e9tences\": \"Power BI, Spark\", \"secteur_activit\\u00e9\": \"E-commerce\", \"source\": \"Hellowork\"}, {\"id_offre\": \"OFFRE_41\", \"titre_poste\": \"Data Engineer\", \"entreprise\": \"AI Innovations\", \"lieu\": \"Paris\", \"salaire\": \"40-50k\", \"type_contrat\": \"CDI\", \"date_publication\": \"2025-01-02T00:00:00\", \"description\": \"Offre de Data Analyst chez TechCorp.\", \"lien_offre\": \"https://www.hellowork.com/offre-41\", \"t\\u00e9l\\u00e9travail\": \"Oui\", \"exp\\u00e9rience_requise\": \"Senior\", \"comp\\u00e9tences\": \"Python, SQL, Machine Learning, Docker\", \"secteur_activit\\u00e9\": \"E-commerce\", \"source\": \"Hellowork\"}, {\"id_offre\": \"OFFRE_42\", \"titre_poste\": \"Machine Learning Engineer\", \"entreprise\": \"Analytica\", \"lieu\": \"Lyon\", \"salaire\": \"Non pr\\u00e9cis\\u00e9\", \"type_contrat\": \"CDD\", \"date_publication\": \"2025-01-28T00:00:00\", \"description\": \"Offre de Machine Learning Engineer chez TechCorp.\", \"lien_offre\": \"https://www.hellowork.com/offre-42\", \"t\\u00e9l\\u00e9travail\": \"Non\", \"exp\\u00e9rience_requise\": \"Junior\", \"comp\\u00e9tences\": \"Cloud AWS, Spark, Machine Learning, Power BI, Python\", \"secteur_activit\\u00e9\": \"T\\u00e9l\\u00e9com\", \"source\": \"Hellowork\"}, {\"id_offre\": \"OFFRE_43\", \"titre_poste\": \"Machine Learning Engineer\", \"entreprise\": \"TechCorp\", \"lieu\": \"Lille\", \"salaire\": \"35-45k\", \"type_contrat\": \"Stage\", \"date_publication\": \"2025-01-17T00:00:00\", \"description\": \"Offre de BI Analyst chez Analytica.\", \"lien_offre\": \"https://www.hellowork.com/offre-43\", \"t\\u00e9l\\u00e9travail\": \"Oui\", \"exp\\u00e9rience_requise\": \"Confirm\\u00e9\", \"comp\\u00e9tences\": \"Spark, Machine Learning\", \"secteur_activit\\u00e9\": \"\\u00c9nergie\", \"source\": \"Hellowork\"}, {\"id_offre\": \"OFFRE_44\", \"titre_poste\": \"Data Analyst\", \"entreprise\": \"BigData France\", \"lieu\": \"Bordeaux\", \"salaire\": \"50-60k\", \"type_contrat\": \"Stage\", \"date_publication\": \"2025-01-09T00:00:00\", \"description\": \"Offre de Data Engineer chez AI Innovations.\", \"lien_offre\": \"https://www.hellowork.com/offre-44\", \"t\\u00e9l\\u00e9travail\": \"Oui\", \"exp\\u00e9rience_requise\": \"Senior\", \"comp\\u00e9tences\": \"SQL, Cloud AWS, Power BI, Spark\", \"secteur_activit\\u00e9\": \"IA\", \"source\": \"Hellowork\"}, {\"id_offre\": \"OFFRE_45\", \"titre_poste\": \"BI Analyst\", \"entreprise\": \"Analytica\", \"lieu\": \"Paris\", \"salaire\": \"50-60k\", \"type_contrat\": \"Stage\", \"date_publication\": \"2025-01-06T00:00:00\", \"description\": \"Offre de Data Analyst chez DataSolutions.\", \"lien_offre\": \"https://www.hellowork.com/offre-45\", \"t\\u00e9l\\u00e9travail\": \"Oui\", \"exp\\u00e9rience_requise\": \"Senior\", \"comp\\u00e9tences\": \"ETL, SQL, Power BI, Cloud AWS, Docker\", \"secteur_activit\\u00e9\": \"T\\u00e9l\\u00e9com\", \"source\": \"Hellowork\"}, {\"id_offre\": \"OFFRE_46\", \"titre_poste\": \"Data Analyst\", \"entreprise\": \"TechCorp\", \"lieu\": \"Lille\", \"salaire\": \"40-50k\", \"type_contrat\": \"Alternance\", \"date_publication\": \"2025-01-01T00:00:00\", \"description\": \"Offre de Data Analyst chez BigData France.\", \"lien_offre\": \"https://www.hellowork.com/offre-46\", \"t\\u00e9l\\u00e9travail\": \"Oui\", \"exp\\u00e9rience_requise\": \"Junior\", \"comp\\u00e9tences\": \"Spark, Docker\", \"secteur_activit\\u00e9\": \"Sant\\u00e9\", \"source\": \"Hellowork\"}, {\"id_offre\": \"OFFRE_47\", \"titre_poste\": \"Machine Learning Engineer\", \"entreprise\": \"TechCorp\", \"lieu\": \"Lille\", \"salaire\": \"50-60k\", \"type_contrat\": \"CDI\", \"date_publication\": \"2025-01-03T00:00:00\", \"description\": \"Offre de Data Scientist chez Analytica.\", \"lien_offre\": \"https://www.hellowork.com/offre-47\", \"t\\u00e9l\\u00e9travail\": \"Oui\", \"exp\\u00e9rience_requise\": \"Junior\", \"comp\\u00e9tences\": \"Power BI, Spark, Docker, Machine Learning, ETL\", \"secteur_activit\\u00e9\": \"Sant\\u00e9\", \"source\": \"Hellowork\"}, {\"id_offre\": \"OFFRE_48\", \"titre_poste\": \"Data Analyst\", \"entreprise\": \"TechCorp\", \"lieu\": \"Marseille\", \"salaire\": \"Non pr\\u00e9cis\\u00e9\", \"type_contrat\": \"CDI\", \"date_publication\": \"2025-01-20T00:00:00\", \"description\": \"Offre de Machine Learning Engineer chez Analytica.\", \"lien_offre\": \"https://www.hellowork.com/offre-48\", \"t\\u00e9l\\u00e9travail\": \"Oui\", \"exp\\u00e9rience_requise\": \"Confirm\\u00e9\", \"comp\\u00e9tences\": \"Python, Cloud AWS\", \"secteur_activit\\u00e9\": \"Sant\\u00e9\", \"source\": \"Hellowork\"}, {\"id_offre\": \"OFFRE_49\", \"titre_poste\": \"Data Engineer\", \"entreprise\": \"DataSolutions\", \"lieu\": \"Marseille\", \"salaire\": \"50-60k\", \"type_contrat\": \"CDD\", \"date_publication\": \"2025-01-11T00:00:00\", \"description\": \"Offre de Data Analyst chez AI Innovations.\", \"lien_offre\": \"https://www.hellowork.com/offre-49\", \"t\\u00e9l\\u00e9travail\": \"Non\", \"exp\\u00e9rience_requise\": \"Senior\", \"comp\\u00e9tences\": \"Machine Learning, Docker, ETL\", \"secteur_activit\\u00e9\": \"Finance\", \"source\": \"Hellowork\"}, {\"id_offre\": \"OFFRE_50\", \"titre_poste\": \"Machine Learning Engineer\", \"entreprise\": \"TechCorp\", \"lieu\": \"Rennes\", \"salaire\": \"Non pr\\u00e9cis\\u00e9\", \"type_contrat\": \"Alternance\", \"date_publication\": \"2025-01-28T00:00:00\", \"description\": \"Offre de Machine Learning Engineer chez TechCorp.\", \"lien_offre\": \"https://www.hellowork.com/offre-50\", \"t\\u00e9l\\u00e9travail\": \"Non\", \"exp\\u00e9rience_requise\": \"Junior\", \"comp\\u00e9tences\": \"Docker, Machine Learning\", \"secteur_activit\\u00e9\": \"IA\", \"source\": \"Hellowork\"}, {\"id_offre\": \"OFFRE_51\", \"titre_poste\": \"BI Analyst\", \"entreprise\": \"BigData France\", \"lieu\": \"Marseille\", \"salaire\": \"Non pr\\u00e9cis\\u00e9\", \"type_contrat\": \"Freelance\", \"date_publication\": \"2025-01-23T00:00:00\", \"description\": \"Offre de Data Scientist chez DataSolutions.\", \"lien_offre\": \"https://www.hellowork.com/offre-51\", \"t\\u00e9l\\u00e9travail\": \"Oui\", \"exp\\u00e9rience_requise\": \"Senior\", \"comp\\u00e9tences\": \"Spark, Power BI, Docker, Cloud AWS, SQL\", \"secteur_activit\\u00e9\": \"T\\u00e9l\\u00e9com\", \"source\": \"Hellowork\"}, {\"id_offre\": \"OFFRE_52\", \"titre_poste\": \"Data Engineer\", \"entreprise\": \"BigData France\", \"lieu\": \"Marseille\", \"salaire\": \"40-50k\", \"type_contrat\": \"CDI\", \"date_publication\": \"2025-01-19T00:00:00\", \"description\": \"Offre de Data Engineer chez BigData France.\", \"lien_offre\": \"https://www.hellowork.com/offre-52\", \"t\\u00e9l\\u00e9travail\": \"Oui\", \"exp\\u00e9rience_requise\": \"Confirm\\u00e9\", \"comp\\u00e9tences\": \"Spark, SQL\", \"secteur_activit\\u00e9\": \"E-commerce\", \"source\": \"Hellowork\"}, {\"id_offre\": \"OFFRE_53\", \"titre_poste\": \"Data Engineer\", \"entreprise\": \"AI Innovations\", \"lieu\": \"Rennes\", \"salaire\": \"40-50k\", \"type_contrat\": \"Alternance\", \"date_publication\": \"2025-01-13T00:00:00\", \"description\": \"Offre de Data Scientist chez AI Innovations.\", \"lien_offre\": \"https://www.hellowork.com/offre-53\", \"t\\u00e9l\\u00e9travail\": \"Non\", \"exp\\u00e9rience_requise\": \"Confirm\\u00e9\", \"comp\\u00e9tences\": \"Machine Learning, Python\", \"secteur_activit\\u00e9\": \"Finance\", \"source\": \"Hellowork\"}, {\"id_offre\": \"OFFRE_54\", \"titre_poste\": \"BI Analyst\", \"entreprise\": \"AI Innovations\", \"lieu\": \"Toulouse\", \"salaire\": \"35-45k\", \"type_contrat\": \"Alternance\", \"date_publication\": \"2025-01-01T00:00:00\", \"description\": \"Offre de Data Scientist chez Analytica.\", \"lien_offre\": \"https://www.hellowork.com/offre-54\", \"t\\u00e9l\\u00e9travail\": \"Oui\", \"exp\\u00e9rience_requise\": \"Junior\", \"comp\\u00e9tences\": \"Python, Power BI, Machine Learning, SQL\", \"secteur_activit\\u00e9\": \"E-commerce\", \"source\": \"Hellowork\"}, {\"id_offre\": \"OFFRE_55\", \"titre_poste\": \"Data Engineer\", \"entreprise\": \"BigData France\", \"lieu\": \"Lyon\", \"salaire\": \"Non pr\\u00e9cis\\u00e9\", \"type_contrat\": \"CDI\", \"date_publication\": \"2025-01-21T00:00:00\", \"description\": \"Offre de Data Engineer chez BigData France.\", \"lien_offre\": \"https://www.hellowork.com/offre-55\", \"t\\u00e9l\\u00e9travail\": \"Non\", \"exp\\u00e9rience_requise\": \"Junior\", \"comp\\u00e9tences\": \"Python, Docker, Cloud AWS, Machine Learning, Spark\", \"secteur_activit\\u00e9\": \"Sant\\u00e9\", \"source\": \"Hellowork\"}, {\"id_offre\": \"OFFRE_56\", \"titre_poste\": \"Data Scientist\", \"entreprise\": \"Analytica\", \"lieu\": \"Marseille\", \"salaire\": \"50-60k\", \"type_contrat\": \"Alternance\", \"date_publication\": \"2025-01-28T00:00:00\", \"description\": \"Offre de BI Analyst chez BigData France.\", \"lien_offre\": \"https://www.hellowork.com/offre-56\", \"t\\u00e9l\\u00e9travail\": \"Oui\", \"exp\\u00e9rience_requise\": \"Junior\", \"comp\\u00e9tences\": \"Docker, Spark, SQL, Cloud AWS, Machine Learning\", \"secteur_activit\\u00e9\": \"E-commerce\", \"source\": \"Hellowork\"}, {\"id_offre\": \"OFFRE_57\", \"titre_poste\": \"Data Engineer\", \"entreprise\": \"AI Innovations\", \"lieu\": \"Lille\", \"salaire\": \"Non pr\\u00e9cis\\u00e9\", \"type_contrat\": \"CDI\", \"date_publication\": \"2025-01-02T00:00:00\", \"description\": \"Offre de Data Analyst chez AI Innovations.\", \"lien_offre\": \"https://www.hellowork.com/offre-57\", \"t\\u00e9l\\u00e9travail\": \"Oui\", \"exp\\u00e9rience_requise\": \"Senior\", \"comp\\u00e9tences\": \"ETL, Spark, Docker, SQL\", \"secteur_activit\\u00e9\": \"Consulting\", \"source\": \"Hellowork\"}, {\"id_offre\": \"OFFRE_58\", \"titre_poste\": \"Machine Learning Engineer\", \"entreprise\": \"Analytica\", \"lieu\": \"Rennes\", \"salaire\": \"40-50k\", \"type_contrat\": \"Alternance\", \"date_publication\": \"2025-01-17T00:00:00\", \"description\": \"Offre de Data Analyst chez DataSolutions.\", \"lien_offre\": \"https://www.hellowork.com/offre-58\", \"t\\u00e9l\\u00e9travail\": \"Oui\", \"exp\\u00e9rience_requise\": \"Junior\", \"comp\\u00e9tences\": \"Spark, SQL, Power BI, Cloud AWS, Docker\", \"secteur_activit\\u00e9\": \"Consulting\", \"source\": \"Hellowork\"}, {\"id_offre\": \"OFFRE_59\", \"titre_poste\": \"Data Engineer\", \"entreprise\": \"TechCorp\", \"lieu\": \"Paris\", \"salaire\": \"40-50k\", \"type_contrat\": \"Freelance\", \"date_publication\": \"2025-01-20T00:00:00\", \"description\": \"Offre de BI Analyst chez DataSolutions.\", \"lien_offre\": \"https://www.hellowork.com/offre-59\", \"t\\u00e9l\\u00e9travail\": \"Oui\", \"exp\\u00e9rience_requise\": \"Senior\", \"comp\\u00e9tences\": \"Machine Learning, Docker, Python, Power BI\", \"secteur_activit\\u00e9\": \"Sant\\u00e9\", \"source\": \"Hellowork\"}, {\"id_offre\": \"OFFRE_60\", \"titre_poste\": \"Machine Learning Engineer\", \"entreprise\": \"BigData France\", \"lieu\": \"Marseille\", \"salaire\": \"Non pr\\u00e9cis\\u00e9\", \"type_contrat\": \"Alternance\", \"date_publication\": \"2025-01-26T00:00:00\", \"description\": \"Offre de Data Scientist chez BigData France.\", \"lien_offre\": \"https://www.hellowork.com/offre-60\", \"t\\u00e9l\\u00e9travail\": \"Oui\", \"exp\\u00e9rience_requise\": \"Confirm\\u00e9\", \"comp\\u00e9tences\": \"Python, ETL, Power BI, Machine Learning, Cloud AWS\", \"secteur_activit\\u00e9\": \"Consulting\", \"source\": \"Hellowork\"}, {\"id_offre\": \"OFFRE_61\", \"titre_poste\": \"Data Scientist\", \"entreprise\": \"BigData France\", \"lieu\": \"Nantes\", \"salaire\": \"50-60k\", \"type_contrat\": \"Stage\", \"date_publication\": \"2025-01-05T00:00:00\", \"description\": \"Offre de Machine Learning Engineer chez BigData France.\", \"lien_offre\": \"https://www.hellowork.com/offre-61\", \"t\\u00e9l\\u00e9travail\": \"Oui\", \"exp\\u00e9rience_requise\": \"Junior\", \"comp\\u00e9tences\": \"Machine Learning, Power BI, Docker, ETL\", \"secteur_activit\\u00e9\": \"Sant\\u00e9\", \"source\": \"Hellowork\"}, {\"id_offre\": \"OFFRE_62\", \"titre_poste\": \"Machine Learning Engineer\", \"entreprise\": \"DataSolutions\", \"lieu\": \"Rennes\", \"salaire\": \"35-45k\", \"type_contrat\": \"Stage\", \"date_publication\": \"2025-01-23T00:00:00\", \"description\": \"Offre de BI Analyst chez DataSolutions.\", \"lien_offre\": \"https://www.hellowork.com/offre-62\", \"t\\u00e9l\\u00e9travail\": \"Oui\", \"exp\\u00e9rience_requise\": \"Confirm\\u00e9\", \"comp\\u00e9tences\": \"Power BI, Cloud AWS, Machine Learning\", \"secteur_activit\\u00e9\": \"IA\", \"source\": \"Hellowork\"}, {\"id_offre\": \"OFFRE_63\", \"titre_poste\": \"Data Scientist\", \"entreprise\": \"TechCorp\", \"lieu\": \"Bordeaux\", \"salaire\": \"50-60k\", \"type_contrat\": \"Freelance\", \"date_publication\": \"2025-01-28T00:00:00\", \"description\": \"Offre de Machine Learning Engineer chez BigData France.\", \"lien_offre\": \"https://www.hellowork.com/offre-63\", \"t\\u00e9l\\u00e9travail\": \"Non\", \"exp\\u00e9rience_requise\": \"Junior\", \"comp\\u00e9tences\": \"Python, Machine Learning\", \"secteur_activit\\u00e9\": \"\\u00c9nergie\", \"source\": \"Hellowork\"}, {\"id_offre\": \"OFFRE_64\", \"titre_poste\": \"BI Analyst\", \"entreprise\": \"AI Innovations\", \"lieu\": \"Paris\", \"salaire\": \"50-60k\", \"type_contrat\": \"Stage\", \"date_publication\": \"2025-01-14T00:00:00\", \"description\": \"Offre de Data Scientist chez AI Innovations.\", \"lien_offre\": \"https://www.hellowork.com/offre-64\", \"t\\u00e9l\\u00e9travail\": \"Non\", \"exp\\u00e9rience_requise\": \"Senior\", \"comp\\u00e9tences\": \"Cloud AWS, Power BI, Spark\", \"secteur_activit\\u00e9\": \"Consulting\", \"source\": \"Hellowork\"}, {\"id_offre\": \"OFFRE_65\", \"titre_poste\": \"Data Scientist\", \"entreprise\": \"TechCorp\", \"lieu\": \"Toulouse\", \"salaire\": \"35-45k\", \"type_contrat\": \"CDI\", \"date_publication\": \"2024-12-31T00:00:00\", \"description\": \"Offre de Data Engineer chez TechCorp.\", \"lien_offre\": \"https://www.hellowork.com/offre-65\", \"t\\u00e9l\\u00e9travail\": \"Oui\", \"exp\\u00e9rience_requise\": \"Junior\", \"comp\\u00e9tences\": \"Machine Learning, Docker\", \"secteur_activit\\u00e9\": \"Consulting\", \"source\": \"Hellowork\"}, {\"id_offre\": \"OFFRE_66\", \"titre_poste\": \"Data Analyst\", \"entreprise\": \"TechCorp\", \"lieu\": \"Rennes\", \"salaire\": \"Non pr\\u00e9cis\\u00e9\", \"type_contrat\": \"Alternance\", \"date_publication\": \"2025-01-17T00:00:00\", \"description\": \"Offre de BI Analyst chez TechCorp.\", \"lien_offre\": \"https://www.hellowork.com/offre-66\", \"t\\u00e9l\\u00e9travail\": \"Non\", \"exp\\u00e9rience_requise\": \"Senior\", \"comp\\u00e9tences\": \"Spark, Machine Learning\", \"secteur_activit\\u00e9\": \"E-commerce\", \"source\": \"Hellowork\"}, {\"id_offre\": \"OFFRE_67\", \"titre_poste\": \"Data Engineer\", \"entreprise\": \"Analytica\", \"lieu\": \"Toulouse\", \"salaire\": \"50-60k\", \"type_contrat\": \"Stage\", \"date_publication\": \"2025-01-25T00:00:00\", \"description\": \"Offre de Data Analyst chez BigData France.\", \"lien_offre\": \"https://www.hellowork.com/offre-67\", \"t\\u00e9l\\u00e9travail\": \"Non\", \"exp\\u00e9rience_requise\": \"Senior\", \"comp\\u00e9tences\": \"Docker, Spark\", \"secteur_activit\\u00e9\": \"E-commerce\", \"source\": \"Hellowork\"}, {\"id_offre\": \"OFFRE_68\", \"titre_poste\": \"Data Engineer\", \"entreprise\": \"Analytica\", \"lieu\": \"Rennes\", \"salaire\": \"35-45k\", \"type_contrat\": \"CDD\", \"date_publication\": \"2025-01-09T00:00:00\", \"description\": \"Offre de BI Analyst chez DataSolutions.\", \"lien_offre\": \"https://www.hellowork.com/offre-68\", \"t\\u00e9l\\u00e9travail\": \"Oui\", \"exp\\u00e9rience_requise\": \"Confirm\\u00e9\", \"comp\\u00e9tences\": \"Python, Docker\", \"secteur_activit\\u00e9\": \"T\\u00e9l\\u00e9com\", \"source\": \"Hellowork\"}, {\"id_offre\": \"OFFRE_69\", \"titre_poste\": \"Data Scientist\", \"entreprise\": \"DataSolutions\", \"lieu\": \"Toulouse\", \"salaire\": \"Non pr\\u00e9cis\\u00e9\", \"type_contrat\": \"CDI\", \"date_publication\": \"2025-01-29T00:00:00\", \"description\": \"Offre de Data Analyst chez BigData France.\", \"lien_offre\": \"https://www.hellowork.com/offre-69\", \"t\\u00e9l\\u00e9travail\": \"Oui\", \"exp\\u00e9rience_requise\": \"Senior\", \"comp\\u00e9tences\": \"Docker, SQL, Python\", \"secteur_activit\\u00e9\": \"E-commerce\", \"source\": \"Hellowork\"}, {\"id_offre\": \"OFFRE_70\", \"titre_poste\": \"Data Analyst\", \"entreprise\": \"AI Innovations\", \"lieu\": \"Lille\", \"salaire\": \"Non pr\\u00e9cis\\u00e9\", \"type_contrat\": \"CDI\", \"date_publication\": \"2025-01-30T00:00:00\", \"description\": \"Offre de Data Engineer chez DataSolutions.\", \"lien_offre\": \"https://www.hellowork.com/offre-70\", \"t\\u00e9l\\u00e9travail\": \"Non\", \"exp\\u00e9rience_requise\": \"Confirm\\u00e9\", \"comp\\u00e9tences\": \"Python, Cloud AWS, Spark\", \"secteur_activit\\u00e9\": \"E-commerce\", \"source\": \"Hellowork\"}, {\"id_offre\": \"OFFRE_71\", \"titre_poste\": \"Machine Learning Engineer\", \"entreprise\": \"TechCorp\", \"lieu\": \"Lyon\", \"salaire\": \"50-60k\", \"type_contrat\": \"CDD\", \"date_publication\": \"2025-01-02T00:00:00\", \"description\": \"Offre de Data Scientist chez BigData France.\", \"lien_offre\": \"https://www.hellowork.com/offre-71\", \"t\\u00e9l\\u00e9travail\": \"Non\", \"exp\\u00e9rience_requise\": \"Senior\", \"comp\\u00e9tences\": \"Spark, Docker\", \"secteur_activit\\u00e9\": \"Finance\", \"source\": \"Hellowork\"}, {\"id_offre\": \"OFFRE_72\", \"titre_poste\": \"Data Scientist\", \"entreprise\": \"DataSolutions\", \"lieu\": \"Marseille\", \"salaire\": \"Non pr\\u00e9cis\\u00e9\", \"type_contrat\": \"Freelance\", \"date_publication\": \"2025-01-22T00:00:00\", \"description\": \"Offre de Data Scientist chez AI Innovations.\", \"lien_offre\": \"https://www.hellowork.com/offre-72\", \"t\\u00e9l\\u00e9travail\": \"Non\", \"exp\\u00e9rience_requise\": \"Senior\", \"comp\\u00e9tences\": \"Power BI, Docker, Machine Learning\", \"secteur_activit\\u00e9\": \"Finance\", \"source\": \"Hellowork\"}, {\"id_offre\": \"OFFRE_73\", \"titre_poste\": \"Data Scientist\", \"entreprise\": \"Analytica\", \"lieu\": \"Lyon\", \"salaire\": \"40-50k\", \"type_contrat\": \"Freelance\", \"date_publication\": \"2025-01-20T00:00:00\", \"description\": \"Offre de Data Scientist chez BigData France.\", \"lien_offre\": \"https://www.hellowork.com/offre-73\", \"t\\u00e9l\\u00e9travail\": \"Non\", \"exp\\u00e9rience_requise\": \"Confirm\\u00e9\", \"comp\\u00e9tences\": \"ETL, SQL, Docker, Machine Learning, Cloud AWS\", \"secteur_activit\\u00e9\": \"IA\", \"source\": \"Hellowork\"}, {\"id_offre\": \"OFFRE_74\", \"titre_poste\": \"Machine Learning Engineer\", \"entreprise\": \"DataSolutions\", \"lieu\": \"Nantes\", \"salaire\": \"40-50k\", \"type_contrat\": \"Stage\", \"date_publication\": \"2025-01-20T00:00:00\", \"description\": \"Offre de Data Scientist chez DataSolutions.\", \"lien_offre\": \"https://www.hellowork.com/offre-74\", \"t\\u00e9l\\u00e9travail\": \"Oui\", \"exp\\u00e9rience_requise\": \"Senior\", \"comp\\u00e9tences\": \"Docker, Spark, Python, Power BI\", \"secteur_activit\\u00e9\": \"E-commerce\", \"source\": \"Hellowork\"}, {\"id_offre\": \"OFFRE_75\", \"titre_poste\": \"BI Analyst\", \"entreprise\": \"Analytica\", \"lieu\": \"Paris\", \"salaire\": \"40-50k\", \"type_contrat\": \"CDI\", \"date_publication\": \"2025-01-12T00:00:00\", \"description\": \"Offre de Data Engineer chez BigData France.\", \"lien_offre\": \"https://www.hellowork.com/offre-75\", \"t\\u00e9l\\u00e9travail\": \"Oui\", \"exp\\u00e9rience_requise\": \"Confirm\\u00e9\", \"comp\\u00e9tences\": \"Python, Spark\", \"secteur_activit\\u00e9\": \"Consulting\", \"source\": \"Hellowork\"}, {\"id_offre\": \"OFFRE_76\", \"titre_poste\": \"Data Engineer\", \"entreprise\": \"AI Innovations\", \"lieu\": \"Marseille\", \"salaire\": \"Non pr\\u00e9cis\\u00e9\", \"type_contrat\": \"Stage\", \"date_publication\": \"2025-01-30T00:00:00\", \"description\": \"Offre de Machine Learning Engineer chez BigData France.\", \"lien_offre\": \"https://www.hellowork.com/offre-76\", \"t\\u00e9l\\u00e9travail\": \"Oui\", \"exp\\u00e9rience_requise\": \"Junior\", \"comp\\u00e9tences\": \"Docker, Cloud AWS, Power BI, SQL, Machine Learning\", \"secteur_activit\\u00e9\": \"\\u00c9nergie\", \"source\": \"Hellowork\"}, {\"id_offre\": \"OFFRE_77\", \"titre_poste\": \"Data Engineer\", \"entreprise\": \"AI Innovations\", \"lieu\": \"Lyon\", \"salaire\": \"40-50k\", \"type_contrat\": \"Stage\", \"date_publication\": \"2025-01-26T00:00:00\", \"description\": \"Offre de Data Scientist chez DataSolutions.\", \"lien_offre\": \"https://www.hellowork.com/offre-77\", \"t\\u00e9l\\u00e9travail\": \"Oui\", \"exp\\u00e9rience_requise\": \"Confirm\\u00e9\", \"comp\\u00e9tences\": \"Cloud AWS, Machine Learning, Docker, Power BI\", \"secteur_activit\\u00e9\": \"Sant\\u00e9\", \"source\": \"Hellowork\"}, {\"id_offre\": \"OFFRE_78\", \"titre_poste\": \"BI Analyst\", \"entreprise\": \"DataSolutions\", \"lieu\": \"Bordeaux\", \"salaire\": \"40-50k\", \"type_contrat\": \"Stage\", \"date_publication\": \"2025-01-17T00:00:00\", \"description\": \"Offre de BI Analyst chez AI Innovations.\", \"lien_offre\": \"https://www.hellowork.com/offre-78\", \"t\\u00e9l\\u00e9travail\": \"Non\", \"exp\\u00e9rience_requise\": \"Junior\", \"comp\\u00e9tences\": \"ETL, Docker, Machine Learning\", \"secteur_activit\\u00e9\": \"T\\u00e9l\\u00e9com\", \"source\": \"Hellowork\"}, {\"id_offre\": \"OFFRE_79\", \"titre_poste\": \"Data Engineer\", \"entreprise\": \"AI Innovations\", \"lieu\": \"Bordeaux\", \"salaire\": \"35-45k\", \"type_contrat\": \"Stage\", \"date_publication\": \"2025-01-14T00:00:00\", \"description\": \"Offre de BI Analyst chez AI Innovations.\", \"lien_offre\": \"https://www.hellowork.com/offre-79\", \"t\\u00e9l\\u00e9travail\": \"Oui\", \"exp\\u00e9rience_requise\": \"Junior\", \"comp\\u00e9tences\": \"Cloud AWS, Spark, Docker, SQL\", \"secteur_activit\\u00e9\": \"Consulting\", \"source\": \"Hellowork\"}, {\"id_offre\": \"OFFRE_80\", \"titre_poste\": \"BI Analyst\", \"entreprise\": \"Analytica\", \"lieu\": \"Toulouse\", \"salaire\": \"40-50k\", \"type_contrat\": \"CDD\", \"date_publication\": \"2025-01-17T00:00:00\", \"description\": \"Offre de BI Analyst chez AI Innovations.\", \"lien_offre\": \"https://www.hellowork.com/offre-80\", \"t\\u00e9l\\u00e9travail\": \"Oui\", \"exp\\u00e9rience_requise\": \"Junior\", \"comp\\u00e9tences\": \"ETL, SQL, Docker, Cloud AWS\", \"secteur_activit\\u00e9\": \"\\u00c9nergie\", \"source\": \"Hellowork\"}, {\"id_offre\": \"OFFRE_81\", \"titre_poste\": \"Data Engineer\", \"entreprise\": \"TechCorp\", \"lieu\": \"Marseille\", \"salaire\": \"40-50k\", \"type_contrat\": \"CDD\", \"date_publication\": \"2025-01-10T00:00:00\", \"description\": \"Offre de BI Analyst chez AI Innovations.\", \"lien_offre\": \"https://www.hellowork.com/offre-81\", \"t\\u00e9l\\u00e9travail\": \"Oui\", \"exp\\u00e9rience_requise\": \"Confirm\\u00e9\", \"comp\\u00e9tences\": \"Cloud AWS, Power BI, SQL\", \"secteur_activit\\u00e9\": \"Sant\\u00e9\", \"source\": \"Hellowork\"}, {\"id_offre\": \"OFFRE_82\", \"titre_poste\": \"Data Scientist\", \"entreprise\": \"TechCorp\", \"lieu\": \"Lyon\", \"salaire\": \"40-50k\", \"type_contrat\": \"CDI\", \"date_publication\": \"2025-01-22T00:00:00\", \"description\": \"Offre de Machine Learning Engineer chez Analytica.\", \"lien_offre\": \"https://www.hellowork.com/offre-82\", \"t\\u00e9l\\u00e9travail\": \"Oui\", \"exp\\u00e9rience_requise\": \"Senior\", \"comp\\u00e9tences\": \"SQL, Spark, Docker, Power BI\", \"secteur_activit\\u00e9\": \"E-commerce\", \"source\": \"Hellowork\"}, {\"id_offre\": \"OFFRE_83\", \"titre_poste\": \"Data Scientist\", \"entreprise\": \"TechCorp\", \"lieu\": \"Paris\", \"salaire\": \"35-45k\", \"type_contrat\": \"CDD\", \"date_publication\": \"2025-01-01T00:00:00\", \"description\": \"Offre de BI Analyst chez AI Innovations.\", \"lien_offre\": \"https://www.hellowork.com/offre-83\", \"t\\u00e9l\\u00e9travail\": \"Non\", \"exp\\u00e9rience_requise\": \"Senior\", \"comp\\u00e9tences\": \"Docker, Python, Power BI, ETL\", \"secteur_activit\\u00e9\": \"E-commerce\", \"source\": \"Hellowork\"}, {\"id_offre\": \"OFFRE_84\", \"titre_poste\": \"Data Engineer\", \"entreprise\": \"DataSolutions\", \"lieu\": \"Marseille\", \"salaire\": \"40-50k\", \"type_contrat\": \"CDD\", \"date_publication\": \"2025-01-28T00:00:00\", \"description\": \"Offre de BI Analyst chez TechCorp.\", \"lien_offre\": \"https://www.hellowork.com/offre-84\", \"t\\u00e9l\\u00e9travail\": \"Oui\", \"exp\\u00e9rience_requise\": \"Confirm\\u00e9\", \"comp\\u00e9tences\": \"Python, SQL, Cloud AWS, Spark\", \"secteur_activit\\u00e9\": \"Consulting\", \"source\": \"Hellowork\"}, {\"id_offre\": \"OFFRE_85\", \"titre_poste\": \"BI Analyst\", \"entreprise\": \"AI Innovations\", \"lieu\": \"Bordeaux\", \"salaire\": \"50-60k\", \"type_contrat\": \"Alternance\", \"date_publication\": \"2025-01-08T00:00:00\", \"description\": \"Offre de Data Analyst chez BigData France.\", \"lien_offre\": \"https://www.hellowork.com/offre-85\", \"t\\u00e9l\\u00e9travail\": \"Non\", \"exp\\u00e9rience_requise\": \"Confirm\\u00e9\", \"comp\\u00e9tences\": \"Docker, Power BI, Spark, Cloud AWS\", \"secteur_activit\\u00e9\": \"Sant\\u00e9\", \"source\": \"Hellowork\"}, {\"id_offre\": \"OFFRE_86\", \"titre_poste\": \"Data Engineer\", \"entreprise\": \"AI Innovations\", \"lieu\": \"Nantes\", \"salaire\": \"50-60k\", \"type_contrat\": \"Alternance\", \"date_publication\": \"2025-01-24T00:00:00\", \"description\": \"Offre de Data Engineer chez AI Innovations.\", \"lien_offre\": \"https://www.hellowork.com/offre-86\", \"t\\u00e9l\\u00e9travail\": \"Oui\", \"exp\\u00e9rience_requise\": \"Confirm\\u00e9\", \"comp\\u00e9tences\": \"Machine Learning, Spark\", \"secteur_activit\\u00e9\": \"Finance\", \"source\": \"Hellowork\"}, {\"id_offre\": \"OFFRE_87\", \"titre_poste\": \"Data Analyst\", \"entreprise\": \"TechCorp\", \"lieu\": \"Bordeaux\", \"salaire\": \"Non pr\\u00e9cis\\u00e9\", \"type_contrat\": \"Alternance\", \"date_publication\": \"2025-01-25T00:00:00\", \"description\": \"Offre de Data Engineer chez Analytica.\", \"lien_offre\": \"https://www.hellowork.com/offre-87\", \"t\\u00e9l\\u00e9travail\": \"Non\", \"exp\\u00e9rience_requise\": \"Senior\", \"comp\\u00e9tences\": \"ETL, Machine Learning, Cloud AWS, Spark\", \"secteur_activit\\u00e9\": \"Finance\", \"source\": \"Hellowork\"}, {\"id_offre\": \"OFFRE_88\", \"titre_poste\": \"Data Scientist\", \"entreprise\": \"AI Innovations\", \"lieu\": \"Rennes\", \"salaire\": \"Non pr\\u00e9cis\\u00e9\", \"type_contrat\": \"Stage\", \"date_publication\": \"2025-01-27T00:00:00\", \"description\": \"Offre de BI Analyst chez DataSolutions.\", \"lien_offre\": \"https://www.hellowork.com/offre-88\", \"t\\u00e9l\\u00e9travail\": \"Oui\", \"exp\\u00e9rience_requise\": \"Junior\", \"comp\\u00e9tences\": \"Machine Learning, Cloud AWS, Docker, Spark, Python\", \"secteur_activit\\u00e9\": \"IA\", \"source\": \"Hellowork\"}, {\"id_offre\": \"OFFRE_89\", \"titre_poste\": \"BI Analyst\", \"entreprise\": \"AI Innovations\", \"lieu\": \"Lyon\", \"salaire\": \"35-45k\", \"type_contrat\": \"Alternance\", \"date_publication\": \"2025-01-13T00:00:00\", \"description\": \"Offre de Machine Learning Engineer chez BigData France.\", \"lien_offre\": \"https://www.hellowork.com/offre-89\", \"t\\u00e9l\\u00e9travail\": \"Oui\", \"exp\\u00e9rience_requise\": \"Confirm\\u00e9\", \"comp\\u00e9tences\": \"Python, Spark, Machine Learning, Power BI, ETL\", \"secteur_activit\\u00e9\": \"\\u00c9nergie\", \"source\": \"Hellowork\"}, {\"id_offre\": \"OFFRE_90\", \"titre_poste\": \"Machine Learning Engineer\", \"entreprise\": \"BigData France\", \"lieu\": \"Nantes\", \"salaire\": \"40-50k\", \"type_contrat\": \"CDI\", \"date_publication\": \"2025-01-12T00:00:00\", \"description\": \"Offre de Data Engineer chez BigData France.\", \"lien_offre\": \"https://www.hellowork.com/offre-90\", \"t\\u00e9l\\u00e9travail\": \"Non\", \"exp\\u00e9rience_requise\": \"Confirm\\u00e9\", \"comp\\u00e9tences\": \"Machine Learning, ETL, Spark, Docker, Cloud AWS\", \"secteur_activit\\u00e9\": \"T\\u00e9l\\u00e9com\", \"source\": \"Hellowork\"}, {\"id_offre\": \"OFFRE_91\", \"titre_poste\": \"BI Analyst\", \"entreprise\": \"AI Innovations\", \"lieu\": \"Nantes\", \"salaire\": \"40-50k\", \"type_contrat\": \"CDI\", \"date_publication\": \"2025-01-05T00:00:00\", \"description\": \"Offre de Data Engineer chez AI Innovations.\", \"lien_offre\": \"https://www.hellowork.com/offre-91\", \"t\\u00e9l\\u00e9travail\": \"Non\", \"exp\\u00e9rience_requise\": \"Junior\", \"comp\\u00e9tences\": \"Power BI, SQL, Python\", \"secteur_activit\\u00e9\": \"T\\u00e9l\\u00e9com\", \"source\": \"Hellowork\"}, {\"id_offre\": \"OFFRE_92\", \"titre_poste\": \"Data Analyst\", \"entreprise\": \"TechCorp\", \"lieu\": \"Lyon\", \"salaire\": \"40-50k\", \"type_contrat\": \"CDI\", \"date_publication\": \"2025-01-08T00:00:00\", \"description\": \"Offre de Data Analyst chez TechCorp.\", \"lien_offre\": \"https://www.hellowork.com/offre-92\", \"t\\u00e9l\\u00e9travail\": \"Oui\", \"exp\\u00e9rience_requise\": \"Confirm\\u00e9\", \"comp\\u00e9tences\": \"Power BI, Spark, SQL, Cloud AWS, Docker\", \"secteur_activit\\u00e9\": \"Finance\", \"source\": \"Hellowork\"}, {\"id_offre\": \"OFFRE_93\", \"titre_poste\": \"BI Analyst\", \"entreprise\": \"AI Innovations\", \"lieu\": \"Toulouse\", \"salaire\": \"50-60k\", \"type_contrat\": \"Freelance\", \"date_publication\": \"2025-01-25T00:00:00\", \"description\": \"Offre de Data Analyst chez AI Innovations.\", \"lien_offre\": \"https://www.hellowork.com/offre-93\", \"t\\u00e9l\\u00e9travail\": \"Non\", \"exp\\u00e9rience_requise\": \"Senior\", \"comp\\u00e9tences\": \"Machine Learning, Spark, Power BI\", \"secteur_activit\\u00e9\": \"T\\u00e9l\\u00e9com\", \"source\": \"Hellowork\"}, {\"id_offre\": \"OFFRE_94\", \"titre_poste\": \"Data Scientist\", \"entreprise\": \"TechCorp\", \"lieu\": \"Paris\", \"salaire\": \"Non pr\\u00e9cis\\u00e9\", \"type_contrat\": \"CDI\", \"date_publication\": \"2025-01-28T00:00:00\", \"description\": \"Offre de Data Scientist chez DataSolutions.\", \"lien_offre\": \"https://www.hellowork.com/offre-94\", \"t\\u00e9l\\u00e9travail\": \"Oui\", \"exp\\u00e9rience_requise\": \"Senior\", \"comp\\u00e9tences\": \"Cloud AWS, Docker, Spark, ETL\", \"secteur_activit\\u00e9\": \"\\u00c9nergie\", \"source\": \"Hellowork\"}, {\"id_offre\": \"OFFRE_95\", \"titre_poste\": \"Machine Learning Engineer\", \"entreprise\": \"TechCorp\", \"lieu\": \"Lyon\", \"salaire\": \"40-50k\", \"type_contrat\": \"Stage\", \"date_publication\": \"2025-01-22T00:00:00\", \"description\": \"Offre de Data Engineer chez TechCorp.\", \"lien_offre\": \"https://www.hellowork.com/offre-95\", \"t\\u00e9l\\u00e9travail\": \"Oui\", \"exp\\u00e9rience_requise\": \"Junior\", \"comp\\u00e9tences\": \"SQL, Spark\", \"secteur_activit\\u00e9\": \"Consulting\", \"source\": \"Hellowork\"}, {\"id_offre\": \"OFFRE_96\", \"titre_poste\": \"Data Scientist\", \"entreprise\": \"AI Innovations\", \"lieu\": \"Bordeaux\", \"salaire\": \"Non pr\\u00e9cis\\u00e9\", \"type_contrat\": \"Freelance\", \"date_publication\": \"2025-01-13T00:00:00\", \"description\": \"Offre de Data Analyst chez BigData France.\", \"lien_offre\": \"https://www.hellowork.com/offre-96\", \"t\\u00e9l\\u00e9travail\": \"Oui\", \"exp\\u00e9rience_requise\": \"Senior\", \"comp\\u00e9tences\": \"Cloud AWS, ETL, Power BI\", \"secteur_activit\\u00e9\": \"Consulting\", \"source\": \"Hellowork\"}, {\"id_offre\": \"OFFRE_97\", \"titre_poste\": \"Data Engineer\", \"entreprise\": \"BigData France\", \"lieu\": \"Nantes\", \"salaire\": \"50-60k\", \"type_contrat\": \"Freelance\", \"date_publication\": \"2025-01-14T00:00:00\", \"description\": \"Offre de Machine Learning Engineer chez DataSolutions.\", \"lien_offre\": \"https://www.hellowork.com/offre-97\", \"t\\u00e9l\\u00e9travail\": \"Oui\", \"exp\\u00e9rience_requise\": \"Senior\", \"comp\\u00e9tences\": \"Machine Learning, Python\", \"secteur_activit\\u00e9\": \"\\u00c9nergie\", \"source\": \"Hellowork\"}, {\"id_offre\": \"OFFRE_98\", \"titre_poste\": \"Data Engineer\", \"entreprise\": \"AI Innovations\", \"lieu\": \"Toulouse\", \"salaire\": \"Non pr\\u00e9cis\\u00e9\", \"type_contrat\": \"CDI\", \"date_publication\": \"2025-01-18T00:00:00\", \"description\": \"Offre de Data Scientist chez TechCorp.\", \"lien_offre\": \"https://www.hellowork.com/offre-98\", \"t\\u00e9l\\u00e9travail\": \"Non\", \"exp\\u00e9rience_requise\": \"Senior\", \"comp\\u00e9tences\": \"Python, SQL\", \"secteur_activit\\u00e9\": \"\\u00c9nergie\", \"source\": \"Hellowork\"}, {\"id_offre\": \"OFFRE_99\", \"titre_poste\": \"Data Engineer\", \"entreprise\": \"TechCorp\", \"lieu\": \"Rennes\", \"salaire\": \"40-50k\", \"type_contrat\": \"CDD\", \"date_publication\": \"2025-01-09T00:00:00\", \"description\": \"Offre de BI Analyst chez AI Innovations.\", \"lien_offre\": \"https://www.hellowork.com/offre-99\", \"t\\u00e9l\\u00e9travail\": \"Oui\", \"exp\\u00e9rience_requise\": \"Senior\", \"comp\\u00e9tences\": \"SQL, Python\", \"secteur_activit\\u00e9\": \"Consulting\", \"source\": \"Hellowork\"}, {\"id_offre\": \"OFFRE_100\", \"titre_poste\": \"Machine Learning Engineer\", \"entreprise\": \"Analytica\", \"lieu\": \"Lyon\", \"salaire\": \"50-60k\", \"type_contrat\": \"Alternance\", \"date_publication\": \"2025-01-21T00:00:00\", \"description\": \"Offre de Data Scientist chez TechCorp.\", \"lien_offre\": \"https://www.hellowork.com/offre-100\", \"t\\u00e9l\\u00e9travail\": \"Non\", \"exp\\u00e9rience_requise\": \"Senior\", \"comp\\u00e9tences\": \"SQL, Spark\", \"secteur_activit\\u00e9\": \"Consulting\", \"source\": \"Hellowork\"}]}}, {\"mode\": \"vega-lite\"});\n",
       "</script>"
      ],
      "text/plain": [
       "alt.Chart(...)"
      ]
     },
     "execution_count": 34,
     "metadata": {},
     "output_type": "execute_result"
    }
   ],
   "source": [
    "# Évolution temporelle des offres d'emploi par type de contrat\n",
    "dataviz[\"date_publication\"] = pd.to_datetime(dataviz[\"date_publication\"])  # Conversion en datetime\n",
    "\n",
    "fig_altair_line = alt.Chart(dataviz).mark_line(point=True).encode(\n",
    "    x=alt.X(\"date_publication:T\", title=\"Date de publication\"),\n",
    "    y=alt.Y(\"count()\", title=\"Nombre d'offres\"),\n",
    "    color=alt.Color(\"type_contrat\", scale=alt.Scale(scheme=\"category20\")),\n",
    "    tooltip=[\"date_publication\", \"type_contrat\", \"count()\"]\n",
    ").properties(\n",
    "    title=\"Évolution du nombre d'offres par type de contrat\",\n",
    "    width=700,\n",
    "    height=400\n",
    ")\n",
    "fig_altair_line"
   ]
  },
  {
   "cell_type": "markdown",
   "metadata": {},
   "source": [
    "## **Bibliothèque Pydeck**"
   ]
  },
  {
   "cell_type": "markdown",
   "metadata": {},
   "source": [
    "- Avoir les latitudes, longitudes"
   ]
  },
  {
   "cell_type": "markdown",
   "metadata": {},
   "source": [
    "## **Bibliothèque Bokeh**"
   ]
  },
  {
   "cell_type": "code",
   "execution_count": 43,
   "metadata": {},
   "outputs": [],
   "source": [
    "from bokeh.plotting import figure\n",
    "from bokeh.models import ColumnDataSource, HoverTool\n",
    "\n",
    "# Graphique interactif des compétences les plus demandées\n",
    "comp_counts = dataviz[\"compétences\"].str.split(\", \").explode().value_counts()\n",
    "source = ColumnDataSource(data=dict(competences=comp_counts.index, counts=comp_counts.values))\n",
    "\n",
    "fig_bokeh_bar = figure(x_range=comp_counts.index.tolist(), height=400, title=\"Compétences les plus demandées\",\n",
    "                       toolbar_location=None, tools=\"\")\n",
    "fig_bokeh_bar.vbar(x=\"competences\", top=\"counts\", width=0.9, source=source)\n",
    "fig_bokeh_bar.xgrid.grid_line_color = None\n",
    "fig_bokeh_bar.add_tools(HoverTool(tooltips=[(\"Compétence\", \"@competences\"), (\"Nombre d'offres\", \"@counts\")]))"
   ]
  },
  {
   "cell_type": "code",
   "execution_count": 44,
   "metadata": {},
   "outputs": [
    {
     "data": {
      "text/html": [
       "    <style>\n",
       "        .bk-notebook-logo {\n",
       "            display: block;\n",
       "            width: 20px;\n",
       "            height: 20px;\n",
       "            background-image: url(data:image/png;base64,iVBORw0KGgoAAAANSUhEUgAAABQAAAAUCAYAAACNiR0NAAAABHNCSVQICAgIfAhkiAAAAAlwSFlzAAALEgAACxIB0t1+/AAAABx0RVh0U29mdHdhcmUAQWRvYmUgRmlyZXdvcmtzIENTNui8sowAAAOkSURBVDiNjZRtaJVlGMd/1/08zzln5zjP1LWcU9N0NkN8m2CYjpgQYQXqSs0I84OLIC0hkEKoPtiH3gmKoiJDU7QpLgoLjLIQCpEsNJ1vqUOdO7ppbuec5+V+rj4ctwzd8IIbbi6u+8f1539dt3A78eXC7QizUF7gyV1fD1Yqg4JWz84yffhm0qkFqBogB9rM8tZdtwVsPUhWhGcFJngGeWrPzHm5oaMmkfEg1usvLFyc8jLRqDOMru7AyC8saQr7GG7f5fvDeH7Ej8CM66nIF+8yngt6HWaKh7k49Soy9nXurCi1o3qUbS3zWfrYeQDTB/Qj6kX6Ybhw4B+bOYoLKCC9H3Nu/leUTZ1JdRWkkn2ldcCamzrcf47KKXdAJllSlxAOkRgyHsGC/zRday5Qld9DyoM4/q/rUoy/CXh3jzOu3bHUVZeU+DEn8FInkPBFlu3+nW3Nw0mk6vCDiWg8CeJaxEwuHS3+z5RgY+YBR6V1Z1nxSOfoaPa4LASWxxdNp+VWTk7+4vzaou8v8PN+xo+KY2xsw6une2frhw05CTYOmQvsEhjhWjn0bmXPjpE1+kplmmkP3suftwTubK9Vq22qKmrBhpY4jvd5afdRA3wGjFAgcnTK2s4hY0/GPNIb0nErGMCRxWOOX64Z8RAC4oCXdklmEvcL8o0BfkNK4lUg9HTl+oPlQxdNo3Mg4Nv175e/1LDGzZen30MEjRUtmXSfiTVu1kK8W4txyV6BMKlbgk3lMwYCiusNy9fVfvvwMxv8Ynl6vxoByANLTWplvuj/nF9m2+PDtt1eiHPBr1oIfhCChQMBw6Aw0UulqTKZdfVvfG7VcfIqLG9bcldL/+pdWTLxLUy8Qq38heUIjh4XlzZxzQm19lLFlr8vdQ97rjZVOLf8nclzckbcD4wxXMidpX30sFd37Fv/GtwwhzhxGVAprjbg0gCAEeIgwCZyTV2Z1REEW8O4py0wsjeloKoMr6iCY6dP92H6Vw/oTyICIthibxjm/DfN9lVz8IqtqKYLUXfoKVMVQVVJOElGjrnnUt9T9wbgp8AyYKaGlqingHZU/uG2NTZSVqwHQTWkx9hxjkpWDaCg6Ckj5qebgBVbT3V3NNXMSiWSDdGV3hrtzla7J+duwPOToIg42ChPQOQjspnSlp1V+Gjdged7+8UN5CRAV7a5EdFNwCjEaBR27b3W890TE7g24NAP/mMDXRWrGoFPQI9ls/MWO2dWFAar/xcOIImbbpA3zgAAAABJRU5ErkJggg==);\n",
       "        }\n",
       "    </style>\n",
       "    <div>\n",
       "        <a href=\"https://bokeh.org\" target=\"_blank\" class=\"bk-notebook-logo\"></a>\n",
       "        <span id=\"c853d545-577e-4f5f-87e1-a4185dcbf821\">Loading BokehJS ...</span>\n",
       "    </div>\n"
      ]
     },
     "metadata": {},
     "output_type": "display_data"
    },
    {
     "data": {
      "application/javascript": "'use strict';\n(function(root) {\n  function now() {\n    return new Date();\n  }\n\n  const force = true;\n\n  if (typeof root._bokeh_onload_callbacks === \"undefined\" || force === true) {\n    root._bokeh_onload_callbacks = [];\n    root._bokeh_is_loading = undefined;\n  }\n\nconst JS_MIME_TYPE = 'application/javascript';\n  const HTML_MIME_TYPE = 'text/html';\n  const EXEC_MIME_TYPE = 'application/vnd.bokehjs_exec.v0+json';\n  const CLASS_NAME = 'output_bokeh rendered_html';\n\n  /**\n   * Render data to the DOM node\n   */\n  function render(props, node) {\n    const script = document.createElement(\"script\");\n    node.appendChild(script);\n  }\n\n  /**\n   * Handle when an output is cleared or removed\n   */\n  function handleClearOutput(event, handle) {\n    function drop(id) {\n      const view = Bokeh.index.get_by_id(id)\n      if (view != null) {\n        view.model.document.clear()\n        Bokeh.index.delete(view)\n      }\n    }\n\n    const cell = handle.cell;\n\n    const id = cell.output_area._bokeh_element_id;\n    const server_id = cell.output_area._bokeh_server_id;\n\n    // Clean up Bokeh references\n    if (id != null) {\n      drop(id)\n    }\n\n    if (server_id !== undefined) {\n      // Clean up Bokeh references\n      const cmd_clean = \"from bokeh.io.state import curstate; print(curstate().uuid_to_server['\" + server_id + \"'].get_sessions()[0].document.roots[0]._id)\";\n      cell.notebook.kernel.execute(cmd_clean, {\n        iopub: {\n          output: function(msg) {\n            const id = msg.content.text.trim()\n            drop(id)\n          }\n        }\n      });\n      // Destroy server and session\n      const cmd_destroy = \"import bokeh.io.notebook as ion; ion.destroy_server('\" + server_id + \"')\";\n      cell.notebook.kernel.execute(cmd_destroy);\n    }\n  }\n\n  /**\n   * Handle when a new output is added\n   */\n  function handleAddOutput(event, handle) {\n    const output_area = handle.output_area;\n    const output = handle.output;\n\n    // limit handleAddOutput to display_data with EXEC_MIME_TYPE content only\n    if ((output.output_type != \"display_data\") || (!Object.prototype.hasOwnProperty.call(output.data, EXEC_MIME_TYPE))) {\n      return\n    }\n\n    const toinsert = output_area.element.find(\".\" + CLASS_NAME.split(' ')[0]);\n\n    if (output.metadata[EXEC_MIME_TYPE][\"id\"] !== undefined) {\n      toinsert[toinsert.length - 1].firstChild.textContent = output.data[JS_MIME_TYPE];\n      // store reference to embed id on output_area\n      output_area._bokeh_element_id = output.metadata[EXEC_MIME_TYPE][\"id\"];\n    }\n    if (output.metadata[EXEC_MIME_TYPE][\"server_id\"] !== undefined) {\n      const bk_div = document.createElement(\"div\");\n      bk_div.innerHTML = output.data[HTML_MIME_TYPE];\n      const script_attrs = bk_div.children[0].attributes;\n      for (let i = 0; i < script_attrs.length; i++) {\n        toinsert[toinsert.length - 1].firstChild.setAttribute(script_attrs[i].name, script_attrs[i].value);\n        toinsert[toinsert.length - 1].firstChild.textContent = bk_div.children[0].textContent\n      }\n      // store reference to server id on output_area\n      output_area._bokeh_server_id = output.metadata[EXEC_MIME_TYPE][\"server_id\"];\n    }\n  }\n\n  function register_renderer(events, OutputArea) {\n\n    function append_mime(data, metadata, element) {\n      // create a DOM node to render to\n      const toinsert = this.create_output_subarea(\n        metadata,\n        CLASS_NAME,\n        EXEC_MIME_TYPE\n      );\n      this.keyboard_manager.register_events(toinsert);\n      // Render to node\n      const props = {data: data, metadata: metadata[EXEC_MIME_TYPE]};\n      render(props, toinsert[toinsert.length - 1]);\n      element.append(toinsert);\n      return toinsert\n    }\n\n    /* Handle when an output is cleared or removed */\n    events.on('clear_output.CodeCell', handleClearOutput);\n    events.on('delete.Cell', handleClearOutput);\n\n    /* Handle when a new output is added */\n    events.on('output_added.OutputArea', handleAddOutput);\n\n    /**\n     * Register the mime type and append_mime function with output_area\n     */\n    OutputArea.prototype.register_mime_type(EXEC_MIME_TYPE, append_mime, {\n      /* Is output safe? */\n      safe: true,\n      /* Index of renderer in `output_area.display_order` */\n      index: 0\n    });\n  }\n\n  // register the mime type if in Jupyter Notebook environment and previously unregistered\n  if (root.Jupyter !== undefined) {\n    const events = require('base/js/events');\n    const OutputArea = require('notebook/js/outputarea').OutputArea;\n\n    if (OutputArea.prototype.mime_types().indexOf(EXEC_MIME_TYPE) == -1) {\n      register_renderer(events, OutputArea);\n    }\n  }\n  if (typeof (root._bokeh_timeout) === \"undefined\" || force === true) {\n    root._bokeh_timeout = Date.now() + 5000;\n    root._bokeh_failed_load = false;\n  }\n\n  const NB_LOAD_WARNING = {'data': {'text/html':\n     \"<div style='background-color: #fdd'>\\n\"+\n     \"<p>\\n\"+\n     \"BokehJS does not appear to have successfully loaded. If loading BokehJS from CDN, this \\n\"+\n     \"may be due to a slow or bad network connection. Possible fixes:\\n\"+\n     \"</p>\\n\"+\n     \"<ul>\\n\"+\n     \"<li>re-rerun `output_notebook()` to attempt to load from CDN again, or</li>\\n\"+\n     \"<li>use INLINE resources instead, as so:</li>\\n\"+\n     \"</ul>\\n\"+\n     \"<code>\\n\"+\n     \"from bokeh.resources import INLINE\\n\"+\n     \"output_notebook(resources=INLINE)\\n\"+\n     \"</code>\\n\"+\n     \"</div>\"}};\n\n  function display_loaded(error = null) {\n    const el = document.getElementById(\"c853d545-577e-4f5f-87e1-a4185dcbf821\");\n    if (el != null) {\n      const html = (() => {\n        if (typeof root.Bokeh === \"undefined\") {\n          if (error == null) {\n            return \"BokehJS is loading ...\";\n          } else {\n            return \"BokehJS failed to load.\";\n          }\n        } else {\n          const prefix = `BokehJS ${root.Bokeh.version}`;\n          if (error == null) {\n            return `${prefix} successfully loaded.`;\n          } else {\n            return `${prefix} <b>encountered errors</b> while loading and may not function as expected.`;\n          }\n        }\n      })();\n      el.innerHTML = html;\n\n      if (error != null) {\n        const wrapper = document.createElement(\"div\");\n        wrapper.style.overflow = \"auto\";\n        wrapper.style.height = \"5em\";\n        wrapper.style.resize = \"vertical\";\n        const content = document.createElement(\"div\");\n        content.style.fontFamily = \"monospace\";\n        content.style.whiteSpace = \"pre-wrap\";\n        content.style.backgroundColor = \"rgb(255, 221, 221)\";\n        content.textContent = error.stack ?? error.toString();\n        wrapper.append(content);\n        el.append(wrapper);\n      }\n    } else if (Date.now() < root._bokeh_timeout) {\n      setTimeout(() => display_loaded(error), 100);\n    }\n  }\n\n  function run_callbacks() {\n    try {\n      root._bokeh_onload_callbacks.forEach(function(callback) {\n        if (callback != null)\n          callback();\n      });\n    } finally {\n      delete root._bokeh_onload_callbacks\n    }\n    console.debug(\"Bokeh: all callbacks have finished\");\n  }\n\n  function load_libs(css_urls, js_urls, callback) {\n    if (css_urls == null) css_urls = [];\n    if (js_urls == null) js_urls = [];\n\n    root._bokeh_onload_callbacks.push(callback);\n    if (root._bokeh_is_loading > 0) {\n      console.debug(\"Bokeh: BokehJS is being loaded, scheduling callback at\", now());\n      return null;\n    }\n    if (js_urls == null || js_urls.length === 0) {\n      run_callbacks();\n      return null;\n    }\n    console.debug(\"Bokeh: BokehJS not loaded, scheduling load and callback at\", now());\n    root._bokeh_is_loading = css_urls.length + js_urls.length;\n\n    function on_load() {\n      root._bokeh_is_loading--;\n      if (root._bokeh_is_loading === 0) {\n        console.debug(\"Bokeh: all BokehJS libraries/stylesheets loaded\");\n        run_callbacks()\n      }\n    }\n\n    function on_error(url) {\n      console.error(\"failed to load \" + url);\n    }\n\n    for (let i = 0; i < css_urls.length; i++) {\n      const url = css_urls[i];\n      const element = document.createElement(\"link\");\n      element.onload = on_load;\n      element.onerror = on_error.bind(null, url);\n      element.rel = \"stylesheet\";\n      element.type = \"text/css\";\n      element.href = url;\n      console.debug(\"Bokeh: injecting link tag for BokehJS stylesheet: \", url);\n      document.body.appendChild(element);\n    }\n\n    for (let i = 0; i < js_urls.length; i++) {\n      const url = js_urls[i];\n      const element = document.createElement('script');\n      element.onload = on_load;\n      element.onerror = on_error.bind(null, url);\n      element.async = false;\n      element.src = url;\n      console.debug(\"Bokeh: injecting script tag for BokehJS library: \", url);\n      document.head.appendChild(element);\n    }\n  };\n\n  function inject_raw_css(css) {\n    const element = document.createElement(\"style\");\n    element.appendChild(document.createTextNode(css));\n    document.body.appendChild(element);\n  }\n\n  const js_urls = [\"https://cdn.bokeh.org/bokeh/release/bokeh-3.6.2.min.js\", \"https://cdn.bokeh.org/bokeh/release/bokeh-gl-3.6.2.min.js\", \"https://cdn.bokeh.org/bokeh/release/bokeh-widgets-3.6.2.min.js\", \"https://cdn.bokeh.org/bokeh/release/bokeh-tables-3.6.2.min.js\", \"https://cdn.bokeh.org/bokeh/release/bokeh-mathjax-3.6.2.min.js\"];\n  const css_urls = [];\n\n  const inline_js = [    function(Bokeh) {\n      Bokeh.set_log_level(\"info\");\n    },\nfunction(Bokeh) {\n    }\n  ];\n\n  function run_inline_js() {\n    if (root.Bokeh !== undefined || force === true) {\n      try {\n            for (let i = 0; i < inline_js.length; i++) {\n      inline_js[i].call(root, root.Bokeh);\n    }\n\n      } catch (error) {display_loaded(error);throw error;\n      }if (force === true) {\n        display_loaded();\n      }} else if (Date.now() < root._bokeh_timeout) {\n      setTimeout(run_inline_js, 100);\n    } else if (!root._bokeh_failed_load) {\n      console.log(\"Bokeh: BokehJS failed to load within specified timeout.\");\n      root._bokeh_failed_load = true;\n    } else if (force !== true) {\n      const cell = $(document.getElementById(\"c853d545-577e-4f5f-87e1-a4185dcbf821\")).parents('.cell').data().cell;\n      cell.output_area.append_execute_result(NB_LOAD_WARNING)\n    }\n  }\n\n  if (root._bokeh_is_loading === 0) {\n    console.debug(\"Bokeh: BokehJS loaded, going straight to plotting\");\n    run_inline_js();\n  } else {\n    load_libs(css_urls, js_urls, function() {\n      console.debug(\"Bokeh: BokehJS plotting callback run at\", now());\n      run_inline_js();\n    });\n  }\n}(window));",
      "application/vnd.bokehjs_load.v0+json": ""
     },
     "metadata": {},
     "output_type": "display_data"
    },
    {
     "data": {
      "text/html": [
       "\n",
       "  <div id=\"a64dc8dc-556a-4ca1-a9e7-03ff569ee1e0\" data-root-id=\"p1091\" style=\"display: contents;\"></div>\n"
      ]
     },
     "metadata": {},
     "output_type": "display_data"
    },
    {
     "data": {
      "application/javascript": "(function(root) {\n  function embed_document(root) {\n  const docs_json = {\"f7dcb2f5-da88-4a75-a252-350290846902\":{\"version\":\"3.6.2\",\"title\":\"Bokeh Application\",\"roots\":[{\"type\":\"object\",\"name\":\"Figure\",\"id\":\"p1091\",\"attributes\":{\"height\":400,\"x_range\":{\"type\":\"object\",\"name\":\"FactorRange\",\"id\":\"p1101\",\"attributes\":{\"factors\":[\"Docker\",\"Spark\",\"Machine Learning\",\"Cloud AWS\",\"SQL\",\"Power BI\",\"Python\",\"ETL\"]}},\"y_range\":{\"type\":\"object\",\"name\":\"DataRange1d\",\"id\":\"p1093\"},\"x_scale\":{\"type\":\"object\",\"name\":\"CategoricalScale\",\"id\":\"p1102\"},\"y_scale\":{\"type\":\"object\",\"name\":\"LinearScale\",\"id\":\"p1103\"},\"title\":{\"type\":\"object\",\"name\":\"Title\",\"id\":\"p1094\",\"attributes\":{\"text\":\"Comp\\u00e9tences les plus demand\\u00e9es\"}},\"renderers\":[{\"type\":\"object\",\"name\":\"GlyphRenderer\",\"id\":\"p1120\",\"attributes\":{\"data_source\":{\"type\":\"object\",\"name\":\"ColumnDataSource\",\"id\":\"p1088\",\"attributes\":{\"selected\":{\"type\":\"object\",\"name\":\"Selection\",\"id\":\"p1089\",\"attributes\":{\"indices\":[],\"line_indices\":[]}},\"selection_policy\":{\"type\":\"object\",\"name\":\"UnionRenderers\",\"id\":\"p1090\"},\"data\":{\"type\":\"map\",\"entries\":[[\"competences\",{\"type\":\"ndarray\",\"array\":[\"Docker\",\"Spark\",\"Machine Learning\",\"Cloud AWS\",\"SQL\",\"Power BI\",\"Python\",\"ETL\"],\"shape\":[8],\"dtype\":\"object\",\"order\":\"little\"}],[\"counts\",{\"type\":\"ndarray\",\"array\":{\"type\":\"bytes\",\"data\":\"OgAAADEAAAAvAAAAKwAAACoAAAAqAAAAJAAAACEAAAA=\"},\"shape\":[8],\"dtype\":\"int32\",\"order\":\"little\"}]]}}},\"view\":{\"type\":\"object\",\"name\":\"CDSView\",\"id\":\"p1121\",\"attributes\":{\"filter\":{\"type\":\"object\",\"name\":\"AllIndices\",\"id\":\"p1122\"}}},\"glyph\":{\"type\":\"object\",\"name\":\"VBar\",\"id\":\"p1117\",\"attributes\":{\"x\":{\"type\":\"field\",\"field\":\"competences\"},\"width\":{\"type\":\"value\",\"value\":0.9},\"top\":{\"type\":\"field\",\"field\":\"counts\"},\"line_color\":{\"type\":\"value\",\"value\":\"#1f77b4\"},\"fill_color\":{\"type\":\"value\",\"value\":\"#1f77b4\"}}},\"nonselection_glyph\":{\"type\":\"object\",\"name\":\"VBar\",\"id\":\"p1118\",\"attributes\":{\"x\":{\"type\":\"field\",\"field\":\"competences\"},\"width\":{\"type\":\"value\",\"value\":0.9},\"top\":{\"type\":\"field\",\"field\":\"counts\"},\"line_color\":{\"type\":\"value\",\"value\":\"#1f77b4\"},\"line_alpha\":{\"type\":\"value\",\"value\":0.1},\"fill_color\":{\"type\":\"value\",\"value\":\"#1f77b4\"},\"fill_alpha\":{\"type\":\"value\",\"value\":0.1},\"hatch_alpha\":{\"type\":\"value\",\"value\":0.1}}},\"muted_glyph\":{\"type\":\"object\",\"name\":\"VBar\",\"id\":\"p1119\",\"attributes\":{\"x\":{\"type\":\"field\",\"field\":\"competences\"},\"width\":{\"type\":\"value\",\"value\":0.9},\"top\":{\"type\":\"field\",\"field\":\"counts\"},\"line_color\":{\"type\":\"value\",\"value\":\"#1f77b4\"},\"line_alpha\":{\"type\":\"value\",\"value\":0.2},\"fill_color\":{\"type\":\"value\",\"value\":\"#1f77b4\"},\"fill_alpha\":{\"type\":\"value\",\"value\":0.2},\"hatch_alpha\":{\"type\":\"value\",\"value\":0.2}}}}}],\"toolbar\":{\"type\":\"object\",\"name\":\"Toolbar\",\"id\":\"p1100\",\"attributes\":{\"tools\":[{\"type\":\"object\",\"name\":\"HoverTool\",\"id\":\"p1123\",\"attributes\":{\"renderers\":\"auto\",\"tooltips\":[[\"Comp\\u00e9tence\",\"@competences\"],[\"Nombre d'offres\",\"@counts\"]]}}]}},\"toolbar_location\":null,\"left\":[{\"type\":\"object\",\"name\":\"LinearAxis\",\"id\":\"p1109\",\"attributes\":{\"ticker\":{\"type\":\"object\",\"name\":\"BasicTicker\",\"id\":\"p1110\",\"attributes\":{\"mantissas\":[1,2,5]}},\"formatter\":{\"type\":\"object\",\"name\":\"BasicTickFormatter\",\"id\":\"p1111\"},\"major_label_policy\":{\"type\":\"object\",\"name\":\"AllLabels\",\"id\":\"p1112\"}}}],\"below\":[{\"type\":\"object\",\"name\":\"CategoricalAxis\",\"id\":\"p1104\",\"attributes\":{\"ticker\":{\"type\":\"object\",\"name\":\"CategoricalTicker\",\"id\":\"p1105\"},\"formatter\":{\"type\":\"object\",\"name\":\"CategoricalTickFormatter\",\"id\":\"p1106\"},\"major_label_policy\":{\"type\":\"object\",\"name\":\"AllLabels\",\"id\":\"p1107\"}}}],\"center\":[{\"type\":\"object\",\"name\":\"Grid\",\"id\":\"p1108\",\"attributes\":{\"axis\":{\"id\":\"p1104\"},\"grid_line_color\":null}},{\"type\":\"object\",\"name\":\"Grid\",\"id\":\"p1113\",\"attributes\":{\"dimension\":1,\"axis\":{\"id\":\"p1109\"}}}]}}]}};\n  const render_items = [{\"docid\":\"f7dcb2f5-da88-4a75-a252-350290846902\",\"roots\":{\"p1091\":\"a64dc8dc-556a-4ca1-a9e7-03ff569ee1e0\"},\"root_ids\":[\"p1091\"]}];\n  void root.Bokeh.embed.embed_items_notebook(docs_json, render_items);\n  }\n  if (root.Bokeh !== undefined) {\n    embed_document(root);\n  } else {\n    let attempts = 0;\n    const timer = setInterval(function(root) {\n      if (root.Bokeh !== undefined) {\n        clearInterval(timer);\n        embed_document(root);\n      } else {\n        attempts++;\n        if (attempts > 100) {\n          clearInterval(timer);\n          console.log(\"Bokeh: ERROR: Unable to run BokehJS code because BokehJS library is missing\");\n        }\n      }\n    }, 10, root)\n  }\n})(window);",
      "application/vnd.bokehjs_exec.v0+json": ""
     },
     "metadata": {
      "application/vnd.bokehjs_exec.v0+json": {
       "id": "p1091"
      }
     },
     "output_type": "display_data"
    }
   ],
   "source": [
    "# Pour importer les visuels dans VSCODE\n",
    "from bokeh.io import output_notebook, show\n",
    "output_notebook()\n",
    "show(fig_bokeh_bar)"
   ]
  },
  {
   "cell_type": "code",
   "execution_count": 46,
   "metadata": {},
   "outputs": [
    {
     "name": "stderr",
     "output_type": "stream",
     "text": [
      "<>:2: SyntaxWarning:\n",
      "\n",
      "invalid escape sequence '\\d'\n",
      "\n",
      "<>:2: SyntaxWarning:\n",
      "\n",
      "invalid escape sequence '\\d'\n",
      "\n",
      "C:\\Users\\jpvt\\AppData\\Local\\Temp\\ipykernel_7076\\3069450927.py:2: SyntaxWarning:\n",
      "\n",
      "invalid escape sequence '\\d'\n",
      "\n"
     ]
    },
    {
     "data": {
      "text/html": [
       "\n",
       "  <div id=\"ee90506a-e657-4b6f-af75-b40f2510cb7e\" data-root-id=\"p1171\" style=\"display: contents;\"></div>\n"
      ]
     },
     "metadata": {},
     "output_type": "display_data"
    },
    {
     "data": {
      "application/javascript": "(function(root) {\n  function embed_document(root) {\n  const docs_json = {\"242c515e-6ad8-4c58-9542-faf065384f58\":{\"version\":\"3.6.2\",\"title\":\"Bokeh Application\",\"roots\":[{\"type\":\"object\",\"name\":\"Figure\",\"id\":\"p1171\",\"attributes\":{\"x_range\":{\"type\":\"object\",\"name\":\"DataRange1d\",\"id\":\"p1172\"},\"y_range\":{\"type\":\"object\",\"name\":\"DataRange1d\",\"id\":\"p1173\"},\"x_scale\":{\"type\":\"object\",\"name\":\"LinearScale\",\"id\":\"p1181\"},\"y_scale\":{\"type\":\"object\",\"name\":\"LinearScale\",\"id\":\"p1182\"},\"title\":{\"type\":\"object\",\"name\":\"Title\",\"id\":\"p1174\",\"attributes\":{\"text\":\"Salaire vs Exp\\u00e9rience requise\"}},\"renderers\":[{\"type\":\"object\",\"name\":\"GlyphRenderer\",\"id\":\"p1212\",\"attributes\":{\"data_source\":{\"type\":\"object\",\"name\":\"ColumnDataSource\",\"id\":\"p1206\",\"attributes\":{\"selected\":{\"type\":\"object\",\"name\":\"Selection\",\"id\":\"p1207\",\"attributes\":{\"indices\":[],\"line_indices\":[]}},\"selection_policy\":{\"type\":\"object\",\"name\":\"UnionRenderers\",\"id\":\"p1208\"},\"data\":{\"type\":\"map\",\"entries\":[[\"x\",{\"type\":\"ndarray\",\"array\":{\"type\":\"bytes\",\"data\":\"AwAAAAMAAAACAAAAAQAAAAIAAAABAAAAAwAAAAMAAAADAAAAAQAAAAMAAAADAAAAAwAAAAEAAAABAAAAAQAAAAIAAAABAAAAAQAAAAMAAAABAAAAAwAAAAMAAAADAAAAAQAAAAEAAAADAAAAAwAAAAMAAAABAAAAAgAAAAMAAAACAAAAAwAAAAMAAAACAAAAAQAAAAMAAAABAAAAAgAAAAMAAAABAAAAAgAAAAMAAAADAAAAAQAAAAEAAAACAAAAAwAAAAEAAAADAAAAAgAAAAIAAAABAAAAAQAAAAEAAAADAAAAAQAAAAMAAAACAAAAAQAAAAIAAAABAAAAAwAAAAEAAAADAAAAAwAAAAIAAAADAAAAAgAAAAMAAAADAAAAAgAAAAMAAAACAAAAAQAAAAIAAAABAAAAAQAAAAEAAAACAAAAAwAAAAMAAAACAAAAAgAAAAIAAAADAAAAAQAAAAIAAAACAAAAAQAAAAIAAAADAAAAAwAAAAEAAAADAAAAAwAAAAMAAAADAAAAAwAAAA==\"},\"shape\":[100],\"dtype\":\"int32\",\"order\":\"little\"}],[\"y\",{\"type\":\"ndarray\",\"array\":{\"type\":\"bytes\",\"data\":\"AAAAAAAASUAAAAAAAABEQAAAAAAAAERAAAAAAAAAREAAAAAAAIBBQAAAAAAAAAAAAAAAAACAQUAAAAAAAABEQAAAAAAAgEFAAAAAAAAASUAAAAAAAABEQAAAAAAAAElAAAAAAACAQUAAAAAAAAAAAAAAAAAAAERAAAAAAAAAAAAAAAAAAIBBQAAAAAAAgEFAAAAAAACAQUAAAAAAAABEQAAAAAAAAAAAAAAAAACAQUAAAAAAAABJQAAAAAAAAElAAAAAAAAAAAAAAAAAAAAAAAAAAAAAAElAAAAAAAAASUAAAAAAAAAAAAAAAAAAAAAAAAAAAAAAREAAAAAAAABEQAAAAAAAAElAAAAAAACAQUAAAAAAAAAAAAAAAAAAgEFAAAAAAAAAREAAAAAAAABEQAAAAAAAAERAAAAAAACAQUAAAAAAAABEQAAAAAAAAAAAAAAAAACAQUAAAAAAAABJQAAAAAAAAElAAAAAAAAAREAAAAAAAABJQAAAAAAAAAAAAAAAAAAASUAAAAAAAAAAAAAAAAAAAAAAAAAAAAAAREAAAAAAAABEQAAAAAAAgEFAAAAAAAAAAAAAAAAAAABJQAAAAAAAAAAAAAAAAAAAREAAAAAAAABEQAAAAAAAAAAAAAAAAAAASUAAAAAAAIBBQAAAAAAAAElAAAAAAAAASUAAAAAAAIBBQAAAAAAAAAAAAAAAAAAASUAAAAAAAIBBQAAAAAAAAAAAAAAAAAAAAAAAAAAAAABJQAAAAAAAAAAAAAAAAAAAREAAAAAAAABEQAAAAAAAAERAAAAAAAAAAAAAAAAAAABEQAAAAAAAAERAAAAAAACAQUAAAAAAAABEQAAAAAAAAERAAAAAAAAAREAAAAAAAIBBQAAAAAAAAERAAAAAAAAASUAAAAAAAABJQAAAAAAAAAAAAAAAAAAAAAAAAAAAAIBBQAAAAAAAAERAAAAAAAAAREAAAAAAAABEQAAAAAAAAElAAAAAAAAAAAAAAAAAAABEQAAAAAAAAAAAAAAAAAAASUAAAAAAAAAAAAAAAAAAAERAAAAAAAAASUA=\"},\"shape\":[100,1],\"dtype\":\"float64\",\"order\":\"little\"}]]}}},\"view\":{\"type\":\"object\",\"name\":\"CDSView\",\"id\":\"p1213\",\"attributes\":{\"filter\":{\"type\":\"object\",\"name\":\"AllIndices\",\"id\":\"p1214\"}}},\"glyph\":{\"type\":\"object\",\"name\":\"Circle\",\"id\":\"p1209\",\"attributes\":{\"x\":{\"type\":\"field\",\"field\":\"x\"},\"y\":{\"type\":\"field\",\"field\":\"y\"},\"line_color\":{\"type\":\"value\",\"value\":\"#1f77b4\"},\"fill_color\":{\"type\":\"value\",\"value\":\"#1f77b4\"}}},\"nonselection_glyph\":{\"type\":\"object\",\"name\":\"Circle\",\"id\":\"p1210\",\"attributes\":{\"x\":{\"type\":\"field\",\"field\":\"x\"},\"y\":{\"type\":\"field\",\"field\":\"y\"},\"line_color\":{\"type\":\"value\",\"value\":\"#1f77b4\"},\"line_alpha\":{\"type\":\"value\",\"value\":0.1},\"fill_color\":{\"type\":\"value\",\"value\":\"#1f77b4\"},\"fill_alpha\":{\"type\":\"value\",\"value\":0.1},\"hatch_alpha\":{\"type\":\"value\",\"value\":0.1}}},\"muted_glyph\":{\"type\":\"object\",\"name\":\"Circle\",\"id\":\"p1211\",\"attributes\":{\"x\":{\"type\":\"field\",\"field\":\"x\"},\"y\":{\"type\":\"field\",\"field\":\"y\"},\"line_color\":{\"type\":\"value\",\"value\":\"#1f77b4\"},\"line_alpha\":{\"type\":\"value\",\"value\":0.2},\"fill_color\":{\"type\":\"value\",\"value\":\"#1f77b4\"},\"fill_alpha\":{\"type\":\"value\",\"value\":0.2},\"hatch_alpha\":{\"type\":\"value\",\"value\":0.2}}}}}],\"toolbar\":{\"type\":\"object\",\"name\":\"Toolbar\",\"id\":\"p1180\",\"attributes\":{\"tools\":[{\"type\":\"object\",\"name\":\"PanTool\",\"id\":\"p1193\"},{\"type\":\"object\",\"name\":\"WheelZoomTool\",\"id\":\"p1194\",\"attributes\":{\"renderers\":\"auto\"}},{\"type\":\"object\",\"name\":\"BoxZoomTool\",\"id\":\"p1195\",\"attributes\":{\"overlay\":{\"type\":\"object\",\"name\":\"BoxAnnotation\",\"id\":\"p1196\",\"attributes\":{\"syncable\":false,\"line_color\":\"black\",\"line_alpha\":1.0,\"line_width\":2,\"line_dash\":[4,4],\"fill_color\":\"lightgrey\",\"fill_alpha\":0.5,\"level\":\"overlay\",\"visible\":false,\"left\":{\"type\":\"number\",\"value\":\"nan\"},\"right\":{\"type\":\"number\",\"value\":\"nan\"},\"top\":{\"type\":\"number\",\"value\":\"nan\"},\"bottom\":{\"type\":\"number\",\"value\":\"nan\"},\"left_units\":\"canvas\",\"right_units\":\"canvas\",\"top_units\":\"canvas\",\"bottom_units\":\"canvas\",\"handles\":{\"type\":\"object\",\"name\":\"BoxInteractionHandles\",\"id\":\"p1202\",\"attributes\":{\"all\":{\"type\":\"object\",\"name\":\"AreaVisuals\",\"id\":\"p1201\",\"attributes\":{\"fill_color\":\"white\",\"hover_fill_color\":\"lightgray\"}}}}}}}},{\"type\":\"object\",\"name\":\"SaveTool\",\"id\":\"p1203\"},{\"type\":\"object\",\"name\":\"ResetTool\",\"id\":\"p1204\"},{\"type\":\"object\",\"name\":\"HelpTool\",\"id\":\"p1205\"}]}},\"left\":[{\"type\":\"object\",\"name\":\"LinearAxis\",\"id\":\"p1188\",\"attributes\":{\"ticker\":{\"type\":\"object\",\"name\":\"BasicTicker\",\"id\":\"p1189\",\"attributes\":{\"mantissas\":[1,2,5]}},\"formatter\":{\"type\":\"object\",\"name\":\"BasicTickFormatter\",\"id\":\"p1190\"},\"axis_label\":\"Salaire\",\"major_label_policy\":{\"type\":\"object\",\"name\":\"AllLabels\",\"id\":\"p1191\"}}}],\"below\":[{\"type\":\"object\",\"name\":\"LinearAxis\",\"id\":\"p1183\",\"attributes\":{\"ticker\":{\"type\":\"object\",\"name\":\"BasicTicker\",\"id\":\"p1184\",\"attributes\":{\"mantissas\":[1,2,5]}},\"formatter\":{\"type\":\"object\",\"name\":\"BasicTickFormatter\",\"id\":\"p1185\"},\"axis_label\":\"Exp\\u00e9rience requise\",\"major_label_policy\":{\"type\":\"object\",\"name\":\"AllLabels\",\"id\":\"p1186\"}}}],\"center\":[{\"type\":\"object\",\"name\":\"Grid\",\"id\":\"p1187\",\"attributes\":{\"axis\":{\"id\":\"p1183\"}}},{\"type\":\"object\",\"name\":\"Grid\",\"id\":\"p1192\",\"attributes\":{\"dimension\":1,\"axis\":{\"id\":\"p1188\"}}}]}}]}};\n  const render_items = [{\"docid\":\"242c515e-6ad8-4c58-9542-faf065384f58\",\"roots\":{\"p1171\":\"ee90506a-e657-4b6f-af75-b40f2510cb7e\"},\"root_ids\":[\"p1171\"]}];\n  void root.Bokeh.embed.embed_items_notebook(docs_json, render_items);\n  }\n  if (root.Bokeh !== undefined) {\n    embed_document(root);\n  } else {\n    let attempts = 0;\n    const timer = setInterval(function(root) {\n      if (root.Bokeh !== undefined) {\n        clearInterval(timer);\n        embed_document(root);\n      } else {\n        attempts++;\n        if (attempts > 100) {\n          clearInterval(timer);\n          console.log(\"Bokeh: ERROR: Unable to run BokehJS code because BokehJS library is missing\");\n        }\n      }\n    }, 10, root)\n  }\n})(window);",
      "application/vnd.bokehjs_exec.v0+json": ""
     },
     "metadata": {
      "application/vnd.bokehjs_exec.v0+json": {
       "id": "p1171"
      }
     },
     "output_type": "display_data"
    }
   ],
   "source": [
    "# Scatter plot interactif : Salaire vs Expérience requise\n",
    "salaire_numerique = dataviz[\"salaire\"].str.extract(\"(\\d+)\").astype(float).fillna(0)\n",
    "experience_mapping = {\"Junior\": 1, \"Confirmé\": 2, \"Senior\": 3}\n",
    "dataviz[\"experience_numeric\"] = dataviz[\"expérience_requise\"].map(experience_mapping)\n",
    "\n",
    "fig_bokeh_scatter = figure(title=\"Salaire vs Expérience requise\", x_axis_label=\"Expérience requise\", y_axis_label=\"Salaire\")\n",
    "fig_bokeh_scatter.circle(dataviz[\"experience_numeric\"], salaire_numerique)\n",
    "show(fig_bokeh_scatter)"
   ]
  },
  {
   "cell_type": "code",
   "execution_count": 48,
   "metadata": {},
   "outputs": [
    {
     "data": {
      "text/html": [
       "\n",
       "  <div id=\"a7891240-4e8b-48df-88ce-2a8bdf770685\" data-root-id=\"p1275\" style=\"display: contents;\"></div>\n"
      ]
     },
     "metadata": {},
     "output_type": "display_data"
    },
    {
     "data": {
      "application/javascript": "(function(root) {\n  function embed_document(root) {\n  const docs_json = {\"d0598f42-5430-4b81-a46a-b14d7344256b\":{\"version\":\"3.6.2\",\"title\":\"Bokeh Application\",\"roots\":[{\"type\":\"object\",\"name\":\"Figure\",\"id\":\"p1275\",\"attributes\":{\"x_range\":{\"type\":\"object\",\"name\":\"DataRange1d\",\"id\":\"p1276\"},\"y_range\":{\"type\":\"object\",\"name\":\"DataRange1d\",\"id\":\"p1277\"},\"x_scale\":{\"type\":\"object\",\"name\":\"LinearScale\",\"id\":\"p1285\"},\"y_scale\":{\"type\":\"object\",\"name\":\"LinearScale\",\"id\":\"p1286\"},\"title\":{\"type\":\"object\",\"name\":\"Title\",\"id\":\"p1278\",\"attributes\":{\"text\":\"\\u00c9volution du nombre d'offres par date\"}},\"renderers\":[{\"type\":\"object\",\"name\":\"GlyphRenderer\",\"id\":\"p1328\",\"attributes\":{\"data_source\":{\"type\":\"object\",\"name\":\"ColumnDataSource\",\"id\":\"p1322\",\"attributes\":{\"selected\":{\"type\":\"object\",\"name\":\"Selection\",\"id\":\"p1323\",\"attributes\":{\"indices\":[],\"line_indices\":[]}},\"selection_policy\":{\"type\":\"object\",\"name\":\"UnionRenderers\",\"id\":\"p1324\"},\"data\":{\"type\":\"map\",\"entries\":[[\"x\",{\"type\":\"ndarray\",\"array\":{\"type\":\"bytes\",\"data\":\"AAAAMqBBeUIAAMCX8kF5QgAAgP1EQnlCAABAY5dCeUIAAADJ6UJ5QgAAwC48Q3lCAACAlI5DeUIAAABgM0R5QgAAwMWFRHlCAACAK9hEeUIAAECRKkV5QgAAAPd8RXlCAADAXM9FeUIAAIDCIUZ5QgAAQCh0RnlCAAAAjsZGeUIAAMDzGEd5QgAAgFlrR3lCAABAv71HeUIAAAAlEEh5QgAAwIpiSHlCAACA8LRIeUIAAEBWB0l5QgAAALxZSXlCAADAIaxJeUIAAICH/kl5QgAAQO1QSnlCAAAAU6NKeUIAAMC49Up5QgAAgB5IS3lC\"},\"shape\":[30],\"dtype\":\"float64\",\"order\":\"little\"}],[\"y\",{\"type\":\"ndarray\",\"array\":{\"type\":\"bytes\",\"data\":\"BAAAAAQAAAADAAAAAQAAAAMAAAADAAAAAwAAAAIAAAAEAAAAAwAAAAQAAAAEAAAAAwAAAAMAAAADAAAAAgAAAAcAAAACAAAAAgAAAAUAAAAEAAAABQAAAAMAAAABAAAAAwAAAAIAAAABAAAACAAAAAUAAAADAAAA\"},\"shape\":[30],\"dtype\":\"int32\",\"order\":\"little\"}]]}}},\"view\":{\"type\":\"object\",\"name\":\"CDSView\",\"id\":\"p1329\",\"attributes\":{\"filter\":{\"type\":\"object\",\"name\":\"AllIndices\",\"id\":\"p1330\"}}},\"glyph\":{\"type\":\"object\",\"name\":\"Line\",\"id\":\"p1325\",\"attributes\":{\"x\":{\"type\":\"field\",\"field\":\"x\"},\"y\":{\"type\":\"field\",\"field\":\"y\"},\"line_color\":\"#1f77b4\",\"line_width\":2}},\"nonselection_glyph\":{\"type\":\"object\",\"name\":\"Line\",\"id\":\"p1326\",\"attributes\":{\"x\":{\"type\":\"field\",\"field\":\"x\"},\"y\":{\"type\":\"field\",\"field\":\"y\"},\"line_color\":\"#1f77b4\",\"line_alpha\":0.1,\"line_width\":2}},\"muted_glyph\":{\"type\":\"object\",\"name\":\"Line\",\"id\":\"p1327\",\"attributes\":{\"x\":{\"type\":\"field\",\"field\":\"x\"},\"y\":{\"type\":\"field\",\"field\":\"y\"},\"line_color\":\"#1f77b4\",\"line_alpha\":0.2,\"line_width\":2}}}}],\"toolbar\":{\"type\":\"object\",\"name\":\"Toolbar\",\"id\":\"p1284\",\"attributes\":{\"tools\":[{\"type\":\"object\",\"name\":\"PanTool\",\"id\":\"p1309\"},{\"type\":\"object\",\"name\":\"WheelZoomTool\",\"id\":\"p1310\",\"attributes\":{\"renderers\":\"auto\"}},{\"type\":\"object\",\"name\":\"BoxZoomTool\",\"id\":\"p1311\",\"attributes\":{\"overlay\":{\"type\":\"object\",\"name\":\"BoxAnnotation\",\"id\":\"p1312\",\"attributes\":{\"syncable\":false,\"line_color\":\"black\",\"line_alpha\":1.0,\"line_width\":2,\"line_dash\":[4,4],\"fill_color\":\"lightgrey\",\"fill_alpha\":0.5,\"level\":\"overlay\",\"visible\":false,\"left\":{\"type\":\"number\",\"value\":\"nan\"},\"right\":{\"type\":\"number\",\"value\":\"nan\"},\"top\":{\"type\":\"number\",\"value\":\"nan\"},\"bottom\":{\"type\":\"number\",\"value\":\"nan\"},\"left_units\":\"canvas\",\"right_units\":\"canvas\",\"top_units\":\"canvas\",\"bottom_units\":\"canvas\",\"handles\":{\"type\":\"object\",\"name\":\"BoxInteractionHandles\",\"id\":\"p1318\",\"attributes\":{\"all\":{\"type\":\"object\",\"name\":\"AreaVisuals\",\"id\":\"p1317\",\"attributes\":{\"fill_color\":\"white\",\"hover_fill_color\":\"lightgray\"}}}}}}}},{\"type\":\"object\",\"name\":\"SaveTool\",\"id\":\"p1319\"},{\"type\":\"object\",\"name\":\"ResetTool\",\"id\":\"p1320\"},{\"type\":\"object\",\"name\":\"HelpTool\",\"id\":\"p1321\"}]}},\"left\":[{\"type\":\"object\",\"name\":\"LinearAxis\",\"id\":\"p1304\",\"attributes\":{\"ticker\":{\"type\":\"object\",\"name\":\"BasicTicker\",\"id\":\"p1305\",\"attributes\":{\"mantissas\":[1,2,5]}},\"formatter\":{\"type\":\"object\",\"name\":\"BasicTickFormatter\",\"id\":\"p1306\"},\"axis_label\":\"Nombre d'offres\",\"major_label_policy\":{\"type\":\"object\",\"name\":\"AllLabels\",\"id\":\"p1307\"}}}],\"below\":[{\"type\":\"object\",\"name\":\"DatetimeAxis\",\"id\":\"p1287\",\"attributes\":{\"ticker\":{\"type\":\"object\",\"name\":\"DatetimeTicker\",\"id\":\"p1288\",\"attributes\":{\"num_minor_ticks\":5,\"tickers\":[{\"type\":\"object\",\"name\":\"AdaptiveTicker\",\"id\":\"p1289\",\"attributes\":{\"num_minor_ticks\":0,\"mantissas\":[1,2,5],\"max_interval\":500.0}},{\"type\":\"object\",\"name\":\"AdaptiveTicker\",\"id\":\"p1290\",\"attributes\":{\"num_minor_ticks\":0,\"base\":60,\"mantissas\":[1,2,5,10,15,20,30],\"min_interval\":1000.0,\"max_interval\":1800000.0}},{\"type\":\"object\",\"name\":\"AdaptiveTicker\",\"id\":\"p1291\",\"attributes\":{\"num_minor_ticks\":0,\"base\":24,\"mantissas\":[1,2,4,6,8,12],\"min_interval\":3600000.0,\"max_interval\":43200000.0}},{\"type\":\"object\",\"name\":\"DaysTicker\",\"id\":\"p1292\",\"attributes\":{\"days\":[1,2,3,4,5,6,7,8,9,10,11,12,13,14,15,16,17,18,19,20,21,22,23,24,25,26,27,28,29,30,31]}},{\"type\":\"object\",\"name\":\"DaysTicker\",\"id\":\"p1293\",\"attributes\":{\"days\":[1,4,7,10,13,16,19,22,25,28]}},{\"type\":\"object\",\"name\":\"DaysTicker\",\"id\":\"p1294\",\"attributes\":{\"days\":[1,8,15,22]}},{\"type\":\"object\",\"name\":\"DaysTicker\",\"id\":\"p1295\",\"attributes\":{\"days\":[1,15]}},{\"type\":\"object\",\"name\":\"MonthsTicker\",\"id\":\"p1296\",\"attributes\":{\"months\":[0,1,2,3,4,5,6,7,8,9,10,11]}},{\"type\":\"object\",\"name\":\"MonthsTicker\",\"id\":\"p1297\",\"attributes\":{\"months\":[0,2,4,6,8,10]}},{\"type\":\"object\",\"name\":\"MonthsTicker\",\"id\":\"p1298\",\"attributes\":{\"months\":[0,4,8]}},{\"type\":\"object\",\"name\":\"MonthsTicker\",\"id\":\"p1299\",\"attributes\":{\"months\":[0,6]}},{\"type\":\"object\",\"name\":\"YearsTicker\",\"id\":\"p1300\"}]}},\"formatter\":{\"type\":\"object\",\"name\":\"DatetimeTickFormatter\",\"id\":\"p1301\"},\"axis_label\":\"Date\",\"major_label_policy\":{\"type\":\"object\",\"name\":\"AllLabels\",\"id\":\"p1302\"}}}],\"center\":[{\"type\":\"object\",\"name\":\"Grid\",\"id\":\"p1303\",\"attributes\":{\"axis\":{\"id\":\"p1287\"}}},{\"type\":\"object\",\"name\":\"Grid\",\"id\":\"p1308\",\"attributes\":{\"dimension\":1,\"axis\":{\"id\":\"p1304\"}}}]}}]}};\n  const render_items = [{\"docid\":\"d0598f42-5430-4b81-a46a-b14d7344256b\",\"roots\":{\"p1275\":\"a7891240-4e8b-48df-88ce-2a8bdf770685\"},\"root_ids\":[\"p1275\"]}];\n  void root.Bokeh.embed.embed_items_notebook(docs_json, render_items);\n  }\n  if (root.Bokeh !== undefined) {\n    embed_document(root);\n  } else {\n    let attempts = 0;\n    const timer = setInterval(function(root) {\n      if (root.Bokeh !== undefined) {\n        clearInterval(timer);\n        embed_document(root);\n      } else {\n        attempts++;\n        if (attempts > 100) {\n          clearInterval(timer);\n          console.log(\"Bokeh: ERROR: Unable to run BokehJS code because BokehJS library is missing\");\n        }\n      }\n    }, 10, root)\n  }\n})(window);",
      "application/vnd.bokehjs_exec.v0+json": ""
     },
     "metadata": {
      "application/vnd.bokehjs_exec.v0+json": {
       "id": "p1275"
      }
     },
     "output_type": "display_data"
    }
   ],
   "source": [
    "# Évolution du nombre d'offres par date de publication\n",
    "dataviz[\"date_publication\"] = pd.to_datetime(dataviz[\"date_publication\"])\n",
    "dataviz_grouped = dataviz.groupby(\"date_publication\").size().reset_index(name=\"Nombre d'offres\")\n",
    "\n",
    "fig_bokeh_line = figure(title=\"Évolution du nombre d'offres par date\", x_axis_label=\"Date\", y_axis_label=\"Nombre d'offres\",\n",
    "                        x_axis_type=\"datetime\")\n",
    "fig_bokeh_line.line(dataviz_grouped[\"date_publication\"], dataviz_grouped[\"Nombre d'offres\"], line_width=2)\n",
    "show(fig_bokeh_line)\n"
   ]
  },
  {
   "cell_type": "code",
   "execution_count": null,
   "metadata": {},
   "outputs": [],
   "source": []
  },
  {
   "cell_type": "code",
   "execution_count": null,
   "metadata": {},
   "outputs": [],
   "source": [
    "# Pour importer les visuels dans STREAMLIT\n",
    "import streamlit as st\n",
    "st.bokeh_chart(fig_bokeh_bar)\n",
    "st.bokeh_chart(fig_bokeh_scatter)\n",
    "st.bokeh_chart(fig_bokeh_line)"
   ]
  },
  {
   "cell_type": "markdown",
   "metadata": {},
   "source": [
    "## **Bibliothèque Streamlit Elements**"
   ]
  },
  {
   "cell_type": "code",
   "execution_count": 50,
   "metadata": {},
   "outputs": [
    {
     "name": "stderr",
     "output_type": "stream",
     "text": [
      "2025-01-30 16:47:21.012 Thread 'MainThread': missing ScriptRunContext! This warning can be ignored when running in bare mode.\n",
      "2025-01-30 16:47:21.015 Thread 'MainThread': missing ScriptRunContext! This warning can be ignored when running in bare mode.\n",
      "2025-01-30 16:47:21.017 Thread 'MainThread': missing ScriptRunContext! This warning can be ignored when running in bare mode.\n",
      "2025-01-30 16:47:21.019 Thread 'MainThread': missing ScriptRunContext! This warning can be ignored when running in bare mode.\n",
      "2025-01-30 16:47:21.021 Thread 'MainThread': missing ScriptRunContext! This warning can be ignored when running in bare mode.\n",
      "2025-01-30 16:47:21.023 Thread 'MainThread': missing ScriptRunContext! This warning can be ignored when running in bare mode.\n",
      "2025-01-30 16:47:21.025 Thread 'MainThread': missing ScriptRunContext! This warning can be ignored when running in bare mode.\n"
     ]
    },
    {
     "name": "stderr",
     "output_type": "stream",
     "text": [
      "2025-01-30 16:47:21.337 Thread 'MainThread': missing ScriptRunContext! This warning can be ignored when running in bare mode.\n",
      "2025-01-30 16:47:21.340 Thread 'MainThread': missing ScriptRunContext! This warning can be ignored when running in bare mode.\n",
      "2025-01-30 16:47:21.342 Thread 'MainThread': missing ScriptRunContext! This warning can be ignored when running in bare mode.\n",
      "2025-01-30 16:47:21.349 Thread 'MainThread': missing ScriptRunContext! This warning can be ignored when running in bare mode.\n",
      "2025-01-30 16:47:21.351 Thread 'MainThread': missing ScriptRunContext! This warning can be ignored when running in bare mode.\n"
     ]
    }
   ],
   "source": [
    "import pandas as pd\n",
    "from streamlit_elements import elements, mui, nivo\n",
    "\n",
    "# Compter les offres par secteur\n",
    "df_secteurs = dataviz[\"secteur_activité\"].value_counts().reset_index()\n",
    "df_secteurs.columns = [\"secteur\", \"nombre\"]\n",
    "\n",
    "with elements(\"bar_chart\"):\n",
    "    nivo.Bar(\n",
    "        data=df_secteurs.to_dict(orient=\"records\"),\n",
    "        keys=[\"nombre\"],\n",
    "        indexBy=\"secteur\",\n",
    "        margin={\"top\": 40, \"right\": 30, \"bottom\": 80, \"left\": 60},\n",
    "        padding=0.3,\n",
    "        colors={\"scheme\": \"category10\"},\n",
    "        axisBottom={\"tickRotation\": -45},\n",
    "    )"
   ]
  },
  {
   "cell_type": "markdown",
   "metadata": {},
   "source": [
    "## **Bibliothèque PieCharts**"
   ]
  }
 ],
 "metadata": {
  "kernelspec": {
   "display_name": "api",
   "language": "python",
   "name": "python3"
  },
  "language_info": {
   "codemirror_mode": {
    "name": "ipython",
    "version": 3
   },
   "file_extension": ".py",
   "mimetype": "text/x-python",
   "name": "python",
   "nbconvert_exporter": "python",
   "pygments_lexer": "ipython3",
   "version": "3.12.8"
  }
 },
 "nbformat": 4,
 "nbformat_minor": 2
}
